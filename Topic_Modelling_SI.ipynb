{
  "nbformat": 4,
  "nbformat_minor": 0,
  "metadata": {
    "colab": {
      "name": "Topic Modelling - SI.ipynb",
      "provenance": [],
      "collapsed_sections": [],
      "toc_visible": true,
      "authorship_tag": "ABX9TyM3QHINlrKPS/3byOT82w/D",
      "include_colab_link": true
    },
    "kernelspec": {
      "name": "python3",
      "display_name": "Python 3"
    }
  },
  "cells": [
    {
      "cell_type": "markdown",
      "metadata": {
        "id": "view-in-github",
        "colab_type": "text"
      },
      "source": [
        "<a href=\"https://colab.research.google.com/github/bharatbajoria/Summer-Internship/blob/master/Topic_Modelling_SI.ipynb\" target=\"_parent\"><img src=\"https://colab.research.google.com/assets/colab-badge.svg\" alt=\"Open In Colab\"/></a>"
      ]
    },
    {
      "cell_type": "markdown",
      "metadata": {
        "id": "pDnh2YCh6hqd",
        "colab_type": "text"
      },
      "source": [
        "## PDF Reading"
      ]
    },
    {
      "cell_type": "code",
      "metadata": {
        "id": "wghEQ7A26vnU",
        "colab_type": "code",
        "colab": {}
      },
      "source": [
        "pip install pyPDF2"
      ],
      "execution_count": 0,
      "outputs": []
    },
    {
      "cell_type": "code",
      "metadata": {
        "id": "JCCjhlye691F",
        "colab_type": "code",
        "colab": {}
      },
      "source": [
        "import PyPDF2"
      ],
      "execution_count": 0,
      "outputs": []
    },
    {
      "cell_type": "markdown",
      "metadata": {
        "id": "n975vsX6yYiJ",
        "colab_type": "text"
      },
      "source": [
        "First section is to read documents PDF files. \n",
        "First entry is for Train Data, and then Prediction Data"
      ]
    },
    {
      "cell_type": "markdown",
      "metadata": {
        "id": "k2kntpHSCqzA",
        "colab_type": "text"
      },
      "source": [
        "Taking inputs for training files"
      ]
    },
    {
      "cell_type": "code",
      "metadata": {
        "id": "0T3rV4tE6_7g",
        "colab_type": "code",
        "outputId": "999d6025-2009-43a2-fde8-dc513c68be86",
        "colab": {
          "base_uri": "https://localhost:8080/",
          "height": 85
        }
      },
      "source": [
        "#Taking file input for Training Model\n",
        "#number of files\n",
        "Number_Train_files=2\n",
        "\n",
        "file= open('Apr-18.PDF','rb')\n",
        "file1= open('Apr-17.PDF','rb')\n",
        "file_list=['Apr-18.PDF','Apr-17.PDF']\n",
        "x=''\n",
        "\n",
        "for i in range(Number_Train_files):\n",
        "  print(\"\\nEnter Train File name\")\n",
        "  #x=input()\n",
        "  #file_list.append(x)"
      ],
      "execution_count": 0,
      "outputs": [
        {
          "output_type": "stream",
          "text": [
            "\n",
            "Enter Train File name\n",
            "\n",
            "Enter Train File name\n"
          ],
          "name": "stdout"
        }
      ]
    },
    {
      "cell_type": "markdown",
      "metadata": {
        "id": "eydWBK8RA8iW",
        "colab_type": "text"
      },
      "source": [
        "Taking inputs for Prediction: File Name"
      ]
    },
    {
      "cell_type": "code",
      "metadata": {
        "id": "MVAj_tBfA68B",
        "colab_type": "code",
        "outputId": "7440b94b-b80f-4dc8-8c5f-44c30d032f98",
        "colab": {
          "base_uri": "https://localhost:8080/",
          "height": 68
        }
      },
      "source": [
        "Number_Prediction_files=1\n",
        "Prediction_files=['Apr-20.PDF']\n",
        "\n",
        "x=''\n",
        "for i in range(Number_Prediction_files):\n",
        "  print(\"\\nEnter Prediction File name\")\n",
        " # x=input()\n",
        " # Prediction_files.append(x)\n",
        "\n",
        "Prediction_files\n"
      ],
      "execution_count": 0,
      "outputs": [
        {
          "output_type": "stream",
          "text": [
            "\n",
            "Enter Prediction File name\n"
          ],
          "name": "stdout"
        },
        {
          "output_type": "execute_result",
          "data": {
            "text/plain": [
              "['Apr-20.PDF']"
            ]
          },
          "metadata": {
            "tags": []
          },
          "execution_count": 8
        }
      ]
    },
    {
      "cell_type": "code",
      "metadata": {
        "id": "hAOpKwg9Bbej",
        "colab_type": "code",
        "colab": {}
      },
      "source": [
        "# Reading number of pages\n",
        "pages=[]\n",
        "\n",
        "for i in range(Number_Train_files):\n",
        "  pdfReader = PyPDF2.PdfFileReader(open(file_list[i],'rb'))\n",
        "  n1=pdfReader.numPages\n",
        "  pages.append(n1)"
      ],
      "execution_count": 0,
      "outputs": []
    },
    {
      "cell_type": "code",
      "metadata": {
        "id": "C8KxYqUEByoC",
        "colab_type": "code",
        "colab": {}
      },
      "source": [
        "# A list containing all files, All_Docs[i] is i-th file \n",
        "# All_Docs[i][j] is j-th page of i-th file\n",
        "All_Docs=[] \n",
        "\n",
        "for j in range(len(file_list)):\n",
        "  pdfReader = PyPDF2.PdfFileReader(open(file_list[j],'rb'))\n",
        "  file_text=[] #takes string of page text\n",
        "  for i in range(pages[j]):\n",
        "    pageObj = pdfReader.getPage(i)\n",
        "    a=pageObj.extractText()\n",
        "    file_text.append(a)\n",
        "  \n",
        "  All_Docs.append(file_text)"
      ],
      "execution_count": 0,
      "outputs": []
    },
    {
      "cell_type": "markdown",
      "metadata": {
        "id": "wOYeMBRtPUxA",
        "colab_type": "text"
      },
      "source": [
        "# Finding Optimal number of Clusters"
      ]
    },
    {
      "cell_type": "code",
      "metadata": {
        "id": "Ssl1uTyWPZZI",
        "colab_type": "code",
        "colab": {}
      },
      "source": [
        "Dup_All_Docs=All_Docs[:]"
      ],
      "execution_count": 0,
      "outputs": []
    },
    {
      "cell_type": "markdown",
      "metadata": {
        "id": "2igyX-2VzFdf",
        "colab_type": "text"
      },
      "source": [
        "This section is to figure out optimal number of clusters through silhouette scores"
      ]
    },
    {
      "cell_type": "code",
      "metadata": {
        "id": "VWgumpDZPnOr",
        "colab_type": "code",
        "colab": {}
      },
      "source": [
        "import nltk\n",
        "from sklearn.cluster import KMeans\n",
        "from sklearn.feature_extraction.text import TfidfVectorizer\n",
        "from sklearn.metrics import silhouette_score\n",
        "\n",
        "import pandas as pd\n",
        "from nltk.tokenize import RegexpTokenizer\n",
        "#from stop_words import get_stop_words\n",
        "from nltk.stem.porter import PorterStemmer\n",
        "from gensim import corpora, models\n",
        "from nltk.corpus import stopwords\n",
        "import gensim\n",
        "\n",
        "from sklearn.cluster import KMeans\n",
        "from sklearn import metrics\n",
        "from scipy.spatial.distance import cdist\n",
        "import numpy as np\n"
      ],
      "execution_count": 0,
      "outputs": []
    },
    {
      "cell_type": "code",
      "metadata": {
        "id": "NjiL4AWGJY2j",
        "colab_type": "code",
        "outputId": "79a1f9fa-fb7d-4a77-f32a-a8f7a0f1b0ac",
        "colab": {
          "base_uri": "https://localhost:8080/",
          "height": 68
        }
      },
      "source": [
        "nltk.download('stopwords')"
      ],
      "execution_count": 0,
      "outputs": [
        {
          "output_type": "stream",
          "text": [
            "[nltk_data] Downloading package stopwords to /root/nltk_data...\n",
            "[nltk_data]   Unzipping corpora/stopwords.zip.\n"
          ],
          "name": "stdout"
        },
        {
          "output_type": "execute_result",
          "data": {
            "text/plain": [
              "True"
            ]
          },
          "metadata": {
            "tags": []
          },
          "execution_count": 14
        }
      ]
    },
    {
      "cell_type": "code",
      "metadata": {
        "id": "2qSoEriVP0uH",
        "colab_type": "code",
        "colab": {}
      },
      "source": [
        "tokenizer = RegexpTokenizer(r'\\w+')\n",
        "en_stop = set(stopwords.words('english'))\n",
        "en_stop.add('the')#The is not in stopwords"
      ],
      "execution_count": 0,
      "outputs": []
    },
    {
      "cell_type": "code",
      "metadata": {
        "id": "VAJkRulAP9Kd",
        "colab_type": "code",
        "colab": {}
      },
      "source": [
        "tokens=[]#a list of tokens for input files\n",
        "\n",
        "for j in All_Docs:\n",
        "  x=[]\n",
        "  for i in j:\n",
        "    token=tokenizer.tokenize(i)\n",
        "    token=[i for i in token if(not(str(i).isdigit() or not(str(i).isalpha())) and len(str(i)) > 2 )]\n",
        "    token=[i.lower() for i in token if( i not in en_stop)]\n",
        "    x.extend(token)\n",
        "  \n",
        "  tokens.extend(x)"
      ],
      "execution_count": 0,
      "outputs": []
    },
    {
      "cell_type": "code",
      "metadata": {
        "id": "HYFF1Ml11rb6",
        "colab_type": "code",
        "colab": {}
      },
      "source": [
        "#2nd Method using Silhouette Score\n",
        "n=0\n",
        "ss=0\n",
        "vectorizer = TfidfVectorizer()\n",
        "Y = vectorizer.fit_transform(tokens)\n",
        "\n",
        "for n_cluster in range(2, 11):\n",
        "    kmeans = KMeans(n_clusters=n_cluster).fit(Y)\n",
        "    label = kmeans.labels_\n",
        "    sil_coeff = silhouette_score(Y, label, metric='euclidean')  \n",
        "    \n",
        "    if sil_coeff>ss:\n",
        "      ss=sil_coeff\n",
        "      n=n_cluster"
      ],
      "execution_count": 0,
      "outputs": []
    },
    {
      "cell_type": "code",
      "metadata": {
        "id": "0b_JW_Ac1sT9",
        "colab_type": "code",
        "outputId": "3f20410e-db41-4e02-d209-9c5cb3d1e7d7",
        "colab": {
          "base_uri": "https://localhost:8080/",
          "height": 34
        }
      },
      "source": [
        "print(\"Optimal numbers of clusters are : {}\".format(n))"
      ],
      "execution_count": 0,
      "outputs": [
        {
          "output_type": "stream",
          "text": [
            "Optimal numbers of clusters are : 10\n"
          ],
          "name": "stdout"
        }
      ]
    },
    {
      "cell_type": "markdown",
      "metadata": {
        "id": "rMz_Ewj2Ge1P",
        "colab_type": "text"
      },
      "source": [
        "# LDA LSI HDP"
      ]
    },
    {
      "cell_type": "code",
      "metadata": {
        "id": "sPa3yKp5GgiO",
        "colab_type": "code",
        "colab": {}
      },
      "source": [
        "from gensim.utils import simple_preprocess\n",
        "from gensim.parsing.preprocessing import STOPWORDS\n",
        "from nltk.stem import WordNetLemmatizer\n",
        "from gensim.corpora import Dictionary\n",
        "from gensim.models import TfidfModel,LdaModel, LsiModel, HdpModel,LdaMulticore,CoherenceModel\n",
        "from gensim.models.wrappers import LdaMallet\n",
        "import matplotlib.pyplot as plt"
      ],
      "execution_count": 0,
      "outputs": []
    },
    {
      "cell_type": "code",
      "metadata": {
        "id": "7qPpPPipGuZq",
        "colab_type": "code",
        "outputId": "07da7ed5-3441-4b15-b2e2-252e0ea008ba",
        "colab": {
          "base_uri": "https://localhost:8080/",
          "height": 68
        }
      },
      "source": [
        "nltk.download('wordnet')"
      ],
      "execution_count": 0,
      "outputs": [
        {
          "output_type": "stream",
          "text": [
            "[nltk_data] Downloading package wordnet to /root/nltk_data...\n",
            "[nltk_data]   Unzipping corpora/wordnet.zip.\n"
          ],
          "name": "stdout"
        },
        {
          "output_type": "execute_result",
          "data": {
            "text/plain": [
              "True"
            ]
          },
          "metadata": {
            "tags": []
          },
          "execution_count": 21
        }
      ]
    },
    {
      "cell_type": "code",
      "metadata": {
        "id": "gjfEIOkQGM5n",
        "colab_type": "code",
        "colab": {}
      },
      "source": [
        "dictionary=Dictionary([[i] for i in tokens])\n",
        "X=[dictionary.doc2bow([sents]) for sents in tokens]#getting bag of words.\n",
        "tfidf=TfidfModel(X)\n",
        "X=tfidf[X]"
      ],
      "execution_count": 0,
      "outputs": []
    },
    {
      "cell_type": "code",
      "metadata": {
        "id": "GIvl1ys8KN1c",
        "colab_type": "code",
        "colab": {}
      },
      "source": [
        "lda=LdaMulticore(X,num_topics=n,id2word=dictionary,workers=8)"
      ],
      "execution_count": 0,
      "outputs": []
    },
    {
      "cell_type": "code",
      "metadata": {
        "id": "TpUOU91vw6Eh",
        "colab_type": "code",
        "colab": {}
      },
      "source": [
        "lsi=  LsiModel(corpus=X, num_topics=n, id2word=dictionary,)\n",
        "hdp=  HdpModel(corpus=X, id2word=dictionary)"
      ],
      "execution_count": 0,
      "outputs": []
    },
    {
      "cell_type": "code",
      "metadata": {
        "id": "-lek99StzCOU",
        "colab_type": "code",
        "colab": {}
      },
      "source": [
        "lsi_words=[topic for topicid, topic in  lsi.show_topics() ]\n",
        "#lsi_words\n",
        "hdp_words=[topic for topicid, topic in  lsi.show_topics() ]\n",
        "#hdp_words"
      ],
      "execution_count": 0,
      "outputs": []
    },
    {
      "cell_type": "markdown",
      "metadata": {
        "id": "1mYZ4hnJtDUm",
        "colab_type": "text"
      },
      "source": [
        "# Evaluating Model: Topic Wise\n"
      ]
    },
    {
      "cell_type": "markdown",
      "metadata": {
        "id": "21WUsI5yqn9d",
        "colab_type": "text"
      },
      "source": [
        "Data Frames for different Models"
      ]
    },
    {
      "cell_type": "code",
      "metadata": {
        "id": "LU1sOBljqcAA",
        "colab_type": "code",
        "colab": {}
      },
      "source": [
        "#LDA Data Frame\n",
        "\n",
        "num_words_model=50\n",
        "ldatopics = [[word for word, prob in topic] for topicid, topic in lda.show_topics(num_words=num_words_model,formatted=False)]\n",
        "col_lda=[]\n",
        "a='Topic'\n",
        "for i in range(len(ldatopics)):\n",
        "  col_lda.append(a+str(i+1))\n",
        "\n",
        "topic_df_lda=pd.DataFrame(data=ldatopics,index=col_lda)\n",
        "topic_df_T_lda=topic_df_lda.T\n",
        "\n",
        "#LSI Data Frame\n",
        "lsitopics = [[word for word, prob in topic] for topicid, topic in lsi.show_topics(num_words=num_words_model,formatted=False)]\n",
        "col_lsi=[]\n",
        "a='Topic'\n",
        "for i in range(len(lsitopics)):\n",
        "  col_lsi.append(a+str(i+1))\n",
        "  \n",
        "topic_df_lsi=pd.DataFrame(data=lsitopics,index=col_lsi)\n",
        "topic_df_T_lsi=topic_df_lsi.T\n",
        "\n",
        "#HDP Data Frame\n",
        "hdptopics = [[word for word, prob in topic] for topicid, topic in hdp.show_topics(num_words=num_words_model,formatted=False)]\n",
        "col_hdp=[]\n",
        "a='Topic'\n",
        "for i in range(len(hdptopics)):\n",
        "  col_hdp.append(a+str(i+1))\n",
        "topic_df_hdp=pd.DataFrame(data=hdptopics,index=col_hdp)\n",
        "topic_df_T_hdp=topic_df_hdp.T\n"
      ],
      "execution_count": 0,
      "outputs": []
    },
    {
      "cell_type": "code",
      "metadata": {
        "id": "MiQJwgbj_oJv",
        "colab_type": "code",
        "outputId": "3560294d-060b-4ba9-bb21-f90298d49e9a",
        "colab": {
          "base_uri": "https://localhost:8080/",
          "height": 204
        }
      },
      "source": [
        "topic_df_T_lda.head()"
      ],
      "execution_count": 0,
      "outputs": [
        {
          "output_type": "execute_result",
          "data": {
            "text/html": [
              "<div>\n",
              "<style scoped>\n",
              "    .dataframe tbody tr th:only-of-type {\n",
              "        vertical-align: middle;\n",
              "    }\n",
              "\n",
              "    .dataframe tbody tr th {\n",
              "        vertical-align: top;\n",
              "    }\n",
              "\n",
              "    .dataframe thead th {\n",
              "        text-align: right;\n",
              "    }\n",
              "</style>\n",
              "<table border=\"1\" class=\"dataframe\">\n",
              "  <thead>\n",
              "    <tr style=\"text-align: right;\">\n",
              "      <th></th>\n",
              "      <th>Topic1</th>\n",
              "      <th>Topic2</th>\n",
              "      <th>Topic3</th>\n",
              "      <th>Topic4</th>\n",
              "      <th>Topic5</th>\n",
              "      <th>Topic6</th>\n",
              "      <th>Topic7</th>\n",
              "      <th>Topic8</th>\n",
              "      <th>Topic9</th>\n",
              "      <th>Topic10</th>\n",
              "    </tr>\n",
              "  </thead>\n",
              "  <tbody>\n",
              "    <tr>\n",
              "      <th>0</th>\n",
              "      <td>sector</td>\n",
              "      <td>cent</td>\n",
              "      <td>inflation</td>\n",
              "      <td>growth</td>\n",
              "      <td>policy</td>\n",
              "      <td>february</td>\n",
              "      <td>per</td>\n",
              "      <td>rate</td>\n",
              "      <td>the</td>\n",
              "      <td>food</td>\n",
              "    </tr>\n",
              "    <tr>\n",
              "      <th>1</th>\n",
              "      <td>also</td>\n",
              "      <td>per</td>\n",
              "      <td>impact</td>\n",
              "      <td>outlook</td>\n",
              "      <td>year</td>\n",
              "      <td>risks</td>\n",
              "      <td>prices</td>\n",
              "      <td>expected</td>\n",
              "      <td>headline</td>\n",
              "      <td>prices</td>\n",
              "    </tr>\n",
              "    <tr>\n",
              "      <th>2</th>\n",
              "      <td>inflation</td>\n",
              "      <td>the</td>\n",
              "      <td>bank</td>\n",
              "      <td>second</td>\n",
              "      <td>january</td>\n",
              "      <td>monetary</td>\n",
              "      <td>reserve</td>\n",
              "      <td>rising</td>\n",
              "      <td>activity</td>\n",
              "      <td>upside</td>\n",
              "    </tr>\n",
              "    <tr>\n",
              "      <th>3</th>\n",
              "      <td>well</td>\n",
              "      <td>march</td>\n",
              "      <td>cpi</td>\n",
              "      <td>prices</td>\n",
              "      <td>march</td>\n",
              "      <td>food</td>\n",
              "      <td>growth</td>\n",
              "      <td>liquidity</td>\n",
              "      <td>domestic</td>\n",
              "      <td>fuel</td>\n",
              "    </tr>\n",
              "    <tr>\n",
              "      <th>4</th>\n",
              "      <td>fiscal</td>\n",
              "      <td>monetary</td>\n",
              "      <td>since</td>\n",
              "      <td>target</td>\n",
              "      <td>output</td>\n",
              "      <td>may</td>\n",
              "      <td>effects</td>\n",
              "      <td>increase</td>\n",
              "      <td>global</td>\n",
              "      <td>three</td>\n",
              "    </tr>\n",
              "  </tbody>\n",
              "</table>\n",
              "</div>"
            ],
            "text/plain": [
              "      Topic1    Topic2     Topic3  ...     Topic8    Topic9 Topic10\n",
              "0     sector      cent  inflation  ...       rate       the    food\n",
              "1       also       per     impact  ...   expected  headline  prices\n",
              "2  inflation       the       bank  ...     rising  activity  upside\n",
              "3       well     march        cpi  ...  liquidity  domestic    fuel\n",
              "4     fiscal  monetary      since  ...   increase    global   three\n",
              "\n",
              "[5 rows x 10 columns]"
            ]
          },
          "metadata": {
            "tags": []
          },
          "execution_count": 31
        }
      ]
    },
    {
      "cell_type": "code",
      "metadata": {
        "id": "D4lA4Hifq-JM",
        "colab_type": "code",
        "outputId": "066b89e4-86df-4871-f492-d233d6dcffc2",
        "colab": {
          "base_uri": "https://localhost:8080/",
          "height": 204
        }
      },
      "source": [
        "topic_df_T_lsi.head()"
      ],
      "execution_count": 0,
      "outputs": [
        {
          "output_type": "execute_result",
          "data": {
            "text/html": [
              "<div>\n",
              "<style scoped>\n",
              "    .dataframe tbody tr th:only-of-type {\n",
              "        vertical-align: middle;\n",
              "    }\n",
              "\n",
              "    .dataframe tbody tr th {\n",
              "        vertical-align: top;\n",
              "    }\n",
              "\n",
              "    .dataframe thead th {\n",
              "        text-align: right;\n",
              "    }\n",
              "</style>\n",
              "<table border=\"1\" class=\"dataframe\">\n",
              "  <thead>\n",
              "    <tr style=\"text-align: right;\">\n",
              "      <th></th>\n",
              "      <th>Topic1</th>\n",
              "      <th>Topic2</th>\n",
              "      <th>Topic3</th>\n",
              "      <th>Topic4</th>\n",
              "      <th>Topic5</th>\n",
              "      <th>Topic6</th>\n",
              "      <th>Topic7</th>\n",
              "      <th>Topic8</th>\n",
              "      <th>Topic9</th>\n",
              "      <th>Topic10</th>\n",
              "    </tr>\n",
              "  </thead>\n",
              "  <tbody>\n",
              "    <tr>\n",
              "      <th>0</th>\n",
              "      <td>inflation</td>\n",
              "      <td>the</td>\n",
              "      <td>per</td>\n",
              "      <td>cent</td>\n",
              "      <td>growth</td>\n",
              "      <td>prices</td>\n",
              "      <td>february</td>\n",
              "      <td>policy</td>\n",
              "      <td>food</td>\n",
              "      <td>year</td>\n",
              "    </tr>\n",
              "    <tr>\n",
              "      <th>1</th>\n",
              "      <td>monsoon</td>\n",
              "      <td>three</td>\n",
              "      <td>states</td>\n",
              "      <td>growth</td>\n",
              "      <td>cent</td>\n",
              "      <td>stance</td>\n",
              "      <td>there</td>\n",
              "      <td>recent</td>\n",
              "      <td>year</td>\n",
              "      <td>march</td>\n",
              "    </tr>\n",
              "    <tr>\n",
              "      <th>2</th>\n",
              "      <td>although</td>\n",
              "      <td>demonetisation</td>\n",
              "      <td>gap</td>\n",
              "      <td>support</td>\n",
              "      <td>ahead</td>\n",
              "      <td>financial</td>\n",
              "      <td>india</td>\n",
              "      <td>risk</td>\n",
              "      <td>index</td>\n",
              "      <td>basis</td>\n",
              "    </tr>\n",
              "    <tr>\n",
              "      <th>3</th>\n",
              "      <td>base</td>\n",
              "      <td>index</td>\n",
              "      <td>one</td>\n",
              "      <td>could</td>\n",
              "      <td>banks</td>\n",
              "      <td>around</td>\n",
              "      <td>central</td>\n",
              "      <td>indicators</td>\n",
              "      <td>banks</td>\n",
              "      <td>ahead</td>\n",
              "    </tr>\n",
              "    <tr>\n",
              "      <th>4</th>\n",
              "      <td>vegetable</td>\n",
              "      <td>estimates</td>\n",
              "      <td>stance</td>\n",
              "      <td>financial</td>\n",
              "      <td>given</td>\n",
              "      <td>round</td>\n",
              "      <td>statistical</td>\n",
              "      <td>continued</td>\n",
              "      <td>volatility</td>\n",
              "      <td>food</td>\n",
              "    </tr>\n",
              "  </tbody>\n",
              "</table>\n",
              "</div>"
            ],
            "text/plain": [
              "      Topic1          Topic2  Topic3  ...      Topic8      Topic9 Topic10\n",
              "0  inflation             the     per  ...      policy        food    year\n",
              "1    monsoon           three  states  ...      recent        year   march\n",
              "2   although  demonetisation     gap  ...        risk       index   basis\n",
              "3       base           index     one  ...  indicators       banks   ahead\n",
              "4  vegetable       estimates  stance  ...   continued  volatility    food\n",
              "\n",
              "[5 rows x 10 columns]"
            ]
          },
          "metadata": {
            "tags": []
          },
          "execution_count": 32
        }
      ]
    },
    {
      "cell_type": "code",
      "metadata": {
        "id": "wIubZmTmrBpK",
        "colab_type": "code",
        "outputId": "a74bc623-c0d8-4eb3-c105-dc6abc33a1b2",
        "colab": {
          "base_uri": "https://localhost:8080/",
          "height": 224
        }
      },
      "source": [
        "topic_df_T_hdp.head()"
      ],
      "execution_count": 0,
      "outputs": [
        {
          "output_type": "execute_result",
          "data": {
            "text/html": [
              "<div>\n",
              "<style scoped>\n",
              "    .dataframe tbody tr th:only-of-type {\n",
              "        vertical-align: middle;\n",
              "    }\n",
              "\n",
              "    .dataframe tbody tr th {\n",
              "        vertical-align: top;\n",
              "    }\n",
              "\n",
              "    .dataframe thead th {\n",
              "        text-align: right;\n",
              "    }\n",
              "</style>\n",
              "<table border=\"1\" class=\"dataframe\">\n",
              "  <thead>\n",
              "    <tr style=\"text-align: right;\">\n",
              "      <th></th>\n",
              "      <th>Topic1</th>\n",
              "      <th>Topic2</th>\n",
              "      <th>Topic3</th>\n",
              "      <th>Topic4</th>\n",
              "      <th>Topic5</th>\n",
              "      <th>Topic6</th>\n",
              "      <th>Topic7</th>\n",
              "      <th>Topic8</th>\n",
              "      <th>Topic9</th>\n",
              "      <th>Topic10</th>\n",
              "      <th>Topic11</th>\n",
              "      <th>Topic12</th>\n",
              "      <th>Topic13</th>\n",
              "      <th>Topic14</th>\n",
              "      <th>Topic15</th>\n",
              "      <th>Topic16</th>\n",
              "      <th>Topic17</th>\n",
              "      <th>Topic18</th>\n",
              "      <th>Topic19</th>\n",
              "      <th>Topic20</th>\n",
              "    </tr>\n",
              "  </thead>\n",
              "  <tbody>\n",
              "    <tr>\n",
              "      <th>0</th>\n",
              "      <td>evidence</td>\n",
              "      <td>borne</td>\n",
              "      <td>dur</td>\n",
              "      <td>exhibited</td>\n",
              "      <td>trigger</td>\n",
              "      <td>steady</td>\n",
              "      <td>inching</td>\n",
              "      <td>rising</td>\n",
              "      <td>spread</td>\n",
              "      <td>forward</td>\n",
              "      <td>pami</td>\n",
              "      <td>quiescent</td>\n",
              "      <td>unrelenting</td>\n",
              "      <td>prefer</td>\n",
              "      <td>uffer</td>\n",
              "      <td>pec</td>\n",
              "      <td>returning</td>\n",
              "      <td>board</td>\n",
              "      <td>turbulence</td>\n",
              "      <td>core</td>\n",
              "    </tr>\n",
              "    <tr>\n",
              "      <th>1</th>\n",
              "      <td>sixth</td>\n",
              "      <td>etween</td>\n",
              "      <td>inflation</td>\n",
              "      <td>protein</td>\n",
              "      <td>decided</td>\n",
              "      <td>calls</td>\n",
              "      <td>respect</td>\n",
              "      <td>evaluation</td>\n",
              "      <td>fade</td>\n",
              "      <td>continue</td>\n",
              "      <td>rebound</td>\n",
              "      <td>making</td>\n",
              "      <td>rate</td>\n",
              "      <td>picked</td>\n",
              "      <td>systemic</td>\n",
              "      <td>items</td>\n",
              "      <td>first</td>\n",
              "      <td>seasonality</td>\n",
              "      <td>averse</td>\n",
              "      <td>regular</td>\n",
              "    </tr>\n",
              "    <tr>\n",
              "      <th>2</th>\n",
              "      <td>inventories</td>\n",
              "      <td>occur</td>\n",
              "      <td>nino</td>\n",
              "      <td>investors</td>\n",
              "      <td>every</td>\n",
              "      <td>indian</td>\n",
              "      <td>bounced</td>\n",
              "      <td>pursued</td>\n",
              "      <td>needs</td>\n",
              "      <td>constituents</td>\n",
              "      <td>activity</td>\n",
              "      <td>could</td>\n",
              "      <td>south</td>\n",
              "      <td>like</td>\n",
              "      <td>paint</td>\n",
              "      <td>protectionism</td>\n",
              "      <td>fair</td>\n",
              "      <td>dull</td>\n",
              "      <td>confront</td>\n",
              "      <td>indebtedness</td>\n",
              "    </tr>\n",
              "    <tr>\n",
              "      <th>3</th>\n",
              "      <td>said</td>\n",
              "      <td>upply</td>\n",
              "      <td>strongly</td>\n",
              "      <td>farther</td>\n",
              "      <td>storm</td>\n",
              "      <td>overwhelm</td>\n",
              "      <td>meanwhile</td>\n",
              "      <td>kept</td>\n",
              "      <td>include</td>\n",
              "      <td>means</td>\n",
              "      <td>pointing</td>\n",
              "      <td>salient</td>\n",
              "      <td>mainly</td>\n",
              "      <td>significant</td>\n",
              "      <td>evenly</td>\n",
              "      <td>timing</td>\n",
              "      <td>month</td>\n",
              "      <td>flagged</td>\n",
              "      <td>deleveraging</td>\n",
              "      <td>takes</td>\n",
              "    </tr>\n",
              "    <tr>\n",
              "      <th>4</th>\n",
              "      <td>influence</td>\n",
              "      <td>specifics</td>\n",
              "      <td>chetan</td>\n",
              "      <td>sustaining</td>\n",
              "      <td>plementation</td>\n",
              "      <td>current</td>\n",
              "      <td>domestic</td>\n",
              "      <td>stra</td>\n",
              "      <td>months</td>\n",
              "      <td>budgeted</td>\n",
              "      <td>continue</td>\n",
              "      <td>sustainable</td>\n",
              "      <td>storm</td>\n",
              "      <td>mpanies</td>\n",
              "      <td>serv</td>\n",
              "      <td>mirror</td>\n",
              "      <td>raw</td>\n",
              "      <td>brazil</td>\n",
              "      <td>inso</td>\n",
              "      <td>aes</td>\n",
              "    </tr>\n",
              "  </tbody>\n",
              "</table>\n",
              "</div>"
            ],
            "text/plain": [
              "        Topic1     Topic2     Topic3  ...      Topic18       Topic19       Topic20\n",
              "0     evidence      borne        dur  ...        board    turbulence          core\n",
              "1        sixth     etween  inflation  ...  seasonality        averse       regular\n",
              "2  inventories      occur       nino  ...         dull      confront  indebtedness\n",
              "3         said      upply   strongly  ...      flagged  deleveraging         takes\n",
              "4    influence  specifics     chetan  ...       brazil          inso           aes\n",
              "\n",
              "[5 rows x 20 columns]"
            ]
          },
          "metadata": {
            "tags": []
          },
          "execution_count": 33
        }
      ]
    },
    {
      "cell_type": "markdown",
      "metadata": {
        "id": "Qf6WCPjt85I1",
        "colab_type": "text"
      },
      "source": [
        "# Evaluating Words in a Topic : Cosine scores."
      ]
    },
    {
      "cell_type": "code",
      "metadata": {
        "id": "ml6hY3is86p0",
        "colab_type": "code",
        "colab": {}
      },
      "source": [
        "#Dup_All_Docs=All_Docs[0]+All_Docs[1]\n",
        "Dup_All_Docs=[]\n",
        "for i in All_Docs:\n",
        "  Dup_All_Docs+=i\n",
        "\n",
        "df=[]\n",
        "\n",
        "for j in All_Docs:\n",
        "  for i in j:\n",
        "    df.append(i)\n",
        "\n",
        "from sklearn.feature_extraction.text import CountVectorizer\n",
        "vectoriser = CountVectorizer().fit(Dup_All_Docs)\n",
        "X = vectoriser.transform(Dup_All_Docs)\n",
        "df_vec=pd.DataFrame(X.A, columns=sorted(vectoriser.vocabulary_.keys(), key=lambda k: vectoriser.vocabulary_[k]))"
      ],
      "execution_count": 0,
      "outputs": []
    },
    {
      "cell_type": "code",
      "metadata": {
        "id": "uR64ay5l-ZZX",
        "colab_type": "code",
        "outputId": "600f1f9e-d180-4b43-9200-f1f0bd7dad82",
        "colab": {
          "base_uri": "https://localhost:8080/",
          "height": 34
        }
      },
      "source": [
        "type(df),len(df)# df is a list of strings of all pages in the input files\n",
        "#created for word tokens"
      ],
      "execution_count": 0,
      "outputs": [
        {
          "output_type": "execute_result",
          "data": {
            "text/plain": [
              "(list, 26)"
            ]
          },
          "metadata": {
            "tags": []
          },
          "execution_count": 35
        }
      ]
    },
    {
      "cell_type": "code",
      "metadata": {
        "id": "mia8W3xnqPY9",
        "colab_type": "code",
        "colab": {}
      },
      "source": [
        "word_data=[]\n",
        "\n",
        "for i in df:\n",
        "    token=tokenizer.tokenize(i)\n",
        "    token=[i for i in token if(not(str(i).isdigit() or not(str(i).isalpha())) and len(str(i)) > 2 )]\n",
        "    token=[i.lower() for i in token if( i not in en_stop)]\n",
        "    word_data.append(token)"
      ],
      "execution_count": 0,
      "outputs": []
    },
    {
      "cell_type": "code",
      "metadata": {
        "id": "trA3OsSh0p5-",
        "colab_type": "code",
        "colab": {}
      },
      "source": [
        "model1 = gensim.models.Word2Vec(word_data, min_count = 1,size = 100, window = 5) "
      ],
      "execution_count": 0,
      "outputs": []
    },
    {
      "cell_type": "markdown",
      "metadata": {
        "id": "8jYMSc5eXlMd",
        "colab_type": "text"
      },
      "source": [
        "Calculating statistical significance through Cosine Similarity Score"
      ]
    },
    {
      "cell_type": "code",
      "metadata": {
        "id": "GfFIkqthshtv",
        "colab_type": "code",
        "colab": {}
      },
      "source": [
        "\n",
        "import statistics \n",
        "from scipy import stats\n",
        "from statistics import stdev\n",
        "\n",
        "\n",
        "def statistical_signficance(topic_df_T,col,alpha,null_hyp):\n",
        "  #topics_df_T: Dataframe of words for any model\n",
        "  #col: Mtx with Topic Header, col[i]= Topic-i\n",
        "  #alpha: Critical p-Value for rejecting null hypothesis\n",
        "  #null_hyp: Value of mean for Null Hypothesis\n",
        "  Average_comparison=null_hyp\n",
        "  ds=[]\n",
        "  for i in range((len(col))) :\n",
        "    ds.append(list(topic_df_T[col[i]]))\n",
        "\n",
        "  ds# ds[i] is i-th list of Topic-i\n",
        "\n",
        "  simscore_topic=[]#initiating mtx for sim scores/cosine scores\n",
        "\n",
        "\n",
        "  for p in range(len(ds)):\n",
        "    k=len(ds[p])\n",
        "    o=0\n",
        "\n",
        "    sim=[]\n",
        "    simt=[]\n",
        "  \n",
        "    for i in range(k):\n",
        "      simt=[]\n",
        "      for j in range(k)  :\n",
        "        o=model1.similarity(ds[p][i],ds[p][j])\n",
        "        simt.append(o)\n",
        "\n",
        "      sim.append(simt)\n",
        "\n",
        "    simscore_topic.append(sim)\n",
        "# 3-D list, simscore_topic[i] is similarity scores for topic-i\n",
        "# simscore_topic[i][j] is list of similarity score of j-th word in i-th Topic with other words\n",
        "\n",
        "\n",
        "  \n",
        "  t_score_all=[]\n",
        "  p_value_all=[]\n",
        "  mean=0\n",
        "  sd=0\n",
        "\n",
        "  t_value=0\n",
        "  dup_score=[]\n",
        "  p=0\n",
        "  p_value=[]\n",
        "  t2=0\n",
        "  for i in range(len(ds)):\n",
        "    \n",
        "    t=[]\n",
        "    p_value_topic=[]\n",
        "    for j in range(len(ds[i])):         \n",
        "      dup_score=simscore_topic[i][j][:]    \n",
        "      dup_score.pop(j)# removing score of i-th element with itself which is=1\n",
        "      t2,p=stats.ttest_1samp(np.array(dup_score),popmean=np.array(Average_comparison))\n",
        "      \n",
        "      t.append(t2)\n",
        "      p_value_topic.append(p)\n",
        "      pass\n",
        "\n",
        "    t_score_all.append(t)\n",
        "    p_value_all.append(p_value_topic)\n",
        "  \n",
        "  t=0\n",
        "  word_to_remove=[] #initializing tuple to save topicid and word outside cluster\n",
        "  for i in range(len(p_value_all)):\n",
        "    word=[]\n",
        "    for j in range(len(p_value_all)):\n",
        "      if (p_value_all[i][j]>= alpha) or(t_score_all[i][j]<0):\n",
        "        word.append(ds[i][j])\n",
        "    \n",
        "    if len(word)>0:\n",
        "      t+=len(word)#counting number of words to be removed\n",
        "    \n",
        "    word_to_remove.append(word)\n",
        "\n",
        "\n",
        "# word_to_remove[i] list of words to remove from topic-i\n",
        "#ds[i] list of words in topic-i\n",
        "#t number of words to be removed in a algorithm\n",
        "# simscore_topic[i][j] is list of similarity score of j-th word in i-th Topic with other words\n",
        "\n",
        "  \n",
        "  return word_to_remove,ds,t"
      ],
      "execution_count": 0,
      "outputs": []
    },
    {
      "cell_type": "markdown",
      "metadata": {
        "id": "odei5l8BHCec",
        "colab_type": "text"
      },
      "source": [
        "Getting Lists of Words removed from each topic"
      ]
    },
    {
      "cell_type": "code",
      "metadata": {
        "id": "6lBdY6cR0I4Y",
        "colab_type": "code",
        "outputId": "e63f3d00-8199-4517-f362-02099d617d16",
        "colab": {
          "base_uri": "https://localhost:8080/",
          "height": 71
        }
      },
      "source": [
        "alpha=0.05 \n",
        "# Statistical significance\n",
        "null_hyp=0.5\n",
        "# Ho: Average Score<=null_hyp\n",
        "\n",
        "#LDA\n",
        "topic_df_T_lda\n",
        "col_lda\n",
        "lda_words_to_remove,lda_words,number_words_removed_lda=statistical_signficance(topic_df_T_lda,col_lda,alpha,null_hyp)\n",
        "#lda_words_to_remove[i] is list of words to remove from topic-i\n",
        "#lda_words[i] is list of all words in topic-i\n",
        "#number_words_removed_lda is no. of words removed from all topics of LDA\n",
        "\n",
        "\n",
        "#LSI\n",
        "topic_df_T_lsi\n",
        "col_lsi\n",
        "lsi_words_to_remove,lsi_words,number_words_removed_lsi=statistical_signficance(topic_df_T_lsi,col_lsi,alpha,null_hyp)\n",
        "\n",
        "\n",
        "#HDP\n",
        "topic_df_T_hdp\n",
        "col_hdp\n",
        "hdp_words_to_remove,hdp_words,number_words_removed_hdp=statistical_signficance(topic_df_T_hdp,col_hdp,alpha,null_hyp)\n",
        "\n",
        "words_removed=[number_words_removed_lsi, number_words_removed_hdp, number_words_removed_lda]"
      ],
      "execution_count": 0,
      "outputs": [
        {
          "output_type": "stream",
          "text": [
            "DeprecationWarning: Call to deprecated `similarity` (Method will be removed in 4.0.0, use self.wv.similarity() instead). [ipykernel_launcher.py:32]\n",
            "FutureWarning: Conversion of the second argument of issubdtype from `int` to `np.signedinteger` is deprecated. In future, it will be treated as `np.int64 == np.dtype(int).type`. [matutils.py:737]\n"
          ],
          "name": "stderr"
        }
      ]
    },
    {
      "cell_type": "code",
      "metadata": {
        "id": "QIHEOGwPV6B-",
        "colab_type": "code",
        "outputId": "b975fd10-6046-456c-83de-18ff75070fd1",
        "colab": {
          "base_uri": "https://localhost:8080/",
          "height": 168
        }
      },
      "source": [
        "def evaluate_bar_graph(coherences, indices):\n",
        "    plt.subplot(2,1,1)\n",
        "    assert len(coherences) == len(indices)\n",
        "    n = len(coherences)\n",
        "    x = np.arange(n)\n",
        "    plt.bar(x, coherences, width=0.2, tick_label=indices, align='center')\n",
        "    plt.xlabel('Models')\n",
        "    plt.ylabel('No. of Words Removed')\n",
        "\n",
        "    \n",
        "\n",
        "\n",
        "evaluate_bar_graph([number_words_removed_lsi, number_words_removed_hdp, number_words_removed_lda],\n",
        "                   ['LSI', 'HDP', 'LDA'])\n"
      ],
      "execution_count": 0,
      "outputs": [
        {
          "output_type": "display_data",
          "data": {
            "image/png": "[encoded data removed]",
            "text/plain": [
              "<Figure size 432x288 with 1 Axes>"
            ]
          },
          "metadata": {
            "tags": [],
            "needs_background": "light"
          }
        }
      ]
    },
    {
      "cell_type": "markdown",
      "metadata": {
        "id": "_wOIWvEdmAV3",
        "colab_type": "text"
      },
      "source": [
        "#**Adding New File**"
      ]
    },
    {
      "cell_type": "code",
      "metadata": {
        "id": "Cjw-FqLTeQJ_",
        "colab_type": "code",
        "colab": {}
      },
      "source": [
        "#new_doc_distribution = np.array([tup[1] for tup in lda.get_document_topics(bow=new_bow)])\n",
        "#https://www.kaggle.com/ktattan/lda-and-document-similarity\n",
        "\n",
        "def new_file_prediction(Prediction_file_name,dictionary,lda1):\n",
        "  #Prediction_file_name: Name of file for pulling out data, should be PDF only\n",
        "  #dictionary: Dictionary on which model has been trained\n",
        "  #lda1: Best Prediction Model\n",
        "\n",
        "  Prediction_file_name=Prediction_file_name\n",
        "  new_file=open(Prediction_file_name,'rb')\n",
        "  pdfReader = PyPDF2.PdfFileReader(new_file)\n",
        "  n1=pdfReader.numPages\n",
        "\n",
        "  new_file_pg=[]\n",
        "  for i in range(n1):\n",
        "    pageObj = pdfReader.getPage(i)\n",
        "    a=pageObj.extractText()\n",
        "    new_file_pg.append(a)\n",
        "\n",
        "#Creating tokens of new file\n",
        "  new_token=[]\n",
        "  x=[]\n",
        "  for i in new_file_pg:\n",
        "\n",
        "    token=tokenizer.tokenize(i)\n",
        "    token=[i for i in token if(not(str(i).isdigit() or not(str(i).isalpha())) and len(str(i)) > 2 )]\n",
        "    token=[i.lower() for i in token if( i not in en_stop)]\n",
        "    x.extend(token)\n",
        "  \n",
        "    new_token.extend(x)\n",
        "\n",
        "\n",
        "  Z=[dictionary.doc2bow([sents]) for sents in new_token]#Obtaining bag of words of new file\n",
        "\n",
        "  newlda=lda1[Z]\n",
        "  #newlda_topics=[[(word,prob) for word, prob in topic] for topicid, topic in newlda.show_topics(formatted=False)]\n",
        "  newlda\n",
        "  #dictionary_LDA\n",
        "\n",
        "  new_topic=lda1[dictionary.doc2bow(new_token)]\n",
        "  New_Topic_id,New_Topic_Prob= [],[]\n",
        "  a='Topic '\n",
        "  for i in new_topic:\n",
        "    a=str(i[0]+1)\n",
        "    New_Topic_id.append(a)\n",
        "    New_Topic_Prob.append((i[1]*100))\n",
        "\n",
        "  return New_Topic_id,New_Topic_Prob"
      ],
      "execution_count": 0,
      "outputs": []
    },
    {
      "cell_type": "code",
      "metadata": {
        "id": "MffrF1qiE7E-",
        "colab_type": "code",
        "outputId": "90d73c3c-d9e5-414a-b763-94733345f921",
        "colab": {
          "base_uri": "https://localhost:8080/",
          "height": 363
        }
      },
      "source": [
        "#Number_Prediction_files=1\n",
        "#Prediction_files=\n",
        "\n",
        "Best_model=[number_words_removed_lsi, number_words_removed_hdp, number_words_removed_lda]\n",
        "model=[lsi_words, hdp_words, lda_words]\n",
        "\n",
        "k=2\n",
        "ideal_model=lda\n",
        "\n",
        "if min(Best_model)==number_words_removed_lda:\n",
        "  k=0\n",
        "  ideal_model=lda1\n",
        "if min(Best_model)==number_words_removed_hdp:\n",
        "  k=1\n",
        "  ideal_model=hdp\n",
        "\n",
        "New_Topic_id_alldocs,New_Topic_Prob_alldocs=[],[]\n",
        "\n",
        "\n",
        "for i in range(Number_Prediction_files):\n",
        "  New_Topic_id,New_Topic_Prob=new_file_prediction(Prediction_files[0],dictionary,ideal_model)\n",
        "  New_Topic_Prob_alldocs.append(New_Topic_Prob)\n",
        "\n",
        "print(\"Ideal Model is :\",ideal_model)\n",
        "print(\"\\n\\n\")\n",
        "plt.xlabel(\"Topic-ID\")\n",
        "plt.ylabel(\"Percentage Contribution\")\n",
        "plt.title(\"%Contribution of Topics in Document\")\n",
        "for i in range(Number_Prediction_files):\n",
        "  plt.plot(New_Topic_id,New_Topic_Prob,label=Prediction_files[i])\n",
        "\n",
        "plt.legend(loc='best',shadow=True)\n",
        "plt.grid()"
      ],
      "execution_count": 0,
      "outputs": [
        {
          "output_type": "stream",
          "text": [
            "Ideal Model is : LdaModel(num_terms=2065, num_topics=10, decay=0.5, chunksize=2000)\n",
            "\n",
            "\n",
            "\n"
          ],
          "name": "stdout"
        },
        {
          "output_type": "display_data",
          "data": {
            "image/png": "[encoded data removed]",
            "text/plain": [
              "<Figure size 432x288 with 1 Axes>"
            ]
          },
          "metadata": {
            "tags": [],
            "needs_background": "light"
          }
        }
      ]
    },
    {
      "cell_type": "markdown",
      "metadata": {
        "id": "XIpHiWkhwoGS",
        "colab_type": "text"
      },
      "source": [
        "# Word cloud-for Best Model"
      ]
    },
    {
      "cell_type": "code",
      "metadata": {
        "id": "SY1h5pO8wyc7",
        "colab_type": "code",
        "colab": {}
      },
      "source": [
        "from wordcloud import WordCloud,STOPWORDS\n",
        "import os\n",
        "from PIL import Image"
      ],
      "execution_count": 0,
      "outputs": []
    },
    {
      "cell_type": "code",
      "metadata": {
        "id": "FqvsYKXvxmNb",
        "colab_type": "code",
        "colab": {}
      },
      "source": [
        "\n",
        "Best_model=[number_words_removed_lsi, number_words_removed_hdp, number_words_removed_lda]\n",
        "model=[lsi_words, hdp_words, lda_words]\n",
        "model_words_removed=[lsi_words_to_remove,hdp_words_to_remove,lda_words_to_remove]\n",
        "\n",
        "k=2\n",
        "\n",
        "if min(Best_model)==number_words_removed_lsi:\n",
        "  k=0\n",
        "if min(Best_model)==number_words_removed_hdp:\n",
        "  k=1\n",
        "if min(Best_model)==number_words_removed_lda:\n",
        "  k=2\n",
        "\n",
        "#Best Model selected through least number of words removed\n",
        "\n",
        "\n",
        "words_joined=[]# lda_words_joined[i] string of Topic-i words\n",
        "j=''\n",
        "z=[]\n",
        "for i in range(len(model[k])):\n",
        "  z= model[k][i]\n",
        "  #print(\"\\n\",z)\n",
        "  z= [j for j in z if not(j in model_words_removed[k][i] or j in en_stop)]\n",
        "  #print(\"\\n\",z)\n",
        "  j=''\n",
        "  j=\" \".join(z)+\" \"\n",
        "  words_joined.append(j)\n",
        "  "
      ],
      "execution_count": 0,
      "outputs": []
    },
    {
      "cell_type": "markdown",
      "metadata": {
        "id": "Bie2X5wKZg3z",
        "colab_type": "text"
      },
      "source": [
        "# Automatic topic labelling"
      ]
    },
    {
      "cell_type": "code",
      "metadata": {
        "id": "SH4cvf9DZRm6",
        "colab_type": "code",
        "colab": {}
      },
      "source": [
        "dup_model=model1"
      ],
      "execution_count": 0,
      "outputs": []
    },
    {
      "cell_type": "code",
      "metadata": {
        "id": "JuqDTnjjZWft",
        "colab_type": "code",
        "outputId": "0a1a4316-ca4f-40f0-e269-e07e994d8750",
        "colab": {
          "base_uri": "https://localhost:8080/",
          "height": 343
        }
      },
      "source": [
        "pip install wordcloud wikipedia"
      ],
      "execution_count": 0,
      "outputs": [
        {
          "output_type": "stream",
          "text": [
            "Requirement already satisfied: wordcloud in /usr/local/lib/python3.6/dist-packages (1.5.0)\n",
            "Collecting wikipedia\n",
            "  Downloading https://files.pythonhosted.org/packages/67/35/25e68fbc99e672127cc6fbb14b8ec1ba3dfef035bf1e4c90f78f24a80b7d/wikipedia-1.4.0.tar.gz\n",
            "Requirement already satisfied: numpy>=1.6.1 in /usr/local/lib/python3.6/dist-packages (from wordcloud) (1.18.5)\n",
            "Requirement already satisfied: pillow in /usr/local/lib/python3.6/dist-packages (from wordcloud) (7.0.0)\n",
            "Requirement already satisfied: beautifulsoup4 in /usr/local/lib/python3.6/dist-packages (from wikipedia) (4.6.3)\n",
            "Requirement already satisfied: requests<3.0.0,>=2.0.0 in /usr/local/lib/python3.6/dist-packages (from wikipedia) (2.23.0)\n",
            "Requirement already satisfied: idna<3,>=2.5 in /usr/local/lib/python3.6/dist-packages (from requests<3.0.0,>=2.0.0->wikipedia) (2.9)\n",
            "Requirement already satisfied: urllib3!=1.25.0,!=1.25.1,<1.26,>=1.21.1 in /usr/local/lib/python3.6/dist-packages (from requests<3.0.0,>=2.0.0->wikipedia) (1.24.3)\n",
            "Requirement already satisfied: certifi>=2017.4.17 in /usr/local/lib/python3.6/dist-packages (from requests<3.0.0,>=2.0.0->wikipedia) (2020.4.5.1)\n",
            "Requirement already satisfied: chardet<4,>=3.0.2 in /usr/local/lib/python3.6/dist-packages (from requests<3.0.0,>=2.0.0->wikipedia) (3.0.4)\n",
            "Building wheels for collected packages: wikipedia\n",
            "  Building wheel for wikipedia (setup.py) ... \u001b[?25l\u001b[?25hdone\n",
            "  Created wheel for wikipedia: filename=wikipedia-1.4.0-cp36-none-any.whl size=11686 sha256=0f426871c803b4c295900bedfd6b343d92f2ad587572ee4fcc185e1a9937609c\n",
            "  Stored in directory: /root/.cache/pip/wheels/87/2a/18/4e471fd96d12114d16fe4a446d00c3b38fb9efcb744bd31f4a\n",
            "Successfully built wikipedia\n",
            "Installing collected packages: wikipedia\n",
            "Successfully installed wikipedia-1.4.0\n"
          ],
          "name": "stdout"
        }
      ]
    },
    {
      "cell_type": "code",
      "metadata": {
        "id": "eh1lXCGvZony",
        "colab_type": "code",
        "colab": {}
      },
      "source": [
        "import wikipedia"
      ],
      "execution_count": 0,
      "outputs": []
    },
    {
      "cell_type": "code",
      "metadata": {
        "id": "Y8JuAgZZZqBJ",
        "colab_type": "code",
        "outputId": "146840d2-490b-4c50-ca22-9f790fe08475",
        "colab": {
          "base_uri": "https://localhost:8080/",
          "height": 207
        }
      },
      "source": [
        "words_joined# list of string of words, words_joined[0] is a string of words from topic-1"
      ],
      "execution_count": 0,
      "outputs": [
        {
          "output_type": "execute_result",
          "data": {
            "text/plain": [
              "['production cent demonetisation system keep pricing policy point basis index real growth rates oil closing private support section spending house macroeconomic recovery softening committee procurement trajectory export reflected measured power traffic slowdown lending seasonal reverse equity gains year impact level ',\n",
              " 'risks survey ahead remains cpi services positive high continued time external medium credit next various momentum hra first view rbi gas union excluding sectors return non banks mumbai monthly member mode main war line strengthening increase index adopted expanded research ',\n",
              " 'months one stance excluding industrial april vote estimates sub set non foreign michael leading large sales prices policy mpc effects economic services january committee time two concerns macroeconomic improvement indicating remain probability peak shock sheets output domestic volatility released ',\n",
              " 'given capital trade financial resolution states inflation period base higher india exports corporate capacity economic support push aes signs significant vegetables substantially headline recent excluding market half central consumption section government turning elevated households dua core underlying continuing ',\n",
              " 'resolution international would risk meeting increased centre gradually assessment strong government expansion major consumer remained outlook rates india industries business prices investment central could conditions pressure communication surplus advanced public budget turn allowance touched response february deficit oil ',\n",
              " 'moderated central even rent consumption rural mpc conditions modest capital estimates trajectory gap sharp commodity minimum factors consumer high committee professor managers half decline still direct economies let driven path cash primarily revised reflecting cso fourth within largely facility inventories ',\n",
              " 'expectations deficit term round yes especially indicators implementation also pulses headline april hra act emes around overall months among front balance minutes largely vegetable low steadily weak mpc committee would projections institute ghate across hand close market however half ',\n",
              " 'likely month data per economy pressures inflation bank services hra exports rose outlook mpc effects industrial improved january demand released gst cpc moderation remain aes end broad increases director kharif declined exchange retail interest february march price oil ',\n",
              " 'goods could pace rates survey second basis improving pick state policy bank employment confidence prices february months data staggered chetan specific quarters viral year production last terms continues quarter net low tax surrounding situation neutral level around factors gap trajectory ',\n",
              " 'around effect purchasing activity banks first uncertainty estimated statistical patel march statement fiscal manufacturing contraction average significantly possible laf input costs consecutive financial term management gst geo new strongly continue hotels decline adverse expenditure spite shows foodgrains durable dua stocks ']"
            ]
          },
          "metadata": {
            "tags": []
          },
          "execution_count": 50
        }
      ]
    },
    {
      "cell_type": "code",
      "metadata": {
        "id": "PO0WCrHaZ8jB",
        "colab_type": "code",
        "outputId": "5d0c6744-fdd9-436a-a619-0051a29c36e7",
        "colab": {
          "base_uri": "https://localhost:8080/",
          "height": 1000
        }
      },
      "source": [
        "# taking top-10 words from a topic to get wikipedia articles\n",
        "import random\n",
        "\n",
        "topic_number=5 # 0 4 8 1\n",
        "# 0- sensible topic value\n",
        "word_limit=15\n",
        "\n",
        "\n",
        "x= words_joined[topic_number]\n",
        "x=x.split(\" \")\n",
        "x=x[:word_limit]\n",
        "a='driven'\n",
        "\n",
        "if a in x:\n",
        "  x.remove(a)\n",
        "\n",
        "content=[]\n",
        "title_vector=[]\n",
        "index_topic=[]\n",
        "#ndex_topic[0][1] # index_topic[i] is a list of titles obtained for word-1\n",
        "## index_topic[i][j] is a list of words in j-th title obtained for word-1\n",
        "len(index_topic)\n",
        "for j in x:\n",
        "  content=[]\n",
        "  index_word=[]\n",
        "  file_title=wikipedia.search(j,results=10,suggestion= True)\n",
        "  print(\"\\n\\nTitle for word :\", j)\n",
        "  print(file_title[0])\n",
        "  for l in range(len(file_title[0])):\n",
        "    #print(\"\\n Inside loop\",file_title[0][l])\n",
        "    try:\n",
        "      y = wikipedia.search(file_title[0][l])[2]\n",
        "      y = wikipedia.page(y)\n",
        "    except wikipedia.DisambiguationError as e:\n",
        "      s = random.choice(e.options[0])\n",
        "      y = wikipedia.page(s)\n",
        "\n",
        "     \n",
        "    token=tokenizer.tokenize(y.content)\n",
        "    token=[i for i in token if(not(str(i).isdigit() or not(str(i).isalpha())) and len(str(i)) > 2 )]\n",
        "    token=[i.lower() for i in token if( i not in en_stop)]\n",
        "    content.append(token)\n",
        "\n",
        "  \n",
        "  #print(\"\\n content\",len(content))  \n",
        "  dup_model.build_vocab(content,update= True)#content is a 2-d list\n",
        "  dup_model.train(content, total_examples=len(content),epochs=2)\n",
        "  for i in range(len(file_title[0])):\n",
        "    \n",
        "    #y=y.replace(file_title[0][i],\"\")\n",
        "    y= file_title[0][i].lower()\n",
        "    z=y.split()\n",
        "    for m in range(len(z)):\n",
        "      index=[]\n",
        "      p=list(z[m])\n",
        "      for k in range(len(p)):\n",
        "        if (p[k]==\"-\" or p[k]==\",\"):\n",
        "          p[k]=\" \"\n",
        "\n",
        "        if not(p[k].isalpha()):\n",
        "          index.append(k)\n",
        "      for k in range(len(index)):\n",
        "        p.pop(index[len(index)-k-1])\n",
        "      \n",
        "      k=''\n",
        "      for w in p:\n",
        "        k+=w\n",
        "      z[m]=k\n",
        "\n",
        "    z=[k for k in z if not(k in en_stop or k== j or k==\"\" or k==\",\")]\n",
        "    \n",
        "    print(z)\n",
        "    index_word.append(z)\n",
        "    dup_model.build_vocab(index_word,update= True)\n",
        "    dup_model.train(index_word, total_examples=len(content),epochs=2)\n",
        "  \n",
        "    \n",
        "  index_topic.append(index_word)"
      ],
      "execution_count": 0,
      "outputs": [
        {
          "output_type": "stream",
          "text": [
            "\n",
            "\n",
            "Title for word : moderated\n",
            "['Moderation', 'Moderate', 'Graphite-moderated reactor', 'Moderated mediation', 'RBMK', 'Moderate Party', 'Moderate realism', 'Mediation (statistics)', 'Nuclear reactor core', 'Keith Ellison']\n"
          ],
          "name": "stdout"
        },
        {
          "output_type": "stream",
          "text": [
            "UserWarning: No parser was explicitly specified, so I'm using the best available HTML parser for this system (\"lxml\"). This usually isn't a problem, but if you run this code on another system, or in a different virtual environment, it may use a different parser and behave differently.\n",
            "\n",
            "The code that caused this warning is on line 389 of the file /usr/local/lib/python3.6/dist-packages/wikipedia/wikipedia.py. To get rid of this warning, pass the additional argument 'features=\"lxml\"' to the BeautifulSoup constructor.\n",
            " [wikipedia.py:389]\n"
          ],
          "name": "stderr"
        },
        {
          "output_type": "stream",
          "text": [
            "['moderation']\n",
            "['moderate']\n",
            "['graphitemoderated', 'reactor']\n",
            "['mediation']\n",
            "['rbmk']\n",
            "['moderate', 'party']\n",
            "['moderate', 'realism']\n",
            "['mediation', 'statistics']\n",
            "['nuclear', 'reactor', 'core']\n",
            "['keith', 'ellison']\n",
            "\n",
            "\n",
            "Title for word : central\n",
            "['Central', 'Central America', 'Central Park', 'Comedy Central', 'Central Europe', 'Central Park jogger case', 'Central bank', 'Centrality', 'Central sulcus', 'Central Australia']\n",
            "[]\n",
            "['america']\n",
            "['park']\n",
            "['comedy']\n",
            "['europe']\n",
            "['park', 'jogger', 'case']\n",
            "['bank']\n",
            "['centrality']\n",
            "['sulcus']\n",
            "['australia']\n",
            "\n",
            "\n",
            "Title for word : even\n",
            "['Even', 'Even Stevens', 'Even-toed ungulate', 'Even If', 'Break-even', 'Even Hotels', 'Even Yehuda', 'Break-even (economics)', 'Even Flow', 'List of Even Stevens episodes']\n",
            "[]\n",
            "['stevens']\n",
            "['eventoed', 'ungulate']\n",
            "[]\n",
            "['breakeven']\n",
            "['hotels']\n",
            "['yehuda']\n",
            "['breakeven', 'economics']\n",
            "['flow']\n",
            "['list', 'stevens', 'episodes']\n",
            "\n",
            "\n",
            "Title for word : rent\n",
            "['Rent (musical)', 'Rent', 'Rent (film)', 'Renting', 'Rent-seeking', 'Economic rent', 'Rent (albums)', 'Rent: Live', 'Quasi-rent', 'Law of rent']\n",
            "['musical']\n",
            "[]\n",
            "['film']\n",
            "['renting']\n",
            "['rentseeking']\n",
            "['economic']\n",
            "['albums']\n",
            "['live']\n",
            "['quasirent']\n",
            "['law']\n",
            "\n",
            "\n",
            "Title for word : consumption\n",
            "['Consumption', 'Television consumption', 'Consumption (economics)', 'Conspicuous consumption', 'Energy consumption', 'Sustainable consumption', 'Meat', 'Tuberculosis', 'Dog meat', 'Alcoholic drink']\n",
            "[]\n",
            "['television']\n",
            "['economics']\n",
            "['conspicuous']\n",
            "['energy']\n",
            "['sustainable']\n",
            "['meat']\n",
            "['tuberculosis']\n",
            "['dog', 'meat']\n",
            "['alcoholic', 'drink']\n",
            "\n",
            "\n",
            "Title for word : rural\n",
            "['Rural area', 'List of districts of Germany', 'Rural district', 'Rurales', 'Rural sociology', 'Rural flight', 'Rural development', 'Rural health', 'Rural settlement', 'Rural electrification']\n",
            "['area']\n",
            "['list', 'districts', 'germany']\n",
            "['district']\n",
            "['rurales']\n",
            "['sociology']\n",
            "['flight']\n",
            "['development']\n",
            "['health']\n",
            "['settlement']\n",
            "['electrification']\n",
            "\n",
            "\n",
            "Title for word : mpc\n",
            "['Akai MPC', 'MPC', 'Media Player Classic', 'Phthalocyanine', 'MPC 75', 'Marginal propensity to consume', 'MPC Corporation', 'Model predictive control', 'Military payment certificate', 'Milk protein concentrate']\n",
            "['akai']\n",
            "[]\n",
            "['media', 'player', 'classic']\n",
            "['phthalocyanine']\n",
            "[]\n",
            "['marginal', 'propensity', 'consume']\n",
            "['corporation']\n",
            "['model', 'predictive', 'control']\n",
            "['military', 'payment', 'certificate']\n",
            "['milk', 'protein', 'concentrate']\n",
            "\n",
            "\n",
            "Title for word : conditions\n",
            "['Condition', 'Dirichlet conditions', 'Icing conditions', 'Karush–Kuhn–Tucker conditions', 'Butterfly effect', 'Nervous Conditions', 'Wolfe conditions', 'List of skin conditions', 'Kalyanam Conditions Apply', 'Standard conditions for temperature and pressure']\n",
            "['condition']\n",
            "['dirichlet']\n",
            "['icing']\n",
            "['karushkuhntucker']\n",
            "['butterfly', 'effect']\n",
            "['nervous']\n",
            "['wolfe']\n",
            "['list', 'skin']\n",
            "['kalyanam', 'apply']\n",
            "['standard', 'temperature', 'pressure']\n",
            "\n",
            "\n",
            "Title for word : modest\n",
            "['Modest Mouse', 'Modest', 'Modest Mussorgsky', 'Modest Heroes', 'A Modest Proposal', 'Michael Modest', 'Modest fashion', 'Modesty', 'Modest Mouse discography', 'Modest Reception']\n",
            "['mouse']\n",
            "[]\n",
            "['mussorgsky']\n",
            "['heroes']\n",
            "['proposal']\n",
            "['michael']\n",
            "['fashion']\n",
            "['modesty']\n",
            "['mouse', 'discography']\n",
            "['reception']\n",
            "\n",
            "\n",
            "Title for word : capital\n",
            "['Capital', 'Capital punishment', 'Venture capital', 'Capital city', 'Social Capital (venture capital)', 'Capital market', 'Capital (economics)', 'Capital region', 'Bain Capital', 'Capital gain']\n",
            "[]\n",
            "['punishment']\n",
            "['venture']\n",
            "['city']\n",
            "['social', 'venture']\n",
            "['market']\n",
            "['economics']\n",
            "['region']\n",
            "['bain']\n",
            "['gain']\n",
            "\n",
            "\n",
            "Title for word : estimates\n",
            "['Estimates of historical world population', 'Cost estimate', 'Estimates', 'Estimates Committee', 'List of countries by past and projected GDP (nominal)', 'List of countries by past and projected GDP (PPP) per capita', 'List of countries by past and projected GDP (PPP)', 'Demographics of the United States', 'Census', 'Race and ethnicity in the United States']\n",
            "['historical', 'world', 'population']\n",
            "['cost', 'estimate']\n",
            "[]\n",
            "['committee']\n",
            "['list', 'countries', 'past', 'projected', 'gdp', 'nominal']\n",
            "['list', 'countries', 'past', 'projected', 'gdp', 'ppp', 'per', 'capita']\n",
            "['list', 'countries', 'past', 'projected', 'gdp', 'ppp']\n",
            "['demographics', 'united', 'states']\n",
            "['census']\n",
            "['race', 'ethnicity', 'united', 'states']\n",
            "\n",
            "\n",
            "Title for word : trajectory\n",
            "['Trajectory', 'Circumlunar trajectory', 'Parabolic trajectory', 'Hyperbolic trajectory', 'Orthogonal trajectory', 'Trajectory (disambiguation)', 'Trajectory optimization', 'Trajectory inference', 'Projectile motion', 'Ballistic missile']\n"
          ],
          "name": "stdout"
        },
        {
          "output_type": "error",
          "ename": "PageError",
          "evalue": "ignored",
          "traceback": [
            "\u001b[0;31m---------------------------------------------------------------------------\u001b[0m",
            "\u001b[0;31mDisambiguationError\u001b[0m                       Traceback (most recent call last)",
            "\u001b[0;32m<ipython-input-51-088ecaf0214a>\u001b[0m in \u001b[0;36m<module>\u001b[0;34m()\u001b[0m\n\u001b[1;32m     32\u001b[0m       \u001b[0my\u001b[0m \u001b[0;34m=\u001b[0m \u001b[0mwikipedia\u001b[0m\u001b[0;34m.\u001b[0m\u001b[0msearch\u001b[0m\u001b[0;34m(\u001b[0m\u001b[0mfile_title\u001b[0m\u001b[0;34m[\u001b[0m\u001b[0;36m0\u001b[0m\u001b[0;34m]\u001b[0m\u001b[0;34m[\u001b[0m\u001b[0ml\u001b[0m\u001b[0;34m]\u001b[0m\u001b[0;34m)\u001b[0m\u001b[0;34m[\u001b[0m\u001b[0;36m2\u001b[0m\u001b[0;34m]\u001b[0m\u001b[0;34m\u001b[0m\u001b[0;34m\u001b[0m\u001b[0m\n\u001b[0;32m---> 33\u001b[0;31m       \u001b[0my\u001b[0m \u001b[0;34m=\u001b[0m \u001b[0mwikipedia\u001b[0m\u001b[0;34m.\u001b[0m\u001b[0mpage\u001b[0m\u001b[0;34m(\u001b[0m\u001b[0my\u001b[0m\u001b[0;34m)\u001b[0m\u001b[0;34m\u001b[0m\u001b[0;34m\u001b[0m\u001b[0m\n\u001b[0m\u001b[1;32m     34\u001b[0m     \u001b[0;32mexcept\u001b[0m \u001b[0mwikipedia\u001b[0m\u001b[0;34m.\u001b[0m\u001b[0mDisambiguationError\u001b[0m \u001b[0;32mas\u001b[0m \u001b[0me\u001b[0m\u001b[0;34m:\u001b[0m\u001b[0;34m\u001b[0m\u001b[0;34m\u001b[0m\u001b[0m\n",
            "\u001b[0;32m/usr/local/lib/python3.6/dist-packages/wikipedia/wikipedia.py\u001b[0m in \u001b[0;36mpage\u001b[0;34m(title, pageid, auto_suggest, redirect, preload)\u001b[0m\n\u001b[1;32m    275\u001b[0m         \u001b[0;32mraise\u001b[0m \u001b[0mPageError\u001b[0m\u001b[0;34m(\u001b[0m\u001b[0mtitle\u001b[0m\u001b[0;34m)\u001b[0m\u001b[0;34m\u001b[0m\u001b[0;34m\u001b[0m\u001b[0m\n\u001b[0;32m--> 276\u001b[0;31m     \u001b[0;32mreturn\u001b[0m \u001b[0mWikipediaPage\u001b[0m\u001b[0;34m(\u001b[0m\u001b[0mtitle\u001b[0m\u001b[0;34m,\u001b[0m \u001b[0mredirect\u001b[0m\u001b[0;34m=\u001b[0m\u001b[0mredirect\u001b[0m\u001b[0;34m,\u001b[0m \u001b[0mpreload\u001b[0m\u001b[0;34m=\u001b[0m\u001b[0mpreload\u001b[0m\u001b[0;34m)\u001b[0m\u001b[0;34m\u001b[0m\u001b[0;34m\u001b[0m\u001b[0m\n\u001b[0m\u001b[1;32m    277\u001b[0m   \u001b[0;32melif\u001b[0m \u001b[0mpageid\u001b[0m \u001b[0;32mis\u001b[0m \u001b[0;32mnot\u001b[0m \u001b[0;32mNone\u001b[0m\u001b[0;34m:\u001b[0m\u001b[0;34m\u001b[0m\u001b[0;34m\u001b[0m\u001b[0m\n",
            "\u001b[0;32m/usr/local/lib/python3.6/dist-packages/wikipedia/wikipedia.py\u001b[0m in \u001b[0;36m__init__\u001b[0;34m(self, title, pageid, redirect, preload, original_title)\u001b[0m\n\u001b[1;32m    298\u001b[0m \u001b[0;34m\u001b[0m\u001b[0m\n\u001b[0;32m--> 299\u001b[0;31m     \u001b[0mself\u001b[0m\u001b[0;34m.\u001b[0m\u001b[0m__load\u001b[0m\u001b[0;34m(\u001b[0m\u001b[0mredirect\u001b[0m\u001b[0;34m=\u001b[0m\u001b[0mredirect\u001b[0m\u001b[0;34m,\u001b[0m \u001b[0mpreload\u001b[0m\u001b[0;34m=\u001b[0m\u001b[0mpreload\u001b[0m\u001b[0;34m)\u001b[0m\u001b[0;34m\u001b[0m\u001b[0;34m\u001b[0m\u001b[0m\n\u001b[0m\u001b[1;32m    300\u001b[0m \u001b[0;34m\u001b[0m\u001b[0m\n",
            "\u001b[0;32m/usr/local/lib/python3.6/dist-packages/wikipedia/wikipedia.py\u001b[0m in \u001b[0;36m__load\u001b[0;34m(self, redirect, preload)\u001b[0m\n\u001b[1;32m    392\u001b[0m \u001b[0;34m\u001b[0m\u001b[0m\n\u001b[0;32m--> 393\u001b[0;31m       \u001b[0;32mraise\u001b[0m \u001b[0mDisambiguationError\u001b[0m\u001b[0;34m(\u001b[0m\u001b[0mgetattr\u001b[0m\u001b[0;34m(\u001b[0m\u001b[0mself\u001b[0m\u001b[0;34m,\u001b[0m \u001b[0;34m'title'\u001b[0m\u001b[0;34m,\u001b[0m \u001b[0mpage\u001b[0m\u001b[0;34m[\u001b[0m\u001b[0;34m'title'\u001b[0m\u001b[0;34m]\u001b[0m\u001b[0;34m)\u001b[0m\u001b[0;34m,\u001b[0m \u001b[0mmay_refer_to\u001b[0m\u001b[0;34m)\u001b[0m\u001b[0;34m\u001b[0m\u001b[0;34m\u001b[0m\u001b[0m\n\u001b[0m\u001b[1;32m    394\u001b[0m \u001b[0;34m\u001b[0m\u001b[0m\n",
            "\u001b[0;31mDisambiguationError\u001b[0m: \"Entropy (disambiguation)\" may refer to: \nThermodynamic entropy\nEntropy and information\nQuantum mechanical entropy\nEntropy (classical thermodynamics)\nEntropic force\nEntropy (statistical thermodynamics)\nConfiguration entropy\nConformational entropy\nTsallis entropy\nvon Neumann entropy\nIntroduction to entropy\nEntropy (order and disorder)\nEntropy in thermodynamics and information theory\nEntropy (energy dispersal)\nHistory of entropy\nEntropy and life\nEntropy (astrophysics)\nEntropy (information theory)\nEntropy of entanglement\nAlgorithmic entropy\nRényi entropy\nMeasure theoretic entropy\nTopological entropy\nTopological entropy in physics\nVolume entropy\nMaximum entropy (disambiguation)\nGraph entropy\nEntropy encoding\nEntropy (computing)\nEntropy (anesthesiology)\nEntropy (ecology)\nSocial entropy\nEntropy (film)\n\"Entropy\" (Buffy episode)\nCriminal Minds (season 11)\nEntropy (1977 board game)\nEntropy (1994 board game)\nEntropy (video game)\nFreedom Force vs the 3rd Reich\nCrash Bandicoot: Warped\nEntropy: A New World View\nThomas Pynchon\nLeanne Frahm\nEntropy (journal)\nEntropy (magazine)\nEntropy (album)\nEntropy / Send Them\nAgainst the Grain\nSleeping in the Nothing\nMatter + Form\nThe 'b' Album\nOṣó\nMC Hawking\nGrimes\nEntropia (album)\nNigel Stanford\nDAY6\nEntropy (package manager)\nEntropy (anonymous data store)",
            "\nDuring handling of the above exception, another exception occurred:\n",
            "\u001b[0;31mIndexError\u001b[0m                                Traceback (most recent call last)",
            "\u001b[0;32m/usr/local/lib/python3.6/dist-packages/wikipedia/wikipedia.py\u001b[0m in \u001b[0;36mpage\u001b[0;34m(title, pageid, auto_suggest, redirect, preload)\u001b[0m\n\u001b[1;32m    271\u001b[0m       \u001b[0;32mtry\u001b[0m\u001b[0;34m:\u001b[0m\u001b[0;34m\u001b[0m\u001b[0;34m\u001b[0m\u001b[0m\n\u001b[0;32m--> 272\u001b[0;31m         \u001b[0mtitle\u001b[0m \u001b[0;34m=\u001b[0m \u001b[0msuggestion\u001b[0m \u001b[0;32mor\u001b[0m \u001b[0mresults\u001b[0m\u001b[0;34m[\u001b[0m\u001b[0;36m0\u001b[0m\u001b[0;34m]\u001b[0m\u001b[0;34m\u001b[0m\u001b[0;34m\u001b[0m\u001b[0m\n\u001b[0m\u001b[1;32m    273\u001b[0m       \u001b[0;32mexcept\u001b[0m \u001b[0mIndexError\u001b[0m\u001b[0;34m:\u001b[0m\u001b[0;34m\u001b[0m\u001b[0;34m\u001b[0m\u001b[0m\n",
            "\u001b[0;31mIndexError\u001b[0m: list index out of range",
            "\nDuring handling of the above exception, another exception occurred:\n",
            "\u001b[0;31mPageError\u001b[0m                                 Traceback (most recent call last)",
            "\u001b[0;32m<ipython-input-51-088ecaf0214a>\u001b[0m in \u001b[0;36m<module>\u001b[0;34m()\u001b[0m\n\u001b[1;32m     34\u001b[0m     \u001b[0;32mexcept\u001b[0m \u001b[0mwikipedia\u001b[0m\u001b[0;34m.\u001b[0m\u001b[0mDisambiguationError\u001b[0m \u001b[0;32mas\u001b[0m \u001b[0me\u001b[0m\u001b[0;34m:\u001b[0m\u001b[0;34m\u001b[0m\u001b[0;34m\u001b[0m\u001b[0m\n\u001b[1;32m     35\u001b[0m       \u001b[0ms\u001b[0m \u001b[0;34m=\u001b[0m \u001b[0mrandom\u001b[0m\u001b[0;34m.\u001b[0m\u001b[0mchoice\u001b[0m\u001b[0;34m(\u001b[0m\u001b[0me\u001b[0m\u001b[0;34m.\u001b[0m\u001b[0moptions\u001b[0m\u001b[0;34m[\u001b[0m\u001b[0;36m0\u001b[0m\u001b[0;34m]\u001b[0m\u001b[0;34m)\u001b[0m\u001b[0;34m\u001b[0m\u001b[0;34m\u001b[0m\u001b[0m\n\u001b[0;32m---> 36\u001b[0;31m       \u001b[0my\u001b[0m \u001b[0;34m=\u001b[0m \u001b[0mwikipedia\u001b[0m\u001b[0;34m.\u001b[0m\u001b[0mpage\u001b[0m\u001b[0;34m(\u001b[0m\u001b[0ms\u001b[0m\u001b[0;34m)\u001b[0m\u001b[0;34m\u001b[0m\u001b[0;34m\u001b[0m\u001b[0m\n\u001b[0m\u001b[1;32m     37\u001b[0m \u001b[0;34m\u001b[0m\u001b[0m\n\u001b[1;32m     38\u001b[0m \u001b[0;34m\u001b[0m\u001b[0m\n",
            "\u001b[0;32m/usr/local/lib/python3.6/dist-packages/wikipedia/wikipedia.py\u001b[0m in \u001b[0;36mpage\u001b[0;34m(title, pageid, auto_suggest, redirect, preload)\u001b[0m\n\u001b[1;32m    273\u001b[0m       \u001b[0;32mexcept\u001b[0m \u001b[0mIndexError\u001b[0m\u001b[0;34m:\u001b[0m\u001b[0;34m\u001b[0m\u001b[0;34m\u001b[0m\u001b[0m\n\u001b[1;32m    274\u001b[0m         \u001b[0;31m# if there is no suggestion or search results, the page doesn't exist\u001b[0m\u001b[0;34m\u001b[0m\u001b[0;34m\u001b[0m\u001b[0;34m\u001b[0m\u001b[0m\n\u001b[0;32m--> 275\u001b[0;31m         \u001b[0;32mraise\u001b[0m \u001b[0mPageError\u001b[0m\u001b[0;34m(\u001b[0m\u001b[0mtitle\u001b[0m\u001b[0;34m)\u001b[0m\u001b[0;34m\u001b[0m\u001b[0;34m\u001b[0m\u001b[0m\n\u001b[0m\u001b[1;32m    276\u001b[0m     \u001b[0;32mreturn\u001b[0m \u001b[0mWikipediaPage\u001b[0m\u001b[0;34m(\u001b[0m\u001b[0mtitle\u001b[0m\u001b[0;34m,\u001b[0m \u001b[0mredirect\u001b[0m\u001b[0;34m=\u001b[0m\u001b[0mredirect\u001b[0m\u001b[0;34m,\u001b[0m \u001b[0mpreload\u001b[0m\u001b[0;34m=\u001b[0m\u001b[0mpreload\u001b[0m\u001b[0;34m)\u001b[0m\u001b[0;34m\u001b[0m\u001b[0;34m\u001b[0m\u001b[0m\n\u001b[1;32m    277\u001b[0m   \u001b[0;32melif\u001b[0m \u001b[0mpageid\u001b[0m \u001b[0;32mis\u001b[0m \u001b[0;32mnot\u001b[0m \u001b[0;32mNone\u001b[0m\u001b[0;34m:\u001b[0m\u001b[0;34m\u001b[0m\u001b[0;34m\u001b[0m\u001b[0m\n",
            "\u001b[0;31mPageError\u001b[0m: Page id \" \" does not match any pages. Try another id!"
          ]
        }
      ]
    },
    {
      "cell_type": "code",
      "metadata": {
        "id": "31eHPtdwavu2",
        "colab_type": "code",
        "colab": {}
      },
      "source": [
        "#index_topic[0][1] # index_topic[i] is a list of titles obtained for word-1\n",
        "## index_topic[i][j] is a list of words in j-th title obtained for word-1\n",
        "len(index_topic),len(lda_words)"
      ],
      "execution_count": 0,
      "outputs": []
    },
    {
      "cell_type": "code",
      "metadata": {
        "id": "ruPedj3LQfv2",
        "colab_type": "code",
        "colab": {}
      },
      "source": [
        "max_score=0\n",
        "max_list=[]\n",
        "for i in range(len(index_topic)):\n",
        "  o=0\n",
        "  for j in range(len(index_topic[i])):\n",
        "    o=0\n",
        "    for k in range(len(index_topic[i][j])):\n",
        "      for p in range(len(x)):\n",
        "        o+=dup_model.similarity(index_topic[i][j][k],x[p])\n",
        "    if len(index_topic[i][j])>0:\n",
        "      o= o/len(index_topic[i][j])\n",
        "    if o>max_score:\n",
        "      max_score=o\n",
        "      max_list=[i,j]\n",
        "max_list"
      ],
      "execution_count": 0,
      "outputs": []
    },
    {
      "cell_type": "code",
      "metadata": {
        "id": "Zs5YMSrihUZO",
        "colab_type": "code",
        "colab": {}
      },
      "source": [
        "x,index_topic[max_list[0]][max_list[1]]\n",
        "\n",
        "file_title=wikipedia.search(x[max_list[0]],results=10,suggestion= False)\n",
        "file_title[max_list[1]],x"
      ],
      "execution_count": 0,
      "outputs": []
    },
    {
      "cell_type": "code",
      "metadata": {
        "id": "i8yIzq5mXbU7",
        "colab_type": "code",
        "colab": {}
      },
      "source": [
        "# 0(0),1(1),3(2), 4(2), 5(2), 8(0)\n",
        "#0 - Materialized View\n",
        "#1- Sea level\n",
        "#2- Change Management\n",
        "#3 - PMI Change or Export\n",
        "#4(2)- Bank Vault\n",
        "#5 - Brent Crude\n",
        "#6(2):- Commodity Money\n",
        "#7(1) :- Since you been gone\n",
        "#8(0) :- Fiscal Agent\n"
      ],
      "execution_count": 0,
      "outputs": []
    },
    {
      "cell_type": "code",
      "metadata": {
        "id": "RGUVW6YLcxhi",
        "colab_type": "code",
        "colab": {}
      },
      "source": [
        "x=['Materialized View','Sea level','Change Management','PMI Change or Export','Bank Vault','Brent Crude',\"Attributable risk\",'Reserve Currency','Fiscal Agent']\n",
        "\n",
        "for i in range(len(words_joined)):\n",
        "  print(\"\\n\\nTopic-\",i+1,\" \", x[i])\n",
        "  wordcloud = WordCloud(width = 400, height = 400, \n",
        "                background_color ='white', \n",
        "                stopwords = STOPWORDS,\n",
        "                min_font_size = 10,\n",
        "                max_words=30                \n",
        "                ).generate(words_joined[i]) \n",
        "  \n",
        "# plot the WordCloud image                        \n",
        "  #plt.subplots(1,2,sharey= 'row')\n",
        "  plt.figure(figsize = (4, 6), facecolor = None,edgecolor='black') \n",
        "  y=plt.imshow(wordcloud) \n",
        "  plt.axis(\"off\") \n",
        "  plt.tight_layout(pad = 0) \n",
        "  plt.show( )\n",
        "  x.append(y)"
      ],
      "execution_count": 0,
      "outputs": []
    }
  ]
}