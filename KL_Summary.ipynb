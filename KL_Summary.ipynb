{
  "nbformat": 4,
  "nbformat_minor": 0,
  "metadata": {
    "colab": {
      "name": "KL Summary.ipynb",
      "provenance": [],
      "collapsed_sections": [],
      "toc_visible": true,
      "authorship_tag": "ABX9TyNph4MTDU3N9RXEmYGv+0p1",
      "include_colab_link": true
    },
    "kernelspec": {
      "name": "python3",
      "display_name": "Python 3"
    },
    "widgets": {
      "application/vnd.jupyter.widget-state+json": {
        "21a5e1793fc645b19b7c2e8eff143ed5": {
          "model_module": "@jupyter-widgets/controls",
          "model_name": "HBoxModel",
          "state": {
            "_view_name": "HBoxView",
            "_dom_classes": [],
            "_model_name": "HBoxModel",
            "_view_module": "@jupyter-widgets/controls",
            "_model_module_version": "1.5.0",
            "_view_count": null,
            "_view_module_version": "1.5.0",
            "box_style": "",
            "layout": "IPY_MODEL_7ffe8e5741134674b27468437813fdba",
            "_model_module": "@jupyter-widgets/controls",
            "children": [
              "IPY_MODEL_88c1c7ff931c4d0aa2f03b80586eeeb2",
              "IPY_MODEL_e912d5aba07147328997a16bb9de0e58"
            ]
          }
        },
        "7ffe8e5741134674b27468437813fdba": {
          "model_module": "@jupyter-widgets/base",
          "model_name": "LayoutModel",
          "state": {
            "_view_name": "LayoutView",
            "grid_template_rows": null,
            "right": null,
            "justify_content": null,
            "_view_module": "@jupyter-widgets/base",
            "overflow": null,
            "_model_module_version": "1.2.0",
            "_view_count": null,
            "flex_flow": null,
            "width": null,
            "min_width": null,
            "border": null,
            "align_items": null,
            "bottom": null,
            "_model_module": "@jupyter-widgets/base",
            "top": null,
            "grid_column": null,
            "overflow_y": null,
            "overflow_x": null,
            "grid_auto_flow": null,
            "grid_area": null,
            "grid_template_columns": null,
            "flex": null,
            "_model_name": "LayoutModel",
            "justify_items": null,
            "grid_row": null,
            "max_height": null,
            "align_content": null,
            "visibility": null,
            "align_self": null,
            "height": null,
            "min_height": null,
            "padding": null,
            "grid_auto_rows": null,
            "grid_gap": null,
            "max_width": null,
            "order": null,
            "_view_module_version": "1.2.0",
            "grid_template_areas": null,
            "object_position": null,
            "object_fit": null,
            "grid_auto_columns": null,
            "margin": null,
            "display": null,
            "left": null
          }
        },
        "88c1c7ff931c4d0aa2f03b80586eeeb2": {
          "model_module": "@jupyter-widgets/controls",
          "model_name": "FloatProgressModel",
          "state": {
            "_view_name": "ProgressView",
            "style": "IPY_MODEL_0d3d57c1ca744ea286ab84d87dcd0407",
            "_dom_classes": [],
            "description": "Downloading: 100%",
            "_model_name": "FloatProgressModel",
            "bar_style": "success",
            "max": 434,
            "_view_module": "@jupyter-widgets/controls",
            "_model_module_version": "1.5.0",
            "value": 434,
            "_view_count": null,
            "_view_module_version": "1.5.0",
            "orientation": "horizontal",
            "min": 0,
            "description_tooltip": null,
            "_model_module": "@jupyter-widgets/controls",
            "layout": "IPY_MODEL_8aebc51620564bb4bfaaa582e1874e95"
          }
        },
        "e912d5aba07147328997a16bb9de0e58": {
          "model_module": "@jupyter-widgets/controls",
          "model_name": "HTMLModel",
          "state": {
            "_view_name": "HTMLView",
            "style": "IPY_MODEL_1eb559d14ea24ba6baca134a17a0cabf",
            "_dom_classes": [],
            "description": "",
            "_model_name": "HTMLModel",
            "placeholder": "​",
            "_view_module": "@jupyter-widgets/controls",
            "_model_module_version": "1.5.0",
            "value": " 434/434 [00:31&lt;00:00, 13.9B/s]",
            "_view_count": null,
            "_view_module_version": "1.5.0",
            "description_tooltip": null,
            "_model_module": "@jupyter-widgets/controls",
            "layout": "IPY_MODEL_c3c8de9276d443929337c06e0b4b26fa"
          }
        },
        "0d3d57c1ca744ea286ab84d87dcd0407": {
          "model_module": "@jupyter-widgets/controls",
          "model_name": "ProgressStyleModel",
          "state": {
            "_view_name": "StyleView",
            "_model_name": "ProgressStyleModel",
            "description_width": "initial",
            "_view_module": "@jupyter-widgets/base",
            "_model_module_version": "1.5.0",
            "_view_count": null,
            "_view_module_version": "1.2.0",
            "bar_color": null,
            "_model_module": "@jupyter-widgets/controls"
          }
        },
        "8aebc51620564bb4bfaaa582e1874e95": {
          "model_module": "@jupyter-widgets/base",
          "model_name": "LayoutModel",
          "state": {
            "_view_name": "LayoutView",
            "grid_template_rows": null,
            "right": null,
            "justify_content": null,
            "_view_module": "@jupyter-widgets/base",
            "overflow": null,
            "_model_module_version": "1.2.0",
            "_view_count": null,
            "flex_flow": null,
            "width": null,
            "min_width": null,
            "border": null,
            "align_items": null,
            "bottom": null,
            "_model_module": "@jupyter-widgets/base",
            "top": null,
            "grid_column": null,
            "overflow_y": null,
            "overflow_x": null,
            "grid_auto_flow": null,
            "grid_area": null,
            "grid_template_columns": null,
            "flex": null,
            "_model_name": "LayoutModel",
            "justify_items": null,
            "grid_row": null,
            "max_height": null,
            "align_content": null,
            "visibility": null,
            "align_self": null,
            "height": null,
            "min_height": null,
            "padding": null,
            "grid_auto_rows": null,
            "grid_gap": null,
            "max_width": null,
            "order": null,
            "_view_module_version": "1.2.0",
            "grid_template_areas": null,
            "object_position": null,
            "object_fit": null,
            "grid_auto_columns": null,
            "margin": null,
            "display": null,
            "left": null
          }
        },
        "1eb559d14ea24ba6baca134a17a0cabf": {
          "model_module": "@jupyter-widgets/controls",
          "model_name": "DescriptionStyleModel",
          "state": {
            "_view_name": "StyleView",
            "_model_name": "DescriptionStyleModel",
            "description_width": "",
            "_view_module": "@jupyter-widgets/base",
            "_model_module_version": "1.5.0",
            "_view_count": null,
            "_view_module_version": "1.2.0",
            "_model_module": "@jupyter-widgets/controls"
          }
        },
        "c3c8de9276d443929337c06e0b4b26fa": {
          "model_module": "@jupyter-widgets/base",
          "model_name": "LayoutModel",
          "state": {
            "_view_name": "LayoutView",
            "grid_template_rows": null,
            "right": null,
            "justify_content": null,
            "_view_module": "@jupyter-widgets/base",
            "overflow": null,
            "_model_module_version": "1.2.0",
            "_view_count": null,
            "flex_flow": null,
            "width": null,
            "min_width": null,
            "border": null,
            "align_items": null,
            "bottom": null,
            "_model_module": "@jupyter-widgets/base",
            "top": null,
            "grid_column": null,
            "overflow_y": null,
            "overflow_x": null,
            "grid_auto_flow": null,
            "grid_area": null,
            "grid_template_columns": null,
            "flex": null,
            "_model_name": "LayoutModel",
            "justify_items": null,
            "grid_row": null,
            "max_height": null,
            "align_content": null,
            "visibility": null,
            "align_self": null,
            "height": null,
            "min_height": null,
            "padding": null,
            "grid_auto_rows": null,
            "grid_gap": null,
            "max_width": null,
            "order": null,
            "_view_module_version": "1.2.0",
            "grid_template_areas": null,
            "object_position": null,
            "object_fit": null,
            "grid_auto_columns": null,
            "margin": null,
            "display": null,
            "left": null
          }
        },
        "bad0dcf817c848d9827b70249348e1c1": {
          "model_module": "@jupyter-widgets/controls",
          "model_name": "HBoxModel",
          "state": {
            "_view_name": "HBoxView",
            "_dom_classes": [],
            "_model_name": "HBoxModel",
            "_view_module": "@jupyter-widgets/controls",
            "_model_module_version": "1.5.0",
            "_view_count": null,
            "_view_module_version": "1.5.0",
            "box_style": "",
            "layout": "IPY_MODEL_e838fb3eab3349af939c2457b51dcf6a",
            "_model_module": "@jupyter-widgets/controls",
            "children": [
              "IPY_MODEL_51eadd7029c14a25abef6d4f3b2d1a6f",
              "IPY_MODEL_742242eaa3d8454e8c5ac4f0dbd076da"
            ]
          }
        },
        "e838fb3eab3349af939c2457b51dcf6a": {
          "model_module": "@jupyter-widgets/base",
          "model_name": "LayoutModel",
          "state": {
            "_view_name": "LayoutView",
            "grid_template_rows": null,
            "right": null,
            "justify_content": null,
            "_view_module": "@jupyter-widgets/base",
            "overflow": null,
            "_model_module_version": "1.2.0",
            "_view_count": null,
            "flex_flow": null,
            "width": null,
            "min_width": null,
            "border": null,
            "align_items": null,
            "bottom": null,
            "_model_module": "@jupyter-widgets/base",
            "top": null,
            "grid_column": null,
            "overflow_y": null,
            "overflow_x": null,
            "grid_auto_flow": null,
            "grid_area": null,
            "grid_template_columns": null,
            "flex": null,
            "_model_name": "LayoutModel",
            "justify_items": null,
            "grid_row": null,
            "max_height": null,
            "align_content": null,
            "visibility": null,
            "align_self": null,
            "height": null,
            "min_height": null,
            "padding": null,
            "grid_auto_rows": null,
            "grid_gap": null,
            "max_width": null,
            "order": null,
            "_view_module_version": "1.2.0",
            "grid_template_areas": null,
            "object_position": null,
            "object_fit": null,
            "grid_auto_columns": null,
            "margin": null,
            "display": null,
            "left": null
          }
        },
        "51eadd7029c14a25abef6d4f3b2d1a6f": {
          "model_module": "@jupyter-widgets/controls",
          "model_name": "FloatProgressModel",
          "state": {
            "_view_name": "ProgressView",
            "style": "IPY_MODEL_bc0dbc26cdf644079d676cc166134cb8",
            "_dom_classes": [],
            "description": "Downloading: 100%",
            "_model_name": "FloatProgressModel",
            "bar_style": "success",
            "max": 1344997306,
            "_view_module": "@jupyter-widgets/controls",
            "_model_module_version": "1.5.0",
            "value": 1344997306,
            "_view_count": null,
            "_view_module_version": "1.5.0",
            "orientation": "horizontal",
            "min": 0,
            "description_tooltip": null,
            "_model_module": "@jupyter-widgets/controls",
            "layout": "IPY_MODEL_d62471faddb542f5b50d21955584501b"
          }
        },
        "742242eaa3d8454e8c5ac4f0dbd076da": {
          "model_module": "@jupyter-widgets/controls",
          "model_name": "HTMLModel",
          "state": {
            "_view_name": "HTMLView",
            "style": "IPY_MODEL_d37522f1652749b384a41f9990b4ee20",
            "_dom_classes": [],
            "description": "",
            "_model_name": "HTMLModel",
            "placeholder": "​",
            "_view_module": "@jupyter-widgets/controls",
            "_model_module_version": "1.5.0",
            "value": " 1.34G/1.34G [00:30&lt;00:00, 44.3MB/s]",
            "_view_count": null,
            "_view_module_version": "1.5.0",
            "description_tooltip": null,
            "_model_module": "@jupyter-widgets/controls",
            "layout": "IPY_MODEL_c04da63103d04850acbefda4372528fc"
          }
        },
        "bc0dbc26cdf644079d676cc166134cb8": {
          "model_module": "@jupyter-widgets/controls",
          "model_name": "ProgressStyleModel",
          "state": {
            "_view_name": "StyleView",
            "_model_name": "ProgressStyleModel",
            "description_width": "initial",
            "_view_module": "@jupyter-widgets/base",
            "_model_module_version": "1.5.0",
            "_view_count": null,
            "_view_module_version": "1.2.0",
            "bar_color": null,
            "_model_module": "@jupyter-widgets/controls"
          }
        },
        "d62471faddb542f5b50d21955584501b": {
          "model_module": "@jupyter-widgets/base",
          "model_name": "LayoutModel",
          "state": {
            "_view_name": "LayoutView",
            "grid_template_rows": null,
            "right": null,
            "justify_content": null,
            "_view_module": "@jupyter-widgets/base",
            "overflow": null,
            "_model_module_version": "1.2.0",
            "_view_count": null,
            "flex_flow": null,
            "width": null,
            "min_width": null,
            "border": null,
            "align_items": null,
            "bottom": null,
            "_model_module": "@jupyter-widgets/base",
            "top": null,
            "grid_column": null,
            "overflow_y": null,
            "overflow_x": null,
            "grid_auto_flow": null,
            "grid_area": null,
            "grid_template_columns": null,
            "flex": null,
            "_model_name": "LayoutModel",
            "justify_items": null,
            "grid_row": null,
            "max_height": null,
            "align_content": null,
            "visibility": null,
            "align_self": null,
            "height": null,
            "min_height": null,
            "padding": null,
            "grid_auto_rows": null,
            "grid_gap": null,
            "max_width": null,
            "order": null,
            "_view_module_version": "1.2.0",
            "grid_template_areas": null,
            "object_position": null,
            "object_fit": null,
            "grid_auto_columns": null,
            "margin": null,
            "display": null,
            "left": null
          }
        },
        "d37522f1652749b384a41f9990b4ee20": {
          "model_module": "@jupyter-widgets/controls",
          "model_name": "DescriptionStyleModel",
          "state": {
            "_view_name": "StyleView",
            "_model_name": "DescriptionStyleModel",
            "description_width": "",
            "_view_module": "@jupyter-widgets/base",
            "_model_module_version": "1.5.0",
            "_view_count": null,
            "_view_module_version": "1.2.0",
            "_model_module": "@jupyter-widgets/controls"
          }
        },
        "c04da63103d04850acbefda4372528fc": {
          "model_module": "@jupyter-widgets/base",
          "model_name": "LayoutModel",
          "state": {
            "_view_name": "LayoutView",
            "grid_template_rows": null,
            "right": null,
            "justify_content": null,
            "_view_module": "@jupyter-widgets/base",
            "overflow": null,
            "_model_module_version": "1.2.0",
            "_view_count": null,
            "flex_flow": null,
            "width": null,
            "min_width": null,
            "border": null,
            "align_items": null,
            "bottom": null,
            "_model_module": "@jupyter-widgets/base",
            "top": null,
            "grid_column": null,
            "overflow_y": null,
            "overflow_x": null,
            "grid_auto_flow": null,
            "grid_area": null,
            "grid_template_columns": null,
            "flex": null,
            "_model_name": "LayoutModel",
            "justify_items": null,
            "grid_row": null,
            "max_height": null,
            "align_content": null,
            "visibility": null,
            "align_self": null,
            "height": null,
            "min_height": null,
            "padding": null,
            "grid_auto_rows": null,
            "grid_gap": null,
            "max_width": null,
            "order": null,
            "_view_module_version": "1.2.0",
            "grid_template_areas": null,
            "object_position": null,
            "object_fit": null,
            "grid_auto_columns": null,
            "margin": null,
            "display": null,
            "left": null
          }
        },
        "8e036f1c018c4a9abe6a355ea1a67104": {
          "model_module": "@jupyter-widgets/controls",
          "model_name": "HBoxModel",
          "state": {
            "_view_name": "HBoxView",
            "_dom_classes": [],
            "_model_name": "HBoxModel",
            "_view_module": "@jupyter-widgets/controls",
            "_model_module_version": "1.5.0",
            "_view_count": null,
            "_view_module_version": "1.5.0",
            "box_style": "",
            "layout": "IPY_MODEL_5fbe0adb7ad44b7f8ec46488230e4868",
            "_model_module": "@jupyter-widgets/controls",
            "children": [
              "IPY_MODEL_e5a4b2d2f9244e939ad52d289277ba09",
              "IPY_MODEL_1bc82be447c443a3ab21abc5e116ee20"
            ]
          }
        },
        "5fbe0adb7ad44b7f8ec46488230e4868": {
          "model_module": "@jupyter-widgets/base",
          "model_name": "LayoutModel",
          "state": {
            "_view_name": "LayoutView",
            "grid_template_rows": null,
            "right": null,
            "justify_content": null,
            "_view_module": "@jupyter-widgets/base",
            "overflow": null,
            "_model_module_version": "1.2.0",
            "_view_count": null,
            "flex_flow": null,
            "width": null,
            "min_width": null,
            "border": null,
            "align_items": null,
            "bottom": null,
            "_model_module": "@jupyter-widgets/base",
            "top": null,
            "grid_column": null,
            "overflow_y": null,
            "overflow_x": null,
            "grid_auto_flow": null,
            "grid_area": null,
            "grid_template_columns": null,
            "flex": null,
            "_model_name": "LayoutModel",
            "justify_items": null,
            "grid_row": null,
            "max_height": null,
            "align_content": null,
            "visibility": null,
            "align_self": null,
            "height": null,
            "min_height": null,
            "padding": null,
            "grid_auto_rows": null,
            "grid_gap": null,
            "max_width": null,
            "order": null,
            "_view_module_version": "1.2.0",
            "grid_template_areas": null,
            "object_position": null,
            "object_fit": null,
            "grid_auto_columns": null,
            "margin": null,
            "display": null,
            "left": null
          }
        },
        "e5a4b2d2f9244e939ad52d289277ba09": {
          "model_module": "@jupyter-widgets/controls",
          "model_name": "FloatProgressModel",
          "state": {
            "_view_name": "ProgressView",
            "style": "IPY_MODEL_0657a69ecc0d4596978957b9a1cecce5",
            "_dom_classes": [],
            "description": "Downloading: 100%",
            "_model_name": "FloatProgressModel",
            "bar_style": "success",
            "max": 231508,
            "_view_module": "@jupyter-widgets/controls",
            "_model_module_version": "1.5.0",
            "value": 231508,
            "_view_count": null,
            "_view_module_version": "1.5.0",
            "orientation": "horizontal",
            "min": 0,
            "description_tooltip": null,
            "_model_module": "@jupyter-widgets/controls",
            "layout": "IPY_MODEL_4d4b09585bd04c07b88b35eb3206166e"
          }
        },
        "1bc82be447c443a3ab21abc5e116ee20": {
          "model_module": "@jupyter-widgets/controls",
          "model_name": "HTMLModel",
          "state": {
            "_view_name": "HTMLView",
            "style": "IPY_MODEL_50ea3dda4c844285b8904ea4475376b8",
            "_dom_classes": [],
            "description": "",
            "_model_name": "HTMLModel",
            "placeholder": "​",
            "_view_module": "@jupyter-widgets/controls",
            "_model_module_version": "1.5.0",
            "value": " 232k/232k [00:00&lt;00:00, 2.15MB/s]",
            "_view_count": null,
            "_view_module_version": "1.5.0",
            "description_tooltip": null,
            "_model_module": "@jupyter-widgets/controls",
            "layout": "IPY_MODEL_bcee2a7d80a94d89b94fdcb00afc1058"
          }
        },
        "0657a69ecc0d4596978957b9a1cecce5": {
          "model_module": "@jupyter-widgets/controls",
          "model_name": "ProgressStyleModel",
          "state": {
            "_view_name": "StyleView",
            "_model_name": "ProgressStyleModel",
            "description_width": "initial",
            "_view_module": "@jupyter-widgets/base",
            "_model_module_version": "1.5.0",
            "_view_count": null,
            "_view_module_version": "1.2.0",
            "bar_color": null,
            "_model_module": "@jupyter-widgets/controls"
          }
        },
        "4d4b09585bd04c07b88b35eb3206166e": {
          "model_module": "@jupyter-widgets/base",
          "model_name": "LayoutModel",
          "state": {
            "_view_name": "LayoutView",
            "grid_template_rows": null,
            "right": null,
            "justify_content": null,
            "_view_module": "@jupyter-widgets/base",
            "overflow": null,
            "_model_module_version": "1.2.0",
            "_view_count": null,
            "flex_flow": null,
            "width": null,
            "min_width": null,
            "border": null,
            "align_items": null,
            "bottom": null,
            "_model_module": "@jupyter-widgets/base",
            "top": null,
            "grid_column": null,
            "overflow_y": null,
            "overflow_x": null,
            "grid_auto_flow": null,
            "grid_area": null,
            "grid_template_columns": null,
            "flex": null,
            "_model_name": "LayoutModel",
            "justify_items": null,
            "grid_row": null,
            "max_height": null,
            "align_content": null,
            "visibility": null,
            "align_self": null,
            "height": null,
            "min_height": null,
            "padding": null,
            "grid_auto_rows": null,
            "grid_gap": null,
            "max_width": null,
            "order": null,
            "_view_module_version": "1.2.0",
            "grid_template_areas": null,
            "object_position": null,
            "object_fit": null,
            "grid_auto_columns": null,
            "margin": null,
            "display": null,
            "left": null
          }
        },
        "50ea3dda4c844285b8904ea4475376b8": {
          "model_module": "@jupyter-widgets/controls",
          "model_name": "DescriptionStyleModel",
          "state": {
            "_view_name": "StyleView",
            "_model_name": "DescriptionStyleModel",
            "description_width": "",
            "_view_module": "@jupyter-widgets/base",
            "_model_module_version": "1.5.0",
            "_view_count": null,
            "_view_module_version": "1.2.0",
            "_model_module": "@jupyter-widgets/controls"
          }
        },
        "bcee2a7d80a94d89b94fdcb00afc1058": {
          "model_module": "@jupyter-widgets/base",
          "model_name": "LayoutModel",
          "state": {
            "_view_name": "LayoutView",
            "grid_template_rows": null,
            "right": null,
            "justify_content": null,
            "_view_module": "@jupyter-widgets/base",
            "overflow": null,
            "_model_module_version": "1.2.0",
            "_view_count": null,
            "flex_flow": null,
            "width": null,
            "min_width": null,
            "border": null,
            "align_items": null,
            "bottom": null,
            "_model_module": "@jupyter-widgets/base",
            "top": null,
            "grid_column": null,
            "overflow_y": null,
            "overflow_x": null,
            "grid_auto_flow": null,
            "grid_area": null,
            "grid_template_columns": null,
            "flex": null,
            "_model_name": "LayoutModel",
            "justify_items": null,
            "grid_row": null,
            "max_height": null,
            "align_content": null,
            "visibility": null,
            "align_self": null,
            "height": null,
            "min_height": null,
            "padding": null,
            "grid_auto_rows": null,
            "grid_gap": null,
            "max_width": null,
            "order": null,
            "_view_module_version": "1.2.0",
            "grid_template_areas": null,
            "object_position": null,
            "object_fit": null,
            "grid_auto_columns": null,
            "margin": null,
            "display": null,
            "left": null
          }
        }
      }
    }
  },
  "cells": [
    {
      "cell_type": "markdown",
      "metadata": {
        "id": "view-in-github",
        "colab_type": "text"
      },
      "source": [
        "<a href=\"https://colab.research.google.com/github/bharatbajoria/Summer-Internship/blob/master/KL_Summary.ipynb\" target=\"_parent\"><img src=\"https://colab.research.google.com/assets/colab-badge.svg\" alt=\"Open In Colab\"/></a>"
      ]
    },
    {
      "cell_type": "code",
      "metadata": {
        "id": "2ynFjfi6X2ME",
        "colab_type": "code",
        "colab": {}
      },
      "source": [
        "import tensorflow \n",
        "import pandas as pd\n",
        "import numpy as npd"
      ],
      "execution_count": null,
      "outputs": []
    },
    {
      "cell_type": "code",
      "metadata": {
        "id": "a5zkae-V2H-I",
        "colab_type": "code",
        "colab": {}
      },
      "source": [
        "pip install bert-extractive-summarizer"
      ],
      "execution_count": null,
      "outputs": []
    },
    {
      "cell_type": "code",
      "metadata": {
        "id": "qzOXttId2Kf0",
        "colab_type": "code",
        "colab": {}
      },
      "source": [
        "pip install spacy==2.1.3"
      ],
      "execution_count": null,
      "outputs": []
    },
    {
      "cell_type": "markdown",
      "metadata": {
        "id": "neBaki9ct1LN",
        "colab_type": "text"
      },
      "source": [
        ""
      ]
    },
    {
      "cell_type": "code",
      "metadata": {
        "id": "XSHCXU5V2PKy",
        "colab_type": "code",
        "colab": {}
      },
      "source": [
        "pip install transformers==2.2.2"
      ],
      "execution_count": null,
      "outputs": []
    },
    {
      "cell_type": "code",
      "metadata": {
        "id": "rzGsgvge2PuD",
        "colab_type": "code",
        "colab": {}
      },
      "source": [
        "pip install neuralcoref"
      ],
      "execution_count": null,
      "outputs": []
    },
    {
      "cell_type": "code",
      "metadata": {
        "id": "aoVOzbGiX82_",
        "colab_type": "code",
        "colab": {}
      },
      "source": [
        "pip install PyPDF2"
      ],
      "execution_count": null,
      "outputs": []
    },
    {
      "cell_type": "code",
      "metadata": {
        "id": "kWgJ2naVl8bX",
        "colab_type": "code",
        "colab": {}
      },
      "source": [
        "import PyPDF2"
      ],
      "execution_count": null,
      "outputs": []
    },
    {
      "cell_type": "code",
      "metadata": {
        "id": "OIO0mJH5X7vI",
        "colab_type": "code",
        "colab": {}
      },
      "source": [
        "def lcs(X,Y,m,n,Corp_Participants):\n",
        "  #X,Y=removing_corp(X,Y,Corp_Participants)\n",
        "  x=\"BERT-Presentation\"\n",
        "  y=\"KL-Presentation\"\n",
        "  if x in (X or Y):\n",
        "    X=X.replace(x,\"\")\n",
        "    Y=Y.replace(x,\"\")\n",
        "  if y in (Y or X):\n",
        "    Y=Y.replace(y,\"\")\n",
        "    X=X.replace(x,\"\")\n",
        "  if X[0]==\" \":\n",
        "    X=X[1:]\n",
        "  if Y[0]==\" \":\n",
        "    Y=Y[1:]\n",
        "\n",
        "  X=data_clean(X)\n",
        "  Y=data_clean(Y)\n",
        "  X=X.split(\".\")\n",
        "  Y=Y.split(\".\")\n",
        "  common_text=\"\"\n",
        "  for i in X:\n",
        "    if (i in Y and len(word_tokenize(i))>3):\n",
        "      common_text+=i+\".\"\n",
        "  \n",
        "  return common_text\n",
        "\n",
        "def finding_complement(X,Y,Corp_Participants):\n",
        "  #returns Y-X\n",
        "  X,Y=removing_corp(X,Y,Corp_Participants)\n",
        "  x=\"BERT-Presentation\"\n",
        "  y=\"KL-Presentation\"\n",
        "  if x in (X or Y):\n",
        "    X=X.replace(x,\"\")\n",
        "    Y=Y.replace(x,\"\")\n",
        "  if y in (Y or X):\n",
        "    Y=Y.replace(y,\"\")\n",
        "    X=X.replace(x,\"\")\n",
        "  if (len(X)>0 and len(Y)>0):\n",
        "    if X[0]==\" \":\n",
        "      X=X[1:]\n",
        "    if Y[0]==\" \":\n",
        "      Y=Y[1:]  \n",
        "    X=data_clean(X)\n",
        "    Y=data_clean(Y)\n",
        "    X=X.split(\".\")\n",
        "    Y=Y.split(\".\")\n",
        "    common_text=[]\n",
        "    for i in X:\n",
        "      if i in Y:\n",
        "        common_text.append(i)\n",
        "    \n",
        "    for i in common_text:\n",
        "      if i in Y :\n",
        "        index_i=Y.index(i)\n",
        "        Y.pop(index_i)\n",
        "    \n",
        "    text=\"\"\n",
        "    for i in Y:\n",
        "      text+=i+\".\"\n",
        "\n",
        "    return text\n",
        "  else:\n",
        "    return data_clean(Y)\n"
      ],
      "execution_count": null,
      "outputs": []
    },
    {
      "cell_type": "code",
      "metadata": {
        "id": "Mpuqx9qV__XX",
        "colab_type": "code",
        "colab": {}
      },
      "source": [
        "def data_clean(train_data):\n",
        "  train_data=train_data.replace(\"\\n\\n\",\" \")\n",
        "  train_data=train_data.replace(\"\\n\",\" \")\n",
        "  train_data=train_data.replace(\", \",\" \")\n",
        "  train_data=train_data.replace(\" ,\",\" \")\n",
        "  train_data=train_data.replace(\",\",\" \")\n",
        "  train_data=train_data.replace(\"-\",\" \")\n",
        "  train_data=train_data.replace(\"    \",\" \")\n",
        "  train_data=train_data.replace(\"   \",\" \")\n",
        "  train_data=train_data.replace(\"  \",\" \") \n",
        "  train_data=train_data.replace(\"<Sentence:\",\"\")\n",
        "  train_data=train_data.replace(\">\",\"\")\n",
        "  train_data=train_data.replace(\"(\",\"\")\n",
        "  train_data=train_data.replace(\")\",\"\")\n",
        "  train_data=train_data.replace(\".,\",\".\")\n",
        "\n",
        "  return train_data\n",
        "\n"
      ],
      "execution_count": null,
      "outputs": []
    },
    {
      "cell_type": "code",
      "metadata": {
        "id": "r9i8DT8BmE5V",
        "colab_type": "code",
        "colab": {}
      },
      "source": [
        "# creating a pdf file object \n",
        "#files=[\"Ali Baba.pdf\",\"Alphabet.pdf\",\"Amazon.pdf\",\"Apple.pdf\",\"Baidu.pdf\",\"FB.pdf\",\"Netflix.pdf\"]\n",
        "files=[\"Amazon.pdf\",\"Apple.pdf\"]\n",
        "pagewise_data=[]#2-D data\n",
        "All_docs=[]#All_docs[0] is a list of string of first file\n",
        "#pagewise_data[0] list of page wise string of first file-Ali Baba\n",
        "All_docs_corporate_participants=[]# a list of strings of corporate participants\n",
        "\n",
        "All_docs_questions=[]#2-D list\n",
        "#All_docs_questions[0] is a list of all questions of first file \n",
        "All_docs_answers=[]\n",
        "All_docs_presentations=[]\n",
        "for file_count in range(len(files)):\n",
        "\n",
        "  pdfFileObj = open(files[file_count],'rb') \n",
        "  pdfReader = PyPDF2.PdfFileReader(pdfFileObj) \n",
        "  pages=pdfReader.numPages\n",
        "  data=[]\n",
        "  for i in range(pages): \n",
        "    pageObj = pdfReader.getPage(i) \n",
        "    data.append(pageObj.extractText())\n",
        "  pagewise_data.append(data)\n",
        "  All_data=[]\n",
        "  data_str=''\n",
        "  for i in range(len(data)):\n",
        "    data_str+=data[i]\n",
        "  \n",
        "  data_str=data_str.replace(\"\\n\",\"\")\n",
        "  \n",
        "  All_data=[data_str]\n",
        "  All_docs.append(All_data)\n",
        "  questions=[]\n",
        "  answers=[]\n",
        "  \n",
        "  corporate_Participants_str=\"CORPORATE PARTICIPANTS \"\n",
        "  presentation_str=\"PRESENTATION \"\n",
        "  QnA_str=\"QUESTIONS AND ANSWERS\"\n",
        "\n",
        "  index_i=data_str.index(corporate_Participants_str)\n",
        "  index_j=data_str.index(presentation_str)\n",
        "  \n",
        "  All_docs_corporate_participants.append(data_str[index_i:index_j])\n",
        "  \n",
        "  index_i=data_str.index(QnA_str)\n",
        "  All_docs_presentations.append(data_str[index_j:index_i])\n",
        "  data_str=data_str[index_i:] #Retaining only QnA  \n",
        "\n",
        "\n",
        "\n",
        "  count_qna=min(data_str.count(\"Question:\"),data_str.count(\"Answer:\"))\n",
        "  for count in range(count_qna):   \n",
        "    i=data_str.index(\"Question:\")\n",
        "    j=data_str.index(\"Answer:\")\n",
        "    dup_data_str=data_str[i:j]\n",
        "    questions.append(dup_data_str)   \n",
        "    data_str=data_str[j:]\n",
        "    \n",
        "    i=data_str.index(\"Answer:\")\n",
        "    if count!= count_qna-1:\n",
        "      j=data_str.index(\"Question:\")\n",
        "      dup_data_str=data_str[i:j]\n",
        "      x=\"Answer-\"+str(count+1)+\" :\"\n",
        "      dup_data_str=dup_data_str.replace(\"Answer:\",x)\n",
        "    else:\n",
        "      dup_data_str=data_str[i:]\n",
        "      x=\"Answer-\"+str(count+1)+\" :\"\n",
        "      dup_data_str=dup_data_str.replace(\"Answer:\",x)\n",
        "    \n",
        "    answers.append(dup_data_str)#appending answers\n",
        "    data_str=data_str[j:]\n",
        "  \n",
        "  \n",
        "  All_docs_questions.append(questions)\n",
        "  All_docs_answers.append(answers) "
      ],
      "execution_count": null,
      "outputs": []
    },
    {
      "cell_type": "code",
      "metadata": {
        "id": "mgu_m0lEkblz",
        "colab_type": "code",
        "colab": {}
      },
      "source": [
        "\n",
        "\n",
        "def preparing_presentation_data(doc,corp_participant):\n",
        "  corp_participant= corp_participant.split(\"  \")\n",
        "  for i in range(len(corp_participant)):\n",
        "    if corp_participant[i][-1]==\" \":    \n",
        "      corp_participant[i]=corp_participant[i][0:(len(corp_participant[i])-1)]\n",
        "\n",
        "  corp_participant=corp_participant[1:]\n",
        "\n",
        "  participant_index=[]\n",
        "    \n",
        "  for i in range(len(corp_participant)):\n",
        "    if doc.count(corp_participant[i])>0:\n",
        "      j= doc.index(corp_participant[i])\n",
        "      participant_index.append(j)\n",
        "    else:\n",
        "      participant_index.append(0)\n",
        "\n",
        "  dup_participant_index=participant_index[:]\n",
        "  dup_corp_participant=[]\n",
        "  dup_participant_index.sort()\n",
        "\n",
        "  for i in dup_participant_index:\n",
        "    if i!=0:\n",
        "      index_i= participant_index.index(i)\n",
        "      dup_corp_participant.append(corp_participant[index_i])\n",
        "\n",
        "  presentation_doc=[]\n",
        "\n",
        "  for i in range(len(dup_corp_participant)-1):\n",
        "    index_i=doc.index(dup_corp_participant[i])\n",
        "    index_j=doc.index(dup_corp_participant[i+1])\n",
        "    x=doc[index_i:index_j]\n",
        "    x=x.replace(dup_corp_participant[i],dup_corp_participant[i]+\"\\n\\n\")\n",
        "    presentation_doc.append(x)\n",
        "    if i+1==len(dup_corp_participant)-1:\n",
        "      x=doc[index_j:]\n",
        "      x=x.replace(dup_corp_participant[i+1],dup_corp_participant[i+1]+\"\\n\\n\")\n",
        "      presentation_doc.append(x)\n",
        "    \n",
        "\n",
        "\n",
        "  if len(dup_corp_participant)==1:\n",
        "    \n",
        "    index_i=doc.index(dup_corp_participant[0])\n",
        "    x=doc[index_i:]\n",
        "    x=x.replace(dup_corp_participant[0],dup_corp_participant[0]+\"\\n\\n\")\n",
        "    presentation_doc.append(x)\n",
        "\n",
        "    \n",
        "  return presentation_doc,dup_corp_participant\n"
      ],
      "execution_count": null,
      "outputs": []
    },
    {
      "cell_type": "code",
      "metadata": {
        "id": "DdCpyZj_WjU4",
        "colab_type": "code",
        "colab": {}
      },
      "source": [
        "presentation_doc,corp_participant=preparing_presentation_data(All_docs_presentations[1],All_docs_corporate_participants[1])"
      ],
      "execution_count": null,
      "outputs": []
    },
    {
      "cell_type": "code",
      "metadata": {
        "id": "Fr4oo7BAe_BP",
        "colab_type": "code",
        "colab": {
          "base_uri": "https://localhost:8080/",
          "height": 51
        },
        "outputId": "c60339b6-b5de-4a99-ffdf-14a43eed47ad"
      },
      "source": [
        "x=All_docs_corporate_participants[0]\n",
        "x=x.split(\"  \")\n",
        "x=x[1:]\n",
        "Corp_Participants=x\n",
        "Corp_Participants"
      ],
      "execution_count": null,
      "outputs": [
        {
          "output_type": "execute_result",
          "data": {
            "text/plain": [
              "['Brian T. Olsavsky Amazon.com, Inc. - Senior VP & CFO',\n",
              " 'Dave Fildes Amazon.com, Inc. - Director of IR ']"
            ]
          },
          "metadata": {
            "tags": []
          },
          "execution_count": 14
        }
      ]
    },
    {
      "cell_type": "markdown",
      "metadata": {
        "id": "I_B5y-iQ2pVL",
        "colab_type": "text"
      },
      "source": [
        "#KL Summary"
      ]
    },
    {
      "cell_type": "code",
      "metadata": {
        "id": "TU-zwyy7mVhc",
        "colab_type": "code",
        "colab": {
          "base_uri": "https://localhost:8080/",
          "height": 496
        },
        "outputId": "025cbb7d-12f9-4696-92d2-50d407d0bb2c"
      },
      "source": [
        "pip install sumy"
      ],
      "execution_count": null,
      "outputs": [
        {
          "output_type": "stream",
          "text": [
            "Collecting sumy\n",
            "\u001b[?25l  Downloading https://files.pythonhosted.org/packages/61/20/8abf92617ec80a2ebaec8dc1646a790fc9656a4a4377ddb9f0cc90bc9326/sumy-0.8.1-py2.py3-none-any.whl (83kB)\n",
            "\u001b[K     |████████████████████████████████| 92kB 2.4MB/s \n",
            "\u001b[?25hRequirement already satisfied: docopt<0.7,>=0.6.1 in /usr/local/lib/python3.6/dist-packages (from sumy) (0.6.2)\n",
            "Collecting pycountry>=18.2.23\n",
            "\u001b[?25l  Downloading https://files.pythonhosted.org/packages/76/73/6f1a412f14f68c273feea29a6ea9b9f1e268177d32e0e69ad6790d306312/pycountry-20.7.3.tar.gz (10.1MB)\n",
            "\u001b[K     |████████████████████████████████| 10.1MB 8.7MB/s \n",
            "\u001b[?25hRequirement already satisfied: nltk>=3.0.2 in /usr/local/lib/python3.6/dist-packages (from sumy) (3.2.5)\n",
            "Collecting breadability>=0.1.20\n",
            "  Downloading https://files.pythonhosted.org/packages/ad/2d/bb6c9b381e6b6a432aa2ffa8f4afdb2204f1ff97cfcc0766a5b7683fec43/breadability-0.1.20.tar.gz\n",
            "Requirement already satisfied: requests>=2.7.0 in /usr/local/lib/python3.6/dist-packages (from sumy) (2.23.0)\n",
            "Requirement already satisfied: six in /usr/local/lib/python3.6/dist-packages (from nltk>=3.0.2->sumy) (1.15.0)\n",
            "Requirement already satisfied: chardet in /usr/local/lib/python3.6/dist-packages (from breadability>=0.1.20->sumy) (3.0.4)\n",
            "Requirement already satisfied: lxml>=2.0 in /usr/local/lib/python3.6/dist-packages (from breadability>=0.1.20->sumy) (4.2.6)\n",
            "Requirement already satisfied: certifi>=2017.4.17 in /usr/local/lib/python3.6/dist-packages (from requests>=2.7.0->sumy) (2020.6.20)\n",
            "Requirement already satisfied: idna<3,>=2.5 in /usr/local/lib/python3.6/dist-packages (from requests>=2.7.0->sumy) (2.10)\n",
            "Requirement already satisfied: urllib3!=1.25.0,!=1.25.1,<1.26,>=1.21.1 in /usr/local/lib/python3.6/dist-packages (from requests>=2.7.0->sumy) (1.24.3)\n",
            "Building wheels for collected packages: pycountry, breadability\n",
            "  Building wheel for pycountry (setup.py) ... \u001b[?25l\u001b[?25hdone\n",
            "  Created wheel for pycountry: filename=pycountry-20.7.3-py2.py3-none-any.whl size=10746863 sha256=8d3fd51af2c8845f53dd3a64e1af84180cac33ad1df87e8a67c729f0fec186ec\n",
            "  Stored in directory: /root/.cache/pip/wheels/33/4e/a6/be297e6b83567e537bed9df4a93f8590ec01c1acfbcd405348\n",
            "  Building wheel for breadability (setup.py) ... \u001b[?25l\u001b[?25hdone\n",
            "  Created wheel for breadability: filename=breadability-0.1.20-py2.py3-none-any.whl size=21684 sha256=823da5202ea245e2bd7dd60b603672d1551e5fdf49ee9d913613529c4782ea9f\n",
            "  Stored in directory: /root/.cache/pip/wheels/5a/4d/a1/510b12c5e65e0b2b3ce539b2af66da0fc57571e528924f4a52\n",
            "Successfully built pycountry breadability\n",
            "Installing collected packages: pycountry, breadability, sumy\n",
            "Successfully installed breadability-0.1.20 pycountry-20.7.3 sumy-0.8.1\n"
          ],
          "name": "stdout"
        }
      ]
    },
    {
      "cell_type": "code",
      "metadata": {
        "id": "EgXhNQGqmUMB",
        "colab_type": "code",
        "colab": {
          "base_uri": "https://localhost:8080/",
          "height": 68
        },
        "outputId": "a38996ee-d962-4436-d1f7-45526618e87f"
      },
      "source": [
        "from sumy.parsers.plaintext import PlaintextParser\n",
        "from sumy.nlp.tokenizers import Tokenizer\n",
        "from sumy.summarizers.luhn import LuhnSummarizer\n",
        "from sumy.summarizers.kl import KLSummarizer\n",
        "from nltk.tokenize import sent_tokenize,word_tokenize\n",
        "import nltk\n",
        "nltk.download('punkt')"
      ],
      "execution_count": null,
      "outputs": [
        {
          "output_type": "stream",
          "text": [
            "[nltk_data] Downloading package punkt to /root/nltk_data...\n",
            "[nltk_data]   Unzipping tokenizers/punkt.zip.\n"
          ],
          "name": "stdout"
        },
        {
          "output_type": "execute_result",
          "data": {
            "text/plain": [
              "True"
            ]
          },
          "metadata": {
            "tags": []
          },
          "execution_count": 16
        }
      ]
    },
    {
      "cell_type": "code",
      "metadata": {
        "id": "4mSS63RvkoCL",
        "colab_type": "code",
        "colab": {}
      },
      "source": [
        "All_docs_summarized=[]\n",
        "All_docs_KL_summarized=[]\n",
        "Percent_breakup=0.60\n",
        "\n",
        "def LuhnSumm(doc,number_sent,Percent_breakup):\n",
        "  parser=PlaintextParser.from_string(doc,Tokenizer(\"english\"))\n",
        "  summary=''\n",
        "  summarizer = KLSummarizer()\n",
        "  #Summarize the document with 4 sentences\n",
        "  k= int(Percent_breakup*number_sent)\n",
        "  summary = summarizer(parser.document,k)\n",
        "  \n",
        "  return summary\n",
        "\n",
        "for i in range(len(files)):\n",
        "  doc_summary=[]\n",
        "  answer_summary=[]\n",
        "  presentation_summary=[]  \n",
        "  pres,partp=All_docs_presentations[i],All_docs_corporate_participants[i]\n",
        "  presentation_doc,corp_participant=preparing_presentation_data(pres,partp)\n",
        "  j=0\n",
        "  for speaker_data in presentation_doc:\n",
        "    numb_sent=len(sent_tokenize(speaker_data))\n",
        "    presentation_summ=LuhnSumm(speaker_data,numb_sent,Percent_breakup)\n",
        "    presentation_summ=str(presentation_summ)\n",
        "    if presentation_summary.count(corp_participant[j])==0:\n",
        "      presentation_summ= corp_participant[j]+\" \" + presentation_summ[:]\n",
        "    j+=1\n",
        "    presentation_summ=presentation_summ+\" \\n\"\n",
        "    presentation_summary.append(presentation_summ)\n",
        "\n",
        "  for j in range(len(All_docs_answers[i])):\n",
        "    numb_sent=len(sent_tokenize(All_docs_answers[i][j]))    \n",
        "    content_sent=sent_tokenize(All_docs_answers[i][j])    \n",
        "    summary = LuhnSumm(All_docs_answers[i][j],numb_sent,Percent_breakup)\n",
        "    summary=str(summary)\n",
        "    if summary.count(content_sent[0])==0:\n",
        "      summary=content_sent[0]+summary\n",
        "    x=\"Answer\"+\"-\"+str(j+1)+\" :\"\n",
        "    summary=summary.replace(\"Answer:\",x)\n",
        "    y=summary\n",
        "    y=y.replace(\"<Sentence:\",\"\")\n",
        "    y=y.replace(\">\",\"\")\n",
        "    y=y.replace(\"(\",\"\")\n",
        "    y=y.replace(\")\",\"\")\n",
        "    y=y.replace(\".,\",\".\")\n",
        "\n",
        "    answer_summary.append(y)\n",
        "  \n",
        "  doc_summary.append(files[i])\n",
        "  doc_summary.append(presentation_summary)\n",
        "\n",
        "  for j in range(len(All_docs_answers[i])):\n",
        "    x= \"Question\"+\"-\"+str(j+1)+\" :\"\n",
        "    All_docs_questions[i][j]=All_docs_questions[i][j].replace(\"Question:\",x)\n",
        "    doc_summary.append(All_docs_questions[i][j])\n",
        "    doc_summary.append(answer_summary[j])\n",
        "  \n",
        "  All_docs_KL_summarized.append(doc_summary)"
      ],
      "execution_count": null,
      "outputs": []
    },
    {
      "cell_type": "markdown",
      "metadata": {
        "id": "InBp4beM1c41",
        "colab_type": "text"
      },
      "source": [
        "#Fuzzy String Matching"
      ]
    },
    {
      "cell_type": "code",
      "metadata": {
        "id": "GPV2tECWHh_k",
        "colab_type": "code",
        "colab": {}
      },
      "source": [
        "pip install fuzzywuzzy"
      ],
      "execution_count": null,
      "outputs": []
    },
    {
      "cell_type": "code",
      "metadata": {
        "id": "qphdty3GI9C9",
        "colab_type": "code",
        "colab": {}
      },
      "source": [
        "pip install python-Levenshtein"
      ],
      "execution_count": null,
      "outputs": []
    },
    {
      "cell_type": "code",
      "metadata": {
        "id": "fkvichlDmSsz",
        "colab_type": "code",
        "colab": {}
      },
      "source": [
        "from fuzzywuzzy import fuzz\n",
        "Summarized_ans=All_docs_KL_summarized[1][2:]\n",
        "Summarized_ans=Summarized_ans[1::2]\n",
        "\n",
        "upper_index=[]\n",
        "fuzz_cutoff=90\n",
        "for i in range(len(Summarized_ans)-1):\n",
        "  lower_index=[]\n",
        "  for j in range(i,len(Summarized_ans)):\n",
        "    fuzz_score=fuzz.ratio(Summarized_ans[i],Summarized_ans[j])\n",
        "    if fuzz_score>=fuzz_cutoff:\n",
        "      if len(Summarized_ans[i])>len(Summarized_ans[j]):\n",
        "        lower_index.append(j)\n",
        "      elif i!=j:\n",
        "        upper_index.append(i)\n",
        "  \n",
        "  lower_index.sort(reverse=True)  \n",
        "  for j in range(len(lower_index)):\n",
        "    Summarized_ans.pop(lower_index[j])\n",
        "\n",
        "  "
      ],
      "execution_count": null,
      "outputs": []
    },
    {
      "cell_type": "code",
      "metadata": {
        "id": "qs1B4ZKPQm_L",
        "colab_type": "code",
        "colab": {}
      },
      "source": [
        "\n",
        "Summarized_ans=All_docs_KL_summarized[0][2:]\n",
        "Summarized_ans=Summarized_ans[1::2]\n",
        "Ans_index=[]\n",
        "x=\"Ans-\"\n",
        "Fuzz_score=[]\n",
        "fuzz_cutoff=0.9\n",
        "for i in range(len(Summarized_ans)):\n",
        "  Var_fuzz_scr=[]\n",
        "  for j in range(0,len(Summarized_ans)):\n",
        "    fuzz_score=fuzz.ratio(Summarized_ans[i],Summarized_ans[j])\n",
        "    Var_fuzz_scr.append(fuzz_score)\n",
        "  Fuzz_score.append(Var_fuzz_scr)\n",
        "  y=x+str(i+1)\n",
        "  Ans_index.append(y)\n",
        "\n",
        "Fuzz_df=pd.DataFrame(data=Fuzz_score, columns=Ans_index,index=Ans_index)\n",
        "#Fuzz_df\n",
        "\n"
      ],
      "execution_count": null,
      "outputs": []
    },
    {
      "cell_type": "code",
      "metadata": {
        "id": "gmTPKxIpEC7z",
        "colab_type": "code",
        "colab": {}
      },
      "source": [
        "\n",
        "def preparing_data_PDFwrite(docs):\n",
        "  x='Presentaion\\n\\n'\n",
        "  count_for_qna=0\n",
        "  \n",
        "  for i in range(1,len(docs)):\n",
        "    if i==1:\n",
        "      for k in docs[i]:\n",
        "        y=str(k)\n",
        "        if y.count(\"<Sentence:\")>0:\n",
        "          y=y.replace(\"<Sentence:\",\"\")\n",
        "          y=y.replace(\">\",\"\")\n",
        "          y=y.replace(\"(\",\"\")\n",
        "          y=y.replace(\")\",\"\")\n",
        "          y=y.replace(\".,\",\".\")\n",
        "        x+=y +\"\\n\"\n",
        "      x+=\"\\nQnA\\n\\n\"\n",
        "    else:\n",
        "      y=str(docs[i])\n",
        "      if y.count(\"<Sentence:\")>0:\n",
        "        y=y.replace(\"<Sentence:\",\"\")\n",
        "        y=y.replace(\">\",\"\")\n",
        "        y=y.replace(\"(\",\"\")\n",
        "        y=y.replace(\")\",\"\")\n",
        "        y=y.replace(\".,\",\"\")\n",
        "           \n",
        "      x+=y\n",
        "      x+=\"  \\n\\n\"\n",
        "      \n",
        "      \n",
        "  return x\n"
      ],
      "execution_count": null,
      "outputs": []
    },
    {
      "cell_type": "code",
      "metadata": {
        "id": "gSKL401rIw5g",
        "colab_type": "code",
        "colab": {}
      },
      "source": [
        "pip install python-docx"
      ],
      "execution_count": null,
      "outputs": []
    },
    {
      "cell_type": "markdown",
      "metadata": {
        "id": "PM5lWR-L2k-H",
        "colab_type": "text"
      },
      "source": [
        "#BERT Summ"
      ]
    },
    {
      "cell_type": "code",
      "metadata": {
        "id": "lpptHpIT2U9h",
        "colab_type": "code",
        "colab": {
          "base_uri": "https://localhost:8080/",
          "height": 164,
          "referenced_widgets": [
            "21a5e1793fc645b19b7c2e8eff143ed5",
            "7ffe8e5741134674b27468437813fdba",
            "88c1c7ff931c4d0aa2f03b80586eeeb2",
            "e912d5aba07147328997a16bb9de0e58",
            "0d3d57c1ca744ea286ab84d87dcd0407",
            "8aebc51620564bb4bfaaa582e1874e95",
            "1eb559d14ea24ba6baca134a17a0cabf",
            "c3c8de9276d443929337c06e0b4b26fa",
            "bad0dcf817c848d9827b70249348e1c1",
            "e838fb3eab3349af939c2457b51dcf6a",
            "51eadd7029c14a25abef6d4f3b2d1a6f",
            "742242eaa3d8454e8c5ac4f0dbd076da",
            "bc0dbc26cdf644079d676cc166134cb8",
            "d62471faddb542f5b50d21955584501b",
            "d37522f1652749b384a41f9990b4ee20",
            "c04da63103d04850acbefda4372528fc",
            "8e036f1c018c4a9abe6a355ea1a67104",
            "5fbe0adb7ad44b7f8ec46488230e4868",
            "e5a4b2d2f9244e939ad52d289277ba09",
            "1bc82be447c443a3ab21abc5e116ee20",
            "0657a69ecc0d4596978957b9a1cecce5",
            "4d4b09585bd04c07b88b35eb3206166e",
            "50ea3dda4c844285b8904ea4475376b8",
            "bcee2a7d80a94d89b94fdcb00afc1058"
          ]
        },
        "outputId": "a7dc24b1-1bbe-4d6a-f48b-1cd819f058e9"
      },
      "source": [
        "from summarizer import Summarizer\n",
        "model = Summarizer()"
      ],
      "execution_count": null,
      "outputs": [
        {
          "output_type": "display_data",
          "data": {
            "application/vnd.jupyter.widget-view+json": {
              "model_id": "21a5e1793fc645b19b7c2e8eff143ed5",
              "version_minor": 0,
              "version_major": 2
            },
            "text/plain": [
              "HBox(children=(FloatProgress(value=0.0, description='Downloading', max=434.0, style=ProgressStyle(description_…"
            ]
          },
          "metadata": {
            "tags": []
          }
        },
        {
          "output_type": "stream",
          "text": [
            "\n"
          ],
          "name": "stdout"
        },
        {
          "output_type": "display_data",
          "data": {
            "application/vnd.jupyter.widget-view+json": {
              "model_id": "bad0dcf817c848d9827b70249348e1c1",
              "version_minor": 0,
              "version_major": 2
            },
            "text/plain": [
              "HBox(children=(FloatProgress(value=0.0, description='Downloading', max=1344997306.0, style=ProgressStyle(descr…"
            ]
          },
          "metadata": {
            "tags": []
          }
        },
        {
          "output_type": "stream",
          "text": [
            "\n"
          ],
          "name": "stdout"
        },
        {
          "output_type": "display_data",
          "data": {
            "application/vnd.jupyter.widget-view+json": {
              "model_id": "8e036f1c018c4a9abe6a355ea1a67104",
              "version_minor": 0,
              "version_major": 2
            },
            "text/plain": [
              "HBox(children=(FloatProgress(value=0.0, description='Downloading', max=231508.0, style=ProgressStyle(descripti…"
            ]
          },
          "metadata": {
            "tags": []
          }
        },
        {
          "output_type": "stream",
          "text": [
            "\n"
          ],
          "name": "stdout"
        }
      ]
    },
    {
      "cell_type": "code",
      "metadata": {
        "id": "dUa_IufX2deF",
        "colab_type": "code",
        "colab": {
          "base_uri": "https://localhost:8080/",
          "height": 241
        },
        "outputId": "434c9f10-37a3-4447-9c25-d9e089ca68a5"
      },
      "source": [
        "#https://pypi.org/project/bert-extractive-summarizer/\n",
        "\n",
        "All_docs_answers[0]"
      ],
      "execution_count": null,
      "outputs": [
        {
          "output_type": "execute_result",
          "data": {
            "text/plain": [
              "[\"Answer-1 : Dave Fildes Amazon.com, Inc. - Director of IR Justin, this is Dave. On the second question, on the subscription service, we'd said on the last call, you probably remember, related to the adoption of the Accounting Standards Update and revenue recognition policies that was impacting our results in a number of areas in 2018, we'd said we'd anticipated about $300 million lower sort of headwind to subscription services revenue due to the accounting change. So that's where we came out for the quarter. So you'll see that we reported subscription services revenue increased 26%, when you exclude FX. So the $300 million is certainly part of that decelerate, a sequential deceleration in the growth rate in that line item. Brian T. Olsavsky Amazon.com, Inc. - Senior VP & CFO Yes, and on unit deceleration, I think the unit numbers more and more require some interpretation because it doesn't include the fast -- some of our fastest growing areas, things like, as Dave mentioned, subscription services, AWS, advertising, Whole Foods units are not in that number. So we don't focus as much on the number. I would direct you more to the supplemental revenue guidance that breaks out the component parts. But in general, we feel good about the growth in the quarter. We think it was a -- Q4, in particular, was a great quarter for customers. The retail, a lot of strength in the retail part of the businesses. The teams here had done a great job planning, preparing and then executing on the quarter. AWS maintained a very strong growth rate and continue to deliver for customers. We had a great re:Invent conference in the quarter. So we feel good about the growth in the quarter and also the total revenue and income \",\n",
              " \"Answer-2 : Brian T. Olsavsky Amazon.com, Inc. - Senior VP & CFO Sure, Mark. The first question's on India. Let me start with that. So we have incorporated into our guidance estimate, the best estimate we have for Q1 in India. However, there's much uncertainty as to what the impact of the government role changes is going to have on the e-commerce sector there. We remain committed to complying with all laws and regulations, and we will, but we're evaluating the situation. Our main issue and our main concern is trying to minimize the impact to our customers and sellers in India. We've built our business around price selection and convenience. We don't think the changes help in those dimensions for both the customers in India and also the sellers. Dave, why don't you talk about the advertising growth? Dave Fildes Amazon.com, Inc. - Director of IR Yes. I think, I mean, we're continuing to -- there's a lot of focus on serving that customer set. One of the things we're trying to do is continually evolve our tools and the products to help that customer set, agencies, advertisers, make sure they've got a variety of ways to meet their goals. Some of the things we've done more recently over the last few months or so was expanded sponsor, brands placements, rolled out new campaign reports, so improve campaign manager features. So a number of -- there's a number of things beyond that, but features out there that are just going to, I think, make it easier for companies to grow with ad tools and the ad services that we offer. And we're continually excited about the opportunity there. Brian T. Olsavsky Amazon.com, Inc. - Senior VP & CFO And then, on your question on marketing, yes, the marketing percent of revenue was up 110 basis points year-over-year. The -- this category also includes AWS sales and marketing. Keep that in mind because that's where a lot of our headcount investment is going. Headcount only grew 14% year-over-year, but the areas that we're growing in that mix were things like technology teams, device area, AWS, especially sales and marketing. So variable marketing was pretty consistent with prior periods, and we feel good about our return on investment on the marketing, the variable marketing. \",\n",
              " \"Answer-3 : Brian T. Olsavsky Amazon.com, Inc. - Senior VP & CFO Yes, really, we're still evaluating the situation in India. We feel very good about the long-term prospects in India and doing a good job for both Indian customers and Indian sellers. The new regulations need to be interpreted, need to be -- need to make sure they don't have unintended consequences. And again, I don't think it's necessarily consistent with better price, better selection, better convenience for the Indian customer. So it's all we can say on that topic right now. Dave Fildes Amazon.com, Inc. - Director of IR Yes, and I think, Doug, your second point was just around shipping, some of the shipping offers in the holiday. We did lower the free shipping threshold at the end of the fourth quarter, so customers took advantage of that. That was a great offer for them in the holidays. Brian talked a little about it before, but pleased with the holiday season, both from sort of a first-party side, but also sellers continue to do well. That's part of the holiday offering. We sold a number of record-breaking number of Alexa devices as well. And I think, just in that shipping vein, really pleased with the continued engagement from Prime members. We had the most-ever number of Prime members sign up this quarter than any quarter we've had. So really pleased with that. \",\n",
              " \"Answer-4 : Brian T. Olsavsky Amazon.com, Inc. - Senior VP & CFO Yes, thank you. Let me start with that last part because I think if we step back and put 2018 in perspective, there's some clear trends regarding our cost structure, starting with fulfillment costs. So in the prior 2 years, 2016, 2017, we had grown our square footage tied to fulfillment and shipping by greater than 30%. In 2018, that number grew by 15%. Certainly, unit demand was lower, but AFN, or Amazon Fulfilled Demand, where, if we combine FBA and retail, remained strong. So we had a banking, if you will, of some large expansions in the prior 2 years. Similarly, on headcount, we grew headcount by 48% in 2016, 38% in 2017, if you exclude the acquisitions of Whole Foods and Souq, which drove the number up to closer to 68%, I believe. Last year, we had 14% growth, and so there was a lot of leverage and a lot of -- in a way, there was a lot of prehiring in 2017 that we digested in 2018, while we still -- in some areas, especially things like our core retail business and also G&A functions, but then we continue to invest again in the technology tied to AWS sales team to an AWS device area. So their groups are growing considerably higher than that 14%, but in total, the company grew 14%. And then, on capital, especially infrastructure capital, if you use the capital lease line as maybe an indicator for what we had invested into our AWS business support infrastructure and global expansion, that number grew 10% last year when it had grown 69% in 2017. So in a lot of ways, 2018 was about banking the efficiencies of investments in people, warehouses, infrastructure that we had put in place in 2016 and '17. So while we will continue to concurrently drive growth and customer offering in Prime Benefits, we certainly do take costs seriously, and we will continue to work on operational efficiencies. I would expect those investments to increase relative to 2018. And we've reflected what we've seen so far in Q1 in our guidance. \",\n",
              " \"Answer-5 : Brian T. Olsavsky Amazon.com, Inc. - Senior VP & CFO Yes, I see total CapEx that was -- grew 33% in Q1, 1% in Q2, negative 1% in Q3, and then positive 17% in Q4, just the quarter itself. So there was, as you say, a bit of an investment in Q4 relative to Q2 and Q3. I still think the 17% is a low number for us when you talk about supporting the AWS business that's still growing at a very high clip and a very strong and healthy growth in FBA and customer demand and our expansion into new countries, both with AWS and also with our core consumer business. So I'm not prepared to give you the forecast for the year right now. I would say that I would consider 2018 to be a lighter investment year and a lighter year for adding fixed headcount, certainly compared to 2016 and 2017, and we'll reveal that as we go through the year, but we've built into the first quarter what we expect in the first 3 months. \",\n",
              " \"Answer-6 : Brian T. Olsavsky Amazon.com, Inc. - Senior VP & CFO Yes. Sure. Sorry, I skipped over that gross margin question earlier, but yes, gross margins were, while up 180 basis points year-over-year, were not up as much as prior quarters. I would say, the positive tailwinds still remain. AWS had strong growth of 46% on an FX-neutral basis, third-party units continue to grow, advertising dollars continue to grow very well. Some of the headwinds, I would say, were outbound shipping costs, including the free shipping that we did, but mostly it was the higher Amazon Fulfilled units and the greater use of Amazon Logistics. And I would also say retail was very strong. We had, I think Dave mentioned, the Echo Dot was the highest selling unit globally. So devices had a very strong sales in the quarter. We discussed how we don't price devices to make money. We usually will expand -- our content expanding our device and usage throughout our group of customers who use our devices and then we monetize that in different ways to commitment to Amazon and the video and everything else. So a bit of it was mixed, but I would say that retail, which has a lower gross margin, more because of the revenue treatment was stronger in Q4. Dave Fildes Amazon.com, Inc. - Director of IR Yes, and just on the other revenue piece, Brian, just to get back to the accounting side, we did adopt that revenue recognition standard in 2018, as I mentioned. As part of the adoption, certain advertising services were classified as revenue rather than a reduction of cost of sales. So specific to Q4, the impact of that change was an increase of approximately $1 billion to other revenue. So you'll see that in the other revenue in total. \",\n",
              " \"Answer-7 : Brian T. Olsavsky Amazon.com, Inc. - Senior VP & CFO Sure. Let me start with your second question. Obviously, third-party sellers are an important part of our value proposition there. They've had great success on our site. More than half of our units sold are from third-party sellers. So it's very important to us that we have the right business profile, both for Amazon and for the sellers. So we will always be evolving that. Part of that involves changing fee structures, sometimes adding new fees or subtracting old ones. Part of it involves raising or lowering fees that sellers pay. So you're going to see this continually from us. We generally work to change the fees to make sure that the incentives are strong on both sides, and we continue to have a healthy growth in third-party. On the international, on an FX-neutral basis, the growth was 15% in Q3 and 19% in Q4, but last call, if you remember, I talked about the timing of Diwali and the impact that had on our growth rates. If we adjust for that, and again, Diwali had -- took place primarily in Q4 this year and it was split between Q3 and Q4 last year, if we adjust for that, international growth is pretty flat Q3 to Q4. \",\n",
              " \"Answer-8 : Dave Fildes Amazon.com, Inc. - Director of IR Yes, Lloyd. Thanks for the question. I'll take the advertising piece first. I mean, I think, as I talked before, we're working on improving usability of tools. I mean, our priorities in this space, that's certainly one of them, looking for ways to make smarter recommendations, addressing the needs of brands, automating activities, inventing new products. And I think, in all those regards and those priorities, we think there's some good growth to continue to come, both in advertising for -- on our own properties, but also potentially beyond -- over the longer term. So -- but even as we look for advertising opportunities on places like Amazon.com, we think there's a lot of opportunity and a lot of experimentation. I think we're learning and are a very data-interested company and working with a lot of great brands to be able to develop better toolkits for them, understand what types of metrics they want to make them more successful based on what they're telling us. Brian T. Olsavsky Amazon.com, Inc. - Senior VP & CFO Yes, and on transportation, I assume you're just talking about our expansion of Amazon deliveries and Amazon Logistics. Again, we have great partners in place for our business and support globally. What we do is add capacity where we feel we need to speed up service or ensure demand, particularly at peak. So we will continue to build out our DSP or -- and Flex and Ship with Amazon programs. So during the quarter, it was a much bigger presence obviously year-over-year. So we're happy with that, both from a performance standpoint. The delivery estimate accuracy, as we call it, was very strong on our self-delivered products and also the cost profile is very good as well. \",\n",
              " \"Answer-9 : Brian T. Olsavsky Amazon.com, Inc. - Senior VP & CFO Let me start with video. We're not quantifying the Prime Video spend today, but we do -- it has been increasing. We expect it to increase even further in 2019. We're seeing a lot of, again, continued strong adoption in the usage and viewing and hours watched of both our music and our -- excuse me, video and music. And as -- if you step back, it builds stronger Prime connectivity with our Prime members. It leads to higher membership renewal rates and higher overall engagement. And we like what we see. We continue to see that engagement growing. I would say that we've had some particular success in -- recently with 10 Golden Globe nominations and 3 Oscar nominations, and Jack Ryan Homecoming and season 2 of the Marvelous Mrs. Maisel, in particular, were very well-received during the quarter. Dave Fildes Amazon.com, Inc. - Director of IR Yes, and then, on your second question just around advertising opportunities and around video, you may have seen not that long ago, IMDb, Internet Movie Database, one of our subsidiaries, launched Free Dive, which is an ad-supported free streaming video channel that's available in the U.S., and it enables customers to watch hit TV shows and movies without purchasing a subscription. So, ad-supported. So that's available on the IMDb website with your laptop or personal computer. And I think it's definitely on the Fire TV devices as well, as a great way to consume content. So I think excited about that. Other opportunities we've been working with in ads and video for a bit longer period of time had been things like our sports offerings, some of the live sports that we've done, things like Thursday Night Football. I really like the success that we've seen on those and a bit of learning from that, looking forward to pursuing more opportunities to engage and serve with customers of those types of video offers, but also take some opportunities to monetize with the advertising. \",\n",
              " \"Answer-10 : Brian T. Olsavsky Amazon.com, Inc. - Senior VP & CFO Yes, thanks, Jason, for your questions. Let me start with the physical stores revenue. So physical stores decreased 3% year-over-year, and this is primarily Whole Foods, but also includes our other stores, the Amazon Bookstores, Amazon Go, Amazon Four Star. What happened in the quarter was we were lapping a period last year when we had purchased Whole Foods in Q3, as you remember, of 2017. In Q4, we adjusted their fiscal calendar to link it up with Amazon's, and it added about 5 days of revenue into Q4 of last year. So we're comping that year-over-year. The second piece is that the -- as you said, the online orders where people go to the Prime Now app or Whole -- and then order for delivery or pickup at Whole Foods stores does count or is counted in the online stores component of revenue. So if you adjust for those, what's the Whole Foods growth year-over-year on an apples-to-apples basis was approximately 6%. Because of some of those, again, mostly the year-over-year counting or days true-up issue, it's showing up as negative 3% in physical stores. Dave Fildes Amazon.com, Inc. - Director of IR Yes, and then just on your second question around advertising, if you look at the other revenue, the growth rate decelerated some. So it's -- at 97%, still very strong year-over-year growth in the fourth quarter. In other revenue, as I think you're aware, there are a number of components, but the largest by a good margin is the advertising revenue. And we are comping a period of rapid growth in the prior year. So that is part of the factor there, as you mentioned. But I'd just reiterate, we're continuing to see quite strong adoption across Amazon's vendors, sellers, authors, all types of advertisers that are utilizing that. \",\n",
              " \"Answer-11 : Brian T. Olsavsky Amazon.com, Inc. - Senior VP & CFO Yes, sure. So let's start with HQ2. Of course, in November, we announced we selected New York City and Northern Virginia, and between the 2 cities we'll be investing $5 billion and creating more than 50,000 jobs. We also announced an operation center of excellence to be opened up in Nashville, which is about -- estimate of about 5,000 jobs. So right now, we're working through some next issues in both cities. We're looking forward to investing in New York and Northern Virginia and being a good community partner as well as Nashville. So not really much else to report at this time on that. On your comment or question on transportation, we do continue to expand our Amazon Logistics and our delivery capability, and it also matches up with our faster ship speed that we're seeing for Prime members as well. We added, of course, we have over 100 million items that customers can get within 2 days, but there's now over 3 million that will be delivered within 1 day or faster in 10,000 cities and towns. So Amazon Deliveries are a big part of that. Again, we have great third-party partners as well in the transportation space. What we like about our ability to participate in transportation is that, a lot of times, we can do it at same cost or better, and we like the cost profile of it, too. We can also invest selectively because we have more perfect information, we know where our demand is, we know where we're moving things between warehouses and sort centers. And by not involving third-parties all the time, we can -- we found that we can extend our ship cut-off -- excuse me, our order cut-offs, and we've done that over the last few years. So that's also another helpful side benefit for consumers when we are doing our own logistics -- excuse me, transportation final delivery \",\n",
              " \"Answer-12 : Brian T. Olsavsky Amazon.com, Inc. - Senior VP & CFO Yes, sure. Let me start with the AWS operating margin, as you called it out. That number will move around. We're very pleased with the 29.3% that we saw during the quarter. Of course, at any point in time, this business is going to be a combination of lowering prices, expanding geographically, adding people to build new -- especially tech teams and sales teams to build new and innovative products and staying very relevant and ahead of our customers' minds. And infrastructure will -- again, it will bounce between quarters a bit. Our capital lease expenditure in Q4 was a bit higher than the prior 3 quarters. That had a slight impact on the operating margin. But again, year-over-year, operating margins were up and were almost 280 basis points. We've said quite openly that this is going to bounce around. What we do is create great value for the customer on one end and then work to minimize our cost of infrastructure, and we're getting more and more creative around getting efficiency up and getting our cost of acquisition down. Dave Fildes Amazon.com, Inc. - Director of IR Thanks for joining us on the call today and for your questions. A replay will be available on our Investor Relations site at least through the end of the quarter. We appreciate your interest in Amazon, and look forward to talking with you again next quarter.  \"]"
            ]
          },
          "metadata": {
            "tags": []
          },
          "execution_count": 25
        }
      ]
    },
    {
      "cell_type": "code",
      "metadata": {
        "id": "IunphWnYAv3a",
        "colab_type": "code",
        "colab": {
          "base_uri": "https://localhost:8080/",
          "height": 71
        },
        "outputId": "5d65ca77-a248-434d-a488-e089f9a813c6"
      },
      "source": [
        "All_docs_presentations"
      ],
      "execution_count": null,
      "outputs": [
        {
          "output_type": "execute_result",
          "data": {
            "text/plain": [
              "[\"PRESENTATION  Operator Thank you for standing by. Good day, everyone, and welcome to the Amazon.com Q4 2018 Financial Results Teleconference. (Operator Instructions) Today's call is being recorded. For opening remarks, I'll be turning the call over to the Director of Investor Relations, Dave Fildes. Please go ahead. Dave Fildes Amazon.com, Inc. - Director of IR Hello, and welcome to our Q4 2018 financial results conference call. Joining us today to answer your questions is Brian Olsavsky, our CFO. As you listen to today's conference call, we encourage you to have our press release in front of you, which includes our financial results as well as metrics and commentary on the quarter. Please note, unless otherwise stated, all comparisons in this call will be against our results for the comparable period of 2017. Our comments and responses to your questions reflect management's views as of today, January 31, 2019, only and will include forward-looking statements. Actual results may differ materially. Additional information about factors that could potentially impact our financial results is included in today's press release and our filings with the SEC, including our most recent annual report on Form 10-K and subsequent filings. During this call, we may discuss certain non-GAAP financial measures in our press release, slides accompanying this webcast and our filings with the SEC, each of which is posted on our IR website. You will find additional disclosures regarding these non-GAAP measures, including reconciliations of these measures with comparable GAAP measures. Our guidance incorporates the order trends that we've seen to date and what we believe today to be appropriate assumptions. Our results are inherently unpredictable and may be materially affected by many factors, including fluctuations in foreign exchange rates, changes in global economic conditions and customer spending, world events, the rate of growth of the Internet, online commerce and cloud services, and the various factors detailed in our filings with the SEC. Our guidance also assumes, among other things, that we don't conclude any additional business acquisition, investments, restructurings or legal settlements. It's not possible to accurately predict demand for our goods and services, and therefore, our actual results could differ materially from our guidance. With that, we will move to Q&A. Operator, please remind our listeners how to initiate a question.  \",\n",
              " \"PRESENTATION  Nancy Paxton Apple Inc. - Senior Director of IR and Treasury Thank you. Good afternoon, and thanks to everyone for joining us. Speaking first today is Apple's CEO, Tim Cook; and he'll be followed by CFO, Luca Maestri. And after that, we'll open the call to questions from analysts. Please note that some of the information you'll hear during our discussion today will consist of forward-looking statements, including, without limitation, those regarding revenue, gross margin, operating expenses, other income and expense, taxes, capital allocation and future business outlook. Actual results or trends could differ materially from our forecast. For more information, please refer to the risk factors discussed in Apple's most recently filed periodic reports on Form 10-K and Form 10-Q and the Form 8-K filed with the SEC today along with the associated press release. Apple assumes no obligation to update any forward-looking statements or information, which speak as of their respective dates. I'd now like to turn the call over to Tim for introductory remarks. Timothy D. Cook Apple Inc. - CEO & Director Thank you, Nancy, and thanks to everyone for joining us today. This isn't the first time you've heard from us regarding the December quarter, so the first thing I want to do is provide some final results and connect those back to the letter we shared at the beginning of the month. As you know, our December quarter revenue was below our original expectations coming in at $84.3 billion. That's down 5% from a year ago or down 3% adjusting for foreign exchange. We noted 4 factors that would impact our results when we provided guidance in November: different iPhone launch timing from a year ago, FX headwinds, supply constraints on certain products and macroeconomic conditions in emerging markets. One of those factors, weak macro conditions in some emerging markets, was significantly more severe than we originally foresaw, especially in Greater China. As our letter noted, that challenge was compounded by quarterly iPhone upgrades that were lower than we anticipated. We'll return to upgrades in a moment, but I first want to say a bit more about our business in Greater China. Our revenue there was down by $4.8 billion from last year with declines across iPhone, Mac and iPad. Most of the shortfall relative to our original guidance and over 100% of our worldwide year-over-year revenue decline was driven by our performance in Greater China. Despite iPhone upgrades being lower than we anticipated, our business grew outside of China, including new records in the Americas, Western Europe, Central and Eastern Europe and our rest of Asia-Pacific segment. We had record performance in large markets, including the United States, Canada, Mexico, Germany, Italy, Spain and Korea. In the letter we shared earlier this month, we said we are proud to participate in the Chinese marketplace and that we believe our business has a bright future there over time. But I think some of that got lost, so I want to share a bit more detail on the positives we see in China. We generated record December quarter services revenue in Greater China, fueled by an amazing ecosystem with over 2.5 million registered iOS developers. We saw very strong results from our Wearables business there with revenues up over 50%. We also continued to grow our total active installed base by adding new customers. In fact, more than 2/3 of all customers in China who bought a Mac or an iPad during the December quarter were purchasing that product for the first time. Finally, for perspective, despite the challenging December quarter, our revenue from China grew slightly for the full calendar year. Macroeconomic factors will come and go, but we see great upside in continuing to focus on the things that we can control. Returning to iPhone, I'd like to talk about our results in the context of those lower-than-expected upgrades. iPhone XR, iPhone XS and iPhone XS Max are, by far, the best iPhones we've ever shipped. They share advanced technologies, including the A12 Bionic, the most powerful chip ever in a smartphone with our next-generation Neural Engine capable of 5 trillion operations per second. These are also completely modern iPhones with stunning large full-screen displays and Face ID, the most secure authentication of any kind available in a smartphone. And the cameras are simply amazing with portrait mode and depth control to allow users to create studio-quality photos as well as stunning 4K video, opening a whole new era of photography. We couldn't be more proud of our iPhone lineup and our industry-leading customer satisfaction. We wouldn't change our position for anyone. Now our customers are holding on to their older iPhones a bit longer than in the past. When you pair this with the macroeconomic factors, particularly in emerging markets, it resulted in iPhone revenue that was down 15% from last year. Our iPhone results accounted for significantly more than our entire year-over-year revenue decline. In fact, outside of iPhone, our business grew strongly by 19%. So what's behind this? It's important to understand what's going on from the customer perspective at the point of purchase. We believe that it's the sum of several factors: first, foreign exchange. The relative strength of the U.S. dollar has made our products more expensive in many parts of the world. In Turkey, for example, the lira depreciated by 33% over the course of calendar 2018, and in the December quarter, our revenue there was down by almost $700 million from the previous year. Second, subsidies. For various reasons, iPhone subsidies are becoming increasingly less common. In Japan, for example, iPhone purchases were traditionally subsidized by carriers and bundled with service contracts. Competitive promotional activity frequently increase the amount of subsidy during key periods. Today, local regulations have significantly restricted those subsidies as well as related competition. As a result, we estimate that less than half of iPhones sold in Japan in Q1 of this year were subsidized compared to about 3/4 a year ago and that the total value of those subsidies had come down as well. Third, our battery replacement program. For millions of customers, we made it inexpensive and efficient to replace the battery and hold onto their existing iPhones a bit longer. Some people have suggested that we shouldn't have done this because of the potential impact on upgrades, but we strongly believe it was the right thing to do for our customers. What's very important, however, is that in spite of these factors, our total active installed base of devices has grown from 1.3 billion at the end of January of 2018 to 1.4 billion by the end of December, reaching a new all-time high for each of the main product categories and for all 5 of our geographic segments. Not only is our large and growing installed base a powerful testament to the satisfaction and loyalty of our customers, but it's also fueling our fast growing Services business. In fact, Services revenue set an all-time record at $10.9 billion in the December quarter, growing 19%. We not only generated our highest global Services revenue ever, but we also had all-time records across multiple categories of Services including the App Store, Apple Pay, cloud services and our App Store Search Ad business, and we had a December quarter record for AppleCare. And I'm very proud to say that nearly 16 years after launching the iTunes Store, we generated our highest quarterly music revenue ever, thanks to the great popularity of Apple Music, now with over 50 million paid subscribers. The App Store wrapped up its best year ever with record holiday period results propelled by the biggest Christmas Day and Christmas week ever. Customers also spent over $322 million on New Year's Day alone, setting a new single-day record for both the number of customers and purchase volume. It was also a great holiday season for Apple Pay with over 1.8 billion transactions in the quarter, well over twice the volume of the year-ago quarter. Merchant adoption continues to reach new milestones. Customers can now use Apple Pay with iPhone and Apple Watch at nearly 3,000 Speedway locations, while all Target, Taco Bell and Jack in the Box stores will be accepting Apple Pay soon. We launched Apple Pay in 3 new countries in the December quarter: Germany, Belgium and Kazakhstan and it's now live in 27 markets around the world. The rollout in Germany has been a huge success with Deutsche Bank reporting more activations for Apple Pay in 1 week than for Android in an entire year. This is yet another example of what's possible when you bring together Apple's world-class hardware, software and ecosystem with our engaged and active user base. Shoppers around the world love Apple Pay, and it has increasingly become an indispensable part of daily life. Revenue from cloud services continues to grow rapidly with year-over-year revenue up over 40% in the December quarter. And readership of Apple News set a new record with over 85 million monthly active users in the 3 countries where we've launched: the United States, the U.K. and Australia. Here in the U.S., the latest data from comScore shows that Apple News has the largest audience of all news apps. And the international audience will continue to grow with our first-ever bilingual launch in Canada available to customers later this quarter. In summary, we're very happy not only with the growth but also the breadth of our Services portfolio. Our revenue from Services has grown from less than $8 billion in calendar 2010 to over $41 billion in calendar 2018. The largest category represents less than 30% of total Services revenue, and the new services we've launched in the last few years are all experiencing tremendous growth. We had our best quarter ever for Mac revenue, which was up 9% fueled by our new MacBook Air and Mac mini introduced in October. The MacBook Air includes a beautiful new Retina display, Touch ID and Force Touch Trackpad, while the new Mac mini provides a powerful, flexible solution for everything from home automation to giant render farms. iPad revenue was up 17%, its highest growth rate in almost 6 years, powered by the new iPad Pro released in November. With its edge-to-edge Liquid Retina display, Face ID and A12X Bionic chip, the new iPad Pro has been described by reviewers as a tablet with no equal and the most powerful mobile device ever made. We also had our best quarter ever for Wearables, Home and Accessories with 33% growth in total and almost 50% growth from Wearables, thanks to strong sales of both Apple Watch and AirPods. We don't measure our success in 90-day increments. We manage Apple for the long term, and when we consider the keys to our success over time, there are 3 that stand out: our highly satisfied and loyal customers; our large and growing active installed base; and at the heart of it all, our deeply ingrained culture of innovation. Thanks to all this, our ecosystem is stronger than ever before. We have an amazingly talented team, creating hardware, software and services, optimizing each of them to create an unparalleled user experience. Apple Watch is a powerful example of that. It's humbling to read e-mails from customers around the world telling us how Apple Watch has dramatically changed their lives by motivating them to be more fit and active, by alerting them to potentially serious health conditions such as AFib and by helping them in times of crisis with features like fall detection and emergency SOS. We believe we are just beginning to see the impact we can make to improving health and are deeply inspired by the possibilities. Another example is the work we're doing with silicon. We've embedded machine learning directly into the silicon with our A12 Bionic chip. Our custom Neural Engine not only provides power efficiency and incredible performance in a very small package, but it also enables processing of data and transactions directly on the device. This means iPhone can recognize patterns, make predictions and learn from experience, and it does all this while keeping personal information private. This is a powerful example of how innovation and privacy can go hand in hand at a time when these issues are increasingly important to our users. We are undertaking and accelerating a number of initiatives to improve our results. It's not in our DNA to just stand around and wait for macroeconomic conditions to improve. One such initiative is making it simple to trade in an iPhone in our stores and raising awareness of this opportunity. Because of the quality and durability of iPhones, they maintain significant residual value, making trade-ins a great opportunity. It's not only great for the environment. It's great for the customer as their existing phone acts as a subsidy for their new phone, and it's great for developers as the phone that is traded in and redistributed can help grow our active installed base. Beginning last week, we started making it easier for people to pay for their phones over time with installment payments, and we're working on rolling out this program to more geographies as soon as we can. We are as confident as ever in the fundamental strength of our business, and we have a very strong pipeline of products and services with some exciting announcements coming later this year. Apple innovates like no other company on Earth, and we are not taking our foot off the gas. We'll continue to invest through near-term headwinds just as we always have, and we'll emerge stronger as a result. Now for more details on our December quarter results, I'd like to turn the call over to Luca. Luca Maestri Apple Inc. - CFO & Senior VP Thank you, Tim. Good afternoon, everyone. As Tim said, revenue for the December quarter was $84.3 billion. This result was below our expectations, but we were able to set new all-time revenue records in the U.S., Canada, Latin America, Western Europe, Central and Eastern Europe and Korea. Our results were especially strong in the U.S., where revenue was up by more than $1.5 billion compared to a year ago and in several markets where revenue grew by double digits, including, among others, Germany, Spain, Poland, Mexico, Malaysia and Vietnam. Looking at product categories. iPhone revenue declined 15% from a year ago, while revenue from the rest of our business grew 19% to an all-time record, including our best results ever for Services, for Wearables and for Mac. Company gross margin was 38%. This quarter, for the first time, we're making an important new disclosure to our investors as we believe it will foster a better understanding of our business. We're now reporting, on a quarterly basis, gross margin for products in aggregate and for services in aggregate. Products gross margin was 34.3%, and services gross margin was 62.8%. On a sequential basis, products gross margin increased 60 basis points due to positive leverage from the holiday quarter partially offset by higher cost structures as we launched several new products and by headwinds from foreign exchange. Services gross margin also increased 170 basis points sequentially due to favorable mix and leverage partially offset by foreign exchange. While both products and services gross margins improved sequentially, total company gross margin was down 30 basis points due to a different mix between products and services. Net income was $20 billion, about flat to last year; and diluted earnings per share were an all-time record at $4.18, an increase of 7.5% over last year. Operating cash flow was also very strong at $26.7 billion. Let me provide more color for the various products categories. iPhone revenue was $52 billion. On a geographic basis, most of the decline from last year came from Greater China and other emerging markets, where difficult macro and foreign exchange conditions affected our results. We also believe that the reduction of carrier subsidies and our battery replacement program had an impact in a number of countries around the world. And as Tim mentioned, we had a lower number of upgrades than we had anticipated at the beginning of the quarter. However, our global active installed base of iPhones continues to grow and has reached an all-time high at the end of December. We are disclosing that number now for the first time. And it has surpassed 900 million devices, up year-over-year in each of our 5 geographic segments and growing almost 75 million in the last 12 months alone. We plan to provide information on the iPhone installed base as well as total installed base on a periodic basis. Customer satisfaction and loyalty for iPhone continue to be outstanding and are the highest in the industry. The latest survey of U.S. consumers from 451 Research indicates customer satisfaction of 99% for iPhone XR, XS and XS Max combined. And among business buyers who plan to purchase smartphones in the March quarter, 81% plan to purchase iPhones. Based on the latest information from Kantar, iPhone experienced a 90% customer loyalty rating for iPhone customers in the U.S., 23 points above the next highest brand measured. Turning to Services. It was our best quarter ever with revenue of $10.9 billion, up 19% year-over-year with new December quarter records in all 5 of our geographic segments. Many Services categories set new all-time revenue records, and we are on track to achieve our goal of doubling our fiscal 2016 Services revenue by 2020. To be clear and as we've already explained 90 days ago, our 2020 goal remains unchanged, and it excludes the impact of the revenue reclassification between products and services we recorded in connection with ASC 606, the new revenue recognition accounting standard that we adopted at the beginning of fiscal '19. The level of engagement of our customers in our ecosystem continues to grow. The number of transacting accounts on our digital stores reached a new all-time high during the quarter with the number of paid accounts growing by strong double digits over last year. And we now have over 360 million paid subscriptions across our Services portfolio, an increase of 120 million versus a year ago. Given the continued strength and momentum in this part of the business, we now expect the number of paid subscriptions to surpass 0.5 billion during 2020. Our subscription business has become very large and diversified, covering many different categories from entertainment to health and fitness to lifestyle. In fact, more than 30,000 third-party subscription apps are available today on the App Store, and the largest of them accounts for only 0.3% of our total Services revenue. Next, I'd like to talk about the Mac. We saw great response to the new MacBook Air and Mac mini that we introduced in October, which helped drive a 9% increase in Mac revenue over last year to a new all-time record. Mac revenue was up in the vast majority of countries we track with double-digit growth in many large markets such as the U.S., Western Europe, Central and Eastern Europe, Japan, Korea and South Asia. Our active installed base of Macs reached a new all-time high, and half of all the customers purchasing Macs in the December quarter were new to Mac. We also had great results for iPad with revenue up 17% from a year ago. And strong performance of both iPad and iPad Pro had generated double-digit growth in 4 of our 5 geographic segments. Similar to the Mac, our installed base of iPads reached a new all-time high, and among customers purchasing iPad during the quarter, half were new to iPad. The most recent consumer survey from 451 Research measured a 94% customer satisfaction rating for iPad overall with iPad Pro models scoring as high as 100%. Among business customers who plan to purchase tablets in the March quarter, 68% plan to purchase iPads. Wearables, Home and Accessories revenue grew 33% to a new all-time record in each of our geographic segments. Revenue from this category was up over $1.8 billion compared to a year ago, thanks to the amazing popularity of Apple Watch and AirPods, both of which were supply constrained as we exited the quarter. Based on revenue over the past 4 quarters, our Wearables business is approaching the size of a Fortune 200 company. Our retail and online stores generated strong results from Mac and iPad and all-time record performance from Services and from Wearables. Following the launch of the new iPhone trade-in campaign, our stores more than doubled the volume of iPhones traded in compared to last year, reaching an all-time high in Q1. We added Thailand to our footprint with a beautiful store in Bangkok, and we opened a stunning new store on Champs-Élysées in Paris, exiting the quarter with 506 physical stores in 22 countries. In enterprise, across multiple industries, our technology continues to enable businesses to do their best work. In health care, iPhones and iOS apps continue to streamline and support clinical workflows, communications and care delivery across leading health systems, including Johns Hopkins Medicine, Massachusetts General Hospital, Stanford Health Care and St. Jude Children's Research Hospital. In manufacturing, SKF, the world's largest producers of bearings and seals, have transformed their manufacturing processes on iOS and iPhone with incredible success. With custom iOS apps available to production operators across their worldwide locations, SKF has reduced production errors from 20% to 0 while saving 70% in system-related time. Apple technology has made possible a simplified user experience integrating the SAP Cloud Platform, yielding better accuracy, efficiency and employee experiences across the board. We're also seeing great innovation in the construction industry with iPad and new third-party apps made for iOS. For instance, Procore Technologies has introduced an app to help decrease building errors on the job site. By using Metal and Split View with the iPad camera, construction workers can compare building plans and 3D models to what is actually being built in realtime. This new iOS app reduces wasted raw materials and helps keep building projects on time and on budget. Let me now turn to our cash position. We ended the quarter with $245 billion in cash plus marketable securities. We also had $102.8 billion in term debt and $12 billion in commercial paper outstanding for a net cash position of $130 billion. As we explained in the past, it is our plan to reach a net cash neutral position over time. As part of this plan, we returned over $13 billion to our investors during the December quarter. We repurchased 38 million Apple shares for $8.2 billion through open market transactions, and we paid $3.6 billion in dividends and equivalents. Consistent with our historical cadence, we plan to provide an update on our overall capital return program when we report our March quarter results. As we move ahead into the March quarter, I'd like to review our outlook, which includes the types of forward-looking information that Nancy referred to at the beginning of the call. We expect revenue to be between $55 billion and $59 billion. This range reflects a negative year-over-year impact of $1.3 billion from foreign exchange, which represents about 210 basis points of last year's revenue and a more uncertain macroeconomic environment than a year ago, especially in emerging markets. We expect gross margin to be between 37% and 38%. On a sequential basis, this range reflects seasonal loss of leverage and a 60 basis point unfavorable impact from foreign exchange, partially offset by commodity cost savings. We expect OpEx to be between $8.5 billion and $8.6 billion. We expect OI&E to be about $300 million, and we expect the tax rate to be about 17%. Also, today, our Board of Directors has declared a cash dividend of $0.73 per share of common stock payable on February 14, 2019, to shareholders of record as of February 11, 2019. With that, I'd like to open the call to questions. Nancy Paxton Apple Inc. - Senior Director of IR and Treasury Thank you, Luca. (Operator Instructions) \"]"
            ]
          },
          "metadata": {
            "tags": []
          },
          "execution_count": 26
        }
      ]
    },
    {
      "cell_type": "code",
      "metadata": {
        "id": "B8wJc9I5A6DF",
        "colab_type": "code",
        "colab": {
          "base_uri": "https://localhost:8080/",
          "height": 241
        },
        "outputId": "3768bef4-538d-4bde-ed22-1d0dd0cb40bc"
      },
      "source": [
        "All_docs_questions[0]"
      ],
      "execution_count": null,
      "outputs": [
        {
          "output_type": "execute_result",
          "data": {
            "text/plain": [
              "[\"Question-1 : Justin Post BofA Merrill Lynch, Research Division - MD I guess I'll ask about units, 14% in the quarter. Just how do you feel about the overall unit growth here given that growth was higher last year in the 20s? And do you think there's some investments you can make in other areas to kind of reaccelerate that going forward? And then, secondly, just if you could remind us or help us understand the Prime accounting change impact on subscription revenues in Q4? \",\n",
              " \"Question-2 : Mark Stephen F. Mahaney RBC Capital Markets, LLC, Research Division - MD and Analyst Do you want to just comment a little bit on the international revenue outlook and any commentary on India and whether you think there's a material impact on your business? Secondly, could you talk about advertising revenue, just qualitatively or quantitatively, how that's doing? And third, if I could, you spent a lot on marketing in the quarter. It's a real step up. Do you want to just talk about the ROI that you think you're getting on that marketing spend? \",\n",
              " 'Question-3 : Douglas Till Anmuth JP Morgan Chase & Co, Research Division - MD I just wanted to follow up on India. Just bigger picture, Brian, did the new policies change your view at all the attractiveness or the potential of operating in India? And how do you think about your investment strategy there in the near term? And then, also, just hoping you could talk about some of the impact in the U.S. and U.K. from free shipping during the fourth quarter holidays? ',\n",
              " 'Question-4 : Mark Alan May Citigroup Inc, Research Division - Director and Senior Analyst When I try to back out the impact of factors like Whole Foods, the advertising accounting change and other factors, what I see is stable and pretty healthy revenue growth in the retail segment but a slowdown in Q4 from what seems to have been, in more recent quarters, meaningful gross margin expansion in the retail segment. Can you discuss what may have driven that and how to think about retail gross margins going forward? And then, somewhat separately, retail margins last year benefited from several factors, including more modest hiring and more modest growth in fulfillment center capacity. Do you see these factors persisting this year? ',\n",
              " \"Question-5 : Heath Patrick Terry Goldman Sachs Group Inc., Research Division - MD A little bit -- to dig a little bit deeper into the CapEx capital lease side of things, you guys have said in the past that, generally, you work to build in line with your expectations for guidance so that you're trying not to overbuild or underbuild when thinking about your fulfillment and data center capacity. We saw that investment reaccelerate in the fourth quarter after getting the lows that you referenced in Q3. Anything to read into that about sort of what your expectations are for growth in those businesses, seeing that re-acceleration after the deceleration that we saw over the course of, at least, the first 3 quarters of last year? \",\n",
              " 'Question-6 : Brian Thomas Nowak Morgan Stanley, Research Division - Research Analyst I have 2. Just the first one is, to go back to the fourth quarter gross margins, I think, if we try to back out AWS, it looks like there was a little more gross margin pressure. Can you just talk to any of the puts and takes we should know about from a gross margin perspective in the fourth quarter? And then, that other line that I think includes the advertising business, can you just help us, any help at all on the growth of the advertising business or the impact of any of the accounting changes in the quarter? ',\n",
              " 'Question-7 : Colin Alan Sebastian Robert W. Baird & Co. Incorporated, Research Division - Senior Research Analyst I guess, 2 for me as well. In the quarter, looking backwards, not considering India and the impact going forward, but the international growth accelerated. So I was curious, any particular regions or product categories to call out, especially given some of the weakness in the U.K.? And then marketplace fees are changing in several categories, including home furnishings, health and beauty. Curious what the strategy is there. I assume to expand selection. But is it also an indication of an increasing focus on those retailer categories? ',\n",
              " \"Question-8 : Lloyd Wharton Walmsley Deutsche Bank AG, Research Division - Research Analyst Two, if I can. First, just on the advertising side. We hear a lot of positive feedback from customers, but also, we hear suggestions, there are supply constraints. So how do you guys see inventory growth versus pricing growth as a driver in that business? And are there things you can do to grow inventory? And then, secondly, there've been some reports, your Amazon shipping effort is kind of expanding beyond some test markets. So wondering if you can give us a sense for what you've seen in those test markets and how you think about expanding your shipping efforts on that productized basis going forward? \",\n",
              " \"Question-9 : Eric James Sheridan UBS Investment Bank, Research Division - MD and Equity Research Internet Analyst Maybe 2, if I can. One, on the media side, has there been any step up in terms of investments around media content to support your ambition with respect to Prime and Video? It's been a couple of years now since we got an update on rate of spend or how it might mpact either historical periods or going forward periods. That would be number one. And then, number two, going back to Lloyd's question on the advertising front, how do you think about the video opportunity? You're moving beyond just branded opportunities or sponsored product search on your own properties, thinking about experimenting with over-the-top video or connected TV opportunities that might look in front of you going forward? \",\n",
              " \"Question-10 : Jason Stuart Helfstein Oppenheimer & Co. Inc., Research Division - MD and Senior Internet Analyst Just two. So just can you comment, did advertising slow down relative to third quarter? One. You're kind of adjusting for 606. And then, secondly, was there any reallocation in segments between online and physical stores? And if not, any commentary why physical stores was down year-over-year? \",\n",
              " 'Question-11 : Daniel Salmon BMO Capital Markets Equity Research - Media and Internet Analyst Brian, can we just return to your comment earlier about the increased use of Amazon Logistics, not a surprise there, but just curious, through the holiday season, any particular learnings that you can offer some color on? And how do you view the balance between using your own proprietary logistics versus third-parties as you go into 2019? And then, just a quick follow-up, obviously, the HQ2 news came out during the quarter. What would you highlight as maybe the most important next steps there? And maybe some color on the feedback from that process would be interested to hear that as well. ',\n",
              " \"Question-12 : Ross Adam Sandler Barclays Bank PLC, Research Division - MD of Americas Equity Research & Senior Internet Analyst So the AWS operating margins historically kind of moved around a bit. Any color on what drove the decline sequentially from 3Q to 4Q? And then, I guess, going back to the investment catch-up team, it sounds like 2019 will be a little bit more aggressive push from you guys. Can you parse out whether you expect the pace of retail margin expansion that we're seeing in North America right now, is that going to continue and most of these investments are going to be in international and some of the stuff going on in India? And any color on the North America operating margin trajectory? \"]"
            ]
          },
          "metadata": {
            "tags": []
          },
          "execution_count": 27
        }
      ]
    },
    {
      "cell_type": "code",
      "metadata": {
        "id": "xkhaqOszA9jy",
        "colab_type": "code",
        "colab": {}
      },
      "source": [
        "def Bert_summ(docs,Percentage_breakup):\n",
        "  result=model(docs,ratio=Percentage_breakup)\n",
        "  return \"\".join(result)\n"
      ],
      "execution_count": null,
      "outputs": []
    },
    {
      "cell_type": "code",
      "metadata": {
        "id": "VE63v6-2DaUo",
        "colab_type": "code",
        "colab": {}
      },
      "source": [
        "All_docs_Bert_summarized=[]\n",
        "\n",
        "for i in range(len(files)):\n",
        "  doc_summary=[]\n",
        "  answer_summary=[]\n",
        "  presentation_summary=[]  \n",
        "  pres,partp=All_docs_presentations[i],All_docs_corporate_participants[i]\n",
        "  presentation_doc,corp_participant=preparing_presentation_data(pres,partp)\n",
        "  j=0\n",
        "  for speaker_data in presentation_doc:\n",
        "    \n",
        "    presentation_summ=Bert_summ(speaker_data,Percent_breakup)\n",
        "    presentation_summ=str(presentation_summ)\n",
        "    if presentation_summary.count(corp_participant[j])==0:\n",
        "      presentation_summ= \"\\n\"+corp_participant[j] + presentation_summ[:]\n",
        "    j+=1\n",
        "    \n",
        "    presentation_summary.append(presentation_summ)\n",
        "\n",
        "  for j in range(len(All_docs_answers[i])):\n",
        "    content_sent=sent_tokenize(All_docs_answers[i][j])    \n",
        "    summary = Bert_summ(All_docs_answers[i][j],Percent_breakup)\n",
        "    summary=str(summary)\n",
        "    if summary.count(content_sent[0])==0:\n",
        "      summary=content_sent[0]+summary\n",
        "    x=\"Answer\"+\"-\"+str(j+1)+\" :\"\n",
        "    summary=summary.replace(\"Answer:\",x)\n",
        "    y=summary\n",
        "    y=y.replace(\"<Sentence:\",\"\")\n",
        "    y=y.replace(\">\",\"\")\n",
        "    y=y.replace(\"(\",\"\")\n",
        "    y=y.replace(\")\",\"\")\n",
        "    y=y.replace(\".,\",\".\")\n",
        "\n",
        "    answer_summary.append(y)\n",
        "\n",
        "  doc_summary.append(files[i])\n",
        "  doc_summary.append(presentation_summary)\n",
        "\n",
        "  for j in range(len(All_docs_answers[i])):\n",
        "    doc_summary.append(All_docs_questions[i][j])\n",
        "    doc_summary.append(answer_summary[j])\n",
        "  \n",
        "  All_docs_Bert_summarized.append(doc_summary)"
      ],
      "execution_count": null,
      "outputs": []
    },
    {
      "cell_type": "code",
      "metadata": {
        "id": "BMbu8iAhDn37",
        "colab_type": "code",
        "colab": {}
      },
      "source": [
        "def preparing_final_data(Bert_data,KL_data,doc_pres,Doc_Answers):\n",
        "  #Bert_data is str of summarised BERT Data\n",
        "  #KL_data is str of summarised KL Data\n",
        "  Corp=\"CORPORATE PARTICIPANTS\"\n",
        "  Pres=\"Presentaion\"\n",
        "  QnA=\"QnA\"\n",
        "  data=\"\"\n",
        "  index_corp=Bert_data.index(Corp)\n",
        "  index_pres= Bert_data.index(Pres)\n",
        "  data+=\"\\n\"+Bert_data[index_corp:index_pres]#Adding names of Corp. Participant\n",
        "  \n",
        "  #Adding Presentation Bert then KL\n",
        "  index_pres= Bert_data.index(Pres)\n",
        "  index_QnA= Bert_data.index(QnA)\n",
        "  Bert_Pres=Bert_data[index_pres:index_QnA]\n",
        "  Bert_Pres=Bert_Pres.replace(\"Presentaion\\n\",\"BERT-Presentation\")\n",
        "  data+=\"PRESENTATION\\n\\n\"+\"Original Presentation-\\n\"+doc_pres+\"\\n\\n\"+Bert_Pres\n",
        "\n",
        "  index_pres= KL_data.index(Pres)\n",
        "  index_QnA= KL_data.index(QnA)\n",
        "  KL_Pres=KL_data[index_pres:index_QnA]\n",
        "  KL_Pres=KL_Pres.replace(\"Presentaion\\n\",\"KL-Presentation\")\n",
        "  data+=\"\\n\"+KL_Pres\n",
        "\n",
        "  #Adding QnA Header\n",
        "  QnA_count=Bert_data.count(\"Question-\")\n",
        "  data+=\"\\n\\nQnA\\n\\n\"\n",
        "  for i in range(QnA_count):\n",
        "    question_id= \"Question-\"+str(i+1)\n",
        "    ans_id= \"Answer-\"+str(i+1)\n",
        "    #Adding question\n",
        "    index_ques= Bert_data.index(question_id)\n",
        "    index_ans= Bert_data.index(ans_id)\n",
        "    data+=\"\\n\\n\"+Bert_data[index_ques:index_ans]\n",
        "\n",
        "    #Adding Bert Answer then KL Answer\n",
        "    if i!= QnA_count-1:\n",
        "      question_id= \"Question-\"+str(i+2)\n",
        "      ans_id= \"Answer-\"+str(i+1)    \n",
        "      index_ques= Bert_data.index(question_id)\n",
        "      index_ans= Bert_data.index(ans_id)\n",
        "      data+=\"\\nOriginal Answer-\\n\"+Doc_Answers[i] +\"\\nBERT:\\n\"+Bert_data[index_ans:index_ques]\n",
        "    else:\n",
        "      \n",
        "      ans_id= \"Answer-\"+str(i+1)    \n",
        "      \n",
        "      index_ans= Bert_data.index(ans_id)\n",
        "      data+=\"\\nOriginal Answer-\\n\"+Doc_Answers[i]+ \"\\n\\nBERT:\\n\"+Bert_data[index_ans:]\n",
        "#Adding KL Answer\n",
        "    if i!= QnA_count-1:\n",
        "      question_id= \"Question-\"+str(i+2)\n",
        "      ans_id= \"Answer-\"+str(i+1)    \n",
        "      index_ques= KL_data.index(question_id)\n",
        "      index_ans= KL_data.index(ans_id)\n",
        "      data+=\"\\nKL:\\n\"+KL_data[index_ans:index_ques]\n",
        "    else:\n",
        "      \n",
        "      ans_id= \"Answer-\"+str(i+1)    \n",
        "      \n",
        "      index_ans= KL_data.index(ans_id)\n",
        "      data+=\"\\nKL:\\n\"+KL_data[index_ans:]\n",
        "  \n",
        "  return data"
      ],
      "execution_count": null,
      "outputs": []
    },
    {
      "cell_type": "code",
      "metadata": {
        "id": "aOXF7FkW0-JE",
        "colab_type": "code",
        "colab": {}
      },
      "source": [
        "def removing_corp(Bert_data,KL_data,Corp_Participants):\n",
        "  if \"BERT-Presentation\" in Bert_data:\n",
        "    Bert_data=Bert_data.replace(\"BERT-Presentation \",\"\")\n",
        "  if \"KL-Presentation\" in KL_data:\n",
        "    KL_data=KL_data.replace(\"KL-Presentation \",\"\")\n",
        "  \n",
        "  for i in Corp_Participants:\n",
        "    if i in Bert_data:\n",
        "      Bert_data=Bert_data.replace(i,\" \")\n",
        "    if i in KL_data:\n",
        "      KL_data=KL_data.replace(i,\" \")\n",
        "  \n",
        "  return Bert_data,KL_data\n",
        "\n",
        "def preparing_final_data_test(Bert_data,KL_data,doc_pres,Doc_Answers,Corp_Participants):\n",
        "  #Bert_data is str of summarised BERT Data\n",
        "  #KL_data is str of summarised KL Data\n",
        "  \n",
        "  Corp=\"CORPORATE PARTICIPANTS\"\n",
        "  Pres=\"Presentaion\"\n",
        "  QnA=\"QnA\"\n",
        "  data=\"\"\n",
        "  index_corp=Bert_data.index(Corp)\n",
        "  index_pres= Bert_data.index(Pres)\n",
        "  #Corp_Participants=Bert_data[index_corp:index_pres][:]\n",
        "  data+=\"\\n\"+Bert_data[index_corp:index_pres]#Adding names of Corp. Participant\n",
        "\n",
        "  Corp_Participants=Corp_Participants.split(\"  \")\n",
        "  Corp_Participants=Corp_Participants[1:]\n",
        "  x=Corp_Participants[-1]\n",
        "  \n",
        "  Corp_Participants[-1]= x[0:(len(Corp_Participants[-1])-1)]\n",
        "\n",
        "  #Adding Presentation Bert then KL\n",
        "  index_pres= Bert_data.index(Pres)\n",
        "  index_QnA= Bert_data.index(QnA)\n",
        "  Bert_Pres=Bert_data[index_pres:index_QnA]\n",
        "  Bert_Pres=Bert_Pres.replace(\"Presentaion\\n\",\"BERT-Presentation\")\n",
        "  data+=\"PRESENTATION\\n\\n\"+\"Original Presentation-\\n\"+\"Sentence Count -\"+str(len(doc_pres.split(\".\"))) +\"\\n\"\n",
        "  data+=doc_pres+\"\\n\\n\"+\"Sentence Count -\"+str(len(Bert_Pres.split(\".\"))) +\"\\n\"+Bert_Pres\n",
        "\n",
        "  index_pres= KL_data.index(Pres)\n",
        "  index_QnA= KL_data.index(QnA)\n",
        "  KL_Pres=KL_data[index_pres:index_QnA]\n",
        "  KL_Pres=KL_Pres.replace(\"Presentaion\\n\",\"KL-Presentation\")  \n",
        "  data+=\"\\n\"+\"Sentence Count -\"+str(len(KL_Pres.split(\".\"))) +\"\\n\"+KL_Pres\n",
        "# Adding 4 sets of KL and Bert and complements\n",
        "  Bert_Pres,KL_Pres=removing_corp(Bert_Pres,KL_Pres,Corp_Participants)\n",
        "  #removing corporate names\n",
        "  Pres_bert_and_kl=lcs(Bert_Pres,KL_Pres,len(Bert_Pres),len(KL_Pres),Corp_Participants)  \n",
        "  Pres_bert_and_klc=finding_complement(Pres_bert_and_kl,Bert_Pres,Corp_Participants)\n",
        "  \n",
        "  Pres_bertc_and_kl=finding_complement(Pres_bert_and_kl,KL_Pres,Corp_Participants)\n",
        "  Pres_bertc_and_kl=finding_complement(Pres_bert_and_klc,Pres_bertc_and_kl,Corp_Participants)\n",
        "  \n",
        "  Pres_bertc_and_klc= finding_complement(Bert_Pres,doc_pres,Corp_Participants)\n",
        "  Pres_bertc_and_klc= finding_complement(Pres_bertc_and_kl,Pres_bertc_and_klc,Corp_Participants)\n",
        "  Pres_bertc_and_klc= finding_complement(Pres_bert_and_kl,Pres_bertc_and_klc,Corp_Participants)\n",
        "  data+=\"\\n\" +\"KL and Bert\\n\\n\"   + Pres_bert_and_kl\n",
        "  data+=\"\\n\\n\"+\"Bert~ and KL\\n\\n\" + Pres_bertc_and_kl\n",
        "  data+=\"\\n\\n\"+\"Bert and KL~\\n\\n\" + Pres_bert_and_klc\n",
        "  data+=\"\\n\\n\"+\"Bert~ and KL~\\n\\n\"+ Pres_bertc_and_klc\n",
        "\n",
        "\n",
        "\n",
        "  #Adding QnA Header\n",
        "  QnA_count=Bert_data.count(\"Question-\")\n",
        "  data+=\"\\n\\nQnA\\n\\n\"\n",
        "  for i in range(QnA_count):\n",
        "    question_id= \"Question-\"+str(i+1)\n",
        "    ans_id= \"Answer-\"+str(i+1)\n",
        "    #Adding question\n",
        "    index_ques= Bert_data.index(question_id)\n",
        "    index_ans= Bert_data.index(ans_id)\n",
        "    data+=\"\\n\\n\"+Bert_data[index_ques:index_ans]\n",
        "\n",
        "    #Adding Bert Answer then KL Answer\n",
        "    if i!= QnA_count-1:\n",
        "      question_id= \"Question-\"+str(i+2)\n",
        "      ans_id= \"Answer-\"+str(i+1)    \n",
        "      index_ques= Bert_data.index(question_id)\n",
        "      index_ans= Bert_data.index(ans_id)\n",
        "      Bert_ans=Bert_data[index_ans:index_ques]\n",
        "      sent_count_doc=len(Doc_Answers[i].split(\".\"))\n",
        "      sent_count_bert=len(Bert_ans.split(\".\"))\n",
        "      data+=\"\\nOriginal Answer-\\n\"+\"Sentence Count-\"+str(sent_count_doc)+\"\\n\"+Doc_Answers[i]\n",
        "      data+= \"\\n\"+\"Sentence Count-\"+str(sent_count_bert)+\"\\nBERT:\\n\"+Bert_ans\n",
        "    \n",
        "    else:     \n",
        "      ans_id= \"Answer-\"+str(i+1)     \n",
        "      index_ans= Bert_data.index(ans_id)\n",
        "      Bert_ans=Bert_data[index_ans:]\n",
        "      sent_count_doc=len(Doc_Answers[i].split(\".\"))\n",
        "      sent_count_bert=len(Bert_ans.split(\".\"))\n",
        "      data+=\"\\nOriginal Answer-\\n\"+\"Sentence Count-\"+str(sent_count_doc)+\"\\n\"+Doc_Answers[i]\n",
        "      data+=\"\\n\"+\"Sentence Count-\"+str(sent_count_bert)+\"\\nBERT:\\n\"+Bert_ans\n",
        "#Adding KL Answer\n",
        "    if i!= QnA_count-1:\n",
        "      question_id= \"Question-\"+str(i+2)\n",
        "      ans_id= \"Answer-\"+str(i+1)    \n",
        "      index_ques= KL_data.index(question_id)\n",
        "      index_ans= KL_data.index(ans_id)\n",
        "      KL_ans=KL_data[index_ans:index_ques]\n",
        "      sent_count_kl=len(KL_ans.split(\".\"))\n",
        "      data+=\"\\nKL:\\n\"+\"Sentence Count\"+str(sent_count_kl)+\"\\n\"+KL_ans\n",
        "    else:      \n",
        "      ans_id= \"Answer-\"+str(i+1)         \n",
        "      index_ans= KL_data.index(ans_id)\n",
        "      KL_ans=KL_data[index_ans:]\n",
        "      sent_count_kl=len(KL_ans.split(\".\"))\n",
        "      data+=\"\\nKL:\\n\"+\"Sentence Count\"+str(sent_count_kl)+\"\\n\"+KL_ans\n",
        "    \n",
        "    Bert_ans,KL_ans=removing_corp(Bert_ans,KL_ans,Corp_Participants)\n",
        "    Ans_bert_and_kl=lcs(Bert_ans,KL_ans,len(Bert_ans),len(KL_ans),Corp_Participants)  \n",
        "    Ans_bert_and_klc =finding_complement(Ans_bert_and_kl,Bert_ans,Corp_Participants)\n",
        "    \n",
        "    Ans_bertc_and_kl =finding_complement(Ans_bert_and_kl,KL_ans,Corp_Participants)\n",
        "    Ans_bertc_and_kl =finding_complement(Ans_bert_and_klc,Ans_bertc_and_kl,Corp_Participants)    \n",
        "    \n",
        "    Ans_bertc_and_klc= finding_complement(Bert_ans, Doc_Answers[i],Corp_Participants)\n",
        "    Ans_bertc_and_klc= finding_complement(Ans_bertc_and_kl,Ans_bertc_and_klc,Corp_Participants)\n",
        "    Ans_bertc_and_klc= finding_complement(Ans_bert_and_kl,Ans_bertc_and_klc,Corp_Participants)\n",
        "    data+=\"\\n\" +\"KL and Bert\\n\\n\"   + Ans_bert_and_kl\n",
        "    data+=\"\\n\\n\"+\"Bert~ and KL\\n\\n\" + Ans_bertc_and_kl\n",
        "    data+=\"\\n\\n\"+\"Bert and KL~\\n\\n\" + Ans_bert_and_klc\n",
        "    data+=\"\\n\\n\"+\"Bert~ and KL~\\n\\n\"+ Ans_bertc_and_klc\n",
        "\n",
        "\n",
        "  \n",
        "  return data"
      ],
      "execution_count": null,
      "outputs": []
    },
    {
      "cell_type": "code",
      "metadata": {
        "id": "YXhcjw9FDtEw",
        "colab_type": "code",
        "colab": {
          "base_uri": "https://localhost:8080/",
          "height": 51
        },
        "outputId": "692d85a8-1a51-453c-b7bf-d8782c4f1db2"
      },
      "source": [
        "#Generating files\n",
        "import docx\n",
        "from docx.enum.text import WD_ALIGN_PARAGRAPH\n",
        "\n",
        "for i in range(len(files)):\n",
        "  print(\"File Number:\",i)\n",
        "  Heading=\"Summary \"+files[i]\n",
        "  Heading=Heading.replace(\".pdf\",\"\")\n",
        "  \n",
        "  y=All_docs_corporate_participants[i]\n",
        "  y=y.replace(\"CORPORATE PARTICIPANTS\",\"\\nCORPORATE PARTICIPANTS\\n\")\n",
        "  y=y.replace(\"  \",\"\\n\")\n",
        "\n",
        "  #Preparing KL Data\n",
        "  output_data_kl=y+\"\\n\\n\"+preparing_data_PDFwrite(All_docs_KL_summarized[i])\n",
        "  \n",
        "  #Preparing Bert Data  \n",
        "  output_data_bert=y+\"\\n\\n\"+preparing_data_PDFwrite(All_docs_Bert_summarized[i])\n",
        "  doc = docx.Document()    \n",
        "  # add a heading of level 0 (largest heading) \n",
        "  doc.add_heading(Heading, 1)\n",
        "  \n",
        "  output_data= preparing_final_data_test(output_data_bert,\n",
        "                                         output_data_kl,\n",
        "                                         All_docs_presentations[i],\n",
        "                                         All_docs_answers[i],\n",
        "                                         All_docs_corporate_participants[i])\n",
        "  \n",
        "  doc_para = doc.add_paragraph(output_data) \n",
        "\n",
        "  #doc_para.alignment = WD_ALIGN_PARAGRAPH.JUSTIFY\n",
        "\n",
        "  doc.save(Heading)\n",
        "\n"
      ],
      "execution_count": null,
      "outputs": [
        {
          "output_type": "stream",
          "text": [
            "File Number: 0\n",
            "File Number: 1\n"
          ],
          "name": "stdout"
        }
      ]
    },
    {
      "cell_type": "markdown",
      "metadata": {
        "id": "gHMj42JiwIKS",
        "colab_type": "text"
      },
      "source": [
        "#Misc. moved to Untitled-19"
      ]
    }
  ]
}