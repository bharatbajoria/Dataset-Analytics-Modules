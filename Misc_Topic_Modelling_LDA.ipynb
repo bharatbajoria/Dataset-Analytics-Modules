{
  "nbformat": 4,
  "nbformat_minor": 0,
  "metadata": {
    "colab": {
      "name": "Misc.:-Topic Modelling - LDA.ipynb",
      "provenance": [],
      "collapsed_sections": [],
      "authorship_tag": "ABX9TyPlW0e6gN8D4U9rdA/Uq/r1",
      "include_colab_link": true
    },
    "kernelspec": {
      "name": "python3",
      "display_name": "Python 3"
    }
  },
  "cells": [
    {
      "cell_type": "markdown",
      "metadata": {
        "id": "view-in-github",
        "colab_type": "text"
      },
      "source": [
        "<a href=\"https://colab.research.google.com/github/bharatbajoria/Summer-Internship/blob/master/Misc_Topic_Modelling_LDA.ipynb\" target=\"_parent\"><img src=\"https://colab.research.google.com/assets/colab-badge.svg\" alt=\"Open In Colab\"/></a>"
      ]
    },
    {
      "cell_type": "code",
      "metadata": {
        "id": "36LDAfKXdy4D",
        "colab_type": "code",
        "colab": {}
      },
      "source": [
        "tk=[[i] for i in tokens]\n",
        "ldatopics = [[word for word, prob in topic] for topicid, topic in lda.show_topics(formatted=False)]\n",
        "lda_coherence = CoherenceModel(topics=ldatopics, texts=tk, dictionary=dictionary, window_size=10).get_coherence()\n",
        "#lda_coherence\n",
        "\n",
        "tk=[[i] for i in tokens]\n",
        "lsitopics = [[word for word, prob in topic] for topicid, topic in lsi.show_topics(formatted=False)]\n",
        "hdptopics = [[word for word, prob in topic] for topicid, topic in hdp.show_topics(formatted=False)]\n",
        "\n",
        "for i in range(n):\n",
        "  lda=LdaMulticore(X,num_topics=n,id2word=dictionary,workers=8)\n",
        "  ldatopics = [[word for word, prob in topic] for topicid, topic in lda.show_topics(formatted=False)]\n",
        "  lda_coherence = CoherenceModel(topics=ldatopics, texts=tk, dictionary=dictionary, window_size=10).get_coherence()\n",
        "\n",
        "coherence_score=[]\n",
        "\n",
        "lda_coherence = CoherenceModel(topics=ldatopics, texts=tk, dictionary=dictionary, window_size=10).get_coherence()\n",
        "lsi_coherence = CoherenceModel(topics=lsitopics[:10], texts=tk, dictionary=dictionary, window_size=10).get_coherence()\n",
        "hdp_coherence = CoherenceModel(topics=hdptopics[:10], texts=tk, dictionary=dictionary, window_size=10).get_coherence()\n",
        "\n",
        "\n",
        "coherence_score.append(lda_coherence)\n",
        "coherence_score.append(lsi_coherence)\n",
        "coherence_score.append(hdp_coherence)\n",
        "\n",
        "def evaluate_bar_graph(coherences, indices):\n",
        "    assert len(coherences) == len(indices)\n",
        "    n = len(coherences)\n",
        "    x = np.arange(n)\n",
        "    plt.bar(x, coherences, width=0.2, tick_label=indices, align='center')\n",
        "    plt.xlabel('Models')\n",
        "    plt.ylabel('Coherence Value')\n",
        "\n",
        "\n",
        "\n",
        "evaluate_bar_graph([lsi_coherence, hdp_coherence, lda_coherence],\n",
        "                   ['LSI', 'HDP', 'LDA'])\n",
        "best_score=max(coherence_score)\n",
        "i=coherence_score.index(best_score)"
      ],
      "execution_count": 0,
      "outputs": []
    },
    {
      "cell_type": "code",
      "metadata": {
        "id": "DWrZTlF-d7Qt",
        "colab_type": "code",
        "colab": {}
      },
      "source": [
        "#Misc.\n",
        "ldatopics_word = [[word for word, prob in topic] for topicid, topic in lda.show_topics(num_words=100,formatted=False)]\n",
        "ldatopics_prob = [[prob for word, prob in topic] for topicid, topic in lda.show_topics(num_words=100,formatted=False)]"
      ],
      "execution_count": 0,
      "outputs": []
    }
  ]
}