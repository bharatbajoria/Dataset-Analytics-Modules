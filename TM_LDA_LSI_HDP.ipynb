{
  "nbformat": 4,
  "nbformat_minor": 0,
  "metadata": {
    "colab": {
      "name": "LDA-LSI-HDP.ipynb",
      "provenance": [],
      "collapsed_sections": [],
      "authorship_tag": "ABX9TyP6OgLwebeiozR0s9V01kxG",
      "include_colab_link": true
    },
    "kernelspec": {
      "name": "python3",
      "display_name": "Python 3"
    }
  },
  "cells": [
    {
      "cell_type": "markdown",
      "metadata": {
        "id": "view-in-github",
        "colab_type": "text"
      },
      "source": [
        "<a href=\"https://colab.research.google.com/github/bharatbajoria/Summer-Internship/blob/master/LDA_LSI_HDP.ipynb\" target=\"_parent\"><img src=\"https://colab.research.google.com/assets/colab-badge.svg\" alt=\"Open In Colab\"/></a>"
      ]
    },
    {
      "cell_type": "code",
      "metadata": {
        "id": "vcc8OpP1OEi8",
        "colab_type": "code",
        "colab": {}
      },
      "source": [
        "def model_build(LdaMulticore,LsiModel,HdpModel,corpus,dictionary,num_topics):  \n",
        "  lda=  LdaMulticore(corpus,num_topics,id2word=dictionary,workers=8)\n",
        "  lsi=  LsiModel(corpus, num_topics, id2word=dictionary)\n",
        "  hdp=  HdpModel(corpus, id2word=dictionary)\n",
        "\n",
        "  return lda, lsi, hdp\n",
        "\n",
        "def word_df(lda,lsi,hdp,num_words_model,np,pd):\n",
        "  ldatopics = [[word for word, prob in topic] for topicid, topic in lda.show_topics(num_words=num_words_model,formatted=False)]\n",
        "  col_data=[]\n",
        "  a='Topic- '\n",
        "  for i in range(len(ldatopics)):\n",
        "    col_data.append(a+str(i+1))\n",
        "\n",
        "  topic_df_lda=pd.DataFrame(data=ldatopics,index=col_data)\n",
        "  topic_df_T_lda=topic_df_lda.T\n",
        "\n",
        "  #LSI Data Frame\n",
        "  lsitopics = [[word for word, prob in topic] for topicid, topic in lsi.show_topics(num_words=num_words_model,formatted=False)]\n",
        "    \n",
        "  topic_df_lsi=pd.DataFrame(data=lsitopics,index=col_data)\n",
        "  topic_df_T_lsi=topic_df_lsi.T\n",
        "\n",
        "  #HDP Data Frame\n",
        "  hdptopics = [[word for word, prob in topic] for topicid, topic in hdp.show_topics(num_words=num_words_model,formatted=False)]\n",
        "  col_data=[]\n",
        "  a='Topic- '\n",
        "  for i in range(len(hdptopics)):\n",
        "    col_data.append(a+str(i+1))\n",
        "\n",
        "  topic_df_hdp=pd.DataFrame(data=hdptopics,index=col_data)\n",
        "  topic_df_T_hdp=topic_df_hdp.T\n",
        "\n",
        "  return topic_df_T_lda,topic_df_T_lsi,topic_df_T_hdp\n",
        "\n"
      ],
      "execution_count": null,
      "outputs": []
    },
    {
      "cell_type": "code",
      "metadata": {
        "id": "ndz9W0IwOGSv",
        "colab_type": "code",
        "colab": {}
      },
      "source": [
        "def diction(tokens,TfidfModel,Dictionary):\n",
        "  dictionary=Dictionary([i for i in tokens])\n",
        "  corpus=[dictionary.doc2bow(sents) for sents in tokens]#getting bag of words.\n",
        "  tfidf=TfidfModel(corpus)\n",
        "  corpus=tfidf[corpus]\n",
        "  return dictionary,corpus"
      ],
      "execution_count": null,
      "outputs": []
    }
  ]
}
