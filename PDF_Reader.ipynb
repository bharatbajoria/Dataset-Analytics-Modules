{
  "nbformat": 4,
  "nbformat_minor": 0,
  "metadata": {
    "colab": {
      "name": "PDF_Reader.ipynb",
      "provenance": [],
      "collapsed_sections": [],
      "authorship_tag": "ABX9TyNI0yr8RbsoUGmaIrpBbCV6",
      "include_colab_link": true
    },
    "kernelspec": {
      "name": "python3",
      "display_name": "Python 3"
    }
  },
  "cells": [
    {
      "cell_type": "markdown",
      "metadata": {
        "id": "view-in-github",
        "colab_type": "text"
      },
      "source": [
        "<a href=\"https://colab.research.google.com/github/bharatbajoria/Summer-Internship/blob/master/PDF_Reader.ipynb\" target=\"_parent\"><img src=\"https://colab.research.google.com/assets/colab-badge.svg\" alt=\"Open In Colab\"/></a>"
      ]
    },
    {
      "cell_type": "code",
      "metadata": {
        "id": "n_FppTUWS1O5",
        "colab_type": "code",
        "colab": {}
      },
      "source": [
        "def pdfreader(Number_Train_files,file_list,PyPDF2):\n",
        "\n",
        "  pages=[]\n",
        "\n",
        "  for i in range(Number_Train_files):\n",
        "    pdfReader = PyPDF2.PdfFileReader(open(file_list[i],'rb'))\n",
        "    n1=pdfReader.numPages\n",
        "    pages.append(n1)\n",
        "  \n",
        "  All_Docs=[] \n",
        "\n",
        "  for j in range(len(file_list)):\n",
        "    pdfReader = PyPDF2.PdfFileReader(open(file_list[j],'rb'))\n",
        "    file_text=[] #takes string of page text\n",
        "    for i in range(pages[j]):\n",
        "      pageObj = pdfReader.getPage(i)\n",
        "      a=pageObj.extractText()\n",
        "      file_text.append(a)\n",
        "    \n",
        "    All_Docs.append(file_text)\n",
        "\n",
        "  return pages,All_Docs\n",
        "  ## All_Docs[i][j] is j-th page of i-th file\n"
      ],
      "execution_count": null,
      "outputs": []
    }
  ]
}