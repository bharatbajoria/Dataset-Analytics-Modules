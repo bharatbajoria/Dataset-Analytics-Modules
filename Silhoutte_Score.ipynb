{
  "nbformat": 4,
  "nbformat_minor": 0,
  "metadata": {
    "colab": {
      "name": "Silhoutte Score.ipynb",
      "provenance": [],
      "collapsed_sections": [],
      "authorship_tag": "ABX9TyNsalbi1XDTAC0aZf0x/v4k",
      "include_colab_link": true
    },
    "kernelspec": {
      "name": "python3",
      "display_name": "Python 3"
    }
  },
  "cells": [
    {
      "cell_type": "markdown",
      "metadata": {
        "id": "view-in-github",
        "colab_type": "text"
      },
      "source": [
        "<a href=\"https://colab.research.google.com/github/bharatbajoria/Summer-Internship/blob/master/Silhoutte_Score.ipynb\" target=\"_parent\"><img src=\"https://colab.research.google.com/assets/colab-badge.svg\" alt=\"Open In Colab\"/></a>"
      ]
    },
    {
      "cell_type": "code",
      "metadata": {
        "id": "ezpXKogQg370",
        "colab_type": "code",
        "colab": {}
      },
      "source": [
        "def tokens(All_docs,RegexpTokenizer,stopwords,sent_tokenize):\n",
        "  tokenizer = RegexpTokenizer(r'\\w+')\n",
        "  en_stop = set(stopwords.words('english'))\n",
        "  en_stop.add('the')#The is not in stopwords\n",
        "  tokens=[]\n",
        "  for j in All_docs:\n",
        "    x=[]\n",
        "    \n",
        "    for i in j:\n",
        "      y=sent_tokenize(i)\n",
        "      for k in y:\n",
        "        token=tokenizer.tokenize(k)\n",
        "        #print(token)\n",
        "        token=[i for i in token if(not(str(i).isdigit() or not(str(i).isalpha())) and len(str(i)) > 2 )]\n",
        "        token=[i.lower() for i in token if( i not in en_stop)]\n",
        "        if len(token)>0:\n",
        "          x.append(token)\n",
        "        \n",
        "      tokens.extend(x)\n",
        "\n",
        "  return tokens"
      ],
      "execution_count": null,
      "outputs": []
    },
    {
      "cell_type": "code",
      "metadata": {
        "id": "drNwgFl8knMp",
        "colab_type": "code",
        "colab": {}
      },
      "source": [
        "def clusters(TfidfVectorizer,tokens,KMeans,silhouette_score):\n",
        "  tk=[]  \n",
        "  for i in tokens:\n",
        "    tk.extend(i)\n",
        "  \n",
        "  tokens=tk[:]\n",
        "  n=0\n",
        "  ss=0\n",
        "  vectorizer = TfidfVectorizer()\n",
        "  Y = vectorizer.fit_transform(tokens)\n",
        "  \n",
        "  for n_cluster in range(2, 11):\n",
        "      kmeans = KMeans(n_clusters=n_cluster).fit(Y)\n",
        "      label = kmeans.labels_\n",
        "      sil_coeff = silhouette_score(Y, label, metric='euclidean')  \n",
        "      \n",
        "      if sil_coeff>ss:\n",
        "        ss=sil_coeff\n",
        "        n=n_cluster\n",
        "  return n"
      ],
      "execution_count": null,
      "outputs": []
    }
  ]
}