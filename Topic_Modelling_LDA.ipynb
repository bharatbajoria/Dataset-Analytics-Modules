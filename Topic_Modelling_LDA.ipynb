{
  "nbformat": 4,
  "nbformat_minor": 0,
  "metadata": {
    "colab": {
      "name": "Topic Modelling - LDA.ipynb",
      "provenance": []
    },
    "kernelspec": {
      "name": "python3",
      "display_name": "Python 3"
    }
  },
  "cells": [
    {
      "cell_type": "markdown",
      "metadata": {
        "id": "pDnh2YCh6hqd",
        "colab_type": "text"
      },
      "source": [
        "## PDF Reading"
      ]
    },
    {
      "cell_type": "code",
      "metadata": {
        "id": "wghEQ7A26vnU",
        "colab_type": "code",
        "outputId": "b71626fe-9d1a-4b2d-ea2b-e17efe8ec241",
        "colab": {
          "base_uri": "https://localhost:8080/",
          "height": 34
        }
      },
      "source": [
        "pip install pyPDF2"
      ],
      "execution_count": 30,
      "outputs": [
        {
          "output_type": "stream",
          "text": [
            "Requirement already satisfied: pyPDF2 in /usr/local/lib/python3.6/dist-packages (1.26.0)\n"
          ],
          "name": "stdout"
        }
      ]
    },
    {
      "cell_type": "code",
      "metadata": {
        "id": "JCCjhlye691F",
        "colab_type": "code",
        "colab": {}
      },
      "source": [
        "import PyPDF2"
      ],
      "execution_count": 0,
      "outputs": []
    },
    {
      "cell_type": "code",
      "metadata": {
        "id": "0T3rV4tE6_7g",
        "colab_type": "code",
        "colab": {}
      },
      "source": [
        "#Taking file input\n",
        "#number of files\n",
        "nf=2\n",
        "\n",
        "file= open('Apr-18.PDF','rb')\n",
        "file1= open('Apr-17.PDF','rb')\n"
      ],
      "execution_count": 0,
      "outputs": []
    },
    {
      "cell_type": "code",
      "metadata": {
        "id": "4IBG24-_ETeX",
        "colab_type": "code",
        "colab": {}
      },
      "source": [
        "#A list of files\n",
        "file_list=[file,file1]"
      ],
      "execution_count": 0,
      "outputs": []
    },
    {
      "cell_type": "code",
      "metadata": {
        "id": "hAOpKwg9Bbej",
        "colab_type": "code",
        "colab": {}
      },
      "source": [
        "# Reading number of pages\n",
        "\n",
        "for i in range(nf):\n",
        "  pdfReader = PyPDF2.PdfFileReader(file_list[i])\n",
        "  n1=pdfReader.numPages\n",
        "  pages.append(n1)"
      ],
      "execution_count": 0,
      "outputs": []
    },
    {
      "cell_type": "code",
      "metadata": {
        "id": "13_u607DEFrA",
        "colab_type": "code",
        "colab": {}
      },
      "source": [
        "# A list containing all files, All_Docs[i] is i-th file \n",
        "# All_Docs[i][j] is j-th page of i-th file\n",
        "All_Docs=[] "
      ],
      "execution_count": 0,
      "outputs": []
    },
    {
      "cell_type": "code",
      "metadata": {
        "id": "C8KxYqUEByoC",
        "colab_type": "code",
        "colab": {}
      },
      "source": [
        "\n",
        "for j in range(n):\n",
        "  pdfReader = PyPDF2.PdfFileReader(file_list[j])\n",
        "  file_text=[] #takes string of page text\n",
        "  for i in range(pages[j]):\n",
        "    pageObj = pdfReader.getPage(i)\n",
        "    a=pageObj.extractText()\n",
        "    file_text.append(a)\n",
        "  \n",
        "  All_Docs.append(file_text)"
      ],
      "execution_count": 0,
      "outputs": []
    },
    {
      "cell_type": "code",
      "metadata": {
        "id": "2pyakOURCtMg",
        "colab_type": "code",
        "outputId": "2afd94c9-25b9-49a1-f416-1c3f6318233d",
        "colab": {
          "base_uri": "https://localhost:8080/",
          "height": 34
        }
      },
      "source": [
        "type(All_Docs[0][1]),type(All_Docs[0])"
      ],
      "execution_count": 38,
      "outputs": [
        {
          "output_type": "execute_result",
          "data": {
            "text/plain": [
              "(str, list)"
            ]
          },
          "metadata": {
            "tags": []
          },
          "execution_count": 38
        }
      ]
    },
    {
      "cell_type": "markdown",
      "metadata": {
        "id": "wOYeMBRtPUxA",
        "colab_type": "text"
      },
      "source": [
        "# Finding Optimal number of Clusters"
      ]
    },
    {
      "cell_type": "code",
      "metadata": {
        "id": "Ssl1uTyWPZZI",
        "colab_type": "code",
        "colab": {}
      },
      "source": [
        "Dup_All_Docs=All_Docs[:]"
      ],
      "execution_count": 0,
      "outputs": []
    },
    {
      "cell_type": "code",
      "metadata": {
        "id": "pbNNl31_Phbg",
        "colab_type": "code",
        "outputId": "13dc9263-db36-4b07-8df4-2f0e78e615eb",
        "colab": {
          "base_uri": "https://localhost:8080/",
          "height": 34
        }
      },
      "source": [
        "type(Dup_All_Docs[0][0])"
      ],
      "execution_count": 40,
      "outputs": [
        {
          "output_type": "execute_result",
          "data": {
            "text/plain": [
              "str"
            ]
          },
          "metadata": {
            "tags": []
          },
          "execution_count": 40
        }
      ]
    },
    {
      "cell_type": "code",
      "metadata": {
        "id": "VWgumpDZPnOr",
        "colab_type": "code",
        "colab": {}
      },
      "source": [
        "from sklearn.cluster import KMeans\n",
        "from sklearn.feature_extraction.text import TfidfVectorizer\n",
        "from sklearn.metrics import silhouette_score\n",
        "\n",
        "import pandas as pd\n",
        "from nltk.tokenize import RegexpTokenizer\n",
        "#from stop_words import get_stop_words\n",
        "from nltk.stem.porter import PorterStemmer\n",
        "from gensim import corpora, models\n",
        "from nltk.corpus import stopwords\n",
        "import gensim\n",
        "\n",
        "from sklearn.cluster import KMeans\n",
        "from sklearn import metrics\n",
        "from scipy.spatial.distance import cdist\n",
        "import numpy as np"
      ],
      "execution_count": 0,
      "outputs": []
    },
    {
      "cell_type": "code",
      "metadata": {
        "id": "NjiL4AWGJY2j",
        "colab_type": "code",
        "outputId": "24e5a19d-c40e-4c9e-d673-9b88d208a175",
        "colab": {
          "base_uri": "https://localhost:8080/",
          "height": 68
        }
      },
      "source": [
        "nltk.download('stopwords')"
      ],
      "execution_count": 42,
      "outputs": [
        {
          "output_type": "stream",
          "text": [
            "[nltk_data] Downloading package stopwords to /root/nltk_data...\n",
            "[nltk_data]   Unzipping corpora/stopwords.zip.\n"
          ],
          "name": "stdout"
        },
        {
          "output_type": "execute_result",
          "data": {
            "text/plain": [
              "True"
            ]
          },
          "metadata": {
            "tags": []
          },
          "execution_count": 42
        }
      ]
    },
    {
      "cell_type": "code",
      "metadata": {
        "id": "2qSoEriVP0uH",
        "colab_type": "code",
        "colab": {}
      },
      "source": [
        "tokenizer = RegexpTokenizer(r'\\w+')\n",
        "en_stop = set(stopwords.words('english'))\n",
        "en_stop.add('the')#The is not in stopwords"
      ],
      "execution_count": 0,
      "outputs": []
    },
    {
      "cell_type": "code",
      "metadata": {
        "id": "VAJkRulAP9Kd",
        "colab_type": "code",
        "colab": {}
      },
      "source": [
        "tokens=[]\n",
        "\n",
        "\n",
        "for j in Dup_All_Docs:\n",
        "  x=[]\n",
        "  for i in j:\n",
        "    token=tokenizer.tokenize(i)\n",
        "    token=[i for i in token if(not(str(i).isdigit() or not(str(i).isalpha())) and len(str(i)) > 2 )]\n",
        "    token=[i for i in token if( i not in en_stop)]\n",
        "    x.extend(token)\n",
        "  \n",
        "  tokens.extend(x)"
      ],
      "execution_count": 0,
      "outputs": []
    },
    {
      "cell_type": "code",
      "metadata": {
        "id": "NQUgWxG3UPf_",
        "colab_type": "code",
        "outputId": "b7eeef33-e8ee-4b72-a7fc-a84588798208",
        "colab": {
          "base_uri": "https://localhost:8080/",
          "height": 204
        }
      },
      "source": [
        "len(tokens),tokens[:10]"
      ],
      "execution_count": 46,
      "outputs": [
        {
          "output_type": "execute_result",
          "data": {
            "text/plain": [
              "(7941,\n",
              " ['PRESS',\n",
              "  'RELEASE',\n",
              "  'DEPARTMENT',\n",
              "  'COMMUNICATION',\n",
              "  'Central',\n",
              "  'Office',\n",
              "  'Marg',\n",
              "  'Mumbai',\n",
              "  'Phone',\n",
              "  'Fax'])"
            ]
          },
          "metadata": {
            "tags": []
          },
          "execution_count": 46
        }
      ]
    },
    {
      "cell_type": "code",
      "metadata": {
        "id": "Tk5Z16QtWZPC",
        "colab_type": "code",
        "colab": {}
      },
      "source": [
        "#df9['Cleaned_PaperText'] = pd.Series(tokens)\n",
        "        \n",
        "vectorizer = TfidfVectorizer()\n",
        "\n",
        "Y = vectorizer.fit_transform(tokens)"
      ],
      "execution_count": 0,
      "outputs": []
    },
    {
      "cell_type": "code",
      "metadata": {
        "id": "lpkZXOmBXF82",
        "colab_type": "code",
        "colab": {}
      },
      "source": [
        "#Not Working\n",
        "\n",
        "distortions = []\n",
        "K = range(1,10)\n",
        "for k in K:\n",
        "    kmeanModel = KMeans(n_clusters=k).fit(Y)\n",
        "    kmeanModel.fit(Y)\n",
        "   # distortions.append(sum(np.min(cdist(Y, kmeanModel.cluster_centers_, 'euclidean'), axis=1)) / X.shape[0])"
      ],
      "execution_count": 0,
      "outputs": []
    },
    {
      "cell_type": "code",
      "metadata": {
        "id": "HYFF1Ml11rb6",
        "colab_type": "code",
        "outputId": "a853f23d-3910-4dcf-845e-ba8bc5f18552",
        "colab": {
          "base_uri": "https://localhost:8080/",
          "height": 170
        }
      },
      "source": [
        "#2nd Method using Silhouette Score\n",
        "\n",
        "n=0\n",
        "ss=0\n",
        "for n_cluster in range(2, 11):\n",
        "    kmeans = KMeans(n_clusters=n_cluster).fit(Y)\n",
        "    label = kmeans.labels_\n",
        "    sil_coeff = silhouette_score(X, label, metric='euclidean')  \n",
        "    print(\"For n_clusters={}, The Silhouette Coefficient is {}\".format(n_cluster, sil_coeff))\n",
        "    if sil_coeff>ss:\n",
        "      ss=sil_coeff\n",
        "      n=n_cluster"
      ],
      "execution_count": 77,
      "outputs": [
        {
          "output_type": "stream",
          "text": [
            "For n_clusters=2, The Silhouette Coefficient is 0.013113115977550036\n",
            "For n_clusters=3, The Silhouette Coefficient is 0.014499944484682307\n",
            "For n_clusters=4, The Silhouette Coefficient is 0.030536189095659732\n",
            "For n_clusters=5, The Silhouette Coefficient is 0.046154072366921935\n",
            "For n_clusters=6, The Silhouette Coefficient is 0.05376507395013614\n",
            "For n_clusters=7, The Silhouette Coefficient is 0.054511231206287536\n",
            "For n_clusters=8, The Silhouette Coefficient is 0.059205379653494095\n",
            "For n_clusters=9, The Silhouette Coefficient is 0.0714241604401495\n",
            "For n_clusters=10, The Silhouette Coefficient is 0.07818054359294499\n"
          ],
          "name": "stdout"
        }
      ]
    },
    {
      "cell_type": "code",
      "metadata": {
        "id": "0b_JW_Ac1sT9",
        "colab_type": "code",
        "outputId": "49976a3c-71eb-4585-e07b-dfad27a645ce",
        "colab": {
          "base_uri": "https://localhost:8080/",
          "height": 34
        }
      },
      "source": [
        "print(\"Optimal numbers of clusters are : {}\".format(n))"
      ],
      "execution_count": 78,
      "outputs": [
        {
          "output_type": "stream",
          "text": [
            "Optimal numbers of clusters are : 10\n"
          ],
          "name": "stdout"
        }
      ]
    },
    {
      "cell_type": "markdown",
      "metadata": {
        "id": "rMz_Ewj2Ge1P",
        "colab_type": "text"
      },
      "source": [
        "# LDA"
      ]
    },
    {
      "cell_type": "code",
      "metadata": {
        "id": "sPa3yKp5GgiO",
        "colab_type": "code",
        "colab": {}
      },
      "source": [
        "\n",
        "import nltk\n",
        "from gensim.utils import simple_preprocess\n",
        "from gensim.parsing.preprocessing import STOPWORDS\n",
        "from nltk.stem import WordNetLemmatizer\n",
        "from gensim.corpora import Dictionary\n",
        "from gensim.models import TfidfModel\n",
        "from gensim.models.wrappers import LdaMallet"
      ],
      "execution_count": 0,
      "outputs": []
    },
    {
      "cell_type": "code",
      "metadata": {
        "id": "7qPpPPipGuZq",
        "colab_type": "code",
        "outputId": "2fd9ff2f-d2a4-4760-dd8d-1a6d92cadb01",
        "colab": {
          "base_uri": "https://localhost:8080/",
          "height": 68
        }
      },
      "source": [
        "nltk.download('wordnet')\n"
      ],
      "execution_count": 51,
      "outputs": [
        {
          "output_type": "stream",
          "text": [
            "[nltk_data] Downloading package wordnet to /root/nltk_data...\n",
            "[nltk_data]   Unzipping corpora/wordnet.zip.\n"
          ],
          "name": "stdout"
        },
        {
          "output_type": "execute_result",
          "data": {
            "text/plain": [
              "True"
            ]
          },
          "metadata": {
            "tags": []
          },
          "execution_count": 51
        }
      ]
    },
    {
      "cell_type": "code",
      "metadata": {
        "id": "gjfEIOkQGM5n",
        "colab_type": "code",
        "colab": {}
      },
      "source": [
        "\n",
        "dictionary=Dictionary([[i] for i in tokens])"
      ],
      "execution_count": 0,
      "outputs": []
    },
    {
      "cell_type": "code",
      "metadata": {
        "id": "ZPWPK9OTGfkc",
        "colab_type": "code",
        "outputId": "f0c9b680-da4e-4e14-a7b0-7d1f45ee836f",
        "colab": {
          "base_uri": "https://localhost:8080/",
          "height": 34
        }
      },
      "source": [
        "print(dictionary)"
      ],
      "execution_count": 53,
      "outputs": [
        {
          "output_type": "stream",
          "text": [
            "Dictionary(2246 unique tokens: ['PRESS', 'RELEASE', 'DEPARTMENT', 'COMMUNICATION', 'Central']...)\n"
          ],
          "name": "stdout"
        }
      ]
    },
    {
      "cell_type": "code",
      "metadata": {
        "id": "-Y7pRecKIYD8",
        "colab_type": "code",
        "outputId": "ad76f077-bb32-469c-9fe3-26af97473462",
        "colab": {
          "base_uri": "https://localhost:8080/",
          "height": 34
        }
      },
      "source": [
        "X=[dictionary.doc2bow([sents]) for sents in tokens]#getting bag of words.\n",
        "tfidf=TfidfModel(X)\n",
        "\n",
        "print(type(tfidf))\n",
        "X=tfidf[X]\n"
      ],
      "execution_count": 80,
      "outputs": [
        {
          "output_type": "stream",
          "text": [
            "<class 'gensim.models.tfidfmodel.TfidfModel'>\n"
          ],
          "name": "stdout"
        }
      ]
    },
    {
      "cell_type": "code",
      "metadata": {
        "id": "GIvl1ys8KN1c",
        "colab_type": "code",
        "colab": {}
      },
      "source": [
        "from gensim.models import LdaMulticore,CoherenceModel\n",
        "\n",
        "lda=LdaMulticore(X,num_topics=n,id2word=dictionary,workers=8)\n",
        "#lda.print_topics()"
      ],
      "execution_count": 0,
      "outputs": []
    },
    {
      "cell_type": "code",
      "metadata": {
        "id": "7TxsZ7hLLpIo",
        "colab_type": "code",
        "colab": {}
      },
      "source": [
        "\n",
        "ldatopics = [[(word,prob) for word, prob in topic] for topicid, topic in lda.show_topics(formatted=False)]\n",
        "lda.show_topics(formatted=True)"
      ],
      "execution_count": 0,
      "outputs": []
    },
    {
      "cell_type": "code",
      "metadata": {
        "id": "cc2w7Qhl-8VN",
        "colab_type": "code",
        "colab": {}
      },
      "source": [
        "index=[\"Most Common Word\"]\n",
        "col=[]\n",
        "a='Topic-'\n",
        "c=''\n",
        "for i in range(n):\n",
        "  c+=a+str(i+1)\n",
        "  col.append(c)\n",
        "  c=''\n",
        "\n",
        "topic_df=pd.DataFrame(data=ldatopics,columns=col)"
      ],
      "execution_count": 0,
      "outputs": []
    },
    {
      "cell_type": "code",
      "metadata": {
        "id": "6F3UWKfN_EJt",
        "colab_type": "code",
        "colab": {
          "base_uri": "https://localhost:8080/",
          "height": 359
        },
        "outputId": "9610a116-2226-47d1-f21d-704af3a1e990"
      },
      "source": [
        "topic_df"
      ],
      "execution_count": 147,
      "outputs": [
        {
          "output_type": "execute_result",
          "data": {
            "text/html": [
              "<div>\n",
              "<style scoped>\n",
              "    .dataframe tbody tr th:only-of-type {\n",
              "        vertical-align: middle;\n",
              "    }\n",
              "\n",
              "    .dataframe tbody tr th {\n",
              "        vertical-align: top;\n",
              "    }\n",
              "\n",
              "    .dataframe thead th {\n",
              "        text-align: right;\n",
              "    }\n",
              "</style>\n",
              "<table border=\"1\" class=\"dataframe\">\n",
              "  <thead>\n",
              "    <tr style=\"text-align: right;\">\n",
              "      <th></th>\n",
              "      <th>Topic-1</th>\n",
              "      <th>Topic-2</th>\n",
              "      <th>Topic-3</th>\n",
              "      <th>Topic-4</th>\n",
              "      <th>Topic-5</th>\n",
              "      <th>Topic-6</th>\n",
              "      <th>Topic-7</th>\n",
              "      <th>Topic-8</th>\n",
              "      <th>Topic-9</th>\n",
              "      <th>Topic-10</th>\n",
              "    </tr>\n",
              "  </thead>\n",
              "  <tbody>\n",
              "    <tr>\n",
              "      <th>0</th>\n",
              "      <td>February</td>\n",
              "      <td>expected</td>\n",
              "      <td>impact</td>\n",
              "      <td>second</td>\n",
              "      <td>remained</td>\n",
              "      <td>March</td>\n",
              "      <td>deficit</td>\n",
              "      <td>Bank</td>\n",
              "      <td>past</td>\n",
              "      <td>indicators</td>\n",
              "    </tr>\n",
              "    <tr>\n",
              "      <th>1</th>\n",
              "      <td>growth</td>\n",
              "      <td>March</td>\n",
              "      <td>inflation</td>\n",
              "      <td>headline</td>\n",
              "      <td>target</td>\n",
              "      <td>although</td>\n",
              "      <td>cent</td>\n",
              "      <td>Bank</td>\n",
              "      <td>goods</td>\n",
              "      <td>months</td>\n",
              "    </tr>\n",
              "    <tr>\n",
              "      <th>2</th>\n",
              "      <td>per</td>\n",
              "      <td>cent</td>\n",
              "      <td>food</td>\n",
              "      <td>may</td>\n",
              "      <td>January</td>\n",
              "      <td>level</td>\n",
              "      <td>high</td>\n",
              "      <td>imports</td>\n",
              "      <td>trade</td>\n",
              "      <td>India</td>\n",
              "    </tr>\n",
              "    <tr>\n",
              "      <th>3</th>\n",
              "      <td>services</td>\n",
              "      <td>global</td>\n",
              "      <td>The</td>\n",
              "      <td>outlook</td>\n",
              "      <td>output</td>\n",
              "      <td>domestic</td>\n",
              "      <td>inflation</td>\n",
              "      <td>year</td>\n",
              "      <td>economic</td>\n",
              "      <td>data</td>\n",
              "    </tr>\n",
              "    <tr>\n",
              "      <th>4</th>\n",
              "      <td>Reserve</td>\n",
              "      <td>year</td>\n",
              "      <td>risks</td>\n",
              "      <td>activity</td>\n",
              "      <td>The</td>\n",
              "      <td>months</td>\n",
              "      <td>macroeconomic</td>\n",
              "      <td>monetary</td>\n",
              "      <td>February</td>\n",
              "      <td>pick</td>\n",
              "    </tr>\n",
              "    <tr>\n",
              "      <th>5</th>\n",
              "      <td>prices</td>\n",
              "      <td>per</td>\n",
              "      <td>growth</td>\n",
              "      <td>rate</td>\n",
              "      <td>stance</td>\n",
              "      <td>risks</td>\n",
              "      <td>Policy</td>\n",
              "      <td>upside</td>\n",
              "      <td>consumption</td>\n",
              "      <td>low</td>\n",
              "    </tr>\n",
              "    <tr>\n",
              "      <th>6</th>\n",
              "      <td>The</td>\n",
              "      <td>MPC</td>\n",
              "      <td>rates</td>\n",
              "      <td>effects</td>\n",
              "      <td>projected</td>\n",
              "      <td>Bank</td>\n",
              "      <td>term</td>\n",
              "      <td>well</td>\n",
              "      <td>given</td>\n",
              "      <td>repo</td>\n",
              "    </tr>\n",
              "    <tr>\n",
              "      <th>7</th>\n",
              "      <td>inflation</td>\n",
              "      <td>cent</td>\n",
              "      <td>food</td>\n",
              "      <td>rate</td>\n",
              "      <td>demand</td>\n",
              "      <td>factors</td>\n",
              "      <td>impact</td>\n",
              "      <td>prices</td>\n",
              "      <td>policy</td>\n",
              "      <td>one</td>\n",
              "    </tr>\n",
              "    <tr>\n",
              "      <th>8</th>\n",
              "      <td>policy</td>\n",
              "      <td>CPI</td>\n",
              "      <td>investment</td>\n",
              "      <td>resolution</td>\n",
              "      <td>effects</td>\n",
              "      <td>January</td>\n",
              "      <td>growth</td>\n",
              "      <td>crude</td>\n",
              "      <td>markets</td>\n",
              "      <td>since</td>\n",
              "    </tr>\n",
              "    <tr>\n",
              "      <th>9</th>\n",
              "      <td>also</td>\n",
              "      <td>production</td>\n",
              "      <td>Committee</td>\n",
              "      <td>meeting</td>\n",
              "      <td>likely</td>\n",
              "      <td>price</td>\n",
              "      <td>rising</td>\n",
              "      <td>month</td>\n",
              "      <td>ahead</td>\n",
              "      <td>manufacturing</td>\n",
              "    </tr>\n",
              "  </tbody>\n",
              "</table>\n",
              "</div>"
            ],
            "text/plain": [
              "     Topic-1     Topic-2     Topic-3  ...   Topic-8      Topic-9       Topic-10\n",
              "0   February    expected      impact  ...      Bank         past     indicators\n",
              "1     growth       March   inflation  ...      Bank        goods         months\n",
              "2        per        cent        food  ...   imports        trade          India\n",
              "3   services      global         The  ...      year     economic           data\n",
              "4    Reserve        year       risks  ...  monetary     February           pick\n",
              "5     prices         per      growth  ...    upside  consumption            low\n",
              "6        The         MPC       rates  ...      well        given           repo\n",
              "7  inflation        cent        food  ...    prices       policy            one\n",
              "8     policy         CPI  investment  ...     crude      markets          since\n",
              "9       also  production   Committee  ...     month        ahead  manufacturing\n",
              "\n",
              "[10 rows x 10 columns]"
            ]
          },
          "metadata": {
            "tags": []
          },
          "execution_count": 147
        }
      ]
    },
    {
      "cell_type": "markdown",
      "metadata": {
        "id": "1mYZ4hnJtDUm",
        "colab_type": "text"
      },
      "source": [
        "# Evaluating Model\n"
      ]
    },
    {
      "cell_type": "code",
      "metadata": {
        "id": "h4-cAoWxRgkE",
        "colab_type": "code",
        "colab": {
          "base_uri": "https://localhost:8080/",
          "height": 34
        },
        "outputId": "338afb16-9acc-47f1-c59b-669ab0248108"
      },
      "source": [
        "tk=[[i] for i in tokens]\n",
        "ldatopics = [[word for word, prob in topic] for topicid, topic in lda.show_topics(formatted=False)]\n",
        "lda_coherence = CoherenceModel(topics=ldatopics, texts=tk, dictionary=dictionary, window_size=10).get_coherence()\n",
        "lda_coherence"
      ],
      "execution_count": 99,
      "outputs": [
        {
          "output_type": "execute_result",
          "data": {
            "text/plain": [
              "0.7116011974877247"
            ]
          },
          "metadata": {
            "tags": []
          },
          "execution_count": 99
        }
      ]
    },
    {
      "cell_type": "code",
      "metadata": {
        "id": "p7oeEntDwtTP",
        "colab_type": "code",
        "colab": {}
      },
      "source": [
        "coherence_score=[]\n",
        "tk=[[i] for i in tokens]\n",
        "for i in range(n):\n",
        "  lda=LdaMulticore(X,num_topics=n,id2word=dictionary,workers=8)\n",
        "  ldatopics = [[word for word, prob in topic] for topicid, topic in lda.show_topics(formatted=False)]\n",
        "  lda_coherence = CoherenceModel(topics=ldatopics, texts=tk, dictionary=dictionary, window_size=10).get_coherence()\n",
        "  coherence_score.append(lda_coherence)\n",
        "\n"
      ],
      "execution_count": 0,
      "outputs": []
    },
    {
      "cell_type": "code",
      "metadata": {
        "id": "nOUHp-AJxEnU",
        "colab_type": "code",
        "colab": {
          "base_uri": "https://localhost:8080/",
          "height": 187
        },
        "outputId": "f1cc1cec-ffa5-497f-93e6-8b8bbba78a33"
      },
      "source": [
        "print(\"Max Score is: {} for {} clusters\".format(max(coherence_score),coherence_score[coherence_score.index(max(coherence_score))]))"
      ],
      "execution_count": 101,
      "outputs": [
        {
          "output_type": "execute_result",
          "data": {
            "text/plain": [
              "[0.7171352722194907,\n",
              " 0.71508921022708,\n",
              " 0.7172028234261173,\n",
              " 0.7170485826526457,\n",
              " 0.7150678370468146,\n",
              " 0.7130522665121717,\n",
              " 0.7143456995668166,\n",
              " 0.7137254293558761,\n",
              " 0.7154616691118152,\n",
              " 0.7144941822309956]"
            ]
          },
          "metadata": {
            "tags": []
          },
          "execution_count": 101
        }
      ]
    },
    {
      "cell_type": "code",
      "metadata": {
        "id": "0nZ2iXJ2xMvR",
        "colab_type": "code",
        "colab": {
          "base_uri": "https://localhost:8080/",
          "height": 34
        },
        "outputId": "f2d03221-4da1-425e-c994-8abd387753a1"
      },
      "source": [
        "print(\"Max Score is: {} for {} clusters\".format(max(coherence_score),coherence_score.index(max(coherence_score))))"
      ],
      "execution_count": 103,
      "outputs": [
        {
          "output_type": "stream",
          "text": [
            "Max Score is: 0.7172028234261173 for 2 clusters\n"
          ],
          "name": "stdout"
        }
      ]
    },
    {
      "cell_type": "markdown",
      "metadata": {
        "id": "Qf6WCPjt85I1",
        "colab_type": "text"
      },
      "source": [
        "# Misc."
      ]
    },
    {
      "cell_type": "code",
      "metadata": {
        "id": "ml6hY3is86p0",
        "colab_type": "code",
        "colab": {}
      },
      "source": [
        "Dup_All_Docs=All_Docs[0]+All_Docs[1]\n",
        "df=[]"
      ],
      "execution_count": 0,
      "outputs": []
    },
    {
      "cell_type": "code",
      "metadata": {
        "id": "1aAKyW1w89RK",
        "colab_type": "code",
        "colab": {}
      },
      "source": [
        "for j in All_Docs:\n",
        "  for i in j:\n",
        "    df.append(i)\n"
      ],
      "execution_count": 0,
      "outputs": []
    },
    {
      "cell_type": "code",
      "metadata": {
        "id": "9CeggqEz9LPe",
        "colab_type": "code",
        "colab": {
          "base_uri": "https://localhost:8080/",
          "height": 34
        },
        "outputId": "968559b6-2d53-4672-fb37-04e905404062"
      },
      "source": [
        "len(All_Docs[0])"
      ],
      "execution_count": 122,
      "outputs": [
        {
          "output_type": "execute_result",
          "data": {
            "text/plain": [
              "14"
            ]
          },
          "metadata": {
            "tags": []
          },
          "execution_count": 122
        }
      ]
    },
    {
      "cell_type": "code",
      "metadata": {
        "id": "fbvLewKu9Osj",
        "colab_type": "code",
        "colab": {
          "base_uri": "https://localhost:8080/",
          "height": 479
        },
        "outputId": "74915bf7-1b31-480a-e404-72ef02cacdfe"
      },
      "source": [
        "Dup_All_Docs"
      ],
      "execution_count": 125,
      "outputs": [
        {
          "output_type": "execute_result",
          "data": {
            "text/plain": [
              "['1   \\n \\n  PRESS\\n RELEASE\\n \\n \\n, \\n \\n, \\n\\n.\\n.\\n.\\n, \\n\\n-400001 _____________\\n________________________________________________________________________________________________________\\n DEPARTMENT OF COMMUNICATION\\n, Central Office, \\nS.B.S.Marg, Mumbai\\n-400001 /Phone: \\n022-22610835 \\n/Fax: \\n91 22 22660358\\n  \\n \\n  RESERVE BANK OF INDIA\\n  0\\n : www.rbi.org.in/hindi\\n Website : www.rbi.org.in\\n -\\n email\\n: helpdoc@rbi.org.in\\n April \\n19, 2018\\n  Minutes of the Monetary Policy Committee Meeting\\n April 4\\n-5, 2018\\n [Under Section 45ZL of the Reserve Bank of India Act, 1934]\\n The \\ntenth\\n meeting of the Monetary Policy Committee (MPC), constituted under section \\n45ZB of the amended Reserve Bank of India Act, 1934, was held on \\nApril 4 and 5\\n, 2018 at the \\nReserve Bank of India, Mumbai.\\n 2. The meeting was attended by all the members \\n- Dr. Chetan G\\nhate, Professor, Indian \\nStatistical Institute; Dr. Pami Dua, Director, Delhi School of Economics; Dr. Ravindra H. \\nDholakia, Professor, Indian Institute of Management, Ahmedabad; Dr. Michael Debabrata Patra, \\nExecutive Director (the officer of the Reserve Ba\\nnk nominated by the Central Board under \\nSection 45ZB(2)(c) of the Reserve Bank of India Act, 1934); Dr. Viral V. Acharya, Deputy \\nGovernor in charge of monetary policy \\n- and was chaired by Dr. Urjit R. Patel, Governor.\\n 3. According to Section 45ZL of the amend\\ned Reserve Bank of India Act, 1934, the Reserve \\nBank shall publish, on the fourteenth day after every meeting of the Monetary Policy Committee, \\nthe minutes of the proceedings of the meeting which shall include the following, namely:\\nŒ (a)\\n the resolution adopted\\n at the meeting of the Monetary Policy Committee; \\n (b)\\n the vote of each member of the Monetary Policy Committee, ascribed to such member, \\non the resolution adopted in the said meeting; and \\n (c)\\n the statement of each member of the Monetary Policy Committee under su\\nb-section (11) \\nof section 45ZI on the resolution adopted in the said meeting.\\n 4.  The MPC reviewed the surveys conducted by the Reserve Bank to gauge consumer \\nconfidence, households™ inflation expectations, corporate sector performance, credit conditions, \\nthe\\n outlook for the industrial, services and infrastructure sectors, and the projections of \\nprofessional forecasters. The MPC also reviewed in detail staff™s macroeconomic projections, \\nand alternative scenarios around various risks to the outlook. Drawing on \\nthe above and after \\nextensive discussions on the stance of monetary policy, the MPC adopted the resolution that is \\nset out below.\\n    ',\n",
              " '2  Resolution\\n 5. On \\nthe\\n basis of an assessment of the current and evolving macroeconomic situation\\n1 at its \\nmeeting today, the Monetary Policy Committee (MPC) decided to:\\n  keep the policy repo rate under the liquidity adjustment facility (LAF) unchanged at \\n6.0 per cent.\\n Consequently, the reverse repo rate under the LAF remains at 5.75 per cent, and the ma\\nrginal \\nstanding facility (MSF) rate and the Bank Rate at 6.25 per cent. \\n The decision of the MPC is consistent with the neutral stance of monetary policy in consonance \\nwith the objective of achieving the medium\\n-term target for consumer price index (CPI) in\\nflation \\nof 4 per cent within a band of +/\\n- 2 per cent, while supporting growth. The main considerations \\nunderlying the decision are set out in the statement below.\\n Assessment\\n 6. Since the MPC™s last meeting in February 2018, global economic activity has gathered \\nfurther momentum, both in advanced and emerging market economies, though financial market \\nvolatility and potential trade wars pose a threat to the outlook. Among advanced \\neconomies \\n(AEs), the US economy, which ended 2017 on a slightly weak note, appeared to have bounced \\nback in Q1:2018; the unemployment rate remains low with hiring around multi\\n-month highs. In \\nthe Euro Area, economic activity remained buoyant, although cons\\numer spending and factory \\nactivity slowed down due to the strengthening of the euro, but a consistently falling \\nunemployment rate and elevated consumer confidence continued to underpin the strength of the \\neconomy. The Japanese economy registered eight stra\\night quarters of growth till Q4:2017; \\navailable data for 2018 point to a slower start to the year with weak machinery orders and an \\neasing manufacturing Purchasing Manager™s Index (PMI) in February\\n-March.\\n   7. Economic activity remained robust in emerging mar\\nket economies (EMEs) in Q1:2018. \\nThe Chinese economy started the year on a strong note; retail sales picked up pace indicating \\nrobust consumption, while industrial production also registered a strong increase in Q1:2018 on \\nimproved mining and manufacturing\\n activity. In Brazil, economic activity is gaining momentum, \\ndriven by higher commodity prices. The Russian economy continued to recover in Q1; industrial \\nproduction expanded in January\\n-February, after two months of contraction, while exports grew at \\na rob\\nust pace.\\n  In South Africa, leading indicators,\\n viz.\\n, the manufacturing PMI and business \\nconfidence, improved in Q1.\\n 8. World trade volume growth is expected to have been robust in Q1, as gauged from the \\ndata on container trade throughput, air freight and exp\\nort orders. Crude oil prices have become \\nvolatile in the recent period.\\n After softening in February from multi\\n-year highs on increased \\nproduction in the US, crude prices hardened in the second half of March, driven by rebalancing \\nof supply by OPEC and Russ\\nia, and drawdown of US inventories. Metal prices have come under \\nselling pressure, with copper touching a three\\n-month low in March on uncertainty stemming \\nfrom global trade protectionism and US monetary policy.\\n Gold prices, which touched a two\\n-                                                            1 From this resolution onwards, growth in g\\nross \\ndomestic \\nproduct (GDP) \\nwill be used as the \\nheadline measure of \\neconomic activity.\\n ',\n",
              " '3  month low in\\n March, have recently witnessed some uptick on fears of intensification of a trade \\nwar.\\n  Inflation remains below target in many key AEs and EMEs.\\n 9. Financial markets turned volatile in February\\n-March, triggered by uncertainty regarding \\nthe pace of normalisat\\nion of US monetary policy, and concerns surrounding global trade. Equity \\nmarkets globally have shed most of the gains of the previous quarter in a heavy sell off in \\nFebruary\\n-March, caused by optimistic US job reports and the US imposition of new tariffs on\\n Chinese goods. Yields in the US traded sideways on weaker than expected inflation pressures \\nand the anticipated rate hike by the Fed. Yields in other major AEs have fallen, while among \\nEMEs, they have remained divergent on country\\n-specific factors. \\n In cu\\nrrency markets, the US \\ndollar, which recovered somewhat in early March on an optimistic outlook of the economy, shed \\nmost of its gains in the latter part of the month on a less hawkish stance of the Fed and on \\nanxieties surrounding a possible trade war.\\n  Among other major currencies, the euro continued to \\nappreciate on an improving growth outlook for the region. Most EME currencies have retreated \\nin the wake of the recent market volatility and the improving US economic outlook, though \\ninvestors continued to\\n discriminate on country\\n-specific factors.\\n 10. Turning to the domestic economy, the Central Statistics Office (CSO) released its second \\nadvance estimates for 2017\\n-18 on February 28, revising India™s real gross domestic product \\n(GDP) growth marginally upward to\\n 6.6 per cent from 6.5 per cent in the first advance estimates \\nreleased on January 5. GDP growth in 2017\\n-18 at 6.6 per cent was lower than 7.1 per cent in \\n2016-17 and the deceleration was broad\\n-based, but each component revealed intra\\n-year turning \\npoints. \\nPrivate consumption growth \\nŒ whose contribution to GDP growth in 2017\\n-18 was 68 per \\ncent \\nŒ moderated in the second half.  Goods and services tax (GST) implementation had an \\nadverse, even if transient, effect on urban consumption through loss of output and \\nemployment in \\nthe labour\\n-intensive unorganised sector. Government expenditure provided sustained support to \\naggregate demand, with a pick\\n-up in pace in the second half. Gross fixed capital formation \\nturned around in Q2 and accelerated in the second half \\nŒ markedly so in Q3 \\nŒ reflecting the first \\nsigns of a sustained expansion in capital goods production and a modest revival of construction \\nactivity. Net exports dragged down aggregate demand in 2017\\n-18 due to a surge in imports and \\ndeceleration in exports in\\n Q3, the latter being driven in part by GST\\n-related working capital \\ndisruptions. \\n 11. For Q4, high frequency indicators point to a further strengthening of demand conditions.  \\nPrivate consumption seems to be improving on the back of strong growth in domestic a\\nir \\npassenger traffic and foreign tourist arrivals, rising sales growth of passenger vehicles and a \\nstrong upturn in the production of consumer durables.  The growth in sales of two\\n-wheelers and \\ntractors reflects buoyant rural consumption. Capital goods pro\\nduction registered a 19\\n-month high \\ngrowth in January 2018, indicative of the likely traction in investment demand. Housing loans \\nextended by banks have increased significantly, which is a positive for residential investment. \\nExternal demand remains a weak \\nlink. Merchandise import growth has slowed because of gold \\nimports; simultaneously export growth has also weakened.  \\n 12. Turning to the supply side at a disaggregated sectoral level, the \\nkharif\\n foodgrains \\nproduction for 2017\\n-18 has been revised upward by 2.8 \\nper cent in the second advance estimates \\nreleased in February 2018 as compared with the first advance estimates released in September \\n2017. Total foodgrains production for 2017\\n-18 is estimated at 277.5 million tonnes, up by 0.9 per \\ncent from the level of 2\\n016-17, with the production of rice, pulses and coarse cereals estimated to \\nreach a record high. Wheat production is estimated to be lower than last year due to a decline in \\n',\n",
              " '4  acreage and low soil moisture, but imports of 1.6 million tonnes and comfortable b\\nuffer stocks \\nshould cushion potential adverse effects. Horticulture production touched a new peak of 305.4 \\nmillion tonnes in 2017\\n-18, up by 1.6 per cent from last year.\\n 13. For the year 2017\\n-18 as a whole, the CSO estimates that value added in industry \\ndeceler\\nated in relation to the previous year; in terms of quarterly performance, however, \\nexpansion set in by Q2 and was built upon in Q3 and Q4. This was mainly driven by the rebound \\nin manufacturing. The manufacturing PMI remained in an expansionary mode for th\\ne eighth \\nconsecutive month in March, although there was some moderation in Q4. Assessment of overall \\nbusiness sentiment for manufacturing also improved in Q4 as reflected in the Reserve Bank™s \\nIndustrial Outlook Survey, driven by increasing output and new \\norders. Growth of value added in \\nthe services sector accelerated through the year, driven by trade, hotels, transport and \\ncommunication and a significant pick\\n-up in construction activity. Other high frequency \\nindicators of services sector activity such as \\ndomestic air passenger traffic, international freight \\ntraffic, port traffic and commercial vehicles sales also expanded at a fair pace. The services PMI \\nmoved out of contraction and stabilised in March on a renewed increase in new business and \\nstrengthenin\\ng expectations.   \\n 14. Retail inflation, measured by the year\\n-on-year change in the CPI, fell from a high of 5.1 \\nper cent in January to 4.4 per cent in February due to a decline in inflation in food and fuel. \\nExcluding the estimated impact of an increase in th\\ne house rent allowances (HRA) for central \\ngovernment employees under the 7\\nth central pay commission (CPC), the headline inflation for \\nFebruary was at 4.1 per cent. Food inflation declined by 120 bps in February, pulled down by a \\nsharp decline in vegetable \\nprices, especially of onions and tomatoes, along with continuing \\ndeflation in pulses. The fall in prices was also observed in other food components such as eggs, \\nsugar, meat and fish, oils, spices, cereals and milk. \\n 15. In the fuel and light group, inflation \\nin respect of liquefied petroleum gas declined in line \\nwith international price movements. Furthermore, the rate of increase in prices of firewood and \\nchips, and dung cake moderated.\\n 16. CPI inflation excluding food and fuel remained unchanged at 5.2 per cent \\nfor the third \\nconsecutive month in February, after rising from its trough in June 2017. Among its constituents, \\nhousing group inflation rose significantly, reflecting the HRA increase for central government \\nemployees. Excluding the HRA impact, inflation in\\n this group was estimated markedly lower at \\n4.4 per cent. Inflation in the transport and communication group increased in February on \\naccount of the rise in petroleum product prices and transportation fares. Inflation either eased or \\nremained at a low leve\\nl in February in other major sub\\n-groups such as household goods and \\nservices, recreation and amusement, education, and personal care and effects. \\n 17. Households™ inflation expectations, measured by the March 2018 round of the Reserve \\nBank™s survey of households, edged up for both three\\n-month and one\\n-year ahead horizons. \\nManufacturing firms covered in the Reserve Bank™s Industrial Outlook Survey reported\\n input \\nprice pressures and an increase in selling prices in Q4:2017\\n-18, which are expected to continue \\nin Q1:2018\\n-19. Manufacturing and services firms polled by PMI also showed a rise in input and \\noutput prices in Q4.       \\n 18. Liquidity in the system moved b\\netween surplus and deficit during February\\n-March 2018. \\nFrom \\n\\n272 billion during February 1\\n-11, 2018, liquidity moved \\ninto deficit during February 12\\n-March 1, reflecting a slowdown in government spending and \\n',\n",
              " '5  large tax \\ncollections. After turning into surplus during March 2\\n-15, the system moved into deficit \\nagain during March 16\\n-22 mainly on account of quarterly advance tax outflows. Anticipating the \\nseasonal tightening of liquidity at the end of March, the Reserve\\n Bank c\\nonducted four additional \\nlonger tenor (24\\n-31 days) variable ra\\nte repo operations aggregating \\n 1 trillion, apart from the \\nregular repo operations. In mid\\n-March, additional liquidity of \\n 1 trillion got released into the \\nsystem through redemption of Treasur\\ny Bills issued under the Market Stabilisation Scheme \\n(MSS) in April and May 2017. On the wh\\nole, the Reserve Bank injected \\n \\n213 \\nbillion on a net daily average basis in February and March, respectively. The weighted average \\ncall rate (WACR)\\n inched closer to the policy repo rate from 12 basis points below the policy rate \\nin January to 7 bps in February, and 5 bps in March. \\n 19. Merchandise export growth decelerated in January and February 2018, pulled down by a \\nslowdown in exports of gems and jew\\nellery, readymade garments and engineering goods.  \\nImport growth also moderated in February due to a decline in gold imports, lower growth in non\\n-oil non\\n-gold imports, and contraction in imports of transport equipment, vegetable oils and \\npulses. As import \\ngrowth continued to exceed export growth in January\\n-February, the trade \\ndeficit widened. The current account deficit increased in Q3:2017\\n-18, primarily on account of \\nthe higher trade deficit. Net foreign direct investment moderated in April\\n-January 2017\\n-18 vis\\n-à-vis\\n the level a year ago. Foreign portfolio investors made net purchases in 2017\\n-18, despite net \\nsales in the wake of a global sell\\n-off in February. India™s foreign exchange reserves were at US$ \\n424.4 billion on March 30, 2018.\\n  Outlook\\n 20. The 6\\nth bi-monthly resolution of 2017\\n-18 in February projected CPI inflation at 5.1 per \\ncent in Q4:2017\\n-18; and in the range of 5.1\\n-5.6 per cent in H1:2018\\n-19 and 4.5\\n-4.6 per cent in \\nH2, including the HRA impact, with risks tilted to the upside. Actual inflation outco\\nmes in \\nJanuary\\n-February averaged 4.8 per cent, largely reflecting the sharp decline in vegetable prices \\nand significant moderation in fuel group inflation. The available information suggests that \\nvegetable prices continued to moderate in March as well. Acc\\nordingly, inflation in Q4:2017\\n-18 is now projected at 4.5 per cent. \\n 21. Several factors are likely to influence the inflation outlook. First, with the sharp \\nmoderation in food prices in February\\n-March, the inflation trajectory in H1:2018\\n-19 is expected \\nto be \\nlower than the projection in the February statement, despite a likely reversal in food prices \\nin H1. Overall food inflation should remain under check on the assumption of a normal monsoon \\nand effective supply management by the Government. Second, internati\\nonal crude oil prices have \\nbecome volatile in the recent period, with a distinct hardening bias in the second half of March, \\neven as the increase in shale production was more than expected. This has adversely impacted \\nthe outlook for crude oil prices. Thir\\nd, on current assessment, Indian domestic demand is \\nexpected to strengthen during the course of the year. Fourth, the statistical impact of an increase \\nin HRA for central government employees under the 7\\nth CPC will continue till mid\\n-2018, and \\ngradually dis\\nsipate thereafter.\\n 22. Taking these factors into consideration, projected CPI inflation for 2018\\n-19 is revised to \\n4.7-5.1 per cent in H1:2018\\n-19 and 4.4 per cent in H2, including the HRA impact for central \\ngovernment employees, with risks tilted to the upside \\n(Chart 1).  \\nExcluding the impact of HRA \\nrevisions, CPI inflation is projected at 4.4\\n-4.7 per cent in H1:2018\\n-19 and 4.4 per cent in H2\\n. ',\n",
              " '6  23. Turning to the growth outlook, several factors are expected to accelerate the pace of \\neconomic activity in 2018\\n-19. First, there are now clearer signs of revival in investment activity \\nas reflected in the sustained expansion in capital goods production and\\n still rising imports, \\nalbeit\\n at a slower pace than in January. Second, global demand has been improving, which should \\nencourage exports and boost fresh investment. On the whole, GDP growth is projected to \\nstrengthen from 6.6 per cent in 2017\\n-18 to 7.4 per\\n cent in 2018\\n-19 Œ in the range of 7.3\\n-7.4 per \\ncent in H1 and 7.3\\n-7.6 per cent in H2 \\nŒ with risks evenly balanced\\n (Chart 2).\\n2     24. The MPC notes that there are several uncertainties surrounding the baseline inflation \\npath. First, the revised formula for MSP as announced in the Union Budget 2018\\n-19 for \\nkharif \\ncrops may have an impact on inflation, although the exact magnitude will be k\\nnown only in the \\ncoming months. Second, the staggered impact of HRA revisions by various state governments \\nmay push headline inflation up. While the statistical impact of the HRA revisions will be looked \\nthrough, there is a need to watch out for any second\\n round effects. Third, in case there is any \\nfurther fiscal slippage from the Union Budget estimates for 2018\\n-19 or the medium\\n-term path, it \\ncould adversely impact the outlook on inflation. There are also risks to inflation from fiscal \\nslippages at the leve\\nl of states on account of higher committed revenue expenditure. Fourth, \\nshould the monsoon turn deficient temporally and/or spatially, it may have a significant bearing \\non food inflation. Fifth, firms polled in the Reserve Bank™s Industrial Outlook Survey \\nexpect \\ninput and output prices to rise, going forward. Sixth, recent volatility in crude prices has \\nimparted considerable uncertainty to the near\\n-term outlook. \\n 25. Against the above backdrop, the MPC decided to keep the policy repo rate on hold and \\ncontinue w\\nith the neutral stance. The MPC reiterates its commitment to achieving the medium\\n-term target for headline inflation of 4 per cent on a durable basis. \\n                                                             2 The \\nimplicit GDP growth projection in the \\n6th bi-monthly monetary policy statement\\n was\\n 7.4 per cent for 2018\\n-19 Œ in the range of 7.4\\n-7.5 per cent in H1 and 7.3\\n-7.4 per cent in H2.\\n  ',\n",
              " '7  26. The MPC notes that growth has been recovering and the output gap is closing. This is \\nalso reflected in a\\n pick\\n-up in credit offtake in recent months. The large mobilisation of resources \\nfrom the primary capital market should support investment activity further. While the domestic \\ncyclical recovery is underway, the long\\n-term growth potential is also expected t\\no be reinforced \\nby various structural reforms introduced in the recent past. On the downside, the deterioration in \\npublic finances risks crowding out private financing and investment. Furthermore, even as global \\ngrowth and trade have been strengthening, ri\\nsing trade protectionism and financial market \\nvolatility could derail the ongoing global recovery. In this unsettling global environment, it is \\nespecially important that domestic macroeconomic fundamentals are strengthened, deleveraging \\nof distressed corpo\\nrates and rebuilding of bank balance sheets persisted with, and the risk\\n-sharing markets deepened.\\n 27. Dr. Chetan Ghate, Dr. Pami Dua, Dr. Ravindra H. Dholakia, Dr. Viral V. Acharya and \\nDr. Urjit R. Patel voted in favour of the monetary policy decision. Dr. \\nMichael Debabrata Patra \\nvoted for an increase in the policy rate of 25 basis points. The minutes of the MPC™s meeting \\nwill be published by April 19, 2018.\\n 28. The next meeting of the MPC is scheduled on June 5 and 6, 2018.\\n  Voting on the Resolution to keep the\\n policy repo rate unchanged at 6.0 per cent\\n Member\\n Vote\\n Dr. Chetan Ghate \\n Yes\\n Dr. Pami Dua\\n  Yes\\n Dr. Ravindra H. Dholakia \\n Yes\\n Dr. Michael Debabrata Patra\\n No Dr. Viral V. Acharya\\n Yes\\n Dr. Urjit R. Patel\\n Yes\\n   Statement by Dr. Chetan Ghate\\n 29. My main concern in the last few reviews has been whether the ongoing cyclical recovery \\nin growth will sustain, despite growing discomfort on the upside risks to the 4% inflation target \\nin the medium\\n-term.      \\n 30. The broad\\n-based turnaround in growth continue\\ns to gather strength, although the \\nturnaround is benefitting from a favo\\nurable base. Demand conditions improved in Q3 (2017\\n-2018). Capacity utilization, which tracks investment trends, has started to improve and is at the \\nhighest \\nlevel \\nnow (at 74.3%) since\\n Q2 2014\\n-2015. Three\\n-month average IIP growth (Nov 2017\\n-Jan 2018) is 7.8% y\\n-o-y; what is encouraging is that the high IIP growth is due to sequential \\ngains and not base effects. Profitability in non\\n-IT services has turned around. The sequential \\ngains in th\\ne manufacturing sector are strong with the PMI\\n-Manufacturing in expansion zone for \\nthe past 8 months. Credit growth continues to pick up, after lagging behind nominal GDP growth \\nin the last two years. There is a ris\\nk that recent fraud in a public \\nsector ba\\nnk may make banks \\nrisk averse and slow lending.  \\n ',\n",
              " '8  31. Overall, growth signals are strong. Most indicators of the output gap suggest that it is \\nclosing. While consumption continues to be robust, investment is accelerating. \\n 32. Food inflation continues to impart vo\\nlatility to headline inflation and drive headline \\ninflation momentum. Lower food inflation at 3.4% in February compared to 4.6% in January was \\nthe main driver of lower headline\\n inflation (4.4%) in February. \\nInflation in vegetables is still \\nelevated due to \\nthe adverse base in 2016\\n-2017. Fuel inflation (at 6.8%) is much higher than all \\nthe other components. The\\nre was a marginal uptick in the \\n1-year ahead inflation expectations \\ncompared to the last round of the survey.  Elevated and persistent inflation exclud\\ning food, fuel, \\nand HRA adjustments is somewhat worrying. There is however a sustained moderation in cereal\\ns inflation\\n, which is unusual. The total availability of pulses also appears to be well above demand \\nestimates.\\n 33. More than the cyclical drivers of foo\\nd inflation, which for most items tends to be mean \\nreverting, what worries me are the upside structural risks to inflation that impinge on the \\ndurability of the 4% inflation target in the medium term. In the past few reviews, I have flagged \\nfour such risks\\n: (i) \\nincreases\\n in minimum support prices (MSP), (ii) staggered implementation of \\nthe pay commission\\n award by the States\\n, (iii) slippages in the fiscal deficit in an election year, \\n(iv) a sustaining of the price of oil at a high level. \\n 34. Of these, my main c\\noncern at the current juncture is the possible simultaneous occurrence \\nof adverse \\ntwin terms of trade shocks\\n: internal (via a substantial upward revision of minimum \\nsupport prices which would raise the relative price\\ns of agricultur\\nal goods) and external (t\\nhe price \\nof oil sustains at a high level). Such twin terms of trade shocks would complicate inflation \\nmanagement and worsen the growth\\n-inflation trade\\n-off. \\n 35. While details on what form the MSP policy will take are still awaited, my own research \\nwith co\\n-authors shows that a one standard deviation net procurement shock not only increases \\ninflation across all sectors, but after inflation rises for two quarters on \\nimpact, it remains positive \\nfor about six to seven quarters after that.  As in an external terms of trade shock, which would \\npush the Phillips curve of the economy upwards, compromising GDP growth and raising \\ninflation in the medium term, an internal terms\\n of trade shock \\nvia\\n a rise in the MSP would do the \\nsame. The response to changes in the MSP would therefore need to be pursued in a systematic \\nway to maintain durability of the medium\\n-term 4% inflation target. \\n 36. At this juncture, I would prefer to wait and \\nwatch as the data evolves. \\n 37. I vote for a pause in the policy repo rate at today™s meeting of the Monetary Policy \\nCommittee.\\n  Statement by Dr. Pami Dua   \\n 38. Headline inflation eased to 4.4% in February after rising to a 17\\n-month high of 5.2% in \\nDecember, 2017\\n. This fall was largely due to a significant seasonal drop in vegetable prices, \\nalong with other components of food. CPI inflation excluding food and fuel remained unchanged \\nin February, having stayed at 5.2% since December, partly due to housing inflation\\n driven by the \\ndirect effects of house rent allowance for government employees under\\n the 7th central pay \\ncommission\\n.  ',\n",
              " '9  39. Despite the recent fall in headline inflation, several upside risks prevail. The proposed \\nlink between the minimum support prices (MSPs) f\\nor \\nkharif\\n crops with 1.5 times the cost of \\nproduction may drive inflation up. Fiscal deficit slippage and the slower than expected fiscal \\nconsolidation, as well as the staggered impact of house rent allowance by state governments, \\nmay also exert pressure o\\nn inflation. The recent volatility in crude prices has also resulted in \\nuncertainty regarding the inflation scenario. Further, the proposed increase in customs duty is \\nlikely to increase inflation. The outlook for inflation as per RBI™s survey of household\\ns undertaken in March 2018 signals high inflation expectations for both three\\n-month\\n-ahead and \\none-year\\n-ahead horizons. Further, the Industrial Outlook Survey (IOS) of the RBI suggests \\nhardening of input prices, which may be passed on to consumers and lead \\nto higher CPI inflation.\\n 40. On the output front, the estimated GDP growth is 6.6\\n% for 2017\\n-18, lower than 7.1\\n% for \\n2016-17. Nevertheless, some positive signs of economic growth are visible, especially in revival \\nof investment. Implementation of GST is stabilising and the recapitalization of public sector \\nbanks, as well as the steps towards NPA resolution under the\\n insolvency and bankruptcy code, \\nare expected to contribute to economic growth. On the other hand, banking sector risks can be an \\nimpediment to sustainable growth. Separately, the possibility of an escalating trade war is a \\ngrowing risk factor.  \\n 41. Moreover,\\n the Consumer Confidence Survey conducted by RBI in March 2018 presents a \\npessimistic outlook for General Economic Situation and Employment Scenario. This is supported \\nby the languishing growth in the Economic Cycle Research Institute™s (ECRI) Indian Leadi\\nng \\nIndex, a harbinger of future economic activity, indicating dull prospects for economic growth. \\nFurther, growth in ECRI™s 20\\n-country composite Long Leading Index has eased, suggesting that \\nglobal growth is likely to slow down. This has impacted growth in\\n ECRI™s Indian Leading \\nExports Index, a predictor of the direction of exports growth, which is subdued, indicating that \\nIndian export growth outlook remains restrained. Dimming growth prospects at the global level \\nare also indicated in the drop in the comp\\nosite Purchasing Managers™ Indexes covering services \\nand manufacturing for various economies, including the Euro area, the U.K., China and Japan, \\nsince the end of 2017, and more recently in the U.S.  \\n 42. Thus, with upside risks to inflation and lacklustre gro\\nwth prospects, a wait and watch \\nstrategy with respect to evolving risks, along with \\nstatus quo\\n in interest rates, is currently \\nrecommended.\\n  Statement by Dr. Ravindra H. Dholakia\\n 43. The headline inflation in January and February 2018 showed a sharper decline \\nthan what \\nMPC had expected in its previous meeting. It is likely to show a lower print even during March \\n2018.  From April 2018, however, it is expected to increase on account of unfavorable base \\neffect for the next 3\\n-4 months before it again starts declin\\ning to reach the level of around 4 per \\ncent by March 2019. Thus, in the baseline scenario, we are likely to be at or around the target \\nrate of headline inflation 12 months down. There are, however, several uncertainties and \\nconcerns surrounding th\\nis foreca\\nst. These are:\\n (i) There is a revival of economic growth but not to the level expected by RBI. Although \\nthe capacity utilization has improved to around 74 per cent, I feel, it is still far below \\nthe threshold required to induce substantial fresh investment. Th\\nere is hardly any \\n',\n",
              " '10  evidence on employment growth picking up to a level that would put upward pressure \\non the wage growth. Thus, continued existence of a negative output gap has to be \\nconsidered.\\n (ii)\\n Fears of a trade war among major global players are turning in\\ncreasingly realistic with \\nlikely adverse impact on our exports and costs of production. It may severely affect our \\ngrowth recovery over the coming year.\\n (iii)\\n Oil prices have been fluctuating and both their direction and magnitude are difficult to \\npredict for any possible impact on the headline inflation during the coming year. \\n (iv)\\n Concerns about the adequacy of monsoon rains and implementation of the revision in \\nminimum support prices of different crops add another dimension to the inflation \\nuncertainties.\\n (v)\\n Implementation of the revisions in HRA for employees of different states and related \\norganizations (like universities, research institutes, municipal bodies, etc\\n.) in line with \\nthe 7\\nth CPC could raise the headline inflation substantially over time. Although it has to \\nbe seen through because it would be only statistical, it does impact CPI as well as CPI \\nexcluding food and fuel significantly for about a year. And i\\nf the implementation is \\nstaggered among states, it would take even longer. In this context, it is argued that the \\nsecond round effects of such an increase have to be considered. My research shows that \\ninflation dynamics have changed during the current deca\\nde making the second round \\neffects less relevant. \\n (vi)\\n Slippage by the Centre from the fiscal consolidation path and its likely adverse impact \\non the headline inflation and the cost of borrowing are often raised as a major concern. \\nIn this context, as I had po\\ninted out in the last MPC minutes, it is the combined (Centre \\nand all States together) fiscal deficit that matters for the headline inflation. By now, 26 \\nstates have presented their budgets and their combined budgeted fiscal deficit is \\nestimated to be 2.6 \\nper cent of GDP. Thus, to a large extent, the fiscal slippage of the \\nCentre is compensated by the fiscal discipline shown by the States. The net impact on \\nthe headline inflation on this count, therefore, is likely to be very limited. Moreover, \\nthere are ex\\npectations about the tax revenues exceeding the revised estimates for the \\nyear 2017\\n-18, reducing the estimate of the fiscal slippage by the Centre. If the same \\nbuoyancy continues, it can substantially reduce the magnitude of the fiscal slippage \\nnext year. \\nOn the other hand, the slippage can occur for various reasons including the \\nforthcoming elections in States and the Centre.\\n (vii)\\n The Business Inflation Expectations Survey (BIES) conducted by the Indian Institute of \\nManagement Ahmedabad (IIMA) during February 2\\n018 shows that the expected \\nheadline inflation (CPI) 12 months down by the businesses is 4.1 per cent but is \\nincreasing of late. Similarly, the RBI \\nsurvey of household inflation\\n expectations also \\nshows increasing trend. \\n 44. On account of all such uncertaintie\\ns of impacts on headline inflation in both the \\ndirections, it is prudent to wait and watch the events play out before any decisive change in \\npolicy stance and/or rate can be considered. I, therefore, vote for maintaining a \\nstatus quo\\n on the \\npolicy rate and\\n neutral stance. \\n  ',\n",
              " '11  Statement by Dr. Michael Debabrata Patra\\n 45. I maintain my vote for a 25 basis points increase in the policy rate. Underlying \\nmacroeconomic developments impart some urgency to commencing the withdrawal of \\naccommodation. \\n 46. The ebbing of \\ninflation in January and February will likely extend into the reading for \\nMarch, given the continuing decline in prices of vegetables. Does it present a persuasive case for \\nan easier/neutral monetary policy stance? In my view, that will be time\\n-inconsisten\\nt and will \\npush the achievement of the inflation target farther out in time, given the current assessment that \\nthe target is not likely to be achieved during the full course of 2018\\n-19, absent policy action.\\n 47. It is important to recognise that volatility in \\nthe prices of vegetables is obscuring a clearer \\nevaluation of underlying inflation pressures. An unseasonal spike in November has given way to \\na delayed seasonal easing in February and March, which should reverse by April\\n-May. \\nAccordingly, this transient s\\nupply shock, however favourable it might be, has to be looked \\nthrough while setting monetary policy so that the focus is on the real risks to food inflation \\nlooming over the horizon from (a) increases in minimum support prices announced in the union \\nbudget\\n; and (b) the shortfall in wheat output and the implications for prices of cereals. \\n 48. The main risks to the achievement of the target are festering in the category of CPI \\nexcluding food and fuel in which inflation has stubbornly risen above 5 per cent over \\nthe past \\nthree months. Over the course of 2018\\n-19, inflation in this category is expected to peak close to 6 \\nper cent in June and moderate in the rest of the year to settle at a little above 5 per cent. It is \\nnecessary, however, to adjust for the statistic\\nal impact of the HRA in assessing this trajectory. \\nAfter the adjustment, the baseline path of inflation excluding food and fuel is one of monotonical \\nhardening till the end of the year without the June peak. Meanwhile, upside risks in the form of \\ninternati\\nonal crude prices, rising raw material and other input prices, the slow return of pricing \\npower among corporates, the spectre of trade wars and embedded tariff increases \\n- which could \\nturn out to be both inflationary and growth retarding \\nŒ and bouts of glo\\nbal spillovers as markets \\nre-price the normalization of monetary policy by systemic central banks have increased. Should \\nthe food situation turn adverse or overwhelm food management strategies, we will have to deal \\nwith inflation testing the upper toleranc\\ne limit of the inflation band. Households are reflecting \\nthese fears in their inflation expectations, and both bond and credit markets have been tightening \\ninterest rates well ahead of the MPC.  \\n 49. Impulses of growth are strengthening. The turnaround in the \\npace of investment is the \\ndefining feature of 2017\\n-18 in contrast to the consumption\\n-led growth in preceding years. \\nFoodgrains and horticulture production are set to scale new records. Manufacturing is on an \\naccelerating mode and the recovery is broadening\\n and encompassing an increasing number of \\nconstituent industries in its ambit. It is supported by rising sales growth, an uptick in seasonally \\nadjusted capacity utilization, drawdown of finished goods inventories and upbeat business \\nconfidence even as the \\nregaining of pricing power is helping to shore up profit margins. There \\nare also indications of the capex cycle gradually starting up. It is important that these drivers be \\nnurtured to full strength and traction, and not be frittered away by allowing infla\\ntion to get out of \\nhand in an environment of fiscal slippages at the central and state levels, a current account deficit \\nthat is modest but on the rise, and balance sheets of banks and corporates still fragile.   \\n  ',\n",
              " '12  Statement by Dr. Viral V. Acharya\\n 50. In my m\\ninutes of the February 2018 Monetary Policy Committee (MPC) meeting, I had \\nflagged two reasons that had induced me to pause from voting to begin the process of \\nﬁwithdrawal of accommodationﬂ: first, the possibility of US shale gas response softening the oil\\n price outlook, and two, growth recovery in the economy still being nascent.  Uncertainty on these \\nfronts has now receded.\\n 51. In spite of the US shale gas response to rising oil prices being robust, inventories have \\ncontinued to dwindle.  The combination of O\\nPEC supply cuts and strengthening global demand \\nappear to be keeping international oil prices at a relatively high level, and the volatility of prices \\naround the high level has been relatively low in the past three to six months.  The dwindling \\nstock of in\\nventories implies that a supply side disruption to any one critical source, for instance, \\ndue to geopolitical risk, could have a sharp upward impact on prices.  On \\nthe \\ndomestic front, the \\nlack of fiscal space to go easy on fuel cesses implies that prices a\\nt the pump will likely mirror \\nmovements in international prices.  Since global commodity prices as a group are refusing to \\nbudge, the overall outlook is not comforting from the standpoint of domestic inflation.  \\n 52. On the growth front, while we have not seen\\n another print from the CSO since last policy, \\nmost real economic activity indicators, including the Purchasing Manager™s Index (PMI) data \\nreleased during the week of MPC meeting, point to growing traction in the drivers underlying \\ngrowth.  In fact, RBI™s \\nestimates suggest that output gap is closing; the finance\\n-adjusted \\nmeasure, which I personally prefer, shows near complete closure of the output gap due to the \\nresilient credit growth over the past two quarters.  This is further confirmed by high frequency\\n data on rural and urban consumption, investment activity revival, and improvement in capacity \\nutilisation. In my view, these healthy developments on the economic activity front are likely to \\nremain durable due to steady progress in the time\\n-bound resoluti\\non of twin balance\\n-sheet \\nproblem affecting our banks and corporates.\\n 53. In view of the above referred developments since the last MPC meeting, I have moved \\nsubstantially closer to switching from the neutral stance to beginning the process of withdrawal \\nof acc\\nommodation.  This is in spite of the softening of inflation in recent prints. Let me explain \\nin some detail.\\n 54. An inflation targeting central bank needs to separate ﬁsignalﬂ from ﬁnoiseﬂ in the data: \\n  Recent prints have softened due primarily to easing of ve\\ngetable prices (contributing to \\nover 90 per cent of softening of food inflation in February). Digging into specifics does \\nnot suggest that this is due to durable supply management in vegetables. Instead, \\nreasonable conclusion is that vegetable prices conti\\nnue to show seasonality over years, \\nalbeit\\n with some variation in months in which the seasonality kicks in. This volatility is \\nlargely ﬁnoiseﬂ from an interest\\n-rate setting perspective; this volatility is also not \\nsomething amenable to monetary policy acti\\nons, and certainly not at short horizon of a \\nfew months at which it is likely to, and typically does, revert.  \\n  What  concerns me is that the more persistent component of headline inflation, which is \\nex food and fuel, and which one can consider as the \\nﬁsignalﬂ given its persistence, has \\nstrengthened steadily from a trough of 3.8 per cent  last June to 4.4 per cent in February \\n(excluding the estimated impact of Centre™s Hous\\ne Rent Allowance increase, \\ni.e\\n., ex \\nHRA).  This rise has been broad\\n-based, consistent with the durability of a growth pick\\n-up ',\n",
              " '13  over this period, and also confirmed by input price pressures and selling price increases \\nreported by firms in the Reserve Bank™s Industrial Outlook Survey. \\n  The inflation trajectory over the entire twelve\\n-month period is projected, despite the soft \\nprint in February, to remain above the MPC target rate of 4 per cent, on a quarter by \\nquarter basis.  Note that this is the case even after excluding the HRA impact. \\n  Professional forecasters surveyed by the Reserve Bank also expect the inflation to stay \\nover 4 per cent for much of 2018\\n-19.   While there is inevitable uncertainty around these inflation projections, I view the risks as \\ntilted significantly to the upside \\ngiven the continuing rise in the ex\\n-food\\n-and\\n-fuel \\ninflation.  Besides oil prices, my another primary concern is the risk of  fiscal slippages, \\nat both the Centre and State levels, especially in the form of:\\n o A shift away from capital expenditures towards re\\nvenue expenditures, as is \\nalready being seen in state expenditure to accommodate farm loan waivers; and, \\n o Food price\\n-support measures, on which further clarity is needed, but which \\nclearly induce an upside bias to potential inflation risks (estimates vary \\nwidely \\nfrom 10 basis points to close to 100 basis points depending on what measures are \\nadopted).\\n  Finally, as the Indian economy is economically as well as financially integrated with the \\nglobal economy, a faster normalisation of interest rates by systemic\\n central banks can \\nalso pose a major challenge to the external sector.\\n 55. I fe\\nel it is\\n important to let some more hard data come in, especially on growth, and allow \\nsome more time to let the early skirmishes on the global trade front play out. I am, however, \\nlikely to shift decisively to vote for a beginning of ﬁwithdrawal of accommodationﬂ in the next \\nMPC meeting in June.  \\nReinforcement of inflation\\n-targeting credibility that such a shift would \\nsignal is crucial in my view for prudent macroeconomic management\\n, on both the domestic and \\nexternal sector fronts.\\n  Statement by \\nDr. Urjit R. Patel\\n 56. CPI inflation moderated in January\\n-February, led largely by a sharp decline in vegetable \\nprices and continuing deflation in pulses. Fuel group inflation also moderated mainly on the back \\nof a decline in liquefied petroleum gas inflation, reflecting softeni\\nng in international prices. \\nThese developments, combined with the continued softening in vegetable prices in March, are \\nexpected to pull down the headline CPI inflation in Q4:2017\\n-18 below the projection made in \\nFebruary.  However, it is noteworthy that ov\\ner the last three months (December\\n-February), the \\nmonthly CPI headline inflation (year\\n-on-year) adjusted for house rent allowance (HRA) revision \\nhas averaged 4.6 percent.   \\n 57. Going forward, the combined effects of the observed moderation in food inflation i\\nn January\\n-February and the expected further softening in March are likely to result in lower \\nheadline inflation trajectory in the first half of 2018\\n-19 vis\\n-à-vis\\n the February statement. This \\nwill be despite the likely seasonal reversal of food prices in th\\ne first half. Inflation expectations \\nhave firmed up, both for three\\n-month and one\\n-year ahead horizons. Input cost pressures are \\nrising and the corporates are gradually regaining some pricing power. The outlook of inflation \\n',\n",
              " '14  also faces several uncertainties \\nemanating from: (i) the increase in minimum support prices for \\nkharif\\n crops; (ii) elevated and volatile crude oil prices, in part due to geo\\n-political factors; (iii) \\nthe staggered impact of revision in HRA by various State Governments \\nŒ the direct impact o\\nn inflation will be statistical in nature, which will be looked through; (iv) fiscal slippages by the \\nCentre and the States; and (v) the performance of the monsoon. \\n 58. Economic activity has been recovering, with the GDP growth in 2018\\n-19 projected to be \\nhigh\\ner at 7.4 per cent (with balanced risks) as compared with 6.6 per cent in the previous year. \\nThere are clearer signs of revival of investment activity. The manufacturing sector is \\nstrengthening, which is also reflected in higher capacity utilisation. Impro\\nving global demand \\nand trade should boost manufacturing and investment activity, going forward. Leading indicators \\nalso point to the strengthening of the services sector; purchasing managers™ index (PMI) for \\nservices moved into the expansion zone again in \\nMarch\\n. Credit off\\ntake from the banking sector \\nhas continued to improve and it is becoming gradually more broad\\n-based. The flow of funds \\nfrom non\\n-bank sources to the corporate sector has also been rising.\\n 59. Even as inflation has moderated in recent months, \\nseveral upside risks to inflation persist. \\nHence, I would like to wait for more data and watch how various risks to inflation evolve, going \\nforward. I, therefore, vote for holding the policy repo rate at the current level and maintaining the \\nstance as neut\\nral.\\n                                                                                                             \\n              \\n   Jose J. Kattoo\\nr  Press Release \\n: 2017-2018/2783                                   \\n          \\n    \\nChief General Manage\\nr   ',\n",
              " ' \\n \\n  PRESS\\n RELEASE\\n \\n \\n, \\n \\n, \\n\\n.\\n.\\n.\\n, \\n\\n-400001 _____________\\n________________________________________________________________________________________________________\\n DEPARTMENT OF COMMUNICATION\\n, Central Office, \\nS.B.S.Marg, Mumbai\\n-400001 /Phone: \\n91 22\\n 2266 0502\\n \\n/Fax: \\n91 22 22660358\\n  \\n \\n  RESERVE BANK OF INDIA\\n  0\\n : www.rbi.org.in/hindi\\n Website : www.rbi.org.in\\n -\\n email\\n: helpdoc@rbi.org.in\\n      \\nApril 20, 2017\\n                  \\n Minutes of the Monetary Policy Committee Meeting\\n April 5\\n-6, 2017\\n [Under Section 45ZL of the Reserve Bank of India Act, 1934]\\n  The fourth\\n meeting of the Monetary Policy Committee (MPC), constituted \\nunder section 45ZB o\\nf the amended Reserve Bank of India Act, 1934, was held on \\nApril 5 and 6\\n, 2017 at the Reserve Bank of India, Mumbai\\n.  2. The meeting was attended by all the members \\n- Dr. Chetan Ghate, Professor, \\nIndian Statistical Institute; Dr. Pami Dua, Director, Delhi Sch\\nool of Economics; and \\nDr. Ravindra H. Dholakia, Professor, Indian Institute of Management, Ahmedabad; \\nDr. Michael Debabrata Patra, Executive Director (the officer of the Reserve Bank \\nnominated by the Central Board under Section 45ZB(2)(c) of the Reserve Ba\\nnk of \\n\\nIndia Act, 1934); Dr. Viral V. Acharya, Deputy Governor in\\n-charge of monetary policy \\n- and was chaired by Dr. Urjit R. Patel, Governor.\\n 3. \\n According to Section 45ZL of the amended Reserve Bank of India Act, 1934,  \\nthe Reserve Bank shall publish, on \\nthe fourteenth day after every meeting of the \\n\\nMonetary Policy Committee, the minutes of the proceedings of the meeting which \\nshall include the following, namely:\\nŒ (a) the resolution adopted at the meeting of the Monetary Policy Committee;\\n (b) the vote of e\\nach member of the Monetary Policy Committee, ascribed to such \\nmember, on resolution adopted in the said meeting; and\\n (c) the statement of each member of the Monetary Policy Committee under sub\\n-section (11) of section 45ZI on the resolution adopted in the s\\naid meeting.\\n  4. The MPC reviewed the surveys conducted by the Reserve Bank to gauge \\nconsumer confidence, hous\\neholds™ inflation expectations, corporate \\nsector \\nperformance, credit conditions, \\nthe outlook for the \\nindustrial, \\nservices\\n and \\ninfrastructure sectors,\\n and the projections of professional forecasters. The Committee \\nreviewed in detail staff™s macroeconomic projections, and alternative scenarios \\naround\\n various risks to the outlook. \\nDrawing on the above and after extensive \\ndiscussions on the stance of mone\\ntary policy, the MPC adopted the resolution that is \\n\\nset out below.\\n   \\n ',\n",
              " '2  Resolution\\n 5. On the basis of an assessment of the current and evolving macroeconomic \\nsituation at its meeting today, the Monetary Policy Committee (MPC) decided to:\\n  keep the policy repo rate \\nunder the liquidity adjustment facility (LAF) unchanged \\nat 6.25 per cent.\\n  6. Consequent upon the narrowing of the LAF corridor as elaborated in the \\naccompanying Statement on Developmental and Regulatory Policies, the reverse \\nrepo rate under the LAF is at 6.0\\n per cent, and the marginal standing facility (MSF) \\nrate and the Bank Rate are at 6.50 per cent.\\n 7. The decision of the MPC is consistent with a neutral stance of monetary policy \\nin consonance with the objective of achieving the medium\\n-term target for consume\\nr price index (CPI) inflation of 4 per cent within a band of +/\\n- 2 per cent, while \\nsupporting growth. The main considerations underlying the decision are set out in the \\n\\nstatement below.\\n Assessment\\n 8. Since the MPC met in February 2017, indicators of global gr\\nowth suggest \\nsigns of stronger activity in most advanced economies (AEs) and easing of \\n\\nrecessionary conditions in commodity exporting large emerging market economies \\n\\n(EMEs). In the US, high frequency data indicate that the labour market, industrial \\n\\nproduct\\nion and retail sales are catalysing a recovery in Q1 of 2017 from a relatively \\nsubdued performance in the preceding quarter. Nonetheless, risks to higher growth \\n\\nhave arisen from non\\n-realisation or under\\n-achievement of macroeconomic policies. In \\nthe Euro ar\\nea, the manufacturing purchasing managers™ index (PMI) rose to a six\\n-year high in March amidst improving consumer confidence and steadily strengthening \\n\\nemployment conditions. In the Japanese economy, nascent signs of revival are \\n\\nevident in the form of fall\\ning unemployment, improving business sentiment on fixed \\ninvestment, and rising exports helped by the depreciation of the yen; however, \\n\\ndeflation risks linger.  \\n 9. For EMEs, the outlook is gradually improving, with indications that the \\nslowdown characterising\\n 2016 could be bottoming out. In China, supportive \\nmacroeconomic policies, surging credit growth and a booming property market have \\n\\nheld up the momentum of growth albeit amidst concerns about financial stability and \\n\\ncapital outflows. In Brazil, hardening c\\nommodity prices are providing tailwinds to \\nreforms undertaken by the authorities to pull the economy out of recession, although \\n\\nfinancial fragilities remain a risk. Russia is benefiting from the firming up of crude \\n\\nprices and it is widely expected that gro\\nwth will return to positive territory in 2017. \\n 10. Inflation is edging up in AEs to or above target levels on the back of slowly \\ndiminishing slack, tighter labour markets and rising commodity prices. Among EMEs, \\nTurkey and South Africa remain outliers in an o\\ntherwise generalised softening of \\n\\ninflation pressures. Global trade volumes are finally showing signs of improvement \\n\\namidst shifts in terms of trade, with exports rising strongly in several EMEs as well as \\nin some AEs whose currencies have depreciated. \\n 11. International financial markets have been impacted by policy announcements \\nin major AEs, geo\\n-political events and country\\n-specific factors. Equity markets in AEs \\nwere driven up by reflation trade, stronger incoming data and currency movements. \\nEquity markets\\n in EMEs had a mixed performance, reflecting domestic factors amidst \\n',\n",
              " '3  a cautious return of investor appetite and capital flows. In the second half of March, \\ndovish guidance on US monetary policy lifted equities across jurisdictions, especially \\nin Asia, as t\\nhe reach for EME assets resumed strongly, although doubts about the \\nrealisation of US policies, Brexit and softer crude prices tempered sentiments. Bond \\nmarkets have mirrored the uncertainty surrounding the commitment to fiscal stimulus \\nin the US and yield\\ns traded sideways in AEs, while they generally eased across \\nEMEs. In the currency markets, the US dollar™s bull run lost steam by mid\\n-March. \\nEME currencies initially rose on optimism on the global outlook, but some of them \\n\\nhave weakened in recent days with\\n the fall in commodity prices. Crude prices \\ntouched a three\\n-month low in March on rising shale output and US inventories. Food \\nprices have been firming up globally, driven by cereals. \\n 12. On the domestic front, the Central Statistics Office (CSO) released its\\n second \\nadvance estimates for 2016\\n-17 on February 28, placing India™s real GVA growth at \\n6.7 per cent for the year, down from 7 per cent in the first advance estimates \\nreleased on January 6. Agriculture expanded robustly year\\n-on-year after two \\nconsecutive \\nyears of sub\\n-one per cent growth. In the industrial sector, there was a \\nsignificant loss of momentum across all categories, barring electricity generation. T\\nhe \\nservices sector also slowed,\\n pulled down by trade, hotels, transport and \\ncommunication as well a\\ns financial, real estate and professional services. Public \\nadministration, defence and other services cushioned this slowdown. To some \\nextent, government expenditure made up for weakness in private consumption and \\ncapital formation.\\n 13. Several indicators are \\npointing to a modest improvement in the \\nmacroeconomic outlook. Foodgrains production has touched an all\\n-time high of 272 \\nmillion tonnes, with record production of rice, wheat and pulses. The record \\nproduction of wheat should boost procurement operations an\\nd economise on imports, \\n\\nwhich had recently surged. Rice stocks, which had depleted to close to the minimum \\nbuffer norm, have picked up with kharif procurement. The bumper production of \\npulses has helped in building up to the intended buffer stock (i.e., 20\\n lakh tonnes) \\nand this will keep the price of pulses under check \\nŒ the domestic price of pulses has \\nalready fallen below the minimum support price (MSP). \\n 14. Industrial output, measured by the index of industrial production (IIP), \\nrecovered in January from a \\ncontraction in the previous month, helped by a broad\\n-\\nbased turnaround in manufacturing as well as mining and quarrying. Capital goods \\nproduction improved appreciably, although this largely reflected the waning of \\n\\nunfavourable base effects. Consumer non\\n-durables continued, however, to contract \\nfor the second successive month in spite of supportive base effects. Thus, \\n\\ninvestment and rural consumption demand remain muted. The output of core \\nindustries moderated in February due to slowdown in production of all \\nthe \\ncomponents except coal. The manufacturing purchasing managers™ index (PMI) \\n\\nremained in expansion mode in February and rose to a five month high in March on \\nthe back of growth of new orders and output. The future output index also rose \\nstrongly on forec\\nasts of pick\\n-up in demand and the launch of new product lines. The \\n77th round of the Reserve Bank™s industrial outlook survey indicates that overall \\n\\nbusiness sentiment is expected to improve in Q1 of 2017\\n-18 on the back of a sharp \\npick up in both domestic \\nand external demand. Coincident indicators such as exports \\nand non\\n-oil non\\n-gold imports are indicative of a brighter outlook for industry, although \\nthe sizable under\\n-utilisation of capacity in several industries could operate as a drag \\non investment. \\n ',\n",
              " '4  15. Acti\\nvity in the services sector appears to be improving as the constraining \\neffects of demonetisation wear off. On the one hand, rural demand remains \\ndepressed as reflected in lower sales of two\\n- and three\\n-wheelers and fertiliser. On \\nthe other hand, high frequ\\nency indicators relating to railway traffic, telephone \\nsubscribers, foreign tourist arrivals, passenger car and commercial vehicles are \\nregaining pace, thereby positioning the services sector on a rising trajectory.  After \\nthree consecutive months of contr\\naction, the services PMI for February and March \\nemerged into the expansion zone on improvement in new business. \\n 16. After moderating continuously over the last six months to a historic low, retail \\ninflation measured by year\\n-on-year changes in the consumer pri\\nce index (CPI) turned \\nup in February to 3.7 per cent. While food prices bottomed out at the preceding \\nmonth™s level, base effects pushed up inflation in this category. Prices of sugar, fruits, \\nmeat, fish, milk and processed foods increased, generating a si\\nzable jump in the \\nmomentum in the food group. In the fuel group, inflation increased as the continuous \\nhardening of international prices lifted domestic prices of liquefied petroleum gas \\nduring December 2016 \\nŒ February 2017. Kerosene prices have also been \\nincreasing \\nsince July with the programmed reduction of the subsidy. Adapting to the movements \\n\\nin these salient prices, both three months ahead and a year ahead households™ \\ninflation expectations, which had dipped in the December round of the Reserve \\nBank™s\\n survey, reversed in the latest round. Moreover, the survey reveals hardening \\nof price expectations across product groups. The 77th round of the Reserve Bank™s \\nindustrial outlook survey indicates that pricing power is returning to corporates as \\n\\nprofit marg\\nins get squeezed by input costs. \\n 17. Excluding food and fuel, inflation moderated in February by 20 basis points to \\n4.8 per cent, essentially on transient and item\\n-specific factors. In February, \\nfavourable base effects were at work in the clothing and bedding\\n sub\\n-group as well \\nas in personal care and effects, the latter also influenced by the disinflation in gold \\nprices. The volatility in crude oil prices and its lagged pass\\n-through are impacting the \\ntrajectory of CPI inflation excluding food and fuel. Much of\\n the impact of the fall of US \\n$4.5 per barrel in international prices of crude since early February would feed into \\nthe CPI print in April as its cumulative pass\\n-through occurred with a lag in the first \\nweek of this month. Importantly, inflation excluding \\nfood and fuel has exhibited \\npersistence and has been significantly above headline inflation since September \\n2016. \\n 18. With progressive remonetisation, the surplus liquidity in the banking system \\ndeclined from a peak of \\n` 7,956 billion on January 4, 2017 to an\\n average of \\n` 6,014 \\nbillion in February and\\n further down to \\n` 4,806 billion in March.\\n Currency in circulation \\nexpanded steadily during this period. Its impact on the liquidity overhang was, \\nhowever, partly offset by a significant decline in cash balances o\\nf the Government up \\nto mid\\n-March which released liquidity into the system. Thereafter, the build\\n-up of \\nGovernment cash balances on account of advance tax payments and balance sheet \\nadjustment by banks reduced surplus liquidity to \\n` 3,141 billion by end\\n-Mar\\nch. \\nIssuances of cash management bills (CMBs) under the market stabilisation scheme \\n(MSS) ceased in mid\\n-January and existing issues matured, with the consequent \\nrelease of liquidity being absorbed primarily through variable rate reverse repo \\nauctions of va\\nrying tenors.\\n  Accordingly, the average net absorption by the Reserve \\nBank increased from \\n` 2,002 billion in January to \\n` 4,483 billion in March. The \\nweighted average call money rate (WACR) remained within the LAF corridor. The \\nmaturing of CMBs and reduced\\n issuance of Treasury bills leading up to end\\n-March \\nhas also contributed to Treasury bill rates being substantially below the policy rate.\\n    ',\n",
              " '5  19. Merchandise exports rose strongly in February 2017 from a subdued profile in \\nthe preceding months. Growth impulses\\n were broad\\n-based, with major contributors \\nbeing engineering goods, petroleum products, iron ore, rice and chemicals. The \\nsurge in imports in January and February 2017 largely reflected the effect of the \\n\\nhardening of commodity prices such as crude oil and \\ncoal. Non\\n-oil non\\n-gold imports \\ncontinued to grow at a modest pace, though capital goods imports remained \\n\\nsluggish. With imports outpacing exports, the trade deficit widened in January and \\nFebruary from its level a year ago, though it was lower on a cumulat\\nive basis for the \\nperiod April\\n-February 2016\\n-17. \\n 20. Balance of payments data for Q3 indicate that the current account deficit for \\nthe first three quarters of the financial year narrowed to 0.7 per cent of GDP, half of \\nits level a year ago. For the year as a \\nwhole, the current account deficit is likely to \\nremain muted at less than 1 per cent of GDP. Foreign direct investment (FDI) has \\ndominated net capital inflows during April\\n-December, with\\n manufacturing, \\ncommunication and financial services being the preferr\\ned sectors. Turbulence in \\nglobal financial markets set off a bout of global risk aversion and flight to safe haven \\nthat caused net outflows of foreign portfolio investment (FPI) during November 2016 \\nto January 2017. The tide reversed with the pricing in of\\n the Fed™s normalisation path \\nand improvement in global growth prospects. FPI flows turned positive in February \\nand welled up into a surge in March, especially in debt markets relative to equity \\nmarkets (which had been the dominant recipient until February\\n). This reversal \\nappears to have been driven by stable domestic inflation, better than expected \\ndomestic growth, encouraging corporate earnings, clarity on FPI taxation, pro\\n-reform \\nbudget proposals and state election results. The level of foreign exchange \\nreserves \\nwas US$ 369.9 billion on March 31, 2017.\\n Outlook\\n 21. Since the February bi\\n-monthly monetary policy statement, inflation has been \\nquiescent. Headline CPI inflation is set to undershoot the target of 5.0 per cent for Q4 \\nof 2016\\n-17 in view of the sub\\n-4 per cent readings for January and February. For \\n2017-18, inflation is projected to average 4.5 per cent in the first half of the year and \\n5 per cent in the second half (Chart 1). \\n 22. Risks are evenly balanced around the inflation trajectory at the current \\njunc\\nture. There are upside risks to the baseline projection. The main one stems from \\nthe uncertainty surrounding the outcome of the south west monsoon in view of the \\n\\nrising probability of an \\nEl Niño\\n event around July\\n-August, and its implications for food \\ninfla\\ntion. Proactive supply management will play a critical role in staving off pre\\nssures \\non headline\\n inflation.\\n A prominent risk could emanate from managing the \\nimplementation of the allowances recommended by the 7\\nth CPC. In case the increase \\nin house rent all\\nowance as recommended  by the 7\\nth CPC is awarded, it will push up \\nthe baseline trajectory by an estimated 100\\n-150 basis points over a period of 12\\n-18 months, with this initial statistical impact on the CPI followed up by second\\n-order \\neffects. Another upsid\\ne risk arises from the one\\n-off effects of the GST. The general \\ngovernment deficit, which is high by international comparison, poses yet another risk \\n\\nfor the path of inflation, which is likely to be exacerbated by farm loan waivers. \\n\\nRecent global developmen\\nts entail a reflation risk which may lift commodity prices \\n\\nfurther and pass through into domestic inflation. Moreover, geopolitical risks may \\n\\ninduce global financial market volatility with attendant spillovers. On the downside, \\n\\ninternational crude prices h\\nave been easing recently and their pass\\n-through to \\ndomestic prices of petroleum products should alleviate pressure on headline inflation. \\n',\n",
              " '6  Also, stepped\\n-up procurement operations in the wake of the record production of \\nfoodgrains will rebuild buffer stocks \\nand mitigate food price stress, if it materialises. \\n 23. GVA growth is projected to strengthen to 7.4 per cent in 2017\\n-18 from 6.7 per \\ncent in 2016\\n-17, with risks evenly balanced (Chart 2). \\n 24. Several favourable domestic factors are expected to drive this accele\\nration. \\nFirst, the pace of remonetisation will continue to trigger a rebound in di\\nscretionary \\nconsumer spending. \\nActivity in cash\\n-intensive retail trade, hotels and restaurants, \\ntransportation and unorganised segments has largely been restored. Second, \\nsignificant improvement in transmission of past policy rate reductions into banks™ \\nlending rates post demonetisation should help encourage both consumption and \\ninvestment demand of healthy corporations. Third, various proposals in the Union \\nBudget should sti\\nmulate capital expenditure, rural demand, and social and physical \\ninfrastructure all of which would invigorate economic activity. Fourth, the imminent \\nmaterialisation of structural reforms in the form of the roll\\n-out of the GST, the \\ninstitution of the Inso\\nlvency and Bankruptcy Code, and the abolition of the Foreign \\nInvestment Promotion Board will boost investor confidence and bring in efficiency \\ngains. Fifth, the upsurge in initial public offerings in the primary capital market augurs \\nwell for investment an\\nd growth. \\n 25. The global environment is improving, with global output and trade projected by \\nmultilateral agencies to gather momentum in 2017. Accordingly, external demand \\n\\nshould support domestic growth. Downside risks to the projected growth path stem \\nfrom t\\nhe outturn of the south west monsoon; ebbing consumer optimism on the \\n\\noutlook for income, the general economic situation and employment as polled in the \\n\\nMarch 2017 round of the Reserve\\n Bank™s consumer confidence survey; and, \\ncommodity prices, other than cr\\nude, hardening further.     \\n   26. Overall, the MPC™s considered judgement call to wait out the unravelling of the \\ntransitory effects of demonetisation has been broadly borne out. While these effects \\n\\nare still playing out, they are distinctly on the wane an\\nd should fade away by the Q4 \\nof 2016\\n-17. While inflation has ticked up in its latest reading, its path through 2017\\n-18 appears uneven and challenged by upside risks and unfavourable base effects \\n\\ntowards the second half of the year. Moreover, underlying inf\\nlation pressures persist, \\nespecially in prices of services. Input cost pressures are gradually bringing back \\n\\npricing power to enterprises as demand conditions improve. The MPC remains \\n',\n",
              " '7  committed to bringing headline inflation closer to 4.0 per cent on a dur\\nable basis and \\nin a calibrated manner. Accordingly, inflation developments have to be closely and \\ncontinuously monitored, with food price pressures kept in check so that inflation \\nexpectations can be re\\n-anchored. At the same time, the output gap is gradual\\nly \\nclosing. Consequently, aggregate demand pressures could build up, with implications \\nfor the inflation trajectory. \\n 27. Against this backdrop, the MPC decided to keep the policy rate unchanged in \\nthis review while persevering with a neutral stance. The futur\\ne course of monetary \\npolicy will largely depend on incoming data on how macroeconomic conditions are \\n\\nevolving. Banks have reduced lending rates, although further scope for a more \\ncomplete transmission of policy impulses remains, including for small \\nsavings\\n/administered rates\\n1. It is in this context that greater clarity about liquidity \\nmanagement is being provided, even as surplus liquidity is being steadily drained out. \\nAlong with rebalancing liquidity conditions, it will be the Reserve Bank™s endeavour to \\n\\nput the resolution of banks™ stressed assets on a firm footing and create congenial \\n\\nconditions for bank credit to revive and flow to productive sectors of the economy.\\n 28. Six members voted in favour of the monetary policy decision. The minutes of \\nthe MPC™s me\\neting will be published by April 20, 2017.\\n 29. The next meeting of the MPC is scheduled on June 6 and 7, 2017.\\n  Voting on the Resolution to keep the policy repo rate unchanged at 6.25 per \\ncent Member\\n Vote\\n Dr. Chetan Ghate \\n Yes\\n Dr. Pami Dua\\n  Yes\\n Dr. Ravindra\\n H. Dholakia \\n Yes\\n Dr. Michael Debabrata Patra\\n Yes\\n Dr. Viral V. Acharya\\n Yes\\n Dr. Urjit R. Patel\\n Yes\\n   Statement by Dr. Chetan Ghate\\n  30. Core inflation (CPI inflation excluding food and fuel) continues to be sticky, \\nand its persistence poses upside risks for\\n meeting the medium\\n-term inflation target of \\n4 per cent within a band of +/\\n- 2 per cent. Other exclusion based measures also \\nremain elevated, although there have been transient declines in the demonetisation \\nperiod. There has also been an inching up in the\\n median 3 month and 1 year ahead \\ninflationary expectations. The recent decline in headline inflation has been driven \\n\\ncompletely by food inflation and is likely to reverse in the summer months. \\n 31. A strong upside risk to the inflation trajectory is the HRA im\\nplementation of the \\n7th Pay Commission. This needs to be watched carefully in terms of (i) to what extent \\n                                                 1 Since the introduction of the formula in April 2016, interest rates on small savings are about 61\\n-95 basis points \\nhigher, depending on tenor, compared to what they should be if the formula is followed. If the spread between \\nsmall savings rates and bond yie\\nlds remains wide, the diversion of deposits to small savings would impede a full \\ntransmission to bank lending rates.\\n ',\n",
              " '8  the increase in the centre HRA is matched by state HRAs; and (ii) the extent to which \\nthe centre and state HRAs are implemented simultaneously (which \\nmeans the \\ninflationary effects will be stronger) or is staggered (which means the inflationary \\neffect will be weaker). While we should see through any statistical effects from an \\n\\nincrease in the HRA, the size of the second round effects may potentially be \\nlarge \\ndepending on the extent and manner in which the HRA implementation takes place, \\nin which case, there may be a need for a monetary policy response.  Our focus on \\nmeeting the medium\\n-term inflation target should remain laser sharp in light of such \\nrisks\\n. 32. Since the last review, there is more clarity from both ﬁsoftﬂ data (based on \\nsurveys), and ﬁhardﬂ data (based on actual economic performance), that the overall \\nimpact of demonetisation on the real economy has been transient.  Importantly, the \\nPMI in serv\\nices has come out of contraction mode. The impact of demonetisation on \\nRabi sowing has also been very modest and transient \\nŒ with a good monsoon and \\nthe strategic timing of the MSP helping in this regard. The performance of the real \\n\\nestate sector listed co\\nmpanies has seen an improvement. Large and medium \\nindustries have also recovered handsomely in terms of demand after demonetisation, \\nalthough the small and micro sectors continue to be adversely affected. Overall, the \\noutput gap, while marginally negative,\\n is closing gradually leading to the possible \\nbuilding up of inflationary pressures\\n 33. As I mentioned in the last review, the pace of the ending of the re\\n-investment \\nof principal payments by the US Fed from its balance sheet holdings needs to be \\n\\nwatched caref\\nully, as also the extent to which such a ﬁbalance sheet reductionﬂ by \\nthe Fed, as well as rises in the Fed funds rate, are disruptive for financial markets.  \\n 34. Taking into account these considerations, I vote for keeping the policy repo \\nrate unchanged at 6.\\n25 per cent at today™s meeting of the Monetary Policy \\nCommittee.\\n  Statement by Dr. Pami Dua\\n  35. Several factors indicate positive and modest growth in the economy. The \\nremonetisation drive is progressing well, with the currency in circulation restored to \\nalmo\\nst 75 per cent of its value by end March of this year, which is expected to \\nsupport discretionary spending. Spending in cash\\n-intensive activities such as hotels, \\nrestaurants, transportation and the unorganised sectors is also on the rise. Further, a \\n\\ndecrea\\nse in bank lending rates due to a delayed transmission of policy rate \\n\\nreductions in the past augurs well for the economy and may enhance consumption \\n\\nand investment spending. Various measures outlined in the Union Budget 2017\\n-18 are conducive to growth in k\\ney sectors including the rural economy, infrastructure \\nand housing, and are expected to have multiplier effects. The March 2017 round of \\n\\nthe Industrial Outlook Survey undertaken by the Reserve Bank also shows \\n\\nimprovement in sentiment in the corporate secto\\nr. On the external front, \\npositive \\n\\nsigns of growth across Advanced and Emerging Market Economies may boost \\n\\ndemand for Indian exports. This optimism regarding domestic and global economic \\n\\ngrowth is also reflected in the leading indexes compiled by the Econo\\nmic Cycle \\n\\nResearch Institute (ECRI), New York. \\n ',\n",
              " '9  36. On the inflation front, CPI inflation remained soft, primarily due to lower food \\nprices, as vegetable prices declined, possibly due to distress sales as a result of \\ndemonetisation. However, core inflation (ex\\ncluding food and fuel) continues to be \\nhigher, although it moderated slightly to 4.8 per cent in February. At the same time, \\nupside risks to inflation remain, including remonetisation, rising rural wages, \\nnarrowing output gap, implementation of 7\\nth CPC™s h\\nigher house rent allowances, \\nrollout of GST, possibility of \\nEl Nino\\n conditions, higher global commodity prices, \\nuncertainty regarding prices of crude oil and exchange rate volatility. A Survey of \\nHouseholds Inflation Expectations undertaken by the Reserve \\nBank in March 2017 \\nalso indicates a rise in 3\\n-month and 1\\n-year ahead inflation expectations. \\nFurthermore, ECRI™s Indian Future Inflation Gauge, a harbinger of Indian inflation, \\n\\nindicates some firming in inflation pressures.\\n  Statement by Dr. Ravindra H. Dh\\nolakia  37. The effects of demonetisation on the Indian economy so far have turned out to \\nbe transitory and of lower magnitude vindicating our stand earlier.  There are \\nindications of a modest improvement in the domestic macroeconomic performance. \\n\\nThe global o\\nutlook for growth, trade and prices has also improved. It is likely to have \\n\\na favourable impact on Indian exports and the economy. The manufacturing \\n\\npurchasing managers™ index (PMI) and the Reserve Bank surveys also point to better \\n\\nsentiments on both the d\\nomestic and external demand. However, the capacity \\n\\nutilisation in industries has remained persistently low indicating at least continuing, if \\n\\nnot widening, output gap. Against this, the headline inflation has been substantially \\n\\nbelow 4 per cent largely on \\naccount of vegetables and pulses. Inflation excluding \\n\\nfood and fuel (core inflation) has been fairly sticky though has marginally declined to \\n\\n4.8 per cent in February. Surplus liquidity in the economy since January 2017 has \\nbeen steadily declining from \\n` 8 trillion to \\n` 4.8 trillion in March 2017.  \\n 38. The core inflation according to my calculations is likely to show a declining \\ntrend over the year.  Moreover, the dynamics of pass\\n-through from the non\\n-core to \\nthe core inflation is changing such that volatility\\n in the food/fuel prices would \\npenetrate into core less easily than before. Oil prices according to me are not \\nexpected to stay high consistently. Simultaneous implementation of house rent \\n\\nallowances recommended by the 7\\nth CPC by the Centre and all State g\\novernments is \\nless likely and consequently its impact on inflation during 2017\\n-18 may not be as high \\nas 1 to 1.5 percentage points. The rising probability of \\nEl Nino\\n event around July\\n-August may adversely affect food production but may not seriously impact\\n the food \\nprices in view of comfortable buffer stocks. The GST implementation may not \\n\\nsubstantially impact the headline inflation because of multi\\n-tier rate system.  \\n 39. In view of all this, the inflation projection according to my calculations is an \\naverage \\nof around 4 per cent for the first half of 2017\\n-18 and around 4.5 per cent for \\nthe second half of the year.  Given the surplus liquidity still floating in the system, any \\nchange in the policy rate is not desirable at this stage. The liquidity position is \\nexpected to return to the normal level consistent with the neutral stance soon.\\n    ',\n",
              " \"10   Statement by Dr. Michael Debabrata Patra\\n 40. True to projections made at the time of the last meeting of the Committee, \\ninflation is turning up. It seems to me that it is coming o\\nut of the U\\n-shaped \\ncompression imposed by demonetisation and is now positioned on the rising \\nslope.\\n Several factors merit pre\\n-emptive concern.\\n 41. First, just as it drove a disinflation that started in August \\nŒ well before \\ndemonetisation, which is responsible \\nonly for the sub\\n-4 per cent trough \\nŒ it is food \\nthat has pushed up headline inflation in February. And it is not the usual suspect \\nŒ vegetables. It is the more sinister elements \\nŒ protein\\n-rich items other than pulses; \\ncereals; sugar. When inflation rears i\\nts ugly head in these items, experience suggests \\nit is likely to stay.\\n  42. Second, inflation excluding food and fuel has been unrelenting. It is only in the \\nFebruary reading that there is a small downward movement, but is it sustainable? I \\n\\nthink not: it is it\\nem-specific rather than generalised. If staff's projections are indicative, \\ninflation excluding food and fuel will probably run ahead of headline inflation \\n\\nthroughout 2017\\n-18.  43. The consequence of the firming up of these salient prices is that inflation \\nexp\\nectations have reversed and hardened, and not just in the near term but also a \\nyear ahead and across all product groups. Consumer confidence in the price \\n\\nsituation has deteriorated. Firms are regaining pricing power.\\n  44. Third, high frequency indicators may b\\ne indicating that demonetisation \\naffected actual output rather than potential. With remonetisation, therefore, the output \\n\\ngap may close sooner than expected \\nŒ perhaps at a sub\\n-optimal level since there is \\nslack in several industries \\nŒ and demand pressures \\ncould soon confront the path of \\ninflation in the months ahead.\\n  45. These developments suggest to me that momentum is gathering underneath \\ninflation developments, which appear benign at this juncture. In the second half of \\n\\n2017-18, favourable base effects fade\\n, and if food inflation rises alongside the \\nstickiness in underlying inflation, it could become a perfect storm.\\n  46. So much for the ingredients of inflation.\\n Let me turn to costs.\\n  47. The most important cost push will emanate from the 7\\nth pay commission's \\nhouse\\n rent allowance. The first order statistical impact on the CPI may take headline \\ninflation to or beyond the upper tolerance band. Second order effects will work \\n\\nthrough expectations and ‚Deusenberry effects™ as it spreads to states, PSUs, \\n\\nuniversities, and\\n onwards. These effects will occur on top of the first order effect and \\n6 per cent plus inflation could be here to stay for some time.\\n  48. The second one is the one off effect of the GST \\n- small relative to the 7\\nth pay \\ncommission and short lived, it could sti\\nll last a year and push up inflation.\\n  49. Third, several administered price elements are being adjusted upwards \\nŒ milk; \\ngas; kerosene; the MSP, as usual \\nŒ and they will take their toll on headline inflation.\\n  50. Finally, let me turn to the elephants in the room,\\n keeping in mind that whether \\nelephants fight or play, the grass suffers.\\n  \",\n",
              " '11  51. Closest to home is the south west monsoon. The probability of an \\nEl Niño\\n event is rising and if food inflation gets entrenched as it did in 2009 in the trail of a \\nsub\\n-normal monsoon\\n, there will be second order effects. \\n 52. The second one is imported inflation, including through bouts of financial \\nmarket turbulence and the rising tide of protectionism.\\n 53. The third is global inflation \\nŒ mercury is rising across advanced economies \\nand it can\\nnot be that India will be immune to it.\\n Normalisation of monetary policy has \\nbegun in those economies, and it is not just the raising of policy rates/short\\n-term \\nrates. Normalising overly distended balance sheets can produce tightening of longer \\nrates as we\\nll. \\n  54. To sum up, I believe that a pre\\n-emptive 25 basis points increase in the policy \\nrate now will point us better at the target of 4 per cent to which the Committee has \\ncommitted explicitly. It will also obviate the need for back\\n-loaded policy action late\\nr when inflation is unacceptably high and entrenched.\\n On balance, however, I vote for \\nholding the policy rate unchanged in this bi\\n-monthly meeting and await a few more \\nreadings of incoming data so that remaining transitory factors have passed and a \\nclearer\\n assessment of domestic and global macroeconomic conditions emerges.\\n  Statement by Dr. Viral V. Acharya\\n  55. Headline inflation is set to rebound from its recent lows due to the expected \\n(and in the past \\nmonth\\n, realized) mean\\n-reversion in food inflation, espec\\nially in \\nvegetables.  Global inflationary trends have remained on the upside too.  There is \\nsome uncertainty as to when the headline inflation might cross the target inflation rate \\n\\nof 4 \\nper cent\\n and keep inching above, given that inflation without food and\\n fuel is \\nstubbornly above the target rate.  We have laid out in the resolution several upside \\n\\nrisks, of which geopolitical risks and undoing of the center™s fiscal discipline by the \\n\\nstates concern me the most. Commodity prices, especially crude, have been \\nvolatile \\n\\nand so has the exchange rate.  Hence, risks are evenly balanced around the inflation \\n\\noutlook. \\n 56. On the growth front, the remonetisation is continuing apace and many sectors \\nof the economy are recovering steadily after the transient slowdown.  There\\n are signs \\nthough that the recovery is somewhat uneven. Private investment, given the high \\n\\nindebtedness of several stressed sectors, remains a particularly weak spot.  \\n\\nHousehold expectations of income, spending and employment appear to have \\n\\nweakened, but m\\nay be anchored to the past few months and need to be tracked in \\nthe coming months.  Other signs of economic activity paint a rosier picture for the \\n\\ngrowth over the next year, with the external sector having been remarkably resilient. \\n 57. Should an inflation\\n-targeting central bank react to a narrowing output gap in \\nsuch a scenario? Given the balanced nature of risks and uncertainty that abounds, I \\nlean towards continuing the neutral stance and pause for now. There are many \\n\\nimportant issues to attend to, notably\\n (i) resolving  bank stressed assets and \\ncorrecting  weak bank balance\\n-sheets;\\n (ii) mopping up in a more durable manner the \\nsurplus liquidity sloshing around post\\n-demonetisation and which is keeping short\\n-term money market rates away from \\nthe policy rate; and (iii) unleashing  the true \\npotential of our capital markets further, by enhancing liquidity in the corporate bond \\n',\n",
              " '12  market, and improving the ease and the suite of financial hedging options.  It seems \\nan opportune time to focus on these \\nissues. \\n  Statement by Dr. Urjit R. Patel\\n 58. After reaching a historic low in January 2017, CPI inflation in February 2017 \\nedged up, as expected. However, in all probability, inflation will significantly \\nundershoot the 5 per cent target set for Q4 of 2016\\n-17. Vegetable prices, which had \\ndeclined sharply during November 2016 to January 2017, seem to have stabilised but \\n\\nmay go up in the coming months due to a seasonal pick up. CPI inflation excluding \\n\\nfood and fuel remained sticky, especially services. Also, \\ngiven the volatility in the CPI, \\n\\nit is not easy to read its evolution. The outlook for inflation faces several other risks. \\n\\nInput costs have been rising, which could be passed on to output prices as demand \\n\\nstrengthens. Further, the implementation of the HR\\nA allowances recommended as \\npart of the 7\\nth CPC and the GST are risks, which could alter the inflation outturn in \\n2017-18. Uncertainty about the crude oil price trajectory is both ways given recent \\nmovements. Heightened geo\\n-political risks continue to impa\\nrt financial volatility in \\nglobal markets.\\n 59. The latest data released by the CSO suggested that the impact of \\ndemonetisation on economic activity was modest. Economic activity is expected to \\n\\npick up in 2017\\n-18, although there is the usual uncertainty about t\\nhe monsoon at this \\nstage. Several lead indicators suggest some improvement in the economic outlook. \\n\\nThe industrial outlook survey of the Reserve Bank suggests positive outlook for the \\n\\nmanufacturing sector. However, investment activity continues to be weak,\\n but which \\nis unsurprising given the headroom with respect to capacity utilisation in industry \\n\\n(Reserve Bank surveys).\\n 60. Demonetisation induced liquidity facilitated faster monetary transmission. \\nThere is still room for banks to cut lending rates.  For effic\\nient transmission, it is \\nimportant that interest rates on small savings are not out of line with interest rates on \\n\\nother comparable instruments in the financial system.\\n 61. Notwithstanding likely favourable base\\n-effects in the next few months, the \\noutlook for \\ninflation calls for close vigilance with a view to ensuring that the medium\\n-term inflation trajectory evolves in line with the objective of bringing headline inflation \\n\\ncloser to 4.0 per cent on a durable basis and in a calibrated manner. Therefore, I vote \\nfor maintaining the \\nstatus quo\\n in both the policy repo rate, and the stance. \\n                          \\n      \\nAjit Prasad \\n  Press Release : 201\\n6-2017/2844                             \\n                   \\n     \\nAssistant \\nAdviser\\n       ']"
            ]
          },
          "metadata": {
            "tags": []
          },
          "execution_count": 125
        }
      ]
    },
    {
      "cell_type": "code",
      "metadata": {
        "id": "E60cQXDyxqVp",
        "colab_type": "code",
        "colab": {}
      },
      "source": [
        "from sklearn.feature_extraction.text import CountVectorizer\n",
        "vectoriser = CountVectorizer().fit(Dup_All_Docs)\n",
        "X = vectoriser.transform(Dup_All_Docs)\n",
        "df=pd.DataFrame(X.A, columns=sorted(vectoriser.vocabulary_.keys(), key=lambda k: vectoriser.vocabulary_[k]))"
      ],
      "execution_count": 0,
      "outputs": []
    },
    {
      "cell_type": "code",
      "metadata": {
        "id": "cudihFWZ98yN",
        "colab_type": "code",
        "colab": {
          "base_uri": "https://localhost:8080/",
          "height": 204
        },
        "outputId": "845959bb-6817-4763-80d8-c0b25fe0b7ad"
      },
      "source": [
        "df_page=pd.DataFrame(data=Dup_All_Docs)\n",
        "df_page.head()"
      ],
      "execution_count": 133,
      "outputs": [
        {
          "output_type": "execute_result",
          "data": {
            "text/html": [
              "<div>\n",
              "<style scoped>\n",
              "    .dataframe tbody tr th:only-of-type {\n",
              "        vertical-align: middle;\n",
              "    }\n",
              "\n",
              "    .dataframe tbody tr th {\n",
              "        vertical-align: top;\n",
              "    }\n",
              "\n",
              "    .dataframe thead th {\n",
              "        text-align: right;\n",
              "    }\n",
              "</style>\n",
              "<table border=\"1\" class=\"dataframe\">\n",
              "  <thead>\n",
              "    <tr style=\"text-align: right;\">\n",
              "      <th></th>\n",
              "      <th>0</th>\n",
              "    </tr>\n",
              "  </thead>\n",
              "  <tbody>\n",
              "    <tr>\n",
              "      <th>0</th>\n",
              "      <td>1   \\n \\n  PRESS\\n RELEASE\\n \\n \\n, \\n \\n, \\n\\...</td>\n",
              "    </tr>\n",
              "    <tr>\n",
              "      <th>1</th>\n",
              "      <td>2  Resolution\\n 5. On \\nthe\\n basis of an asse...</td>\n",
              "    </tr>\n",
              "    <tr>\n",
              "      <th>2</th>\n",
              "      <td>3  month low in\\n March, have recently witness...</td>\n",
              "    </tr>\n",
              "    <tr>\n",
              "      <th>3</th>\n",
              "      <td>4  acreage and low soil moisture, but imports ...</td>\n",
              "    </tr>\n",
              "    <tr>\n",
              "      <th>4</th>\n",
              "      <td>5  large tax \\ncollections. After turning into...</td>\n",
              "    </tr>\n",
              "  </tbody>\n",
              "</table>\n",
              "</div>"
            ],
            "text/plain": [
              "                                                   0\n",
              "0  1   \\n \\n  PRESS\\n RELEASE\\n \\n \\n, \\n \\n, \\n\\...\n",
              "1  2  Resolution\\n 5. On \\nthe\\n basis of an asse...\n",
              "2  3  month low in\\n March, have recently witness...\n",
              "3  4  acreage and low soil moisture, but imports ...\n",
              "4  5  large tax \\ncollections. After turning into..."
            ]
          },
          "metadata": {
            "tags": []
          },
          "execution_count": 133
        }
      ]
    },
    {
      "cell_type": "code",
      "metadata": {
        "id": "uR64ay5l-ZZX",
        "colab_type": "code",
        "colab": {}
      },
      "source": [
        ""
      ],
      "execution_count": 0,
      "outputs": []
    }
  ]
}