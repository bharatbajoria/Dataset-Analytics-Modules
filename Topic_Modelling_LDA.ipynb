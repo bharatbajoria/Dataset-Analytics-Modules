{
  "nbformat": 4,
  "nbformat_minor": 0,
  "metadata": {
    "colab": {
      "name": "Topic Modelling - LDA.ipynb",
      "provenance": [],
      "collapsed_sections": [],
      "toc_visible": true,
      "authorship_tag": "ABX9TyMO99+JKpAU1y0kwvt2gkzM",
      "include_colab_link": true
    },
    "kernelspec": {
      "name": "python3",
      "display_name": "Python 3"
    }
  },
  "cells": [
    {
      "cell_type": "markdown",
      "metadata": {
        "id": "view-in-github",
        "colab_type": "text"
      },
      "source": [
        "<a href=\"https://colab.research.google.com/github/bharatbajoria/Summer-Internship/blob/master/Topic_Modelling_LDA.ipynb\" target=\"_parent\"><img src=\"https://colab.research.google.com/assets/colab-badge.svg\" alt=\"Open In Colab\"/></a>"
      ]
    },
    {
      "cell_type": "markdown",
      "metadata": {
        "id": "pDnh2YCh6hqd",
        "colab_type": "text"
      },
      "source": [
        "## PDF Reading"
      ]
    },
    {
      "cell_type": "code",
      "metadata": {
        "id": "wghEQ7A26vnU",
        "colab_type": "code",
        "outputId": "d3fdfdfe-7ec8-40d6-f093-e9db057ad735",
        "colab": {
          "base_uri": "https://localhost:8080/",
          "height": 207
        }
      },
      "source": [
        "pip install pyPDF2"
      ],
      "execution_count": 0,
      "outputs": [
        {
          "output_type": "stream",
          "text": [
            "Collecting pyPDF2\n",
            "\u001b[?25l  Downloading https://files.pythonhosted.org/packages/b4/01/68fcc0d43daf4c6bdbc6b33cc3f77bda531c86b174cac56ef0ffdb96faab/PyPDF2-1.26.0.tar.gz (77kB)\n",
            "\r\u001b[K     |████▎                           | 10kB 15.0MB/s eta 0:00:01\r\u001b[K     |████████▌                       | 20kB 1.7MB/s eta 0:00:01\r\u001b[K     |████████████▊                   | 30kB 2.5MB/s eta 0:00:01\r\u001b[K     |█████████████████               | 40kB 1.7MB/s eta 0:00:01\r\u001b[K     |█████████████████████▏          | 51kB 2.1MB/s eta 0:00:01\r\u001b[K     |█████████████████████████▍      | 61kB 2.4MB/s eta 0:00:01\r\u001b[K     |█████████████████████████████▋  | 71kB 2.8MB/s eta 0:00:01\r\u001b[K     |████████████████████████████████| 81kB 2.5MB/s \n",
            "\u001b[?25hBuilding wheels for collected packages: pyPDF2\n",
            "  Building wheel for pyPDF2 (setup.py) ... \u001b[?25l\u001b[?25hdone\n",
            "  Created wheel for pyPDF2: filename=PyPDF2-1.26.0-cp36-none-any.whl size=61086 sha256=979413f48274244487e948cb7ade0e4012a203ecfc321e05bd6e65fa12fd8d86\n",
            "  Stored in directory: /root/.cache/pip/wheels/53/84/19/35bc977c8bf5f0c23a8a011aa958acd4da4bbd7a229315c1b7\n",
            "Successfully built pyPDF2\n",
            "Installing collected packages: pyPDF2\n",
            "Successfully installed pyPDF2-1.26.0\n"
          ],
          "name": "stdout"
        }
      ]
    },
    {
      "cell_type": "code",
      "metadata": {
        "id": "JCCjhlye691F",
        "colab_type": "code",
        "colab": {}
      },
      "source": [
        "import PyPDF2"
      ],
      "execution_count": 0,
      "outputs": []
    },
    {
      "cell_type": "code",
      "metadata": {
        "id": "0T3rV4tE6_7g",
        "colab_type": "code",
        "colab": {}
      },
      "source": [
        "#Taking file input\n",
        "#number of files\n",
        "nf=2\n",
        "\n",
        "file= open('Apr-18.PDF','rb')\n",
        "file1= open('Apr-17.PDF','rb')\n",
        "  "
      ],
      "execution_count": 0,
      "outputs": []
    },
    {
      "cell_type": "code",
      "metadata": {
        "id": "4IBG24-_ETeX",
        "colab_type": "code",
        "colab": {}
      },
      "source": [
        "#A list of files\n",
        "file_list=[file,file1]"
      ],
      "execution_count": 0,
      "outputs": []
    },
    {
      "cell_type": "code",
      "metadata": {
        "id": "hAOpKwg9Bbej",
        "colab_type": "code",
        "colab": {}
      },
      "source": [
        "# Reading number of pages\n",
        "pages=[]\n",
        "\n",
        "for i in range(nf):\n",
        "  pdfReader = PyPDF2.PdfFileReader(file_list[i])\n",
        "  n1=pdfReader.numPages\n",
        "  pages.append(n1)"
      ],
      "execution_count": 0,
      "outputs": []
    },
    {
      "cell_type": "code",
      "metadata": {
        "id": "13_u607DEFrA",
        "colab_type": "code",
        "colab": {}
      },
      "source": [
        "# A list containing all files, All_Docs[i] is i-th file \n",
        "# All_Docs[i][j] is j-th page of i-th file\n",
        "All_Docs=[] "
      ],
      "execution_count": 0,
      "outputs": []
    },
    {
      "cell_type": "code",
      "metadata": {
        "id": "C8KxYqUEByoC",
        "colab_type": "code",
        "colab": {}
      },
      "source": [
        "\n",
        "for j in range(nf):\n",
        "  pdfReader = PyPDF2.PdfFileReader(file_list[j])\n",
        "  file_text=[] #takes string of page text\n",
        "  for i in range(pages[j]):\n",
        "    pageObj = pdfReader.getPage(i)\n",
        "    a=pageObj.extractText()\n",
        "    file_text.append(a)\n",
        "  \n",
        "  All_Docs.append(file_text)"
      ],
      "execution_count": 0,
      "outputs": []
    },
    {
      "cell_type": "code",
      "metadata": {
        "id": "2pyakOURCtMg",
        "colab_type": "code",
        "outputId": "8f7fe655-bf93-4b65-d930-ec09b1615c02",
        "colab": {
          "base_uri": "https://localhost:8080/",
          "height": 34
        }
      },
      "source": [
        "type(All_Docs[0][1]),type(All_Docs[0])"
      ],
      "execution_count": 0,
      "outputs": [
        {
          "output_type": "execute_result",
          "data": {
            "text/plain": [
              "(str, list)"
            ]
          },
          "metadata": {
            "tags": []
          },
          "execution_count": 8
        }
      ]
    },
    {
      "cell_type": "markdown",
      "metadata": {
        "id": "wOYeMBRtPUxA",
        "colab_type": "text"
      },
      "source": [
        "# Finding Optimal number of Clusters"
      ]
    },
    {
      "cell_type": "code",
      "metadata": {
        "id": "Ssl1uTyWPZZI",
        "colab_type": "code",
        "colab": {}
      },
      "source": [
        "Dup_All_Docs=All_Docs[:]"
      ],
      "execution_count": 0,
      "outputs": []
    },
    {
      "cell_type": "code",
      "metadata": {
        "id": "pbNNl31_Phbg",
        "colab_type": "code",
        "outputId": "c39d7d51-093e-407e-e0dd-1a57c653cc52",
        "colab": {
          "base_uri": "https://localhost:8080/",
          "height": 34
        }
      },
      "source": [
        "type(Dup_All_Docs[0][0])"
      ],
      "execution_count": 0,
      "outputs": [
        {
          "output_type": "execute_result",
          "data": {
            "text/plain": [
              "str"
            ]
          },
          "metadata": {
            "tags": []
          },
          "execution_count": 10
        }
      ]
    },
    {
      "cell_type": "code",
      "metadata": {
        "id": "VWgumpDZPnOr",
        "colab_type": "code",
        "colab": {}
      },
      "source": [
        "import nltk\n",
        "from sklearn.cluster import KMeans\n",
        "from sklearn.feature_extraction.text import TfidfVectorizer\n",
        "from sklearn.metrics import silhouette_score\n",
        "\n",
        "import pandas as pd\n",
        "from nltk.tokenize import RegexpTokenizer\n",
        "#from stop_words import get_stop_words\n",
        "from nltk.stem.porter import PorterStemmer\n",
        "from gensim import corpora, models\n",
        "from nltk.corpus import stopwords\n",
        "import gensim\n",
        "\n",
        "from sklearn.cluster import KMeans\n",
        "from sklearn import metrics\n",
        "from scipy.spatial.distance import cdist\n",
        "import numpy as np"
      ],
      "execution_count": 0,
      "outputs": []
    },
    {
      "cell_type": "code",
      "metadata": {
        "id": "NjiL4AWGJY2j",
        "colab_type": "code",
        "outputId": "0abe2098-81f2-4ce7-af43-42ef38c6b48d",
        "colab": {
          "base_uri": "https://localhost:8080/",
          "height": 68
        }
      },
      "source": [
        "nltk.download('stopwords')"
      ],
      "execution_count": 0,
      "outputs": [
        {
          "output_type": "stream",
          "text": [
            "[nltk_data] Downloading package stopwords to /root/nltk_data...\n",
            "[nltk_data]   Unzipping corpora/stopwords.zip.\n"
          ],
          "name": "stdout"
        },
        {
          "output_type": "execute_result",
          "data": {
            "text/plain": [
              "True"
            ]
          },
          "metadata": {
            "tags": []
          },
          "execution_count": 12
        }
      ]
    },
    {
      "cell_type": "code",
      "metadata": {
        "id": "2qSoEriVP0uH",
        "colab_type": "code",
        "colab": {}
      },
      "source": [
        "tokenizer = RegexpTokenizer(r'\\w+')\n",
        "en_stop = set(stopwords.words('english'))\n",
        "en_stop.add('the')#The is not in stopwords"
      ],
      "execution_count": 0,
      "outputs": []
    },
    {
      "cell_type": "code",
      "metadata": {
        "id": "VAJkRulAP9Kd",
        "colab_type": "code",
        "colab": {}
      },
      "source": [
        "tokens=[]\n",
        "\n",
        "\n",
        "for j in All_Docs:\n",
        "  x=[]\n",
        "  for i in j:\n",
        "    token=tokenizer.tokenize(i)\n",
        "    token=[i for i in token if(not(str(i).isdigit() or not(str(i).isalpha())) and len(str(i)) > 2 )]\n",
        "    token=[i.lower() for i in token if( i not in en_stop)]\n",
        "    x.extend(token)\n",
        "  \n",
        "  tokens.extend(x)"
      ],
      "execution_count": 0,
      "outputs": []
    },
    {
      "cell_type": "code",
      "metadata": {
        "id": "NQUgWxG3UPf_",
        "colab_type": "code",
        "outputId": "f06f40ed-d683-4f94-d93e-0323225f70eb",
        "colab": {
          "base_uri": "https://localhost:8080/",
          "height": 204
        }
      },
      "source": [
        "len(tokens),tokens[:10]"
      ],
      "execution_count": 0,
      "outputs": [
        {
          "output_type": "execute_result",
          "data": {
            "text/plain": [
              "(7941,\n",
              " ['press',\n",
              "  'release',\n",
              "  'department',\n",
              "  'communication',\n",
              "  'central',\n",
              "  'office',\n",
              "  'marg',\n",
              "  'mumbai',\n",
              "  'phone',\n",
              "  'fax'])"
            ]
          },
          "metadata": {
            "tags": []
          },
          "execution_count": 15
        }
      ]
    },
    {
      "cell_type": "code",
      "metadata": {
        "id": "Tk5Z16QtWZPC",
        "colab_type": "code",
        "colab": {}
      },
      "source": [
        "#df9['Cleaned_PaperText'] = pd.Series(tokens)\n",
        "        \n",
        "vectorizer = TfidfVectorizer()\n",
        "\n",
        "Y = vectorizer.fit_transform(tokens)"
      ],
      "execution_count": 0,
      "outputs": []
    },
    {
      "cell_type": "code",
      "metadata": {
        "id": "lpkZXOmBXF82",
        "colab_type": "code",
        "colab": {}
      },
      "source": [
        "#Not Working\n",
        "\n",
        "distortions = []\n",
        "K = range(1,10)\n",
        "for k in K:\n",
        "    kmeanModel = KMeans(n_clusters=k).fit(Y)\n",
        "    kmeanModel.fit(Y)\n",
        "   # distortions.append(sum(np.min(cdist(Y, kmeanModel.cluster_centers_, 'euclidean'), axis=1)) / X.shape[0])"
      ],
      "execution_count": 0,
      "outputs": []
    },
    {
      "cell_type": "code",
      "metadata": {
        "id": "HYFF1Ml11rb6",
        "colab_type": "code",
        "outputId": "03d7587e-57a5-43f2-ad61-2da2dede98d0",
        "colab": {
          "base_uri": "https://localhost:8080/",
          "height": 170
        }
      },
      "source": [
        "#2nd Method using Silhouette Score\n",
        "\n",
        "n=0\n",
        "ss=0\n",
        "for n_cluster in range(2, 11):\n",
        "    kmeans = KMeans(n_clusters=n_cluster).fit(Y)\n",
        "    label = kmeans.labels_\n",
        "    sil_coeff = silhouette_score(Y, label, metric='euclidean')  \n",
        "    print(\"For n_clusters={}, The Silhouette Coefficient is {}\".format(n_cluster, sil_coeff))\n",
        "    if sil_coeff>ss:\n",
        "      ss=sil_coeff\n",
        "      n=n_cluster"
      ],
      "execution_count": 0,
      "outputs": [
        {
          "output_type": "stream",
          "text": [
            "For n_clusters=2, The Silhouette Coefficient is 0.012989573563197925\n",
            "For n_clusters=3, The Silhouette Coefficient is 0.029023579644137182\n",
            "For n_clusters=4, The Silhouette Coefficient is 0.03915783666437281\n",
            "For n_clusters=5, The Silhouette Coefficient is 0.038753720945066274\n",
            "For n_clusters=6, The Silhouette Coefficient is 0.06171808458134063\n",
            "For n_clusters=7, The Silhouette Coefficient is 0.0533839790900729\n",
            "For n_clusters=8, The Silhouette Coefficient is 0.05708314994252621\n",
            "For n_clusters=9, The Silhouette Coefficient is 0.07076517894761188\n",
            "For n_clusters=10, The Silhouette Coefficient is 0.08633032778585085\n"
          ],
          "name": "stdout"
        }
      ]
    },
    {
      "cell_type": "code",
      "metadata": {
        "id": "0b_JW_Ac1sT9",
        "colab_type": "code",
        "outputId": "77a9a4de-d979-4a73-c378-77227dc7419e",
        "colab": {
          "base_uri": "https://localhost:8080/",
          "height": 34
        }
      },
      "source": [
        "print(\"Optimal numbers of clusters are : {}\".format(n))"
      ],
      "execution_count": 0,
      "outputs": [
        {
          "output_type": "stream",
          "text": [
            "Optimal numbers of clusters are : 10\n"
          ],
          "name": "stdout"
        }
      ]
    },
    {
      "cell_type": "markdown",
      "metadata": {
        "id": "rMz_Ewj2Ge1P",
        "colab_type": "text"
      },
      "source": [
        "# LDA"
      ]
    },
    {
      "cell_type": "code",
      "metadata": {
        "id": "sPa3yKp5GgiO",
        "colab_type": "code",
        "colab": {}
      },
      "source": [
        "\n",
        "import nltk\n",
        "from gensim.utils import simple_preprocess\n",
        "from gensim.parsing.preprocessing import STOPWORDS\n",
        "from nltk.stem import WordNetLemmatizer\n",
        "from gensim.corpora import Dictionary\n",
        "from gensim.models import TfidfModel,LdaModel, LsiModel, HdpModel\n",
        "from gensim.models.wrappers import LdaMallet\n",
        "import matplotlib.pyplot as plt\n"
      ],
      "execution_count": 0,
      "outputs": []
    },
    {
      "cell_type": "code",
      "metadata": {
        "id": "7qPpPPipGuZq",
        "colab_type": "code",
        "outputId": "686e9abe-7680-42e8-804e-0e81e64391b0",
        "colab": {
          "base_uri": "https://localhost:8080/",
          "height": 68
        }
      },
      "source": [
        "nltk.download('wordnet')\n"
      ],
      "execution_count": 0,
      "outputs": [
        {
          "output_type": "stream",
          "text": [
            "[nltk_data] Downloading package wordnet to /root/nltk_data...\n",
            "[nltk_data]   Unzipping corpora/wordnet.zip.\n"
          ],
          "name": "stdout"
        },
        {
          "output_type": "execute_result",
          "data": {
            "text/plain": [
              "True"
            ]
          },
          "metadata": {
            "tags": []
          },
          "execution_count": 21
        }
      ]
    },
    {
      "cell_type": "code",
      "metadata": {
        "id": "gjfEIOkQGM5n",
        "colab_type": "code",
        "colab": {}
      },
      "source": [
        "\n",
        "dictionary=Dictionary([[i] for i in tokens])"
      ],
      "execution_count": 0,
      "outputs": []
    },
    {
      "cell_type": "code",
      "metadata": {
        "id": "ZPWPK9OTGfkc",
        "colab_type": "code",
        "outputId": "35a4a861-f32a-4f70-ec7f-20b591086c94",
        "colab": {
          "base_uri": "https://localhost:8080/",
          "height": 34
        }
      },
      "source": [
        "print(dictionary)"
      ],
      "execution_count": 0,
      "outputs": [
        {
          "output_type": "stream",
          "text": [
            "Dictionary(2065 unique tokens: ['press', 'release', 'department', 'communication', 'central']...)\n"
          ],
          "name": "stdout"
        }
      ]
    },
    {
      "cell_type": "code",
      "metadata": {
        "id": "-Y7pRecKIYD8",
        "colab_type": "code",
        "outputId": "3d93b1e9-89a8-45de-aca0-ceebf0bab56b",
        "colab": {
          "base_uri": "https://localhost:8080/",
          "height": 34
        }
      },
      "source": [
        "X=[dictionary.doc2bow([sents]) for sents in tokens]#getting bag of words.\n",
        "tfidf=TfidfModel(X)\n",
        "\n",
        "print(type(tfidf))\n",
        "X=tfidf[X]\n"
      ],
      "execution_count": 0,
      "outputs": [
        {
          "output_type": "stream",
          "text": [
            "<class 'gensim.models.tfidfmodel.TfidfModel'>\n"
          ],
          "name": "stdout"
        }
      ]
    },
    {
      "cell_type": "code",
      "metadata": {
        "id": "GIvl1ys8KN1c",
        "colab_type": "code",
        "colab": {}
      },
      "source": [
        "from gensim.models import LdaMulticore,CoherenceModel\n",
        "\n",
        "lda=LdaMulticore(X,num_topics=n,id2word=dictionary,workers=8)\n",
        "lda1=LdaModel(X,num_topics=n,id2word=dictionary,update_every=5)\n",
        "\n",
        "#lda.print_topics()"
      ],
      "execution_count": 0,
      "outputs": []
    },
    {
      "cell_type": "code",
      "metadata": {
        "id": "7TxsZ7hLLpIo",
        "colab_type": "code",
        "outputId": "6b3b4e72-db17-4f1c-b0c8-ee080f11990d",
        "colab": {
          "base_uri": "https://localhost:8080/",
          "height": 377
        }
      },
      "source": [
        "\n",
        "ldatopics = [[(word,prob) for word, prob in topic] for topicid, topic in lda.show_topics(formatted=False)]\n",
        "lda.show_topics(formatted=True)"
      ],
      "execution_count": 0,
      "outputs": [
        {
          "output_type": "execute_result",
          "data": {
            "text/plain": [
              "[(0,\n",
              "  '0.073*\"inflation\" + 0.043*\"rate\" + 0.033*\"food\" + 0.014*\"cpi\" + 0.012*\"policy\" + 0.012*\"output\" + 0.010*\"impact\" + 0.010*\"markets\" + 0.009*\"could\" + 0.009*\"would\"'),\n",
              " (1,\n",
              "  '0.021*\"also\" + 0.021*\"meeting\" + 0.018*\"global\" + 0.016*\"level\" + 0.015*\"last\" + 0.013*\"sector\" + 0.009*\"headline\" + 0.009*\"banks\" + 0.008*\"policy\" + 0.008*\"services\"'),\n",
              " (2,\n",
              "  '0.051*\"february\" + 0.027*\"second\" + 0.017*\"the\" + 0.016*\"march\" + 0.016*\"manufacturing\" + 0.014*\"cent\" + 0.014*\"first\" + 0.014*\"central\" + 0.014*\"price\" + 0.011*\"impact\"'),\n",
              " (3,\n",
              "  '0.035*\"mpc\" + 0.016*\"expected\" + 0.013*\"vote\" + 0.013*\"pulses\" + 0.012*\"stance\" + 0.012*\"recent\" + 0.010*\"points\" + 0.010*\"term\" + 0.009*\"set\" + 0.008*\"upside\"'),\n",
              " (4,\n",
              "  '0.026*\"trade\" + 0.025*\"growth\" + 0.024*\"inflation\" + 0.016*\"months\" + 0.012*\"outlook\" + 0.012*\"pmi\" + 0.012*\"volatility\" + 0.010*\"crude\" + 0.010*\"domestic\" + 0.010*\"goods\"'),\n",
              " (5,\n",
              "  '0.026*\"risks\" + 0.025*\"policy\" + 0.022*\"activity\" + 0.014*\"bank\" + 0.012*\"high\" + 0.012*\"gdp\" + 0.011*\"statistical\" + 0.011*\"capital\" + 0.010*\"hardening\" + 0.010*\"account\"'),\n",
              " (6,\n",
              "  '0.050*\"cent\" + 0.044*\"growth\" + 0.043*\"the\" + 0.028*\"year\" + 0.027*\"reserve\" + 0.023*\"march\" + 0.018*\"investment\" + 0.015*\"committee\" + 0.015*\"production\" + 0.012*\"economy\"'),\n",
              " (7,\n",
              "  '0.081*\"inflation\" + 0.031*\"prices\" + 0.022*\"effects\" + 0.021*\"likely\" + 0.019*\"per\" + 0.014*\"economic\" + 0.013*\"fiscal\" + 0.011*\"demand\" + 0.010*\"due\" + 0.010*\"target\"'),\n",
              " (8,\n",
              "  '0.043*\"prices\" + 0.030*\"per\" + 0.024*\"outlook\" + 0.024*\"bank\" + 0.019*\"may\" + 0.015*\"also\" + 0.013*\"statement\" + 0.012*\"expected\" + 0.011*\"april\" + 0.009*\"year\"'),\n",
              " (9,\n",
              "  '0.027*\"per\" + 0.021*\"headline\" + 0.020*\"policy\" + 0.018*\"fuel\" + 0.016*\"basis\" + 0.015*\"market\" + 0.015*\"rising\" + 0.013*\"several\" + 0.012*\"risk\" + 0.012*\"meeting\"')]"
            ]
          },
          "metadata": {
            "tags": []
          },
          "execution_count": 26
        }
      ]
    },
    {
      "cell_type": "markdown",
      "metadata": {
        "id": "_OQtFDZjxXf8",
        "colab_type": "text"
      },
      "source": [
        "# LSI HDP"
      ]
    },
    {
      "cell_type": "code",
      "metadata": {
        "id": "TpUOU91vw6Eh",
        "colab_type": "code",
        "colab": {}
      },
      "source": [
        "lsi=  LsiModel(corpus=X, num_topics=n, id2word=dictionary,)\n",
        "hdp=  HdpModel(corpus=X, id2word=dictionary)"
      ],
      "execution_count": 0,
      "outputs": []
    },
    {
      "cell_type": "code",
      "metadata": {
        "id": "-lek99StzCOU",
        "colab_type": "code",
        "outputId": "253aa091-d5fc-4533-f840-1078f09128c5",
        "colab": {
          "base_uri": "https://localhost:8080/",
          "height": 207
        }
      },
      "source": [
        "lsi_words=[topic for topicid, topic in  lsi.show_topics() ]\n",
        "lsi_words"
      ],
      "execution_count": 0,
      "outputs": [
        {
          "output_type": "execute_result",
          "data": {
            "text/plain": [
              "['-1.000*\"inflation\" + 0.000*\"financial\" + -0.000*\"gst\" + 0.000*\"india\" + 0.000*\"hra\" + 0.000*\"central\" + -0.000*\"confidence\" + 0.000*\"data\" + -0.000*\"upside\" + 0.000*\"macroeconomic\"',\n",
              " '1.000*\"the\" + 0.002*\"international\" + 0.002*\"banks\" + 0.002*\"repo\" + 0.001*\"commodity\" + 0.001*\"indicators\" + -0.001*\"billion\" + 0.001*\"vote\" + 0.001*\"due\" + -0.001*\"rbi\"',\n",
              " '1.000*\"per\" + 0.002*\"decline\" + 0.002*\"half\" + -0.002*\"expectations\" + 0.002*\"demonetisation\" + 0.002*\"deficit\" + -0.002*\"repo\" + 0.002*\"front\" + 0.001*\"three\" + 0.001*\"rise\"',\n",
              " '-1.000*\"cent\" + -0.003*\"gdp\" + 0.003*\"growth\" + 0.002*\"india\" + 0.002*\"fiscal\" + -0.002*\"consumer\" + -0.002*\"month\" + -0.002*\"market\" + -0.002*\"rates\" + -0.002*\"survey\"',\n",
              " '-1.000*\"growth\" + -0.003*\"cent\" + -0.002*\"financial\" + 0.002*\"basis\" + 0.002*\"current\" + 0.002*\"markets\" + 0.002*\"target\" + -0.002*\"this\" + -0.002*\"gdp\" + -0.002*\"non\"',\n",
              " '1.000*\"prices\" + 0.003*\"three\" + 0.002*\"there\" + 0.002*\"account\" + 0.002*\"remain\" + 0.002*\"basis\" + 0.002*\"centre\" + 0.002*\"volatility\" + 0.002*\"target\" + -0.002*\"remained\"',\n",
              " '1.000*\"february\" + 0.005*\"support\" + 0.005*\"deficit\" + 0.004*\"three\" + -0.004*\"expectations\" + -0.004*\"around\" + -0.003*\"medium\" + 0.003*\"pressures\" + 0.003*\"goods\" + -0.003*\"uncertainty\"',\n",
              " '-1.000*\"policy\" + 0.005*\"one\" + -0.004*\"half\" + -0.003*\"remained\" + 0.003*\"round\" + 0.003*\"april\" + 0.003*\"index\" + 0.003*\"market\" + -0.003*\"two\" + 0.003*\"non\"',\n",
              " '-0.999*\"food\" + -0.009*\"expectations\" + -0.008*\"non\" + -0.008*\"there\" + -0.008*\"year\" + -0.007*\"driven\" + -0.007*\"central\" + -0.007*\"this\" + -0.007*\"remain\" + 0.007*\"two\"',\n",
              " '-0.999*\"year\" + 0.013*\"march\" + -0.009*\"gdp\" + 0.009*\"round\" + -0.009*\"remained\" + -0.008*\"uncertainty\" + 0.008*\"food\" + 0.007*\"one\" + 0.006*\"april\" + 0.006*\"would\"']"
            ]
          },
          "metadata": {
            "tags": []
          },
          "execution_count": 28
        }
      ]
    },
    {
      "cell_type": "code",
      "metadata": {
        "id": "FD73TPrd0LCb",
        "colab_type": "code",
        "outputId": "bcbd63ad-7e89-488f-9144-7203ef59cde9",
        "colab": {
          "base_uri": "https://localhost:8080/",
          "height": 207
        }
      },
      "source": [
        "hdp_words=[topic for topicid, topic in  lsi.show_topics() ]\n",
        "hdp_words"
      ],
      "execution_count": 0,
      "outputs": [
        {
          "output_type": "execute_result",
          "data": {
            "text/plain": [
              "['-1.000*\"inflation\" + 0.000*\"financial\" + -0.000*\"gst\" + 0.000*\"india\" + 0.000*\"hra\" + 0.000*\"central\" + -0.000*\"confidence\" + 0.000*\"data\" + -0.000*\"upside\" + 0.000*\"macroeconomic\"',\n",
              " '1.000*\"the\" + 0.002*\"international\" + 0.002*\"banks\" + 0.002*\"repo\" + 0.001*\"commodity\" + 0.001*\"indicators\" + -0.001*\"billion\" + 0.001*\"vote\" + 0.001*\"due\" + -0.001*\"rbi\"',\n",
              " '1.000*\"per\" + 0.002*\"decline\" + 0.002*\"half\" + -0.002*\"expectations\" + 0.002*\"demonetisation\" + 0.002*\"deficit\" + -0.002*\"repo\" + 0.002*\"front\" + 0.001*\"three\" + 0.001*\"rise\"',\n",
              " '-1.000*\"cent\" + -0.003*\"gdp\" + 0.003*\"growth\" + 0.002*\"india\" + 0.002*\"fiscal\" + -0.002*\"consumer\" + -0.002*\"month\" + -0.002*\"market\" + -0.002*\"rates\" + -0.002*\"survey\"',\n",
              " '-1.000*\"growth\" + -0.003*\"cent\" + -0.002*\"financial\" + 0.002*\"basis\" + 0.002*\"current\" + 0.002*\"markets\" + 0.002*\"target\" + -0.002*\"this\" + -0.002*\"gdp\" + -0.002*\"non\"',\n",
              " '1.000*\"prices\" + 0.003*\"three\" + 0.002*\"there\" + 0.002*\"account\" + 0.002*\"remain\" + 0.002*\"basis\" + 0.002*\"centre\" + 0.002*\"volatility\" + 0.002*\"target\" + -0.002*\"remained\"',\n",
              " '1.000*\"february\" + 0.005*\"support\" + 0.005*\"deficit\" + 0.004*\"three\" + -0.004*\"expectations\" + -0.004*\"around\" + -0.003*\"medium\" + 0.003*\"pressures\" + 0.003*\"goods\" + -0.003*\"uncertainty\"',\n",
              " '-1.000*\"policy\" + 0.005*\"one\" + -0.004*\"half\" + -0.003*\"remained\" + 0.003*\"round\" + 0.003*\"april\" + 0.003*\"index\" + 0.003*\"market\" + -0.003*\"two\" + 0.003*\"non\"',\n",
              " '-0.999*\"food\" + -0.009*\"expectations\" + -0.008*\"non\" + -0.008*\"there\" + -0.008*\"year\" + -0.007*\"driven\" + -0.007*\"central\" + -0.007*\"this\" + -0.007*\"remain\" + 0.007*\"two\"',\n",
              " '-0.999*\"year\" + 0.013*\"march\" + -0.009*\"gdp\" + 0.009*\"round\" + -0.009*\"remained\" + -0.008*\"uncertainty\" + 0.008*\"food\" + 0.007*\"one\" + 0.006*\"april\" + 0.006*\"would\"']"
            ]
          },
          "metadata": {
            "tags": []
          },
          "execution_count": 29
        }
      ]
    },
    {
      "cell_type": "code",
      "metadata": {
        "id": "cc2w7Qhl-8VN",
        "colab_type": "code",
        "outputId": "2434d4f7-dd09-40da-9599-1dfc107ab567",
        "colab": {
          "base_uri": "https://localhost:8080/",
          "height": 419
        }
      },
      "source": [
        "#Misc.\n",
        "ldatopics_word = [[word for word, prob in topic] for topicid, topic in lda.show_topics(num_words=100,formatted=False)]\n",
        "ldatopics_prob = [[prob for word, prob in topic] for topicid, topic in lda.show_topics(num_words=100,formatted=False)]\n",
        "\n",
        "col=[]\n",
        "a='Topic-'\n",
        "c=''\n",
        "for i in range(n):\n",
        "  c+=a+str(i+1)\n",
        "  col.append(c)\n",
        "  c=''\n",
        "\n",
        "len(col),len(ldatopics_word)\n",
        "\n",
        "#topic_df=pd.DataFrame(data=ldatopics_word,columns=col)\n",
        "topic_df=pd.DataFrame(data=ldatopics_word,index=col)\n",
        "ldatopics_prob\n",
        "k=0\n",
        "for i in ldatopics_prob:\n",
        "  k=0\n",
        "  for j in i:\n",
        "    k+=j\n",
        "  \n",
        "  #print(k)\n",
        "\n",
        "topic_df.T"
      ],
      "execution_count": 138,
      "outputs": [
        {
          "output_type": "execute_result",
          "data": {
            "text/html": [
              "<div>\n",
              "<style scoped>\n",
              "    .dataframe tbody tr th:only-of-type {\n",
              "        vertical-align: middle;\n",
              "    }\n",
              "\n",
              "    .dataframe tbody tr th {\n",
              "        vertical-align: top;\n",
              "    }\n",
              "\n",
              "    .dataframe thead th {\n",
              "        text-align: right;\n",
              "    }\n",
              "</style>\n",
              "<table border=\"1\" class=\"dataframe\">\n",
              "  <thead>\n",
              "    <tr style=\"text-align: right;\">\n",
              "      <th></th>\n",
              "      <th>Topic-1</th>\n",
              "      <th>Topic-2</th>\n",
              "      <th>Topic-3</th>\n",
              "      <th>Topic-4</th>\n",
              "      <th>Topic-5</th>\n",
              "      <th>Topic-6</th>\n",
              "      <th>Topic-7</th>\n",
              "      <th>Topic-8</th>\n",
              "      <th>Topic-9</th>\n",
              "      <th>Topic-10</th>\n",
              "    </tr>\n",
              "  </thead>\n",
              "  <tbody>\n",
              "    <tr>\n",
              "      <th>0</th>\n",
              "      <td>meeting</td>\n",
              "      <td>inflation</td>\n",
              "      <td>the</td>\n",
              "      <td>growth</td>\n",
              "      <td>inflation</td>\n",
              "      <td>cent</td>\n",
              "      <td>prices</td>\n",
              "      <td>cent</td>\n",
              "      <td>rate</td>\n",
              "      <td>statement</td>\n",
              "    </tr>\n",
              "    <tr>\n",
              "      <th>1</th>\n",
              "      <td>mpc</td>\n",
              "      <td>february</td>\n",
              "      <td>per</td>\n",
              "      <td>expected</td>\n",
              "      <td>food</td>\n",
              "      <td>outlook</td>\n",
              "      <td>bank</td>\n",
              "      <td>year</td>\n",
              "      <td>policy</td>\n",
              "      <td>january</td>\n",
              "    </tr>\n",
              "    <tr>\n",
              "      <th>2</th>\n",
              "      <td>prices</td>\n",
              "      <td>growth</td>\n",
              "      <td>also</td>\n",
              "      <td>policy</td>\n",
              "      <td>per</td>\n",
              "      <td>impact</td>\n",
              "      <td>several</td>\n",
              "      <td>headline</td>\n",
              "      <td>liquidity</td>\n",
              "      <td>monetary</td>\n",
              "    </tr>\n",
              "    <tr>\n",
              "      <th>3</th>\n",
              "      <td>crude</td>\n",
              "      <td>trade</td>\n",
              "      <td>risks</td>\n",
              "      <td>target</td>\n",
              "      <td>the</td>\n",
              "      <td>would</td>\n",
              "      <td>month</td>\n",
              "      <td>manufacturing</td>\n",
              "      <td>output</td>\n",
              "      <td>around</td>\n",
              "    </tr>\n",
              "    <tr>\n",
              "      <th>4</th>\n",
              "      <td>financial</td>\n",
              "      <td>high</td>\n",
              "      <td>global</td>\n",
              "      <td>effects</td>\n",
              "      <td>headline</td>\n",
              "      <td>reserve</td>\n",
              "      <td>production</td>\n",
              "      <td>policy</td>\n",
              "      <td>committee</td>\n",
              "      <td>increase</td>\n",
              "    </tr>\n",
              "    <tr>\n",
              "      <th>...</th>\n",
              "      <td>...</td>\n",
              "      <td>...</td>\n",
              "      <td>...</td>\n",
              "      <td>...</td>\n",
              "      <td>...</td>\n",
              "      <td>...</td>\n",
              "      <td>...</td>\n",
              "      <td>...</td>\n",
              "      <td>...</td>\n",
              "      <td>...</td>\n",
              "    </tr>\n",
              "    <tr>\n",
              "      <th>95</th>\n",
              "      <td>magnitude</td>\n",
              "      <td>balance</td>\n",
              "      <td>internal</td>\n",
              "      <td>latter</td>\n",
              "      <td>cycle</td>\n",
              "      <td>real</td>\n",
              "      <td>return</td>\n",
              "      <td>under</td>\n",
              "      <td>watch</td>\n",
              "      <td>reversal</td>\n",
              "    </tr>\n",
              "    <tr>\n",
              "      <th>96</th>\n",
              "      <td>need</td>\n",
              "      <td>declined</td>\n",
              "      <td>main</td>\n",
              "      <td>employment</td>\n",
              "      <td>uptick</td>\n",
              "      <td>moved</td>\n",
              "      <td>election</td>\n",
              "      <td>committed</td>\n",
              "      <td>euro</td>\n",
              "      <td>viral</td>\n",
              "    </tr>\n",
              "    <tr>\n",
              "      <th>97</th>\n",
              "      <td>leading</td>\n",
              "      <td>large</td>\n",
              "      <td>fourth</td>\n",
              "      <td>gauge</td>\n",
              "      <td>buoyant</td>\n",
              "      <td>allowance</td>\n",
              "      <td>averaged</td>\n",
              "      <td>west</td>\n",
              "      <td>projection</td>\n",
              "      <td>situation</td>\n",
              "    </tr>\n",
              "    <tr>\n",
              "      <th>98</th>\n",
              "      <td>regaining</td>\n",
              "      <td>suggests</td>\n",
              "      <td>bills</td>\n",
              "      <td>poses</td>\n",
              "      <td>indications</td>\n",
              "      <td>induced</td>\n",
              "      <td>picked</td>\n",
              "      <td>most</td>\n",
              "      <td>items</td>\n",
              "      <td>vehicles</td>\n",
              "    </tr>\n",
              "    <tr>\n",
              "      <th>99</th>\n",
              "      <td>charge</td>\n",
              "      <td>concerns</td>\n",
              "      <td>gross</td>\n",
              "      <td>stabilisation</td>\n",
              "      <td>play</td>\n",
              "      <td>vis</td>\n",
              "      <td>procurement</td>\n",
              "      <td>july</td>\n",
              "      <td>helpdoc</td>\n",
              "      <td>combined</td>\n",
              "    </tr>\n",
              "  </tbody>\n",
              "</table>\n",
              "<p>100 rows × 10 columns</p>\n",
              "</div>"
            ],
            "text/plain": [
              "      Topic-1    Topic-2   Topic-3  ...        Topic-8     Topic-9   Topic-10\n",
              "0     meeting  inflation       the  ...           cent        rate  statement\n",
              "1         mpc   february       per  ...           year      policy    january\n",
              "2      prices     growth      also  ...       headline   liquidity   monetary\n",
              "3       crude      trade     risks  ...  manufacturing      output     around\n",
              "4   financial       high    global  ...         policy   committee   increase\n",
              "..        ...        ...       ...  ...            ...         ...        ...\n",
              "95  magnitude    balance  internal  ...          under       watch   reversal\n",
              "96       need   declined      main  ...      committed        euro      viral\n",
              "97    leading      large    fourth  ...           west  projection  situation\n",
              "98  regaining   suggests     bills  ...           most       items   vehicles\n",
              "99     charge   concerns     gross  ...           july     helpdoc   combined\n",
              "\n",
              "[100 rows x 10 columns]"
            ]
          },
          "metadata": {
            "tags": []
          },
          "execution_count": 138
        }
      ]
    },
    {
      "cell_type": "code",
      "metadata": {
        "id": "35my6PbBrFJ9",
        "colab_type": "code",
        "colab": {}
      },
      "source": [
        "topic_df_T=topic_df.T"
      ],
      "execution_count": 0,
      "outputs": []
    },
    {
      "cell_type": "markdown",
      "metadata": {
        "id": "_wOIWvEdmAV3",
        "colab_type": "text"
      },
      "source": [
        "**Adding New File**"
      ]
    },
    {
      "cell_type": "code",
      "metadata": {
        "id": "Cjw-FqLTeQJ_",
        "colab_type": "code",
        "colab": {}
      },
      "source": [
        "\n",
        "new_file=open('Apr-20.PDF','rb')\n",
        "pdfReader = PyPDF2.PdfFileReader(new_file)\n",
        "n1=pdfReader.numPages\n",
        "\n",
        "new_file_pg=[]\n",
        "for i in range(n1):\n",
        "    pageObj = pdfReader.getPage(i)\n",
        "    a=pageObj.extractText()\n",
        "    new_file_pg.append(a)\n",
        "\n",
        "#new_file_pg[:3]"
      ],
      "execution_count": 0,
      "outputs": []
    },
    {
      "cell_type": "code",
      "metadata": {
        "id": "u4piBgjnlO0S",
        "colab_type": "code",
        "colab": {}
      },
      "source": [
        "new_token=[]\n",
        "x=[]\n",
        "for i in new_file_pg:\n",
        "    token=tokenizer.tokenize(i)\n",
        "    token=[i for i in token if(not(str(i).isdigit() or not(str(i).isalpha())) and len(str(i)) > 2 )]\n",
        "    token=[i.lower() for i in token if( i not in en_stop)]\n",
        "    x.extend(token)\n",
        "  \n",
        "    new_token.extend(x)\n",
        "\n",
        "\n",
        "Z=[dictionary.doc2bow([sents]) for sents in new_token]"
      ],
      "execution_count": 0,
      "outputs": []
    },
    {
      "cell_type": "code",
      "metadata": {
        "id": "BsMfk8whmLzl",
        "colab_type": "code",
        "colab": {}
      },
      "source": [
        "newlda=lda1[Z]\n"
      ],
      "execution_count": 0,
      "outputs": []
    },
    {
      "cell_type": "code",
      "metadata": {
        "id": "xpy3KcCitkQi",
        "colab_type": "code",
        "outputId": "5436c476-1ec9-46e8-f755-366a1e6dd288",
        "colab": {
          "base_uri": "https://localhost:8080/",
          "height": 34
        }
      },
      "source": [
        "len(Z)"
      ],
      "execution_count": 0,
      "outputs": [
        {
          "output_type": "execute_result",
          "data": {
            "text/plain": [
              "32176"
            ]
          },
          "metadata": {
            "tags": []
          },
          "execution_count": 35
        }
      ]
    },
    {
      "cell_type": "code",
      "metadata": {
        "id": "ydLa9BErqYl-",
        "colab_type": "code",
        "colab": {}
      },
      "source": [
        "new_topic=[]\n",
        "for topic in newlda:\n",
        "  #new_topic.append(prob)\n",
        "  new_topic.append(topic)"
      ],
      "execution_count": 0,
      "outputs": []
    },
    {
      "cell_type": "code",
      "metadata": {
        "id": "Q8c-8HHwrhK0",
        "colab_type": "code",
        "outputId": "d33ec144-c749-4d20-d4f8-4c31486739c4",
        "colab": {
          "base_uri": "https://localhost:8080/",
          "height": 34
        }
      },
      "source": [
        "len(new_topic),type(new_topic[0])#,new_topic[:2]"
      ],
      "execution_count": 0,
      "outputs": [
        {
          "output_type": "execute_result",
          "data": {
            "text/plain": [
              "(32176, list)"
            ]
          },
          "metadata": {
            "tags": []
          },
          "execution_count": 37
        }
      ]
    },
    {
      "cell_type": "code",
      "metadata": {
        "id": "_xNuOkmLmT9r",
        "colab_type": "code",
        "outputId": "83503a06-5e0a-485c-e68e-52a487cac778",
        "colab": {
          "base_uri": "https://localhost:8080/",
          "height": 34
        }
      },
      "source": [
        "lda1.get_document_topics(Z,per_word_topics=True)"
      ],
      "execution_count": 0,
      "outputs": [
        {
          "output_type": "execute_result",
          "data": {
            "text/plain": [
              "<gensim.interfaces.TransformedCorpus at 0x7fcc30a51208>"
            ]
          },
          "metadata": {
            "tags": []
          },
          "execution_count": 38
        }
      ]
    },
    {
      "cell_type": "markdown",
      "metadata": {
        "id": "1mYZ4hnJtDUm",
        "colab_type": "text"
      },
      "source": [
        "# Evaluating Model: Topic Wise\n"
      ]
    },
    {
      "cell_type": "code",
      "metadata": {
        "id": "h4-cAoWxRgkE",
        "colab_type": "code",
        "colab": {}
      },
      "source": [
        "tk=[[i] for i in tokens]\n",
        "ldatopics = [[word for word, prob in topic] for topicid, topic in lda.show_topics(formatted=False)]\n",
        "lda_coherence = CoherenceModel(topics=ldatopics, texts=tk, dictionary=dictionary, window_size=10).get_coherence()\n",
        "#lda_coherence"
      ],
      "execution_count": 0,
      "outputs": []
    },
    {
      "cell_type": "code",
      "metadata": {
        "id": "p7oeEntDwtTP",
        "colab_type": "code",
        "colab": {}
      },
      "source": [
        "\n",
        "tk=[[i] for i in tokens]\n",
        "lsitopics = [[word for word, prob in topic] for topicid, topic in lsi.show_topics(formatted=False)]\n",
        "hdptopics = [[word for word, prob in topic] for topicid, topic in hdp.show_topics(formatted=False)]\n",
        "\n",
        "for i in range(n):\n",
        "  lda=LdaMulticore(X,num_topics=n,id2word=dictionary,workers=8)\n",
        "  ldatopics = [[word for word, prob in topic] for topicid, topic in lda.show_topics(formatted=False)]\n",
        "  lda_coherence = CoherenceModel(topics=ldatopics, texts=tk, dictionary=dictionary, window_size=10).get_coherence()\n",
        "  #coherence_score.append(lda_coherence)\n",
        "\n"
      ],
      "execution_count": 0,
      "outputs": []
    },
    {
      "cell_type": "markdown",
      "metadata": {
        "id": "T76g6TUJ7lHZ",
        "colab_type": "text"
      },
      "source": [
        "Coherence Score"
      ]
    },
    {
      "cell_type": "code",
      "metadata": {
        "id": "m9d9onMR6Q7L",
        "colab_type": "code",
        "outputId": "6c48fde1-3630-448f-ef25-60c8565c9499",
        "colab": {
          "base_uri": "https://localhost:8080/",
          "height": 34
        }
      },
      "source": [
        "coherence_score=[]\n",
        "\n",
        "lda_coherence = CoherenceModel(topics=ldatopics, texts=tk, dictionary=dictionary, window_size=10).get_coherence()\n",
        "lsi_coherence = CoherenceModel(topics=lsitopics[:10], texts=tk, dictionary=dictionary, window_size=10).get_coherence()\n",
        "hdp_coherence = CoherenceModel(topics=hdptopics[:10], texts=tk, dictionary=dictionary, window_size=10).get_coherence()\n",
        "\n",
        "\n",
        "coherence_score.append(lda_coherence)\n",
        "coherence_score.append(lsi_coherence)\n",
        "coherence_score.append(hdp_coherence)\n",
        "\n",
        "coherence_score"
      ],
      "execution_count": 0,
      "outputs": [
        {
          "output_type": "execute_result",
          "data": {
            "text/plain": [
              "[0.7122775445079084, 0.7080731853714533, 0.8232774203480668]"
            ]
          },
          "metadata": {
            "tags": []
          },
          "execution_count": 41
        }
      ]
    },
    {
      "cell_type": "code",
      "metadata": {
        "id": "ybWA1tkm8OAB",
        "colab_type": "code",
        "outputId": "ad00749c-b2a5-4e93-eedf-383cfb1ad8e0",
        "colab": {
          "base_uri": "https://localhost:8080/",
          "height": 279
        }
      },
      "source": [
        "def evaluate_bar_graph(coherences, indices):\n",
        "    assert len(coherences) == len(indices)\n",
        "    n = len(coherences)\n",
        "    x = np.arange(n)\n",
        "    plt.bar(x, coherences, width=0.2, tick_label=indices, align='center')\n",
        "    plt.xlabel('Models')\n",
        "    plt.ylabel('Coherence Value')\n",
        "\n",
        "\n",
        "\n",
        "evaluate_bar_graph([lsi_coherence, hdp_coherence, lda_coherence],\n",
        "                   ['LSI', 'HDP', 'LDA'])\n",
        "best_score=max(coherence_score)\n",
        "i=coherence_score.index(best_score)"
      ],
      "execution_count": 0,
      "outputs": [
        {
          "output_type": "display_data",
          "data": {
            "image/png": "[encoded data removed]",
            "text/plain": [
              "<Figure size 432x288 with 1 Axes>"
            ]
          },
          "metadata": {
            "tags": [],
            "needs_background": "light"
          }
        }
      ]
    },
    {
      "cell_type": "markdown",
      "metadata": {
        "id": "21WUsI5yqn9d",
        "colab_type": "text"
      },
      "source": [
        "Data Frames for different Models"
      ]
    },
    {
      "cell_type": "code",
      "metadata": {
        "id": "LU1sOBljqcAA",
        "colab_type": "code",
        "colab": {}
      },
      "source": [
        "#LDA Data Frame\n",
        "\n",
        "num_words_model=50\n",
        "ldatopics = [[word for word, prob in topic] for topicid, topic in lda.show_topics(num_words=num_words_model,formatted=False)]\n",
        "col_lda=[]\n",
        "a='Topic'\n",
        "for i in range(len(ldatopics)):\n",
        "  col_lda.append(a+str(i+1))\n",
        "\n",
        "topic_df_lda=pd.DataFrame(data=ldatopics,index=col_lda)\n",
        "topic_df_T_lda=topic_df_lda.T\n",
        "\n",
        "#LSI Data Frame\n",
        "lsitopics = [[word for word, prob in topic] for topicid, topic in lsi.show_topics(num_words=num_words_model,formatted=False)]\n",
        "col_lsi=[]\n",
        "a='Topic'\n",
        "for i in range(len(lsitopics)):\n",
        "  col_lsi.append(a+str(i+1))\n",
        "  \n",
        "topic_df_lsi=pd.DataFrame(data=lsitopics,index=col_lsi)\n",
        "topic_df_T_lsi=topic_df_lsi.T\n",
        "\n",
        "#HDP Data Frame\n",
        "hdptopics = [[word for word, prob in topic] for topicid, topic in hdp.show_topics(num_words=num_words_model,formatted=False)]\n",
        "col_hdp=[]\n",
        "a='Topic'\n",
        "for i in range(len(hdptopics)):\n",
        "  col_hdp.append(a+str(i+1))\n",
        "topic_df_hdp=pd.DataFrame(data=hdptopics,index=col_hdp)\n",
        "topic_df_T_hdp=topic_df_hdp.T\n"
      ],
      "execution_count": 0,
      "outputs": []
    },
    {
      "cell_type": "code",
      "metadata": {
        "id": "MiQJwgbj_oJv",
        "colab_type": "code",
        "outputId": "1db663ea-fa2a-4c94-d18c-861e3c7d7e29",
        "colab": {
          "base_uri": "https://localhost:8080/",
          "height": 204
        }
      },
      "source": [
        "topic_df_T_lda.head()"
      ],
      "execution_count": 0,
      "outputs": [
        {
          "output_type": "execute_result",
          "data": {
            "text/html": [
              "<div>\n",
              "<style scoped>\n",
              "    .dataframe tbody tr th:only-of-type {\n",
              "        vertical-align: middle;\n",
              "    }\n",
              "\n",
              "    .dataframe tbody tr th {\n",
              "        vertical-align: top;\n",
              "    }\n",
              "\n",
              "    .dataframe thead th {\n",
              "        text-align: right;\n",
              "    }\n",
              "</style>\n",
              "<table border=\"1\" class=\"dataframe\">\n",
              "  <thead>\n",
              "    <tr style=\"text-align: right;\">\n",
              "      <th></th>\n",
              "      <th>Topic1</th>\n",
              "      <th>Topic2</th>\n",
              "      <th>Topic3</th>\n",
              "      <th>Topic4</th>\n",
              "      <th>Topic5</th>\n",
              "      <th>Topic6</th>\n",
              "      <th>Topic7</th>\n",
              "      <th>Topic8</th>\n",
              "      <th>Topic9</th>\n",
              "      <th>Topic10</th>\n",
              "    </tr>\n",
              "  </thead>\n",
              "  <tbody>\n",
              "    <tr>\n",
              "      <th>0</th>\n",
              "      <td>meeting</td>\n",
              "      <td>inflation</td>\n",
              "      <td>the</td>\n",
              "      <td>growth</td>\n",
              "      <td>inflation</td>\n",
              "      <td>cent</td>\n",
              "      <td>prices</td>\n",
              "      <td>cent</td>\n",
              "      <td>rate</td>\n",
              "      <td>statement</td>\n",
              "    </tr>\n",
              "    <tr>\n",
              "      <th>1</th>\n",
              "      <td>mpc</td>\n",
              "      <td>february</td>\n",
              "      <td>per</td>\n",
              "      <td>expected</td>\n",
              "      <td>food</td>\n",
              "      <td>outlook</td>\n",
              "      <td>bank</td>\n",
              "      <td>year</td>\n",
              "      <td>policy</td>\n",
              "      <td>january</td>\n",
              "    </tr>\n",
              "    <tr>\n",
              "      <th>2</th>\n",
              "      <td>prices</td>\n",
              "      <td>growth</td>\n",
              "      <td>also</td>\n",
              "      <td>policy</td>\n",
              "      <td>per</td>\n",
              "      <td>impact</td>\n",
              "      <td>several</td>\n",
              "      <td>headline</td>\n",
              "      <td>liquidity</td>\n",
              "      <td>monetary</td>\n",
              "    </tr>\n",
              "    <tr>\n",
              "      <th>3</th>\n",
              "      <td>crude</td>\n",
              "      <td>trade</td>\n",
              "      <td>risks</td>\n",
              "      <td>target</td>\n",
              "      <td>the</td>\n",
              "      <td>would</td>\n",
              "      <td>month</td>\n",
              "      <td>manufacturing</td>\n",
              "      <td>output</td>\n",
              "      <td>around</td>\n",
              "    </tr>\n",
              "    <tr>\n",
              "      <th>4</th>\n",
              "      <td>financial</td>\n",
              "      <td>high</td>\n",
              "      <td>global</td>\n",
              "      <td>effects</td>\n",
              "      <td>headline</td>\n",
              "      <td>reserve</td>\n",
              "      <td>production</td>\n",
              "      <td>policy</td>\n",
              "      <td>committee</td>\n",
              "      <td>increase</td>\n",
              "    </tr>\n",
              "  </tbody>\n",
              "</table>\n",
              "</div>"
            ],
            "text/plain": [
              "      Topic1     Topic2  Topic3  ...         Topic8     Topic9    Topic10\n",
              "0    meeting  inflation     the  ...           cent       rate  statement\n",
              "1        mpc   february     per  ...           year     policy    january\n",
              "2     prices     growth    also  ...       headline  liquidity   monetary\n",
              "3      crude      trade   risks  ...  manufacturing     output     around\n",
              "4  financial       high  global  ...         policy  committee   increase\n",
              "\n",
              "[5 rows x 10 columns]"
            ]
          },
          "metadata": {
            "tags": []
          },
          "execution_count": 64
        }
      ]
    },
    {
      "cell_type": "code",
      "metadata": {
        "id": "D4lA4Hifq-JM",
        "colab_type": "code",
        "outputId": "1d85e80a-7ba3-499f-a220-f0823b8930b0",
        "colab": {
          "base_uri": "https://localhost:8080/",
          "height": 204
        }
      },
      "source": [
        "topic_df_T_lsi.head()"
      ],
      "execution_count": 0,
      "outputs": [
        {
          "output_type": "execute_result",
          "data": {
            "text/html": [
              "<div>\n",
              "<style scoped>\n",
              "    .dataframe tbody tr th:only-of-type {\n",
              "        vertical-align: middle;\n",
              "    }\n",
              "\n",
              "    .dataframe tbody tr th {\n",
              "        vertical-align: top;\n",
              "    }\n",
              "\n",
              "    .dataframe thead th {\n",
              "        text-align: right;\n",
              "    }\n",
              "</style>\n",
              "<table border=\"1\" class=\"dataframe\">\n",
              "  <thead>\n",
              "    <tr style=\"text-align: right;\">\n",
              "      <th></th>\n",
              "      <th>Topic1</th>\n",
              "      <th>Topic2</th>\n",
              "      <th>Topic3</th>\n",
              "      <th>Topic4</th>\n",
              "      <th>Topic5</th>\n",
              "      <th>Topic6</th>\n",
              "      <th>Topic7</th>\n",
              "      <th>Topic8</th>\n",
              "      <th>Topic9</th>\n",
              "      <th>Topic10</th>\n",
              "    </tr>\n",
              "  </thead>\n",
              "  <tbody>\n",
              "    <tr>\n",
              "      <th>0</th>\n",
              "      <td>inflation</td>\n",
              "      <td>the</td>\n",
              "      <td>per</td>\n",
              "      <td>cent</td>\n",
              "      <td>growth</td>\n",
              "      <td>prices</td>\n",
              "      <td>february</td>\n",
              "      <td>policy</td>\n",
              "      <td>food</td>\n",
              "      <td>year</td>\n",
              "    </tr>\n",
              "    <tr>\n",
              "      <th>1</th>\n",
              "      <td>financial</td>\n",
              "      <td>international</td>\n",
              "      <td>decline</td>\n",
              "      <td>gdp</td>\n",
              "      <td>cent</td>\n",
              "      <td>three</td>\n",
              "      <td>support</td>\n",
              "      <td>one</td>\n",
              "      <td>expectations</td>\n",
              "      <td>march</td>\n",
              "    </tr>\n",
              "    <tr>\n",
              "      <th>2</th>\n",
              "      <td>gst</td>\n",
              "      <td>banks</td>\n",
              "      <td>half</td>\n",
              "      <td>growth</td>\n",
              "      <td>financial</td>\n",
              "      <td>there</td>\n",
              "      <td>deficit</td>\n",
              "      <td>half</td>\n",
              "      <td>non</td>\n",
              "      <td>gdp</td>\n",
              "    </tr>\n",
              "    <tr>\n",
              "      <th>3</th>\n",
              "      <td>india</td>\n",
              "      <td>repo</td>\n",
              "      <td>expectations</td>\n",
              "      <td>india</td>\n",
              "      <td>basis</td>\n",
              "      <td>account</td>\n",
              "      <td>three</td>\n",
              "      <td>remained</td>\n",
              "      <td>there</td>\n",
              "      <td>round</td>\n",
              "    </tr>\n",
              "    <tr>\n",
              "      <th>4</th>\n",
              "      <td>hra</td>\n",
              "      <td>commodity</td>\n",
              "      <td>demonetisation</td>\n",
              "      <td>fiscal</td>\n",
              "      <td>current</td>\n",
              "      <td>remain</td>\n",
              "      <td>expectations</td>\n",
              "      <td>round</td>\n",
              "      <td>year</td>\n",
              "      <td>remained</td>\n",
              "    </tr>\n",
              "  </tbody>\n",
              "</table>\n",
              "</div>"
            ],
            "text/plain": [
              "      Topic1         Topic2          Topic3  ...    Topic8        Topic9   Topic10\n",
              "0  inflation            the             per  ...    policy          food      year\n",
              "1  financial  international         decline  ...       one  expectations     march\n",
              "2        gst          banks            half  ...      half           non       gdp\n",
              "3      india           repo    expectations  ...  remained         there     round\n",
              "4        hra      commodity  demonetisation  ...     round          year  remained\n",
              "\n",
              "[5 rows x 10 columns]"
            ]
          },
          "metadata": {
            "tags": []
          },
          "execution_count": 65
        }
      ]
    },
    {
      "cell_type": "code",
      "metadata": {
        "id": "wIubZmTmrBpK",
        "colab_type": "code",
        "outputId": "14702ce4-aa76-46bf-87b5-297afa0a13d4",
        "colab": {
          "base_uri": "https://localhost:8080/",
          "height": 224
        }
      },
      "source": [
        "topic_df_T_hdp.head()"
      ],
      "execution_count": 0,
      "outputs": [
        {
          "output_type": "execute_result",
          "data": {
            "text/html": [
              "<div>\n",
              "<style scoped>\n",
              "    .dataframe tbody tr th:only-of-type {\n",
              "        vertical-align: middle;\n",
              "    }\n",
              "\n",
              "    .dataframe tbody tr th {\n",
              "        vertical-align: top;\n",
              "    }\n",
              "\n",
              "    .dataframe thead th {\n",
              "        text-align: right;\n",
              "    }\n",
              "</style>\n",
              "<table border=\"1\" class=\"dataframe\">\n",
              "  <thead>\n",
              "    <tr style=\"text-align: right;\">\n",
              "      <th></th>\n",
              "      <th>Topic1</th>\n",
              "      <th>Topic2</th>\n",
              "      <th>Topic3</th>\n",
              "      <th>Topic4</th>\n",
              "      <th>Topic5</th>\n",
              "      <th>Topic6</th>\n",
              "      <th>Topic7</th>\n",
              "      <th>Topic8</th>\n",
              "      <th>Topic9</th>\n",
              "      <th>Topic10</th>\n",
              "      <th>Topic11</th>\n",
              "      <th>Topic12</th>\n",
              "      <th>Topic13</th>\n",
              "      <th>Topic14</th>\n",
              "      <th>Topic15</th>\n",
              "      <th>Topic16</th>\n",
              "      <th>Topic17</th>\n",
              "      <th>Topic18</th>\n",
              "      <th>Topic19</th>\n",
              "      <th>Topic20</th>\n",
              "    </tr>\n",
              "  </thead>\n",
              "  <tbody>\n",
              "    <tr>\n",
              "      <th>0</th>\n",
              "      <td>penetrate</td>\n",
              "      <td>across</td>\n",
              "      <td>spite</td>\n",
              "      <td>job</td>\n",
              "      <td>yield</td>\n",
              "      <td>actual</td>\n",
              "      <td>seasonality</td>\n",
              "      <td>resolution</td>\n",
              "      <td>based</td>\n",
              "      <td>officer</td>\n",
              "      <td>venue</td>\n",
              "      <td>fundamentals</td>\n",
              "      <td>finances</td>\n",
              "      <td>for</td>\n",
              "      <td>fed</td>\n",
              "      <td>fourteenth</td>\n",
              "      <td>tenors</td>\n",
              "      <td>consume</td>\n",
              "      <td>neut</td>\n",
              "      <td>made</td>\n",
              "    </tr>\n",
              "    <tr>\n",
              "      <th>1</th>\n",
              "      <td>unrelenting</td>\n",
              "      <td>weaker</td>\n",
              "      <td>electricity</td>\n",
              "      <td>measured</td>\n",
              "      <td>comparison</td>\n",
              "      <td>derail</td>\n",
              "      <td>meeting</td>\n",
              "      <td>pick</td>\n",
              "      <td>exports</td>\n",
              "      <td>gauge</td>\n",
              "      <td>headroom</td>\n",
              "      <td>still</td>\n",
              "      <td>based</td>\n",
              "      <td>nascent</td>\n",
              "      <td>harbinger</td>\n",
              "      <td>feed</td>\n",
              "      <td>steps</td>\n",
              "      <td>sources</td>\n",
              "      <td>picking</td>\n",
              "      <td>handsomely</td>\n",
              "    </tr>\n",
              "    <tr>\n",
              "      <th>2</th>\n",
              "      <td>rise</td>\n",
              "      <td>remonetisation</td>\n",
              "      <td>characterising</td>\n",
              "      <td>recipient</td>\n",
              "      <td>indian</td>\n",
              "      <td>event</td>\n",
              "      <td>durable</td>\n",
              "      <td>conditions</td>\n",
              "      <td>sipate</td>\n",
              "      <td>ris</td>\n",
              "      <td>outcome</td>\n",
              "      <td>simultaneously</td>\n",
              "      <td>rebound</td>\n",
              "      <td>confirmed</td>\n",
              "      <td>performance</td>\n",
              "      <td>attend</td>\n",
              "      <td>ere</td>\n",
              "      <td>foreca</td>\n",
              "      <td>volumes</td>\n",
              "      <td>count</td>\n",
              "    </tr>\n",
              "    <tr>\n",
              "      <th>3</th>\n",
              "      <td>regard</td>\n",
              "      <td>comparable</td>\n",
              "      <td>tempered</td>\n",
              "      <td>ross</td>\n",
              "      <td>india</td>\n",
              "      <td>gets</td>\n",
              "      <td>steadily</td>\n",
              "      <td>new</td>\n",
              "      <td>forecasters</td>\n",
              "      <td>fronts</td>\n",
              "      <td>remained</td>\n",
              "      <td>seasonality</td>\n",
              "      <td>drained</td>\n",
              "      <td>sowing</td>\n",
              "      <td>shift</td>\n",
              "      <td>improvement</td>\n",
              "      <td>inflationary</td>\n",
              "      <td>imposition</td>\n",
              "      <td>scheduled</td>\n",
              "      <td>mainly</td>\n",
              "    </tr>\n",
              "    <tr>\n",
              "      <th>4</th>\n",
              "      <td>materialises</td>\n",
              "      <td>costs</td>\n",
              "      <td>compiled</td>\n",
              "      <td>inflationary</td>\n",
              "      <td>globally</td>\n",
              "      <td>multilateral</td>\n",
              "      <td>pick</td>\n",
              "      <td>narrowed</td>\n",
              "      <td>emes</td>\n",
              "      <td>followed</td>\n",
              "      <td>bounced</td>\n",
              "      <td>reasonable</td>\n",
              "      <td>widening</td>\n",
              "      <td>consumer</td>\n",
              "      <td>last</td>\n",
              "      <td>sowing</td>\n",
              "      <td>phone</td>\n",
              "      <td>upbeat</td>\n",
              "      <td>amusement</td>\n",
              "      <td>complete</td>\n",
              "    </tr>\n",
              "  </tbody>\n",
              "</table>\n",
              "</div>"
            ],
            "text/plain": [
              "         Topic1          Topic2  ...    Topic19     Topic20\n",
              "0     penetrate          across  ...       neut        made\n",
              "1   unrelenting          weaker  ...    picking  handsomely\n",
              "2          rise  remonetisation  ...    volumes       count\n",
              "3        regard      comparable  ...  scheduled      mainly\n",
              "4  materialises           costs  ...  amusement    complete\n",
              "\n",
              "[5 rows x 20 columns]"
            ]
          },
          "metadata": {
            "tags": []
          },
          "execution_count": 66
        }
      ]
    },
    {
      "cell_type": "markdown",
      "metadata": {
        "id": "Qf6WCPjt85I1",
        "colab_type": "text"
      },
      "source": [
        "# Evaluating Words in a Topic : Cosine scores."
      ]
    },
    {
      "cell_type": "code",
      "metadata": {
        "id": "ml6hY3is86p0",
        "colab_type": "code",
        "colab": {}
      },
      "source": [
        "#Dup_All_Docs=All_Docs[0]+All_Docs[1]\n",
        "Dup_All_Docs=[]\n",
        "for i in All_Docs:\n",
        "  Dup_All_Docs+=i\n",
        "\n",
        "df=[]"
      ],
      "execution_count": 0,
      "outputs": []
    },
    {
      "cell_type": "code",
      "metadata": {
        "id": "1aAKyW1w89RK",
        "colab_type": "code",
        "colab": {}
      },
      "source": [
        "for j in All_Docs:\n",
        "  for i in j:\n",
        "    df.append(i)\n"
      ],
      "execution_count": 0,
      "outputs": []
    },
    {
      "cell_type": "code",
      "metadata": {
        "id": "E60cQXDyxqVp",
        "colab_type": "code",
        "colab": {}
      },
      "source": [
        "from sklearn.feature_extraction.text import CountVectorizer\n",
        "vectoriser = CountVectorizer().fit(Dup_All_Docs)\n",
        "X = vectoriser.transform(Dup_All_Docs)\n",
        "df_vec=pd.DataFrame(X.A, columns=sorted(vectoriser.vocabulary_.keys(), key=lambda k: vectoriser.vocabulary_[k]))"
      ],
      "execution_count": 0,
      "outputs": []
    },
    {
      "cell_type": "code",
      "metadata": {
        "id": "cudihFWZ98yN",
        "colab_type": "code",
        "colab": {}
      },
      "source": [
        "df_page=pd.DataFrame(data=Dup_All_Docs)\n",
        "#df_page.head()"
      ],
      "execution_count": 0,
      "outputs": []
    },
    {
      "cell_type": "code",
      "metadata": {
        "id": "uR64ay5l-ZZX",
        "colab_type": "code",
        "outputId": "f9b60d68-5cc4-42ba-e200-466e28c6d614",
        "colab": {
          "base_uri": "https://localhost:8080/",
          "height": 34
        }
      },
      "source": [
        "type(df),len(df)"
      ],
      "execution_count": 0,
      "outputs": [
        {
          "output_type": "execute_result",
          "data": {
            "text/plain": [
              "(list, 26)"
            ]
          },
          "metadata": {
            "tags": []
          },
          "execution_count": 51
        }
      ]
    },
    {
      "cell_type": "code",
      "metadata": {
        "id": "mia8W3xnqPY9",
        "colab_type": "code",
        "colab": {}
      },
      "source": [
        "word_data=[]\n",
        "\n",
        "for i in df:\n",
        "    token=tokenizer.tokenize(i)\n",
        "    token=[i for i in token if(not(str(i).isdigit() or not(str(i).isalpha())) and len(str(i)) > 2 )]\n",
        "    token=[i.lower() for i in token if( i not in en_stop)]\n",
        "    word_data.append(token)"
      ],
      "execution_count": 0,
      "outputs": []
    },
    {
      "cell_type": "code",
      "metadata": {
        "id": "trA3OsSh0p5-",
        "colab_type": "code",
        "colab": {}
      },
      "source": [
        "model1 = gensim.models.Word2Vec(word_data, min_count = 1,size = 100, window = 5) "
      ],
      "execution_count": 0,
      "outputs": []
    },
    {
      "cell_type": "code",
      "metadata": {
        "id": "fiWYfpUxqjrR",
        "colab_type": "code",
        "outputId": "04f861d7-fb26-4e6e-8ada-8d0eb27b3b7d",
        "colab": {
          "base_uri": "https://localhost:8080/",
          "height": 359
        }
      },
      "source": [
        "topic_df_T"
      ],
      "execution_count": 0,
      "outputs": [
        {
          "output_type": "execute_result",
          "data": {
            "text/html": [
              "<div>\n",
              "<style scoped>\n",
              "    .dataframe tbody tr th:only-of-type {\n",
              "        vertical-align: middle;\n",
              "    }\n",
              "\n",
              "    .dataframe tbody tr th {\n",
              "        vertical-align: top;\n",
              "    }\n",
              "\n",
              "    .dataframe thead th {\n",
              "        text-align: right;\n",
              "    }\n",
              "</style>\n",
              "<table border=\"1\" class=\"dataframe\">\n",
              "  <thead>\n",
              "    <tr style=\"text-align: right;\">\n",
              "      <th></th>\n",
              "      <th>Topic-1</th>\n",
              "      <th>Topic-2</th>\n",
              "      <th>Topic-3</th>\n",
              "      <th>Topic-4</th>\n",
              "      <th>Topic-5</th>\n",
              "      <th>Topic-6</th>\n",
              "      <th>Topic-7</th>\n",
              "      <th>Topic-8</th>\n",
              "      <th>Topic-9</th>\n",
              "      <th>Topic-10</th>\n",
              "    </tr>\n",
              "  </thead>\n",
              "  <tbody>\n",
              "    <tr>\n",
              "      <th>0</th>\n",
              "      <td>inflation</td>\n",
              "      <td>also</td>\n",
              "      <td>february</td>\n",
              "      <td>mpc</td>\n",
              "      <td>trade</td>\n",
              "      <td>risks</td>\n",
              "      <td>cent</td>\n",
              "      <td>inflation</td>\n",
              "      <td>prices</td>\n",
              "      <td>per</td>\n",
              "    </tr>\n",
              "    <tr>\n",
              "      <th>1</th>\n",
              "      <td>rate</td>\n",
              "      <td>meeting</td>\n",
              "      <td>second</td>\n",
              "      <td>expected</td>\n",
              "      <td>growth</td>\n",
              "      <td>policy</td>\n",
              "      <td>growth</td>\n",
              "      <td>prices</td>\n",
              "      <td>per</td>\n",
              "      <td>headline</td>\n",
              "    </tr>\n",
              "    <tr>\n",
              "      <th>2</th>\n",
              "      <td>food</td>\n",
              "      <td>global</td>\n",
              "      <td>the</td>\n",
              "      <td>vote</td>\n",
              "      <td>inflation</td>\n",
              "      <td>activity</td>\n",
              "      <td>the</td>\n",
              "      <td>effects</td>\n",
              "      <td>outlook</td>\n",
              "      <td>policy</td>\n",
              "    </tr>\n",
              "    <tr>\n",
              "      <th>3</th>\n",
              "      <td>cpi</td>\n",
              "      <td>level</td>\n",
              "      <td>march</td>\n",
              "      <td>pulses</td>\n",
              "      <td>months</td>\n",
              "      <td>bank</td>\n",
              "      <td>year</td>\n",
              "      <td>likely</td>\n",
              "      <td>bank</td>\n",
              "      <td>fuel</td>\n",
              "    </tr>\n",
              "    <tr>\n",
              "      <th>4</th>\n",
              "      <td>policy</td>\n",
              "      <td>last</td>\n",
              "      <td>manufacturing</td>\n",
              "      <td>stance</td>\n",
              "      <td>outlook</td>\n",
              "      <td>high</td>\n",
              "      <td>reserve</td>\n",
              "      <td>per</td>\n",
              "      <td>may</td>\n",
              "      <td>basis</td>\n",
              "    </tr>\n",
              "    <tr>\n",
              "      <th>5</th>\n",
              "      <td>output</td>\n",
              "      <td>sector</td>\n",
              "      <td>cent</td>\n",
              "      <td>recent</td>\n",
              "      <td>pmi</td>\n",
              "      <td>gdp</td>\n",
              "      <td>march</td>\n",
              "      <td>economic</td>\n",
              "      <td>also</td>\n",
              "      <td>market</td>\n",
              "    </tr>\n",
              "    <tr>\n",
              "      <th>6</th>\n",
              "      <td>impact</td>\n",
              "      <td>headline</td>\n",
              "      <td>first</td>\n",
              "      <td>points</td>\n",
              "      <td>volatility</td>\n",
              "      <td>statistical</td>\n",
              "      <td>investment</td>\n",
              "      <td>fiscal</td>\n",
              "      <td>statement</td>\n",
              "      <td>rising</td>\n",
              "    </tr>\n",
              "    <tr>\n",
              "      <th>7</th>\n",
              "      <td>markets</td>\n",
              "      <td>banks</td>\n",
              "      <td>central</td>\n",
              "      <td>term</td>\n",
              "      <td>crude</td>\n",
              "      <td>capital</td>\n",
              "      <td>committee</td>\n",
              "      <td>demand</td>\n",
              "      <td>expected</td>\n",
              "      <td>several</td>\n",
              "    </tr>\n",
              "    <tr>\n",
              "      <th>8</th>\n",
              "      <td>could</td>\n",
              "      <td>policy</td>\n",
              "      <td>price</td>\n",
              "      <td>set</td>\n",
              "      <td>domestic</td>\n",
              "      <td>hardening</td>\n",
              "      <td>production</td>\n",
              "      <td>due</td>\n",
              "      <td>april</td>\n",
              "      <td>risk</td>\n",
              "    </tr>\n",
              "    <tr>\n",
              "      <th>9</th>\n",
              "      <td>would</td>\n",
              "      <td>services</td>\n",
              "      <td>impact</td>\n",
              "      <td>upside</td>\n",
              "      <td>goods</td>\n",
              "      <td>account</td>\n",
              "      <td>economy</td>\n",
              "      <td>target</td>\n",
              "      <td>year</td>\n",
              "      <td>meeting</td>\n",
              "    </tr>\n",
              "  </tbody>\n",
              "</table>\n",
              "</div>"
            ],
            "text/plain": [
              "     Topic-1   Topic-2        Topic-3  ...    Topic-8    Topic-9  Topic-10\n",
              "0  inflation      also       february  ...  inflation     prices       per\n",
              "1       rate   meeting         second  ...     prices        per  headline\n",
              "2       food    global            the  ...    effects    outlook    policy\n",
              "3        cpi     level          march  ...     likely       bank      fuel\n",
              "4     policy      last  manufacturing  ...        per        may     basis\n",
              "5     output    sector           cent  ...   economic       also    market\n",
              "6     impact  headline          first  ...     fiscal  statement    rising\n",
              "7    markets     banks        central  ...     demand   expected   several\n",
              "8      could    policy          price  ...        due      april      risk\n",
              "9      would  services         impact  ...     target       year   meeting\n",
              "\n",
              "[10 rows x 10 columns]"
            ]
          },
          "metadata": {
            "tags": []
          },
          "execution_count": 54
        }
      ]
    },
    {
      "cell_type": "markdown",
      "metadata": {
        "id": "8jYMSc5eXlMd",
        "colab_type": "text"
      },
      "source": [
        "Calculating statistical significance through Cosine Similarity Score"
      ]
    },
    {
      "cell_type": "code",
      "metadata": {
        "id": "GfFIkqthshtv",
        "colab_type": "code",
        "colab": {}
      },
      "source": [
        "\n",
        "import statistics \n",
        "from scipy import stats\n",
        "from statistics import stdev\n",
        "\n",
        "ds=[]\n",
        "def statistical_signficance(topic_df_T,col,alpha,null_hyp):\n",
        "  #topics_df_T: Dataframe of words for any model\n",
        "  #col: Mtx with Topic Header, col[i]= Topic-i\n",
        "  #alpha: Critical p-Value for rejecting null hypothesis\n",
        "  #null_hyp: Value of mean for Null Hypothesis\n",
        "  Average_comparison=null_hyp\n",
        "  ds=[]\n",
        "  for i in range((len(col))) :\n",
        "    ds.append(list(topic_df_T[col[i]]))\n",
        "\n",
        "  ds# ds[i] is i-th list of Topic-i\n",
        "\n",
        "  simscore_topic=[]#initiating mtx for sim scores/cosine scores\n",
        "\n",
        "\n",
        "  for p in range(len(ds)):\n",
        "    k=len(ds[p])\n",
        "    o=0\n",
        "\n",
        "    sim=[]\n",
        "    simt=[]\n",
        "  \n",
        "    for i in range(k):\n",
        "      simt=[]\n",
        "      for j in range(k)  :\n",
        "        o=model1.similarity(ds[p][i],ds[p][j])\n",
        "        simt.append(o)\n",
        "\n",
        "      sim.append(simt)\n",
        "\n",
        "    simscore_topic.append(sim)\n",
        "# 3-D list, simscore_topic[i] is similarity scores for topic-i\n",
        "# simscore_topic[i][j] is list of similarity score of j-th word in i-th Topic with other words\n",
        "\n",
        "\n",
        "  \n",
        "  t_score_all=[]\n",
        "  p_value_all=[]\n",
        "  mean=0\n",
        "  sd=0\n",
        "\n",
        "  t_value=0\n",
        "  dup_score=[]\n",
        "  p=0\n",
        "  p_value=[]\n",
        "  t2=0\n",
        "  for i in range(len(ds)):\n",
        "    \n",
        "    t=[]\n",
        "    p_value_topic=[]\n",
        "    for j in range(len(ds[i])):         \n",
        "      dup_score=simscore_topic[i][j][:]    \n",
        "      dup_score.pop(j)# removing score of i-th element with itself which is=1\n",
        "      t2,p=stats.ttest_1samp(np.array(dup_score),popmean=np.array(Average_comparison))\n",
        "      \n",
        "      t.append(t2)\n",
        "      p_value_topic.append(p)\n",
        "      pass\n",
        "\n",
        "    t_score_all.append(t)\n",
        "    p_value_all.append(p_value_topic)\n",
        "  \n",
        "  t=0\n",
        "  word_to_remove=[] #initializing tuple to save topicid and word outside cluster\n",
        "  for i in range(len(p_value_all)):\n",
        "    word=[]\n",
        "    for j in range(len(p_value_all)):\n",
        "      if (p_value_all[i][j]>= alpha) or(t_score_all[i][j]<0):\n",
        "        word.append(ds[i][j])\n",
        "    \n",
        "    if len(word)>0:\n",
        "      t+=len(word)#counting number of words to be removed\n",
        "    \n",
        "    word_to_remove.append(word)\n",
        "\n",
        "\n",
        "# word_to_remove[i] list of words to remove from topic-i\n",
        "#ds[i] list of words in topic-i\n",
        "#t number of words to be removed in a algorithm\n",
        "# simscore_topic[i][j] is list of similarity score of j-th word in i-th Topic with other words\n",
        "\n",
        "  \n",
        "  return word_to_remove,ds,t"
      ],
      "execution_count": 0,
      "outputs": []
    },
    {
      "cell_type": "code",
      "metadata": {
        "id": "6lBdY6cR0I4Y",
        "colab_type": "code",
        "outputId": "d73fe96e-87c0-4a31-8a4d-1f58f511f584",
        "colab": {
          "base_uri": "https://localhost:8080/",
          "height": 88
        }
      },
      "source": [
        "#LDA\n",
        "alpha=0.05\n",
        "null_hyp=0.5\n",
        "\n",
        "topic_df_T_lda\n",
        "col_lda\n",
        "\n",
        "lda_words_to_remove,lda_words,number_words_removed_lda=statistical_signficance(topic_df_T_lda,col_lda,alpha,null_hyp)\n",
        "#lda_words_to_remove[i] is list of words to remove from topic-i\n",
        "#lda_words[i] is list of all words in topic-i\n",
        "#number_words_removed_lda is no. of words removed from all topics of LDA\n",
        "\n",
        "\n",
        "\n",
        "\n",
        "#LSI\n",
        "\n",
        "topic_df_T_lsi\n",
        "col_lsi\n",
        "\n",
        "lsi_words_to_remove,lsi_words,number_words_removed_lsi=statistical_signficance(topic_df_T_lsi,col_lsi,alpha,null_hyp)\n",
        "\n",
        "\n",
        "#HDP\n",
        "\n",
        "topic_df_T_hdp\n",
        "col_hdp\n",
        "\n",
        "hdp_words_to_remove,hdp_words,number_words_removed_hdp=statistical_signficance(topic_df_T_hdp,col_hdp,alpha,null_hyp)\n",
        "\n",
        "words_removed=[number_words_removed_lsi, number_words_removed_hdp, number_words_removed_lda]\n",
        "\n",
        "print(words_removed)\n",
        "\n",
        "#for i in range(len(lda_words)):\n",
        "  #print(\"Topic:\",i)\n",
        "  #print(lda_words[i])\n",
        "  #print(\"Words to remove:\")\n",
        "  #print(lda_words_to_remove)\n",
        "  #print(\"\\n\")\n"
      ],
      "execution_count": 135,
      "outputs": [
        {
          "output_type": "stream",
          "text": [
            "DeprecationWarning: Call to deprecated `similarity` (Method will be removed in 4.0.0, use self.wv.similarity() instead). [ipykernel_launcher.py:32]\n",
            "FutureWarning: Conversion of the second argument of issubdtype from `int` to `np.signedinteger` is deprecated. In future, it will be treated as `np.int64 == np.dtype(int).type`. [matutils.py:737]\n"
          ],
          "name": "stderr"
        },
        {
          "output_type": "stream",
          "text": [
            "[59, 400, 25]\n"
          ],
          "name": "stdout"
        }
      ]
    },
    {
      "cell_type": "code",
      "metadata": {
        "id": "QIHEOGwPV6B-",
        "colab_type": "code",
        "colab": {
          "base_uri": "https://localhost:8080/",
          "height": 286
        },
        "outputId": "9908039f-5624-45ea-8a4f-bba0bf7e837e"
      },
      "source": [
        "def evaluate_bar_graph(coherences, indices):\n",
        "    plt.subplot(2,1,1)\n",
        "    assert len(coherences) == len(indices)\n",
        "    n = len(coherences)\n",
        "    x = np.arange(n)\n",
        "    plt.bar(x, coherences, width=0.2, tick_label=indices, align='center')\n",
        "    plt.xlabel('Models')\n",
        "    plt.ylabel('No. of Words Removed')\n",
        "\n",
        "    plt.subplot(2,1,2)\n",
        "    assert len(coherences) == len(indices)\n",
        "    n = len(coherences)\n",
        "    x = np.arange(n)\n",
        "    plt.bar(x, coherences, width=0.2, tick_label=indices, align='center')\n",
        "    plt.xlabel('Models')\n",
        "    plt.ylabel('No. of Words Removed')\n",
        "\n",
        "    plt.show()\n",
        "\n",
        "\n",
        "\n",
        "\n",
        "evaluate_bar_graph([number_words_removed_lsi, number_words_removed_hdp, number_words_removed_lda],\n",
        "                   ['LSI', 'HDP', 'LDA'])\n"
      ],
      "execution_count": 108,
      "outputs": [
        {
          "output_type": "display_data",
          "data": {
            "image/png": "[encoded data removed]",
            "text/plain": [
              "<Figure size 432x288 with 2 Axes>"
            ]
          },
          "metadata": {
            "tags": [],
            "needs_background": "light"
          }
        }
      ]
    },
    {
      "cell_type": "code",
      "metadata": {
        "id": "IvpCixtzivKZ",
        "colab_type": "code",
        "outputId": "e6713b58-b419-46e0-a4bd-266dcb3b84c5",
        "colab": {
          "base_uri": "https://localhost:8080/",
          "height": 231
        }
      },
      "source": [
        "#Dynamically creating Data Frames\n",
        "gbl = globals()\n",
        "\n",
        "\n",
        "#df_topic_name = ['SymbolA','SymbolB', 'SymbolC' .... 'SymbolN']\n",
        "\n",
        "for i in range(len(col)):   \n",
        "\n",
        "   gbl[str('df')+col[i]] = pd.DataFrame(simscore_topic[i],index=ds[i],columns=ds[i])\n",
        "   print(\"Similarity Scores matrix for Topic-{}\".format(i+1))\n",
        "   print(gbl[str('df')+col[i]])\n",
        "   print(\"\\n\\n\")"
      ],
      "execution_count": 0,
      "outputs": [
        {
          "output_type": "error",
          "ename": "NameError",
          "evalue": "ignored",
          "traceback": [
            "\u001b[0;31m---------------------------------------------------------------------------\u001b[0m",
            "\u001b[0;31mNameError\u001b[0m                                 Traceback (most recent call last)",
            "\u001b[0;32m<ipython-input-56-5231b2a06d28>\u001b[0m in \u001b[0;36m<module>\u001b[0;34m()\u001b[0m\n\u001b[1;32m      6\u001b[0m \u001b[0;32mfor\u001b[0m \u001b[0mi\u001b[0m \u001b[0;32min\u001b[0m \u001b[0mrange\u001b[0m\u001b[0;34m(\u001b[0m\u001b[0mlen\u001b[0m\u001b[0;34m(\u001b[0m\u001b[0mcol\u001b[0m\u001b[0;34m)\u001b[0m\u001b[0;34m)\u001b[0m\u001b[0;34m:\u001b[0m\u001b[0;34m\u001b[0m\u001b[0;34m\u001b[0m\u001b[0m\n\u001b[1;32m      7\u001b[0m \u001b[0;34m\u001b[0m\u001b[0m\n\u001b[0;32m----> 8\u001b[0;31m    \u001b[0mgbl\u001b[0m\u001b[0;34m[\u001b[0m\u001b[0mstr\u001b[0m\u001b[0;34m(\u001b[0m\u001b[0;34m'df'\u001b[0m\u001b[0;34m)\u001b[0m\u001b[0;34m+\u001b[0m\u001b[0mcol\u001b[0m\u001b[0;34m[\u001b[0m\u001b[0mi\u001b[0m\u001b[0;34m]\u001b[0m\u001b[0;34m]\u001b[0m \u001b[0;34m=\u001b[0m \u001b[0mpd\u001b[0m\u001b[0;34m.\u001b[0m\u001b[0mDataFrame\u001b[0m\u001b[0;34m(\u001b[0m\u001b[0msimscore_topic\u001b[0m\u001b[0;34m[\u001b[0m\u001b[0mi\u001b[0m\u001b[0;34m]\u001b[0m\u001b[0;34m,\u001b[0m\u001b[0mindex\u001b[0m\u001b[0;34m=\u001b[0m\u001b[0mds\u001b[0m\u001b[0;34m[\u001b[0m\u001b[0mi\u001b[0m\u001b[0;34m]\u001b[0m\u001b[0;34m,\u001b[0m\u001b[0mcolumns\u001b[0m\u001b[0;34m=\u001b[0m\u001b[0mds\u001b[0m\u001b[0;34m[\u001b[0m\u001b[0mi\u001b[0m\u001b[0;34m]\u001b[0m\u001b[0;34m)\u001b[0m\u001b[0;34m\u001b[0m\u001b[0;34m\u001b[0m\u001b[0m\n\u001b[0m\u001b[1;32m      9\u001b[0m    \u001b[0mprint\u001b[0m\u001b[0;34m(\u001b[0m\u001b[0;34m\"Similarity Scores matrix for Topic-{}\"\u001b[0m\u001b[0;34m.\u001b[0m\u001b[0mformat\u001b[0m\u001b[0;34m(\u001b[0m\u001b[0mi\u001b[0m\u001b[0;34m+\u001b[0m\u001b[0;36m1\u001b[0m\u001b[0;34m)\u001b[0m\u001b[0;34m)\u001b[0m\u001b[0;34m\u001b[0m\u001b[0;34m\u001b[0m\u001b[0m\n\u001b[1;32m     10\u001b[0m    \u001b[0mprint\u001b[0m\u001b[0;34m(\u001b[0m\u001b[0mgbl\u001b[0m\u001b[0;34m[\u001b[0m\u001b[0mstr\u001b[0m\u001b[0;34m(\u001b[0m\u001b[0;34m'df'\u001b[0m\u001b[0;34m)\u001b[0m\u001b[0;34m+\u001b[0m\u001b[0mcol\u001b[0m\u001b[0;34m[\u001b[0m\u001b[0mi\u001b[0m\u001b[0;34m]\u001b[0m\u001b[0;34m]\u001b[0m\u001b[0;34m)\u001b[0m\u001b[0;34m\u001b[0m\u001b[0;34m\u001b[0m\u001b[0m\n",
            "\u001b[0;31mNameError\u001b[0m: name 'simscore_topic' is not defined"
          ]
        }
      ]
    },
    {
      "cell_type": "code",
      "metadata": {
        "id": "gDKj_j13jWyJ",
        "colab_type": "code",
        "colab": {}
      },
      "source": [
        "#Topic1_df=pd.DataFrame(simscore_topic[0],index=ds[0],columns=ds[0])\n",
        "gbl.items()"
      ],
      "execution_count": 0,
      "outputs": []
    },
    {
      "cell_type": "code",
      "metadata": {
        "id": "aJSHFanQtb7z",
        "colab_type": "code",
        "colab": {}
      },
      "source": [
        "gbl[Topic-1]"
      ],
      "execution_count": 0,
      "outputs": []
    }
  ]
}