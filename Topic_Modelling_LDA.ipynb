{
  "nbformat": 4,
  "nbformat_minor": 0,
  "metadata": {
    "colab": {
      "name": "Topic Modelling - LDA.ipynb",
      "provenance": [],
      "collapsed_sections": []
    },
    "kernelspec": {
      "name": "python3",
      "display_name": "Python 3"
    }
  },
  "cells": [
    {
      "cell_type": "markdown",
      "metadata": {
        "id": "pDnh2YCh6hqd",
        "colab_type": "text"
      },
      "source": [
        "## PDF Reading"
      ]
    },
    {
      "cell_type": "code",
      "metadata": {
        "id": "wghEQ7A26vnU",
        "colab_type": "code",
        "outputId": "b71626fe-9d1a-4b2d-ea2b-e17efe8ec241",
        "colab": {
          "base_uri": "https://localhost:8080/",
          "height": 34
        }
      },
      "source": [
        "pip install pyPDF2"
      ],
      "execution_count": 30,
      "outputs": [
        {
          "output_type": "stream",
          "text": [
            "Requirement already satisfied: pyPDF2 in /usr/local/lib/python3.6/dist-packages (1.26.0)\n"
          ],
          "name": "stdout"
        }
      ]
    },
    {
      "cell_type": "code",
      "metadata": {
        "id": "JCCjhlye691F",
        "colab_type": "code",
        "colab": {}
      },
      "source": [
        "import PyPDF2"
      ],
      "execution_count": 0,
      "outputs": []
    },
    {
      "cell_type": "code",
      "metadata": {
        "id": "0T3rV4tE6_7g",
        "colab_type": "code",
        "colab": {}
      },
      "source": [
        "#Taking file input\n",
        "#number of files\n",
        "nf=2\n",
        "\n",
        "file= open('Apr-18.PDF','rb')\n",
        "file1= open('Apr-17.PDF','rb')\n"
      ],
      "execution_count": 0,
      "outputs": []
    },
    {
      "cell_type": "code",
      "metadata": {
        "id": "4IBG24-_ETeX",
        "colab_type": "code",
        "colab": {}
      },
      "source": [
        "#A list of files\n",
        "file_list=[file,file1]"
      ],
      "execution_count": 0,
      "outputs": []
    },
    {
      "cell_type": "code",
      "metadata": {
        "id": "hAOpKwg9Bbej",
        "colab_type": "code",
        "colab": {}
      },
      "source": [
        "# Reading number of pages\n",
        "\n",
        "for i in range(nf):\n",
        "  pdfReader = PyPDF2.PdfFileReader(file_list[i])\n",
        "  n1=pdfReader.numPages\n",
        "  pages.append(n1)"
      ],
      "execution_count": 0,
      "outputs": []
    },
    {
      "cell_type": "code",
      "metadata": {
        "id": "13_u607DEFrA",
        "colab_type": "code",
        "colab": {}
      },
      "source": [
        "# A list containing all files, All_Docs[i] is i-th file \n",
        "# All_Docs[i][j] is j-th page of i-th file\n",
        "All_Docs=[] "
      ],
      "execution_count": 0,
      "outputs": []
    },
    {
      "cell_type": "code",
      "metadata": {
        "id": "C8KxYqUEByoC",
        "colab_type": "code",
        "colab": {}
      },
      "source": [
        "\n",
        "for j in range(n):\n",
        "  pdfReader = PyPDF2.PdfFileReader(file_list[j])\n",
        "  file_text=[] #takes string of page text\n",
        "  for i in range(pages[j]):\n",
        "    pageObj = pdfReader.getPage(i)\n",
        "    a=pageObj.extractText()\n",
        "    file_text.append(a)\n",
        "  \n",
        "  All_Docs.append(file_text)"
      ],
      "execution_count": 0,
      "outputs": []
    },
    {
      "cell_type": "code",
      "metadata": {
        "id": "2pyakOURCtMg",
        "colab_type": "code",
        "outputId": "2afd94c9-25b9-49a1-f416-1c3f6318233d",
        "colab": {
          "base_uri": "https://localhost:8080/",
          "height": 34
        }
      },
      "source": [
        "type(All_Docs[0][1]),type(All_Docs[0])"
      ],
      "execution_count": 38,
      "outputs": [
        {
          "output_type": "execute_result",
          "data": {
            "text/plain": [
              "(str, list)"
            ]
          },
          "metadata": {
            "tags": []
          },
          "execution_count": 38
        }
      ]
    },
    {
      "cell_type": "markdown",
      "metadata": {
        "id": "wOYeMBRtPUxA",
        "colab_type": "text"
      },
      "source": [
        "# Finding Optimal number of Clusters"
      ]
    },
    {
      "cell_type": "code",
      "metadata": {
        "id": "Ssl1uTyWPZZI",
        "colab_type": "code",
        "colab": {}
      },
      "source": [
        "Dup_All_Docs=All_Docs[:]"
      ],
      "execution_count": 0,
      "outputs": []
    },
    {
      "cell_type": "code",
      "metadata": {
        "id": "pbNNl31_Phbg",
        "colab_type": "code",
        "outputId": "13dc9263-db36-4b07-8df4-2f0e78e615eb",
        "colab": {
          "base_uri": "https://localhost:8080/",
          "height": 34
        }
      },
      "source": [
        "type(Dup_All_Docs[0][0])"
      ],
      "execution_count": 40,
      "outputs": [
        {
          "output_type": "execute_result",
          "data": {
            "text/plain": [
              "str"
            ]
          },
          "metadata": {
            "tags": []
          },
          "execution_count": 40
        }
      ]
    },
    {
      "cell_type": "code",
      "metadata": {
        "id": "VWgumpDZPnOr",
        "colab_type": "code",
        "colab": {}
      },
      "source": [
        "from sklearn.cluster import KMeans\n",
        "from sklearn.feature_extraction.text import TfidfVectorizer\n",
        "from sklearn.metrics import silhouette_score\n",
        "\n",
        "import pandas as pd\n",
        "from nltk.tokenize import RegexpTokenizer\n",
        "#from stop_words import get_stop_words\n",
        "from nltk.stem.porter import PorterStemmer\n",
        "from gensim import corpora, models\n",
        "from nltk.corpus import stopwords\n",
        "import gensim\n",
        "\n",
        "from sklearn.cluster import KMeans\n",
        "from sklearn import metrics\n",
        "from scipy.spatial.distance import cdist\n",
        "import numpy as np"
      ],
      "execution_count": 0,
      "outputs": []
    },
    {
      "cell_type": "code",
      "metadata": {
        "id": "NjiL4AWGJY2j",
        "colab_type": "code",
        "outputId": "24e5a19d-c40e-4c9e-d673-9b88d208a175",
        "colab": {
          "base_uri": "https://localhost:8080/",
          "height": 68
        }
      },
      "source": [
        "nltk.download('stopwords')"
      ],
      "execution_count": 42,
      "outputs": [
        {
          "output_type": "stream",
          "text": [
            "[nltk_data] Downloading package stopwords to /root/nltk_data...\n",
            "[nltk_data]   Unzipping corpora/stopwords.zip.\n"
          ],
          "name": "stdout"
        },
        {
          "output_type": "execute_result",
          "data": {
            "text/plain": [
              "True"
            ]
          },
          "metadata": {
            "tags": []
          },
          "execution_count": 42
        }
      ]
    },
    {
      "cell_type": "code",
      "metadata": {
        "id": "2qSoEriVP0uH",
        "colab_type": "code",
        "colab": {}
      },
      "source": [
        "tokenizer = RegexpTokenizer(r'\\w+')\n",
        "en_stop = set(stopwords.words('english'))\n",
        "en_stop.add('the')#The is not in stopwords"
      ],
      "execution_count": 0,
      "outputs": []
    },
    {
      "cell_type": "code",
      "metadata": {
        "id": "VAJkRulAP9Kd",
        "colab_type": "code",
        "colab": {}
      },
      "source": [
        "tokens=[]\n",
        "\n",
        "\n",
        "for j in Dup_All_Docs:\n",
        "  x=[]\n",
        "  for i in j:\n",
        "    token=tokenizer.tokenize(i)\n",
        "    token=[i for i in token if(not(str(i).isdigit() or not(str(i).isalpha())) and len(str(i)) > 2 )]\n",
        "    token=[i for i in token if( i not in en_stop)]\n",
        "    x.extend(token)\n",
        "  \n",
        "  tokens.extend(x)"
      ],
      "execution_count": 0,
      "outputs": []
    },
    {
      "cell_type": "code",
      "metadata": {
        "id": "NQUgWxG3UPf_",
        "colab_type": "code",
        "outputId": "b7eeef33-e8ee-4b72-a7fc-a84588798208",
        "colab": {
          "base_uri": "https://localhost:8080/",
          "height": 204
        }
      },
      "source": [
        "len(tokens),tokens[:10]"
      ],
      "execution_count": 46,
      "outputs": [
        {
          "output_type": "execute_result",
          "data": {
            "text/plain": [
              "(7941,\n",
              " ['PRESS',\n",
              "  'RELEASE',\n",
              "  'DEPARTMENT',\n",
              "  'COMMUNICATION',\n",
              "  'Central',\n",
              "  'Office',\n",
              "  'Marg',\n",
              "  'Mumbai',\n",
              "  'Phone',\n",
              "  'Fax'])"
            ]
          },
          "metadata": {
            "tags": []
          },
          "execution_count": 46
        }
      ]
    },
    {
      "cell_type": "code",
      "metadata": {
        "id": "Tk5Z16QtWZPC",
        "colab_type": "code",
        "colab": {}
      },
      "source": [
        "#df9['Cleaned_PaperText'] = pd.Series(tokens)\n",
        "        \n",
        "vectorizer = TfidfVectorizer()\n",
        "\n",
        "Y = vectorizer.fit_transform(tokens)"
      ],
      "execution_count": 0,
      "outputs": []
    },
    {
      "cell_type": "code",
      "metadata": {
        "id": "lpkZXOmBXF82",
        "colab_type": "code",
        "colab": {}
      },
      "source": [
        "#Not Working\n",
        "\n",
        "distortions = []\n",
        "K = range(1,10)\n",
        "for k in K:\n",
        "    kmeanModel = KMeans(n_clusters=k).fit(Y)\n",
        "    kmeanModel.fit(Y)\n",
        "   # distortions.append(sum(np.min(cdist(Y, kmeanModel.cluster_centers_, 'euclidean'), axis=1)) / X.shape[0])"
      ],
      "execution_count": 0,
      "outputs": []
    },
    {
      "cell_type": "code",
      "metadata": {
        "id": "HYFF1Ml11rb6",
        "colab_type": "code",
        "outputId": "a853f23d-3910-4dcf-845e-ba8bc5f18552",
        "colab": {
          "base_uri": "https://localhost:8080/",
          "height": 170
        }
      },
      "source": [
        "#2nd Method using Silhouette Score\n",
        "\n",
        "n=0\n",
        "ss=0\n",
        "for n_cluster in range(2, 11):\n",
        "    kmeans = KMeans(n_clusters=n_cluster).fit(Y)\n",
        "    label = kmeans.labels_\n",
        "    sil_coeff = silhouette_score(X, label, metric='euclidean')  \n",
        "    print(\"For n_clusters={}, The Silhouette Coefficient is {}\".format(n_cluster, sil_coeff))\n",
        "    if sil_coeff>ss:\n",
        "      ss=sil_coeff\n",
        "      n=n_cluster"
      ],
      "execution_count": 77,
      "outputs": [
        {
          "output_type": "stream",
          "text": [
            "For n_clusters=2, The Silhouette Coefficient is 0.013113115977550036\n",
            "For n_clusters=3, The Silhouette Coefficient is 0.014499944484682307\n",
            "For n_clusters=4, The Silhouette Coefficient is 0.030536189095659732\n",
            "For n_clusters=5, The Silhouette Coefficient is 0.046154072366921935\n",
            "For n_clusters=6, The Silhouette Coefficient is 0.05376507395013614\n",
            "For n_clusters=7, The Silhouette Coefficient is 0.054511231206287536\n",
            "For n_clusters=8, The Silhouette Coefficient is 0.059205379653494095\n",
            "For n_clusters=9, The Silhouette Coefficient is 0.0714241604401495\n",
            "For n_clusters=10, The Silhouette Coefficient is 0.07818054359294499\n"
          ],
          "name": "stdout"
        }
      ]
    },
    {
      "cell_type": "code",
      "metadata": {
        "id": "0b_JW_Ac1sT9",
        "colab_type": "code",
        "outputId": "49976a3c-71eb-4585-e07b-dfad27a645ce",
        "colab": {
          "base_uri": "https://localhost:8080/",
          "height": 34
        }
      },
      "source": [
        "print(\"Optimal numbers of clusters are : {}\".format(n))"
      ],
      "execution_count": 78,
      "outputs": [
        {
          "output_type": "stream",
          "text": [
            "Optimal numbers of clusters are : 10\n"
          ],
          "name": "stdout"
        }
      ]
    },
    {
      "cell_type": "markdown",
      "metadata": {
        "id": "rMz_Ewj2Ge1P",
        "colab_type": "text"
      },
      "source": [
        "# LDA"
      ]
    },
    {
      "cell_type": "code",
      "metadata": {
        "id": "sPa3yKp5GgiO",
        "colab_type": "code",
        "colab": {}
      },
      "source": [
        "\n",
        "import nltk\n",
        "from gensim.utils import simple_preprocess\n",
        "from gensim.parsing.preprocessing import STOPWORDS\n",
        "from nltk.stem import WordNetLemmatizer\n",
        "from gensim.corpora import Dictionary\n",
        "from gensim.models import TfidfModel\n",
        "from gensim.models.wrappers import LdaMallet"
      ],
      "execution_count": 0,
      "outputs": []
    },
    {
      "cell_type": "code",
      "metadata": {
        "id": "7qPpPPipGuZq",
        "colab_type": "code",
        "outputId": "2fd9ff2f-d2a4-4760-dd8d-1a6d92cadb01",
        "colab": {
          "base_uri": "https://localhost:8080/",
          "height": 68
        }
      },
      "source": [
        "nltk.download('wordnet')\n"
      ],
      "execution_count": 51,
      "outputs": [
        {
          "output_type": "stream",
          "text": [
            "[nltk_data] Downloading package wordnet to /root/nltk_data...\n",
            "[nltk_data]   Unzipping corpora/wordnet.zip.\n"
          ],
          "name": "stdout"
        },
        {
          "output_type": "execute_result",
          "data": {
            "text/plain": [
              "True"
            ]
          },
          "metadata": {
            "tags": []
          },
          "execution_count": 51
        }
      ]
    },
    {
      "cell_type": "code",
      "metadata": {
        "id": "gjfEIOkQGM5n",
        "colab_type": "code",
        "colab": {}
      },
      "source": [
        "\n",
        "dictionary=Dictionary([[i] for i in tokens])"
      ],
      "execution_count": 0,
      "outputs": []
    },
    {
      "cell_type": "code",
      "metadata": {
        "id": "ZPWPK9OTGfkc",
        "colab_type": "code",
        "outputId": "f0c9b680-da4e-4e14-a7b0-7d1f45ee836f",
        "colab": {
          "base_uri": "https://localhost:8080/",
          "height": 34
        }
      },
      "source": [
        "print(dictionary)"
      ],
      "execution_count": 53,
      "outputs": [
        {
          "output_type": "stream",
          "text": [
            "Dictionary(2246 unique tokens: ['PRESS', 'RELEASE', 'DEPARTMENT', 'COMMUNICATION', 'Central']...)\n"
          ],
          "name": "stdout"
        }
      ]
    },
    {
      "cell_type": "code",
      "metadata": {
        "id": "-Y7pRecKIYD8",
        "colab_type": "code",
        "outputId": "ad76f077-bb32-469c-9fe3-26af97473462",
        "colab": {
          "base_uri": "https://localhost:8080/",
          "height": 34
        }
      },
      "source": [
        "X=[dictionary.doc2bow([sents]) for sents in tokens]#getting bag of words.\n",
        "tfidf=TfidfModel(X)\n",
        "\n",
        "print(type(tfidf))\n",
        "X=tfidf[X]\n"
      ],
      "execution_count": 80,
      "outputs": [
        {
          "output_type": "stream",
          "text": [
            "<class 'gensim.models.tfidfmodel.TfidfModel'>\n"
          ],
          "name": "stdout"
        }
      ]
    },
    {
      "cell_type": "code",
      "metadata": {
        "id": "GIvl1ys8KN1c",
        "colab_type": "code",
        "colab": {}
      },
      "source": [
        "from gensim.models import LdaMulticore,CoherenceModel\n",
        "\n",
        "lda=LdaMulticore(X,num_topics=n,id2word=dictionary,workers=8)\n",
        "#lda.print_topics()"
      ],
      "execution_count": 0,
      "outputs": []
    },
    {
      "cell_type": "code",
      "metadata": {
        "id": "7TxsZ7hLLpIo",
        "colab_type": "code",
        "colab": {}
      },
      "source": [
        "\n",
        "ldatopics = [[(word,prob) for word, prob in topic] for topicid, topic in lda.show_topics(formatted=False)]\n",
        "lda.show_topics(formatted=True)"
      ],
      "execution_count": 0,
      "outputs": []
    },
    {
      "cell_type": "code",
      "metadata": {
        "id": "cc2w7Qhl-8VN",
        "colab_type": "code",
        "colab": {}
      },
      "source": [
        "index=[\"Most Common Word\"]\n",
        "col=[]\n",
        "a='Topic-'\n",
        "c=''\n",
        "for i in range(n):\n",
        "  c+=a+str(i+1)\n",
        "  col.append(c)\n",
        "  c=''\n",
        "\n",
        "topic_df=pd.DataFrame(data=ldatopics,columns=col)"
      ],
      "execution_count": 0,
      "outputs": []
    },
    {
      "cell_type": "code",
      "metadata": {
        "id": "6F3UWKfN_EJt",
        "colab_type": "code",
        "colab": {
          "base_uri": "https://localhost:8080/",
          "height": 359
        },
        "outputId": "9610a116-2226-47d1-f21d-704af3a1e990"
      },
      "source": [
        "topic_df"
      ],
      "execution_count": 147,
      "outputs": [
        {
          "output_type": "execute_result",
          "data": {
            "text/html": [
              "<div>\n",
              "<style scoped>\n",
              "    .dataframe tbody tr th:only-of-type {\n",
              "        vertical-align: middle;\n",
              "    }\n",
              "\n",
              "    .dataframe tbody tr th {\n",
              "        vertical-align: top;\n",
              "    }\n",
              "\n",
              "    .dataframe thead th {\n",
              "        text-align: right;\n",
              "    }\n",
              "</style>\n",
              "<table border=\"1\" class=\"dataframe\">\n",
              "  <thead>\n",
              "    <tr style=\"text-align: right;\">\n",
              "      <th></th>\n",
              "      <th>Topic-1</th>\n",
              "      <th>Topic-2</th>\n",
              "      <th>Topic-3</th>\n",
              "      <th>Topic-4</th>\n",
              "      <th>Topic-5</th>\n",
              "      <th>Topic-6</th>\n",
              "      <th>Topic-7</th>\n",
              "      <th>Topic-8</th>\n",
              "      <th>Topic-9</th>\n",
              "      <th>Topic-10</th>\n",
              "    </tr>\n",
              "  </thead>\n",
              "  <tbody>\n",
              "    <tr>\n",
              "      <th>0</th>\n",
              "      <td>February</td>\n",
              "      <td>expected</td>\n",
              "      <td>impact</td>\n",
              "      <td>second</td>\n",
              "      <td>remained</td>\n",
              "      <td>March</td>\n",
              "      <td>deficit</td>\n",
              "      <td>Bank</td>\n",
              "      <td>past</td>\n",
              "      <td>indicators</td>\n",
              "    </tr>\n",
              "    <tr>\n",
              "      <th>1</th>\n",
              "      <td>growth</td>\n",
              "      <td>March</td>\n",
              "      <td>inflation</td>\n",
              "      <td>headline</td>\n",
              "      <td>target</td>\n",
              "      <td>although</td>\n",
              "      <td>cent</td>\n",
              "      <td>Bank</td>\n",
              "      <td>goods</td>\n",
              "      <td>months</td>\n",
              "    </tr>\n",
              "    <tr>\n",
              "      <th>2</th>\n",
              "      <td>per</td>\n",
              "      <td>cent</td>\n",
              "      <td>food</td>\n",
              "      <td>may</td>\n",
              "      <td>January</td>\n",
              "      <td>level</td>\n",
              "      <td>high</td>\n",
              "      <td>imports</td>\n",
              "      <td>trade</td>\n",
              "      <td>India</td>\n",
              "    </tr>\n",
              "    <tr>\n",
              "      <th>3</th>\n",
              "      <td>services</td>\n",
              "      <td>global</td>\n",
              "      <td>The</td>\n",
              "      <td>outlook</td>\n",
              "      <td>output</td>\n",
              "      <td>domestic</td>\n",
              "      <td>inflation</td>\n",
              "      <td>year</td>\n",
              "      <td>economic</td>\n",
              "      <td>data</td>\n",
              "    </tr>\n",
              "    <tr>\n",
              "      <th>4</th>\n",
              "      <td>Reserve</td>\n",
              "      <td>year</td>\n",
              "      <td>risks</td>\n",
              "      <td>activity</td>\n",
              "      <td>The</td>\n",
              "      <td>months</td>\n",
              "      <td>macroeconomic</td>\n",
              "      <td>monetary</td>\n",
              "      <td>February</td>\n",
              "      <td>pick</td>\n",
              "    </tr>\n",
              "    <tr>\n",
              "      <th>5</th>\n",
              "      <td>prices</td>\n",
              "      <td>per</td>\n",
              "      <td>growth</td>\n",
              "      <td>rate</td>\n",
              "      <td>stance</td>\n",
              "      <td>risks</td>\n",
              "      <td>Policy</td>\n",
              "      <td>upside</td>\n",
              "      <td>consumption</td>\n",
              "      <td>low</td>\n",
              "    </tr>\n",
              "    <tr>\n",
              "      <th>6</th>\n",
              "      <td>The</td>\n",
              "      <td>MPC</td>\n",
              "      <td>rates</td>\n",
              "      <td>effects</td>\n",
              "      <td>projected</td>\n",
              "      <td>Bank</td>\n",
              "      <td>term</td>\n",
              "      <td>well</td>\n",
              "      <td>given</td>\n",
              "      <td>repo</td>\n",
              "    </tr>\n",
              "    <tr>\n",
              "      <th>7</th>\n",
              "      <td>inflation</td>\n",
              "      <td>cent</td>\n",
              "      <td>food</td>\n",
              "      <td>rate</td>\n",
              "      <td>demand</td>\n",
              "      <td>factors</td>\n",
              "      <td>impact</td>\n",
              "      <td>prices</td>\n",
              "      <td>policy</td>\n",
              "      <td>one</td>\n",
              "    </tr>\n",
              "    <tr>\n",
              "      <th>8</th>\n",
              "      <td>policy</td>\n",
              "      <td>CPI</td>\n",
              "      <td>investment</td>\n",
              "      <td>resolution</td>\n",
              "      <td>effects</td>\n",
              "      <td>January</td>\n",
              "      <td>growth</td>\n",
              "      <td>crude</td>\n",
              "      <td>markets</td>\n",
              "      <td>since</td>\n",
              "    </tr>\n",
              "    <tr>\n",
              "      <th>9</th>\n",
              "      <td>also</td>\n",
              "      <td>production</td>\n",
              "      <td>Committee</td>\n",
              "      <td>meeting</td>\n",
              "      <td>likely</td>\n",
              "      <td>price</td>\n",
              "      <td>rising</td>\n",
              "      <td>month</td>\n",
              "      <td>ahead</td>\n",
              "      <td>manufacturing</td>\n",
              "    </tr>\n",
              "  </tbody>\n",
              "</table>\n",
              "</div>"
            ],
            "text/plain": [
              "     Topic-1     Topic-2     Topic-3  ...   Topic-8      Topic-9       Topic-10\n",
              "0   February    expected      impact  ...      Bank         past     indicators\n",
              "1     growth       March   inflation  ...      Bank        goods         months\n",
              "2        per        cent        food  ...   imports        trade          India\n",
              "3   services      global         The  ...      year     economic           data\n",
              "4    Reserve        year       risks  ...  monetary     February           pick\n",
              "5     prices         per      growth  ...    upside  consumption            low\n",
              "6        The         MPC       rates  ...      well        given           repo\n",
              "7  inflation        cent        food  ...    prices       policy            one\n",
              "8     policy         CPI  investment  ...     crude      markets          since\n",
              "9       also  production   Committee  ...     month        ahead  manufacturing\n",
              "\n",
              "[10 rows x 10 columns]"
            ]
          },
          "metadata": {
            "tags": []
          },
          "execution_count": 147
        }
      ]
    },
    {
      "cell_type": "markdown",
      "metadata": {
        "id": "1mYZ4hnJtDUm",
        "colab_type": "text"
      },
      "source": [
        "# Evaluating Model\n"
      ]
    },
    {
      "cell_type": "code",
      "metadata": {
        "id": "h4-cAoWxRgkE",
        "colab_type": "code",
        "colab": {
          "base_uri": "https://localhost:8080/",
          "height": 34
        },
        "outputId": "338afb16-9acc-47f1-c59b-669ab0248108"
      },
      "source": [
        "tk=[[i] for i in tokens]\n",
        "ldatopics = [[word for word, prob in topic] for topicid, topic in lda.show_topics(formatted=False)]\n",
        "lda_coherence = CoherenceModel(topics=ldatopics, texts=tk, dictionary=dictionary, window_size=10).get_coherence()\n",
        "lda_coherence"
      ],
      "execution_count": 99,
      "outputs": [
        {
          "output_type": "execute_result",
          "data": {
            "text/plain": [
              "0.7116011974877247"
            ]
          },
          "metadata": {
            "tags": []
          },
          "execution_count": 99
        }
      ]
    },
    {
      "cell_type": "code",
      "metadata": {
        "id": "p7oeEntDwtTP",
        "colab_type": "code",
        "colab": {}
      },
      "source": [
        "coherence_score=[]\n",
        "tk=[[i] for i in tokens]\n",
        "for i in range(n):\n",
        "  lda=LdaMulticore(X,num_topics=n,id2word=dictionary,workers=8)\n",
        "  ldatopics = [[word for word, prob in topic] for topicid, topic in lda.show_topics(formatted=False)]\n",
        "  lda_coherence = CoherenceModel(topics=ldatopics, texts=tk, dictionary=dictionary, window_size=10).get_coherence()\n",
        "  coherence_score.append(lda_coherence)\n",
        "\n"
      ],
      "execution_count": 0,
      "outputs": []
    },
    {
      "cell_type": "code",
      "metadata": {
        "id": "nOUHp-AJxEnU",
        "colab_type": "code",
        "colab": {
          "base_uri": "https://localhost:8080/",
          "height": 187
        },
        "outputId": "f1cc1cec-ffa5-497f-93e6-8b8bbba78a33"
      },
      "source": [
        "print(\"Max Score is: {} for {} clusters\".format(max(coherence_score),coherence_score[coherence_score.index(max(coherence_score))]))"
      ],
      "execution_count": 101,
      "outputs": [
        {
          "output_type": "execute_result",
          "data": {
            "text/plain": [
              "[0.7171352722194907,\n",
              " 0.71508921022708,\n",
              " 0.7172028234261173,\n",
              " 0.7170485826526457,\n",
              " 0.7150678370468146,\n",
              " 0.7130522665121717,\n",
              " 0.7143456995668166,\n",
              " 0.7137254293558761,\n",
              " 0.7154616691118152,\n",
              " 0.7144941822309956]"
            ]
          },
          "metadata": {
            "tags": []
          },
          "execution_count": 101
        }
      ]
    },
    {
      "cell_type": "code",
      "metadata": {
        "id": "0nZ2iXJ2xMvR",
        "colab_type": "code",
        "colab": {
          "base_uri": "https://localhost:8080/",
          "height": 34
        },
        "outputId": "f2d03221-4da1-425e-c994-8abd387753a1"
      },
      "source": [
        "print(\"Max Score is: {} for {} clusters\".format(max(coherence_score),coherence_score.index(max(coherence_score))))"
      ],
      "execution_count": 103,
      "outputs": [
        {
          "output_type": "stream",
          "text": [
            "Max Score is: 0.7172028234261173 for 2 clusters\n"
          ],
          "name": "stdout"
        }
      ]
    },
    {
      "cell_type": "markdown",
      "metadata": {
        "id": "Qf6WCPjt85I1",
        "colab_type": "text"
      },
      "source": [
        "# Misc."
      ]
    },
    {
      "cell_type": "code",
      "metadata": {
        "id": "ml6hY3is86p0",
        "colab_type": "code",
        "colab": {}
      },
      "source": [
        "Dup_All_Docs=All_Docs[0]+All_Docs[1]\n",
        "df=[]"
      ],
      "execution_count": 0,
      "outputs": []
    },
    {
      "cell_type": "code",
      "metadata": {
        "id": "1aAKyW1w89RK",
        "colab_type": "code",
        "colab": {}
      },
      "source": [
        "for j in All_Docs:\n",
        "  for i in j:\n",
        "    df.append(i)\n"
      ],
      "execution_count": 0,
      "outputs": []
    },
    {
      "cell_type": "code",
      "metadata": {
        "id": "9CeggqEz9LPe",
        "colab_type": "code",
        "colab": {
          "base_uri": "https://localhost:8080/",
          "height": 34
        },
        "outputId": "968559b6-2d53-4672-fb37-04e905404062"
      },
      "source": [
        "len(All_Docs[0])"
      ],
      "execution_count": 122,
      "outputs": [
        {
          "output_type": "execute_result",
          "data": {
            "text/plain": [
              "14"
            ]
          },
          "metadata": {
            "tags": []
          },
          "execution_count": 122
        }
      ]
    },
    {
      "cell_type": "code",
      "metadata": {
        "id": "E60cQXDyxqVp",
        "colab_type": "code",
        "colab": {}
      },
      "source": [
        "from sklearn.feature_extraction.text import CountVectorizer\n",
        "vectoriser = CountVectorizer().fit(Dup_All_Docs)\n",
        "X = vectoriser.transform(Dup_All_Docs)\n",
        "df=pd.DataFrame(X.A, columns=sorted(vectoriser.vocabulary_.keys(), key=lambda k: vectoriser.vocabulary_[k]))"
      ],
      "execution_count": 0,
      "outputs": []
    },
    {
      "cell_type": "code",
      "metadata": {
        "id": "cudihFWZ98yN",
        "colab_type": "code",
        "colab": {
          "base_uri": "https://localhost:8080/",
          "height": 204
        },
        "outputId": "845959bb-6817-4763-80d8-c0b25fe0b7ad"
      },
      "source": [
        "df_page=pd.DataFrame(data=Dup_All_Docs)\n",
        "df_page.head()"
      ],
      "execution_count": 133,
      "outputs": [
        {
          "output_type": "execute_result",
          "data": {
            "text/html": [
              "<div>\n",
              "<style scoped>\n",
              "    .dataframe tbody tr th:only-of-type {\n",
              "        vertical-align: middle;\n",
              "    }\n",
              "\n",
              "    .dataframe tbody tr th {\n",
              "        vertical-align: top;\n",
              "    }\n",
              "\n",
              "    .dataframe thead th {\n",
              "        text-align: right;\n",
              "    }\n",
              "</style>\n",
              "<table border=\"1\" class=\"dataframe\">\n",
              "  <thead>\n",
              "    <tr style=\"text-align: right;\">\n",
              "      <th></th>\n",
              "      <th>0</th>\n",
              "    </tr>\n",
              "  </thead>\n",
              "  <tbody>\n",
              "    <tr>\n",
              "      <th>0</th>\n",
              "      <td>1   \\n \\n  PRESS\\n RELEASE\\n \\n \\n, \\n \\n, \\n\\...</td>\n",
              "    </tr>\n",
              "    <tr>\n",
              "      <th>1</th>\n",
              "      <td>2  Resolution\\n 5. On \\nthe\\n basis of an asse...</td>\n",
              "    </tr>\n",
              "    <tr>\n",
              "      <th>2</th>\n",
              "      <td>3  month low in\\n March, have recently witness...</td>\n",
              "    </tr>\n",
              "    <tr>\n",
              "      <th>3</th>\n",
              "      <td>4  acreage and low soil moisture, but imports ...</td>\n",
              "    </tr>\n",
              "    <tr>\n",
              "      <th>4</th>\n",
              "      <td>5  large tax \\ncollections. After turning into...</td>\n",
              "    </tr>\n",
              "  </tbody>\n",
              "</table>\n",
              "</div>"
            ],
            "text/plain": [
              "                                                   0\n",
              "0  1   \\n \\n  PRESS\\n RELEASE\\n \\n \\n, \\n \\n, \\n\\...\n",
              "1  2  Resolution\\n 5. On \\nthe\\n basis of an asse...\n",
              "2  3  month low in\\n March, have recently witness...\n",
              "3  4  acreage and low soil moisture, but imports ...\n",
              "4  5  large tax \\ncollections. After turning into..."
            ]
          },
          "metadata": {
            "tags": []
          },
          "execution_count": 133
        }
      ]
    },
    {
      "cell_type": "code",
      "metadata": {
        "id": "uR64ay5l-ZZX",
        "colab_type": "code",
        "colab": {}
      },
      "source": [
        ""
      ],
      "execution_count": 0,
      "outputs": []
    }
  ]
}