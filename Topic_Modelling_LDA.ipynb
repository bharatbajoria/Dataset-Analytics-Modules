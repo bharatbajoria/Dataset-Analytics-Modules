{
  "nbformat": 4,
  "nbformat_minor": 0,
  "metadata": {
    "colab": {
      "name": "Topic Modelling - LDA.ipynb",
      "provenance": [],
      "collapsed_sections": [],
      "toc_visible": true,
      "authorship_tag": "ABX9TyO+fpRstonCJDI5/Dlkytyl",
      "include_colab_link": true
    },
    "kernelspec": {
      "name": "python3",
      "display_name": "Python 3"
    }
  },
  "cells": [
    {
      "cell_type": "markdown",
      "metadata": {
        "id": "view-in-github",
        "colab_type": "text"
      },
      "source": [
        "<a href=\"https://colab.research.google.com/github/bharatbajoria/Summer-Internship/blob/master/Topic_Modelling_LDA.ipynb\" target=\"_parent\"><img src=\"https://colab.research.google.com/assets/colab-badge.svg\" alt=\"Open In Colab\"/></a>"
      ]
    },
    {
      "cell_type": "markdown",
      "metadata": {
        "id": "pDnh2YCh6hqd",
        "colab_type": "text"
      },
      "source": [
        "## PDF Reading"
      ]
    },
    {
      "cell_type": "code",
      "metadata": {
        "id": "wghEQ7A26vnU",
        "colab_type": "code",
        "outputId": "f339d777-7cf3-486e-f53e-9e2400cd3ed9",
        "colab": {
          "base_uri": "https://localhost:8080/",
          "height": 207
        }
      },
      "source": [
        "pip install pyPDF2"
      ],
      "execution_count": 1,
      "outputs": [
        {
          "output_type": "stream",
          "text": [
            "Collecting pyPDF2\n",
            "\u001b[?25l  Downloading https://files.pythonhosted.org/packages/b4/01/68fcc0d43daf4c6bdbc6b33cc3f77bda531c86b174cac56ef0ffdb96faab/PyPDF2-1.26.0.tar.gz (77kB)\n",
            "\r\u001b[K     |████▎                           | 10kB 18.4MB/s eta 0:00:01\r\u001b[K     |████████▌                       | 20kB 1.7MB/s eta 0:00:01\r\u001b[K     |████████████▊                   | 30kB 2.3MB/s eta 0:00:01\r\u001b[K     |█████████████████               | 40kB 1.7MB/s eta 0:00:01\r\u001b[K     |█████████████████████▏          | 51kB 1.8MB/s eta 0:00:01\r\u001b[K     |█████████████████████████▍      | 61kB 2.2MB/s eta 0:00:01\r\u001b[K     |█████████████████████████████▋  | 71kB 2.5MB/s eta 0:00:01\r\u001b[K     |████████████████████████████████| 81kB 2.3MB/s \n",
            "\u001b[?25hBuilding wheels for collected packages: pyPDF2\n",
            "  Building wheel for pyPDF2 (setup.py) ... \u001b[?25l\u001b[?25hdone\n",
            "  Created wheel for pyPDF2: filename=PyPDF2-1.26.0-cp36-none-any.whl size=61086 sha256=640ddea467e4c1e5655f2f279376744ad31cdf0bc3476b4888de7477839af680\n",
            "  Stored in directory: /root/.cache/pip/wheels/53/84/19/35bc977c8bf5f0c23a8a011aa958acd4da4bbd7a229315c1b7\n",
            "Successfully built pyPDF2\n",
            "Installing collected packages: pyPDF2\n",
            "Successfully installed pyPDF2-1.26.0\n"
          ],
          "name": "stdout"
        }
      ]
    },
    {
      "cell_type": "code",
      "metadata": {
        "id": "JCCjhlye691F",
        "colab_type": "code",
        "colab": {}
      },
      "source": [
        "import PyPDF2"
      ],
      "execution_count": 0,
      "outputs": []
    },
    {
      "cell_type": "code",
      "metadata": {
        "id": "0T3rV4tE6_7g",
        "colab_type": "code",
        "colab": {}
      },
      "source": [
        "#Taking file input\n",
        "#number of files\n",
        "nf=2\n",
        "\n",
        "file= open('Apr-18.PDF','rb')\n",
        "file1= open('Apr-17.PDF','rb')\n",
        "  "
      ],
      "execution_count": 0,
      "outputs": []
    },
    {
      "cell_type": "code",
      "metadata": {
        "id": "4IBG24-_ETeX",
        "colab_type": "code",
        "colab": {}
      },
      "source": [
        "#A list of files\n",
        "file_list=[file,file1]"
      ],
      "execution_count": 0,
      "outputs": []
    },
    {
      "cell_type": "code",
      "metadata": {
        "id": "hAOpKwg9Bbej",
        "colab_type": "code",
        "colab": {}
      },
      "source": [
        "# Reading number of pages\n",
        "pages=[]\n",
        "\n",
        "for i in range(nf):\n",
        "  pdfReader = PyPDF2.PdfFileReader(file_list[i])\n",
        "  n1=pdfReader.numPages\n",
        "  pages.append(n1)"
      ],
      "execution_count": 0,
      "outputs": []
    },
    {
      "cell_type": "code",
      "metadata": {
        "id": "13_u607DEFrA",
        "colab_type": "code",
        "colab": {}
      },
      "source": [
        "# A list containing all files, All_Docs[i] is i-th file \n",
        "# All_Docs[i][j] is j-th page of i-th file\n",
        "All_Docs=[] "
      ],
      "execution_count": 0,
      "outputs": []
    },
    {
      "cell_type": "code",
      "metadata": {
        "id": "C8KxYqUEByoC",
        "colab_type": "code",
        "colab": {}
      },
      "source": [
        "\n",
        "for j in range(nf):\n",
        "  pdfReader = PyPDF2.PdfFileReader(file_list[j])\n",
        "  file_text=[] #takes string of page text\n",
        "  for i in range(pages[j]):\n",
        "    pageObj = pdfReader.getPage(i)\n",
        "    a=pageObj.extractText()\n",
        "    file_text.append(a)\n",
        "  \n",
        "  All_Docs.append(file_text)"
      ],
      "execution_count": 0,
      "outputs": []
    },
    {
      "cell_type": "code",
      "metadata": {
        "id": "2pyakOURCtMg",
        "colab_type": "code",
        "outputId": "632a1657-5469-449a-aad0-ed71667bf782",
        "colab": {
          "base_uri": "https://localhost:8080/",
          "height": 34
        }
      },
      "source": [
        "type(All_Docs[0][1]),type(All_Docs[0])"
      ],
      "execution_count": 12,
      "outputs": [
        {
          "output_type": "execute_result",
          "data": {
            "text/plain": [
              "(str, list)"
            ]
          },
          "metadata": {
            "tags": []
          },
          "execution_count": 12
        }
      ]
    },
    {
      "cell_type": "markdown",
      "metadata": {
        "id": "wOYeMBRtPUxA",
        "colab_type": "text"
      },
      "source": [
        "# Finding Optimal number of Clusters"
      ]
    },
    {
      "cell_type": "code",
      "metadata": {
        "id": "Ssl1uTyWPZZI",
        "colab_type": "code",
        "colab": {}
      },
      "source": [
        "Dup_All_Docs=All_Docs[:]"
      ],
      "execution_count": 0,
      "outputs": []
    },
    {
      "cell_type": "code",
      "metadata": {
        "id": "pbNNl31_Phbg",
        "colab_type": "code",
        "outputId": "2d062ba3-3e35-482c-fb21-01b1930e7ee6",
        "colab": {
          "base_uri": "https://localhost:8080/",
          "height": 34
        }
      },
      "source": [
        "type(Dup_All_Docs[0][0])"
      ],
      "execution_count": 14,
      "outputs": [
        {
          "output_type": "execute_result",
          "data": {
            "text/plain": [
              "str"
            ]
          },
          "metadata": {
            "tags": []
          },
          "execution_count": 14
        }
      ]
    },
    {
      "cell_type": "code",
      "metadata": {
        "id": "VWgumpDZPnOr",
        "colab_type": "code",
        "colab": {}
      },
      "source": [
        "import nltk\n",
        "from sklearn.cluster import KMeans\n",
        "from sklearn.feature_extraction.text import TfidfVectorizer\n",
        "from sklearn.metrics import silhouette_score\n",
        "\n",
        "import pandas as pd\n",
        "from nltk.tokenize import RegexpTokenizer\n",
        "#from stop_words import get_stop_words\n",
        "from nltk.stem.porter import PorterStemmer\n",
        "from gensim import corpora, models\n",
        "from nltk.corpus import stopwords\n",
        "import gensim\n",
        "\n",
        "from sklearn.cluster import KMeans\n",
        "from sklearn import metrics\n",
        "from scipy.spatial.distance import cdist\n",
        "import numpy as np"
      ],
      "execution_count": 0,
      "outputs": []
    },
    {
      "cell_type": "code",
      "metadata": {
        "id": "NjiL4AWGJY2j",
        "colab_type": "code",
        "outputId": "df0cc2a4-4e31-4812-f285-c5e3f260e2d2",
        "colab": {
          "base_uri": "https://localhost:8080/",
          "height": 68
        }
      },
      "source": [
        "nltk.download('stopwords')"
      ],
      "execution_count": 18,
      "outputs": [
        {
          "output_type": "stream",
          "text": [
            "[nltk_data] Downloading package stopwords to /root/nltk_data...\n",
            "[nltk_data]   Unzipping corpora/stopwords.zip.\n"
          ],
          "name": "stdout"
        },
        {
          "output_type": "execute_result",
          "data": {
            "text/plain": [
              "True"
            ]
          },
          "metadata": {
            "tags": []
          },
          "execution_count": 18
        }
      ]
    },
    {
      "cell_type": "code",
      "metadata": {
        "id": "2qSoEriVP0uH",
        "colab_type": "code",
        "colab": {}
      },
      "source": [
        "tokenizer = RegexpTokenizer(r'\\w+')\n",
        "en_stop = set(stopwords.words('english'))\n",
        "en_stop.add('the')#The is not in stopwords"
      ],
      "execution_count": 0,
      "outputs": []
    },
    {
      "cell_type": "code",
      "metadata": {
        "id": "VAJkRulAP9Kd",
        "colab_type": "code",
        "colab": {}
      },
      "source": [
        "tokens=[]\n",
        "\n",
        "\n",
        "for j in All_Docs:\n",
        "  x=[]\n",
        "  for i in j:\n",
        "    token=tokenizer.tokenize(i)\n",
        "    token=[i for i in token if(not(str(i).isdigit() or not(str(i).isalpha())) and len(str(i)) > 2 )]\n",
        "    token=[i.lower() for i in token if( i not in en_stop)]\n",
        "    x.extend(token)\n",
        "  \n",
        "  tokens.extend(x)"
      ],
      "execution_count": 0,
      "outputs": []
    },
    {
      "cell_type": "code",
      "metadata": {
        "id": "NQUgWxG3UPf_",
        "colab_type": "code",
        "outputId": "85ab5620-6e67-4ef9-f716-1c74a1e979dc",
        "colab": {
          "base_uri": "https://localhost:8080/",
          "height": 204
        }
      },
      "source": [
        "len(tokens),tokens[:10]"
      ],
      "execution_count": 21,
      "outputs": [
        {
          "output_type": "execute_result",
          "data": {
            "text/plain": [
              "(7941,\n",
              " ['press',\n",
              "  'release',\n",
              "  'department',\n",
              "  'communication',\n",
              "  'central',\n",
              "  'office',\n",
              "  'marg',\n",
              "  'mumbai',\n",
              "  'phone',\n",
              "  'fax'])"
            ]
          },
          "metadata": {
            "tags": []
          },
          "execution_count": 21
        }
      ]
    },
    {
      "cell_type": "code",
      "metadata": {
        "id": "Tk5Z16QtWZPC",
        "colab_type": "code",
        "colab": {}
      },
      "source": [
        "#df9['Cleaned_PaperText'] = pd.Series(tokens)\n",
        "        \n",
        "vectorizer = TfidfVectorizer()\n",
        "\n",
        "Y = vectorizer.fit_transform(tokens)"
      ],
      "execution_count": 0,
      "outputs": []
    },
    {
      "cell_type": "code",
      "metadata": {
        "id": "lpkZXOmBXF82",
        "colab_type": "code",
        "colab": {}
      },
      "source": [
        "#Not Working\n",
        "\n",
        "distortions = []\n",
        "K = range(1,10)\n",
        "for k in K:\n",
        "    kmeanModel = KMeans(n_clusters=k).fit(Y)\n",
        "    kmeanModel.fit(Y)\n",
        "   # distortions.append(sum(np.min(cdist(Y, kmeanModel.cluster_centers_, 'euclidean'), axis=1)) / X.shape[0])"
      ],
      "execution_count": 0,
      "outputs": []
    },
    {
      "cell_type": "code",
      "metadata": {
        "id": "HYFF1Ml11rb6",
        "colab_type": "code",
        "outputId": "266bea09-6e90-49b0-9107-35cc1a5c5a11",
        "colab": {
          "base_uri": "https://localhost:8080/",
          "height": 170
        }
      },
      "source": [
        "#2nd Method using Silhouette Score\n",
        "\n",
        "n=0\n",
        "ss=0\n",
        "for n_cluster in range(2, 11):\n",
        "    kmeans = KMeans(n_clusters=n_cluster).fit(Y)\n",
        "    label = kmeans.labels_\n",
        "    sil_coeff = silhouette_score(Y, label, metric='euclidean')  \n",
        "    print(\"For n_clusters={}, The Silhouette Coefficient is {}\".format(n_cluster, sil_coeff))\n",
        "    if sil_coeff>ss:\n",
        "      ss=sil_coeff\n",
        "      n=n_cluster"
      ],
      "execution_count": 24,
      "outputs": [
        {
          "output_type": "stream",
          "text": [
            "For n_clusters=2, The Silhouette Coefficient is 0.008769778510606204\n",
            "For n_clusters=3, The Silhouette Coefficient is 0.02675906514007355\n",
            "For n_clusters=4, The Silhouette Coefficient is 0.0424980264635402\n",
            "For n_clusters=5, The Silhouette Coefficient is 0.03969164604658748\n",
            "For n_clusters=6, The Silhouette Coefficient is 0.03831576067188242\n",
            "For n_clusters=7, The Silhouette Coefficient is 0.05342562085947669\n",
            "For n_clusters=8, The Silhouette Coefficient is 0.07125054724095663\n",
            "For n_clusters=9, The Silhouette Coefficient is 0.07540349676354198\n",
            "For n_clusters=10, The Silhouette Coefficient is 0.07450058636998781\n"
          ],
          "name": "stdout"
        }
      ]
    },
    {
      "cell_type": "code",
      "metadata": {
        "id": "0b_JW_Ac1sT9",
        "colab_type": "code",
        "outputId": "c0934dd6-ee8f-413e-9a95-9b25519e16c5",
        "colab": {
          "base_uri": "https://localhost:8080/",
          "height": 34
        }
      },
      "source": [
        "print(\"Optimal numbers of clusters are : {}\".format(n))"
      ],
      "execution_count": 25,
      "outputs": [
        {
          "output_type": "stream",
          "text": [
            "Optimal numbers of clusters are : 9\n"
          ],
          "name": "stdout"
        }
      ]
    },
    {
      "cell_type": "markdown",
      "metadata": {
        "id": "rMz_Ewj2Ge1P",
        "colab_type": "text"
      },
      "source": [
        "# LDA"
      ]
    },
    {
      "cell_type": "code",
      "metadata": {
        "id": "sPa3yKp5GgiO",
        "colab_type": "code",
        "colab": {}
      },
      "source": [
        "\n",
        "import nltk\n",
        "from gensim.utils import simple_preprocess\n",
        "from gensim.parsing.preprocessing import STOPWORDS\n",
        "from nltk.stem import WordNetLemmatizer\n",
        "from gensim.corpora import Dictionary\n",
        "from gensim.models import TfidfModel,LdaModel\n",
        "from gensim.models.wrappers import LdaMallet"
      ],
      "execution_count": 0,
      "outputs": []
    },
    {
      "cell_type": "code",
      "metadata": {
        "id": "7qPpPPipGuZq",
        "colab_type": "code",
        "outputId": "04d0c23f-a58b-467b-92d4-1367fc1bcf9b",
        "colab": {
          "base_uri": "https://localhost:8080/",
          "height": 68
        }
      },
      "source": [
        "nltk.download('wordnet')\n"
      ],
      "execution_count": 27,
      "outputs": [
        {
          "output_type": "stream",
          "text": [
            "[nltk_data] Downloading package wordnet to /root/nltk_data...\n",
            "[nltk_data]   Unzipping corpora/wordnet.zip.\n"
          ],
          "name": "stdout"
        },
        {
          "output_type": "execute_result",
          "data": {
            "text/plain": [
              "True"
            ]
          },
          "metadata": {
            "tags": []
          },
          "execution_count": 27
        }
      ]
    },
    {
      "cell_type": "code",
      "metadata": {
        "id": "gjfEIOkQGM5n",
        "colab_type": "code",
        "colab": {}
      },
      "source": [
        "\n",
        "dictionary=Dictionary([[i] for i in tokens])"
      ],
      "execution_count": 0,
      "outputs": []
    },
    {
      "cell_type": "code",
      "metadata": {
        "id": "ZPWPK9OTGfkc",
        "colab_type": "code",
        "outputId": "c9127a25-21fa-45d1-afe9-3fbce407dbbd",
        "colab": {
          "base_uri": "https://localhost:8080/",
          "height": 34
        }
      },
      "source": [
        "print(dictionary)"
      ],
      "execution_count": 29,
      "outputs": [
        {
          "output_type": "stream",
          "text": [
            "Dictionary(2065 unique tokens: ['press', 'release', 'department', 'communication', 'central']...)\n"
          ],
          "name": "stdout"
        }
      ]
    },
    {
      "cell_type": "code",
      "metadata": {
        "id": "-Y7pRecKIYD8",
        "colab_type": "code",
        "outputId": "cda2504a-7f1f-4e84-d69c-b3963f0b6b5e",
        "colab": {
          "base_uri": "https://localhost:8080/",
          "height": 34
        }
      },
      "source": [
        "X=[dictionary.doc2bow([sents]) for sents in tokens]#getting bag of words.\n",
        "tfidf=TfidfModel(X)\n",
        "\n",
        "print(type(tfidf))\n",
        "X=tfidf[X]\n"
      ],
      "execution_count": 30,
      "outputs": [
        {
          "output_type": "stream",
          "text": [
            "<class 'gensim.models.tfidfmodel.TfidfModel'>\n"
          ],
          "name": "stdout"
        }
      ]
    },
    {
      "cell_type": "code",
      "metadata": {
        "id": "GIvl1ys8KN1c",
        "colab_type": "code",
        "colab": {}
      },
      "source": [
        "from gensim.models import LdaMulticore,CoherenceModel\n",
        "\n",
        "lda=LdaMulticore(X,num_topics=n,id2word=dictionary,workers=8)\n",
        "lda1=LdaModel(X,num_topics=n,id2word=dictionary,update_every=5)\n",
        "\n",
        "#lda.print_topics()"
      ],
      "execution_count": 0,
      "outputs": []
    },
    {
      "cell_type": "code",
      "metadata": {
        "id": "7TxsZ7hLLpIo",
        "colab_type": "code",
        "colab": {
          "base_uri": "https://localhost:8080/",
          "height": 343
        },
        "outputId": "e9b81aa4-47fd-4b6e-c70f-db049dee4039"
      },
      "source": [
        "\n",
        "ldatopics = [[(word,prob) for word, prob in topic] for topicid, topic in lda.show_topics(formatted=False)]\n",
        "lda.show_topics(formatted=True)"
      ],
      "execution_count": 32,
      "outputs": [
        {
          "output_type": "execute_result",
          "data": {
            "text/plain": [
              "[(0,\n",
              "  '0.063*\"prices\" + 0.020*\"march\" + 0.019*\"expected\" + 0.017*\"also\" + 0.015*\"capital\" + 0.014*\"increase\" + 0.013*\"impact\" + 0.012*\"inflation\" + 0.012*\"policy\" + 0.012*\"month\"'),\n",
              " (1,\n",
              "  '0.026*\"outlook\" + 0.024*\"risks\" + 0.021*\"growth\" + 0.018*\"production\" + 0.017*\"policy\" + 0.014*\"due\" + 0.013*\"activity\" + 0.012*\"march\" + 0.011*\"global\" + 0.010*\"april\"'),\n",
              " (2,\n",
              "  '0.026*\"growth\" + 0.021*\"effects\" + 0.020*\"per\" + 0.015*\"output\" + 0.013*\"market\" + 0.012*\"excluding\" + 0.012*\"resolution\" + 0.012*\"rising\" + 0.011*\"liquidity\" + 0.011*\"trade\"'),\n",
              " (3,\n",
              "  '0.044*\"february\" + 0.031*\"policy\" + 0.014*\"would\" + 0.013*\"rate\" + 0.013*\"headline\" + 0.012*\"risks\" + 0.011*\"expectations\" + 0.010*\"activity\" + 0.009*\"likely\" + 0.009*\"imports\"'),\n",
              " (4,\n",
              "  '0.030*\"year\" + 0.029*\"inflation\" + 0.019*\"monetary\" + 0.018*\"growth\" + 0.016*\"rates\" + 0.016*\"mpc\" + 0.016*\"may\" + 0.015*\"fiscal\" + 0.012*\"bank\" + 0.012*\"likely\"'),\n",
              " (5,\n",
              "  '0.065*\"the\" + 0.026*\"rate\" + 0.020*\"meeting\" + 0.019*\"second\" + 0.016*\"per\" + 0.012*\"well\" + 0.012*\"trade\" + 0.011*\"high\" + 0.009*\"inflation\" + 0.009*\"also\"'),\n",
              " (6,\n",
              "  '0.022*\"january\" + 0.019*\"committee\" + 0.018*\"several\" + 0.014*\"also\" + 0.014*\"fuel\" + 0.012*\"outlook\" + 0.012*\"medium\" + 0.012*\"investment\" + 0.010*\"remains\" + 0.010*\"higher\"'),\n",
              " (7,\n",
              "  '0.050*\"cent\" + 0.027*\"reserve\" + 0.015*\"impact\" + 0.014*\"manufacturing\" + 0.013*\"hra\" + 0.012*\"headline\" + 0.011*\"demand\" + 0.010*\"consumer\" + 0.010*\"although\" + 0.009*\"survey\"'),\n",
              " (8,\n",
              "  '0.104*\"inflation\" + 0.030*\"per\" + 0.017*\"cent\" + 0.014*\"food\" + 0.014*\"economy\" + 0.012*\"bank\" + 0.011*\"march\" + 0.010*\"exports\" + 0.010*\"oil\" + 0.010*\"could\"')]"
            ]
          },
          "metadata": {
            "tags": []
          },
          "execution_count": 32
        }
      ]
    },
    {
      "cell_type": "code",
      "metadata": {
        "id": "cc2w7Qhl-8VN",
        "colab_type": "code",
        "colab": {}
      },
      "source": [
        "\n",
        "ldatopics_word = [[word for word, prob in topic] for topicid, topic in lda.show_topics(formatted=False)]\n",
        "\n",
        "index=[\"Most Common Word\"]\n",
        "col=[]\n",
        "a='Topic-'\n",
        "c=''\n",
        "for i in range(n):\n",
        "  c+=a+str(i+1)\n",
        "  col.append(c)\n",
        "  c=''\n",
        "\n",
        "len(col),len(ldatopics_word)\n",
        "\n",
        "#topic_df=pd.DataFrame(data=ldatopics_word,columns=col)\n",
        "topic_df=pd.DataFrame(data=ldatopics_word,index=col)"
      ],
      "execution_count": 0,
      "outputs": []
    },
    {
      "cell_type": "code",
      "metadata": {
        "id": "6F3UWKfN_EJt",
        "colab_type": "code",
        "outputId": "746c7e9d-4633-4ed6-905d-a80bddb6728a",
        "colab": {
          "base_uri": "https://localhost:8080/",
          "height": 328
        }
      },
      "source": [
        "topic_df"
      ],
      "execution_count": 41,
      "outputs": [
        {
          "output_type": "execute_result",
          "data": {
            "text/html": [
              "<div>\n",
              "<style scoped>\n",
              "    .dataframe tbody tr th:only-of-type {\n",
              "        vertical-align: middle;\n",
              "    }\n",
              "\n",
              "    .dataframe tbody tr th {\n",
              "        vertical-align: top;\n",
              "    }\n",
              "\n",
              "    .dataframe thead th {\n",
              "        text-align: right;\n",
              "    }\n",
              "</style>\n",
              "<table border=\"1\" class=\"dataframe\">\n",
              "  <thead>\n",
              "    <tr style=\"text-align: right;\">\n",
              "      <th></th>\n",
              "      <th>0</th>\n",
              "      <th>1</th>\n",
              "      <th>2</th>\n",
              "      <th>3</th>\n",
              "      <th>4</th>\n",
              "      <th>5</th>\n",
              "      <th>6</th>\n",
              "      <th>7</th>\n",
              "      <th>8</th>\n",
              "      <th>9</th>\n",
              "    </tr>\n",
              "  </thead>\n",
              "  <tbody>\n",
              "    <tr>\n",
              "      <th>Topic-1</th>\n",
              "      <td>prices</td>\n",
              "      <td>march</td>\n",
              "      <td>expected</td>\n",
              "      <td>also</td>\n",
              "      <td>capital</td>\n",
              "      <td>increase</td>\n",
              "      <td>impact</td>\n",
              "      <td>inflation</td>\n",
              "      <td>policy</td>\n",
              "      <td>month</td>\n",
              "    </tr>\n",
              "    <tr>\n",
              "      <th>Topic-2</th>\n",
              "      <td>outlook</td>\n",
              "      <td>risks</td>\n",
              "      <td>growth</td>\n",
              "      <td>production</td>\n",
              "      <td>policy</td>\n",
              "      <td>due</td>\n",
              "      <td>activity</td>\n",
              "      <td>march</td>\n",
              "      <td>global</td>\n",
              "      <td>april</td>\n",
              "    </tr>\n",
              "    <tr>\n",
              "      <th>Topic-3</th>\n",
              "      <td>growth</td>\n",
              "      <td>effects</td>\n",
              "      <td>per</td>\n",
              "      <td>output</td>\n",
              "      <td>market</td>\n",
              "      <td>excluding</td>\n",
              "      <td>resolution</td>\n",
              "      <td>rising</td>\n",
              "      <td>liquidity</td>\n",
              "      <td>trade</td>\n",
              "    </tr>\n",
              "    <tr>\n",
              "      <th>Topic-4</th>\n",
              "      <td>february</td>\n",
              "      <td>policy</td>\n",
              "      <td>would</td>\n",
              "      <td>rate</td>\n",
              "      <td>headline</td>\n",
              "      <td>risks</td>\n",
              "      <td>expectations</td>\n",
              "      <td>activity</td>\n",
              "      <td>likely</td>\n",
              "      <td>imports</td>\n",
              "    </tr>\n",
              "    <tr>\n",
              "      <th>Topic-5</th>\n",
              "      <td>year</td>\n",
              "      <td>inflation</td>\n",
              "      <td>monetary</td>\n",
              "      <td>growth</td>\n",
              "      <td>rates</td>\n",
              "      <td>mpc</td>\n",
              "      <td>may</td>\n",
              "      <td>fiscal</td>\n",
              "      <td>bank</td>\n",
              "      <td>likely</td>\n",
              "    </tr>\n",
              "    <tr>\n",
              "      <th>Topic-6</th>\n",
              "      <td>the</td>\n",
              "      <td>rate</td>\n",
              "      <td>meeting</td>\n",
              "      <td>second</td>\n",
              "      <td>per</td>\n",
              "      <td>well</td>\n",
              "      <td>trade</td>\n",
              "      <td>high</td>\n",
              "      <td>inflation</td>\n",
              "      <td>also</td>\n",
              "    </tr>\n",
              "    <tr>\n",
              "      <th>Topic-7</th>\n",
              "      <td>january</td>\n",
              "      <td>committee</td>\n",
              "      <td>several</td>\n",
              "      <td>also</td>\n",
              "      <td>fuel</td>\n",
              "      <td>outlook</td>\n",
              "      <td>medium</td>\n",
              "      <td>investment</td>\n",
              "      <td>remains</td>\n",
              "      <td>higher</td>\n",
              "    </tr>\n",
              "    <tr>\n",
              "      <th>Topic-8</th>\n",
              "      <td>cent</td>\n",
              "      <td>reserve</td>\n",
              "      <td>impact</td>\n",
              "      <td>manufacturing</td>\n",
              "      <td>hra</td>\n",
              "      <td>headline</td>\n",
              "      <td>demand</td>\n",
              "      <td>consumer</td>\n",
              "      <td>although</td>\n",
              "      <td>survey</td>\n",
              "    </tr>\n",
              "    <tr>\n",
              "      <th>Topic-9</th>\n",
              "      <td>inflation</td>\n",
              "      <td>per</td>\n",
              "      <td>cent</td>\n",
              "      <td>food</td>\n",
              "      <td>economy</td>\n",
              "      <td>bank</td>\n",
              "      <td>march</td>\n",
              "      <td>exports</td>\n",
              "      <td>oil</td>\n",
              "      <td>could</td>\n",
              "    </tr>\n",
              "  </tbody>\n",
              "</table>\n",
              "</div>"
            ],
            "text/plain": [
              "                 0          1         2  ...           7          8        9\n",
              "Topic-1     prices      march  expected  ...   inflation     policy    month\n",
              "Topic-2    outlook      risks    growth  ...       march     global    april\n",
              "Topic-3     growth    effects       per  ...      rising  liquidity    trade\n",
              "Topic-4   february     policy     would  ...    activity     likely  imports\n",
              "Topic-5       year  inflation  monetary  ...      fiscal       bank   likely\n",
              "Topic-6        the       rate   meeting  ...        high  inflation     also\n",
              "Topic-7    january  committee   several  ...  investment    remains   higher\n",
              "Topic-8       cent    reserve    impact  ...    consumer   although   survey\n",
              "Topic-9  inflation        per      cent  ...     exports        oil    could\n",
              "\n",
              "[9 rows x 10 columns]"
            ]
          },
          "metadata": {
            "tags": []
          },
          "execution_count": 41
        }
      ]
    },
    {
      "cell_type": "code",
      "metadata": {
        "id": "35my6PbBrFJ9",
        "colab_type": "code",
        "colab": {}
      },
      "source": [
        "topic_df_T=topic_df.T"
      ],
      "execution_count": 0,
      "outputs": []
    },
    {
      "cell_type": "code",
      "metadata": {
        "id": "GmRYDykhrLQE",
        "colab_type": "code",
        "colab": {
          "base_uri": "https://localhost:8080/",
          "height": 359
        },
        "outputId": "4d9559f6-d643-47d1-8922-c62d5af65ef0"
      },
      "source": [
        "topic_df_T"
      ],
      "execution_count": 74,
      "outputs": [
        {
          "output_type": "execute_result",
          "data": {
            "text/html": [
              "<div>\n",
              "<style scoped>\n",
              "    .dataframe tbody tr th:only-of-type {\n",
              "        vertical-align: middle;\n",
              "    }\n",
              "\n",
              "    .dataframe tbody tr th {\n",
              "        vertical-align: top;\n",
              "    }\n",
              "\n",
              "    .dataframe thead th {\n",
              "        text-align: right;\n",
              "    }\n",
              "</style>\n",
              "<table border=\"1\" class=\"dataframe\">\n",
              "  <thead>\n",
              "    <tr style=\"text-align: right;\">\n",
              "      <th></th>\n",
              "      <th>Topic-1</th>\n",
              "      <th>Topic-2</th>\n",
              "      <th>Topic-3</th>\n",
              "      <th>Topic-4</th>\n",
              "      <th>Topic-5</th>\n",
              "      <th>Topic-6</th>\n",
              "      <th>Topic-7</th>\n",
              "      <th>Topic-8</th>\n",
              "      <th>Topic-9</th>\n",
              "    </tr>\n",
              "  </thead>\n",
              "  <tbody>\n",
              "    <tr>\n",
              "      <th>0</th>\n",
              "      <td>economic</td>\n",
              "      <td>year</td>\n",
              "      <td>inflation</td>\n",
              "      <td>prices</td>\n",
              "      <td>growth</td>\n",
              "      <td>per</td>\n",
              "      <td>cent</td>\n",
              "      <td>policy</td>\n",
              "      <td>inflation</td>\n",
              "    </tr>\n",
              "    <tr>\n",
              "      <th>1</th>\n",
              "      <td>inflation</td>\n",
              "      <td>effects</td>\n",
              "      <td>headline</td>\n",
              "      <td>the</td>\n",
              "      <td>the</td>\n",
              "      <td>risks</td>\n",
              "      <td>prices</td>\n",
              "      <td>rate</td>\n",
              "      <td>reserve</td>\n",
              "    </tr>\n",
              "    <tr>\n",
              "      <th>2</th>\n",
              "      <td>economy</td>\n",
              "      <td>impact</td>\n",
              "      <td>february</td>\n",
              "      <td>oil</td>\n",
              "      <td>bank</td>\n",
              "      <td>cent</td>\n",
              "      <td>activity</td>\n",
              "      <td>also</td>\n",
              "      <td>outlook</td>\n",
              "    </tr>\n",
              "    <tr>\n",
              "      <th>3</th>\n",
              "      <td>committee</td>\n",
              "      <td>second</td>\n",
              "      <td>rising</td>\n",
              "      <td>inflation</td>\n",
              "      <td>february</td>\n",
              "      <td>fuel</td>\n",
              "      <td>high</td>\n",
              "      <td>march</td>\n",
              "      <td>expected</td>\n",
              "    </tr>\n",
              "    <tr>\n",
              "      <th>4</th>\n",
              "      <td>hra</td>\n",
              "      <td>survey</td>\n",
              "      <td>may</td>\n",
              "      <td>february</td>\n",
              "      <td>impact</td>\n",
              "      <td>monetary</td>\n",
              "      <td>basis</td>\n",
              "      <td>the</td>\n",
              "      <td>per</td>\n",
              "    </tr>\n",
              "    <tr>\n",
              "      <th>5</th>\n",
              "      <td>bank</td>\n",
              "      <td>last</td>\n",
              "      <td>several</td>\n",
              "      <td>production</td>\n",
              "      <td>food</td>\n",
              "      <td>january</td>\n",
              "      <td>account</td>\n",
              "      <td>recent</td>\n",
              "      <td>output</td>\n",
              "    </tr>\n",
              "    <tr>\n",
              "      <th>6</th>\n",
              "      <td>outlook</td>\n",
              "      <td>global</td>\n",
              "      <td>trade</td>\n",
              "      <td>well</td>\n",
              "      <td>financial</td>\n",
              "      <td>around</td>\n",
              "      <td>resolution</td>\n",
              "      <td>april</td>\n",
              "      <td>cpi</td>\n",
              "    </tr>\n",
              "    <tr>\n",
              "      <th>7</th>\n",
              "      <td>indian</td>\n",
              "      <td>likely</td>\n",
              "      <td>rates</td>\n",
              "      <td>months</td>\n",
              "      <td>various</td>\n",
              "      <td>exports</td>\n",
              "      <td>year</td>\n",
              "      <td>market</td>\n",
              "      <td>month</td>\n",
              "    </tr>\n",
              "    <tr>\n",
              "      <th>8</th>\n",
              "      <td>global</td>\n",
              "      <td>centre</td>\n",
              "      <td>food</td>\n",
              "      <td>estimates</td>\n",
              "      <td>remained</td>\n",
              "      <td>however</td>\n",
              "      <td>consumption</td>\n",
              "      <td>sector</td>\n",
              "      <td>mpc</td>\n",
              "    </tr>\n",
              "    <tr>\n",
              "      <th>9</th>\n",
              "      <td>vote</td>\n",
              "      <td>domestic</td>\n",
              "      <td>ahead</td>\n",
              "      <td>per</td>\n",
              "      <td>average</td>\n",
              "      <td>investment</td>\n",
              "      <td>february</td>\n",
              "      <td>central</td>\n",
              "      <td>services</td>\n",
              "    </tr>\n",
              "  </tbody>\n",
              "</table>\n",
              "</div>"
            ],
            "text/plain": [
              "     Topic-1   Topic-2    Topic-3  ...      Topic-7  Topic-8    Topic-9\n",
              "0   economic      year  inflation  ...         cent   policy  inflation\n",
              "1  inflation   effects   headline  ...       prices     rate    reserve\n",
              "2    economy    impact   february  ...     activity     also    outlook\n",
              "3  committee    second     rising  ...         high    march   expected\n",
              "4        hra    survey        may  ...        basis      the        per\n",
              "5       bank      last    several  ...      account   recent     output\n",
              "6    outlook    global      trade  ...   resolution    april        cpi\n",
              "7     indian    likely      rates  ...         year   market      month\n",
              "8     global    centre       food  ...  consumption   sector        mpc\n",
              "9       vote  domestic      ahead  ...     february  central   services\n",
              "\n",
              "[10 rows x 9 columns]"
            ]
          },
          "metadata": {
            "tags": []
          },
          "execution_count": 74
        }
      ]
    },
    {
      "cell_type": "code",
      "metadata": {
        "id": "3IEl9cWyr7mM",
        "colab_type": "code",
        "colab": {
          "base_uri": "https://localhost:8080/",
          "height": 34
        },
        "outputId": "bb792fbd-0aba-475b-981a-64052b8e4343"
      },
      "source": [
        "len(topic_df_T[\"Topic-1\"])"
      ],
      "execution_count": 76,
      "outputs": [
        {
          "output_type": "execute_result",
          "data": {
            "text/plain": [
              "10"
            ]
          },
          "metadata": {
            "tags": []
          },
          "execution_count": 76
        }
      ]
    },
    {
      "cell_type": "markdown",
      "metadata": {
        "id": "_wOIWvEdmAV3",
        "colab_type": "text"
      },
      "source": [
        "**Adding New File**"
      ]
    },
    {
      "cell_type": "code",
      "metadata": {
        "id": "Cjw-FqLTeQJ_",
        "colab_type": "code",
        "colab": {}
      },
      "source": [
        "\n",
        "new_file=open('Apr-20.PDF','rb')\n",
        "pdfReader = PyPDF2.PdfFileReader(new_file)\n",
        "n1=pdfReader.numPages\n",
        "\n",
        "new_file_pg=[]\n",
        "for i in range(n1):\n",
        "    pageObj = pdfReader.getPage(i)\n",
        "    a=pageObj.extractText()\n",
        "    new_file_pg.append(a)\n",
        "\n",
        "#new_file_pg[:3]"
      ],
      "execution_count": 0,
      "outputs": []
    },
    {
      "cell_type": "code",
      "metadata": {
        "id": "u4piBgjnlO0S",
        "colab_type": "code",
        "colab": {}
      },
      "source": [
        "new_token=[]\n",
        "for i in new_file_pg:\n",
        "    token=tokenizer.tokenize(i)\n",
        "    token=[i for i in token if(not(str(i).isdigit() or not(str(i).isalpha())) and len(str(i)) > 2 )]\n",
        "    token=[i.lower() for i in token if( i not in en_stop)]\n",
        "    x.extend(token)\n",
        "  \n",
        "    new_token.extend(x)\n",
        "\n",
        "\n",
        "Z=[dictionary.doc2bow([sents]) for sents in new_token]"
      ],
      "execution_count": 0,
      "outputs": []
    },
    {
      "cell_type": "code",
      "metadata": {
        "id": "BsMfk8whmLzl",
        "colab_type": "code",
        "colab": {}
      },
      "source": [
        "newlda=lda1[Z]\n"
      ],
      "execution_count": 0,
      "outputs": []
    },
    {
      "cell_type": "code",
      "metadata": {
        "id": "xpy3KcCitkQi",
        "colab_type": "code",
        "outputId": "b02af4e2-3d29-4772-fb11-8a1f4cb2802b",
        "colab": {
          "base_uri": "https://localhost:8080/",
          "height": 34
        }
      },
      "source": [
        "len(Z)"
      ],
      "execution_count": 45,
      "outputs": [
        {
          "output_type": "execute_result",
          "data": {
            "text/plain": [
              "83752"
            ]
          },
          "metadata": {
            "tags": []
          },
          "execution_count": 45
        }
      ]
    },
    {
      "cell_type": "code",
      "metadata": {
        "id": "ydLa9BErqYl-",
        "colab_type": "code",
        "colab": {}
      },
      "source": [
        "new_topic=[]\n",
        "for topic in newlda:\n",
        "  #new_topic.append(prob)\n",
        "  new_topic.append(topic)"
      ],
      "execution_count": 0,
      "outputs": []
    },
    {
      "cell_type": "code",
      "metadata": {
        "id": "Q8c-8HHwrhK0",
        "colab_type": "code",
        "outputId": "cfdfdb72-dd67-437c-e1ea-83d51dcdb4d7",
        "colab": {
          "base_uri": "https://localhost:8080/",
          "height": 34
        }
      },
      "source": [
        "len(new_topic),type(new_topic[0])#,new_topic[:2]"
      ],
      "execution_count": 150,
      "outputs": [
        {
          "output_type": "execute_result",
          "data": {
            "text/plain": [
              "(83752, list)"
            ]
          },
          "metadata": {
            "tags": []
          },
          "execution_count": 150
        }
      ]
    },
    {
      "cell_type": "code",
      "metadata": {
        "id": "_xNuOkmLmT9r",
        "colab_type": "code",
        "outputId": "f9b52063-887a-4742-d750-d21e0113afb3",
        "colab": {
          "base_uri": "https://localhost:8080/",
          "height": 34
        }
      },
      "source": [
        "lda1.get_document_topics(Z,per_word_topics=True)"
      ],
      "execution_count": 48,
      "outputs": [
        {
          "output_type": "execute_result",
          "data": {
            "text/plain": [
              "<gensim.interfaces.TransformedCorpus at 0x7f7c574fcc18>"
            ]
          },
          "metadata": {
            "tags": []
          },
          "execution_count": 48
        }
      ]
    },
    {
      "cell_type": "markdown",
      "metadata": {
        "id": "1mYZ4hnJtDUm",
        "colab_type": "text"
      },
      "source": [
        "# Evaluating Model: Topic Wise\n"
      ]
    },
    {
      "cell_type": "code",
      "metadata": {
        "id": "h4-cAoWxRgkE",
        "colab_type": "code",
        "outputId": "ce2b95f2-3b2c-4512-d324-51aa68545a1e",
        "colab": {
          "base_uri": "https://localhost:8080/",
          "height": 34
        }
      },
      "source": [
        "tk=[[i] for i in tokens]\n",
        "ldatopics = [[word for word, prob in topic] for topicid, topic in lda.show_topics(formatted=False)]\n",
        "lda_coherence = CoherenceModel(topics=ldatopics, texts=tk, dictionary=dictionary, window_size=10).get_coherence()\n",
        "lda_coherence"
      ],
      "execution_count": 49,
      "outputs": [
        {
          "output_type": "execute_result",
          "data": {
            "text/plain": [
              "0.7186240625449318"
            ]
          },
          "metadata": {
            "tags": []
          },
          "execution_count": 49
        }
      ]
    },
    {
      "cell_type": "code",
      "metadata": {
        "id": "p7oeEntDwtTP",
        "colab_type": "code",
        "colab": {}
      },
      "source": [
        "coherence_score=[]\n",
        "tk=[[i] for i in tokens]\n",
        "for i in range(n):\n",
        "  lda=LdaMulticore(X,num_topics=n,id2word=dictionary,workers=8)\n",
        "  ldatopics = [[word for word, prob in topic] for topicid, topic in lda.show_topics(formatted=False)]\n",
        "  lda_coherence = CoherenceModel(topics=ldatopics, texts=tk, dictionary=dictionary, window_size=10).get_coherence()\n",
        "  coherence_score.append(lda_coherence)\n",
        "\n"
      ],
      "execution_count": 0,
      "outputs": []
    },
    {
      "cell_type": "code",
      "metadata": {
        "id": "nOUHp-AJxEnU",
        "colab_type": "code",
        "outputId": "0903526d-0fa8-488a-a425-44f76eb1c83f",
        "colab": {
          "base_uri": "https://localhost:8080/",
          "height": 34
        }
      },
      "source": [
        "print(\"Max Score is: {} for {} clusters\".format(max(coherence_score),coherence_score[coherence_score.index(max(coherence_score))]))"
      ],
      "execution_count": 51,
      "outputs": [
        {
          "output_type": "stream",
          "text": [
            "Max Score is: 0.7193956145444242 for 0.7193956145444242 clusters\n"
          ],
          "name": "stdout"
        }
      ]
    },
    {
      "cell_type": "code",
      "metadata": {
        "id": "0nZ2iXJ2xMvR",
        "colab_type": "code",
        "outputId": "a47e0212-a0b5-4709-de54-d727eb3a3da4",
        "colab": {
          "base_uri": "https://localhost:8080/",
          "height": 34
        }
      },
      "source": [
        "print(\"Max Score is: {} for {} clusters\".format(max(coherence_score),coherence_score.index(max(coherence_score))))"
      ],
      "execution_count": 52,
      "outputs": [
        {
          "output_type": "stream",
          "text": [
            "Max Score is: 0.7193956145444242 for 6 clusters\n"
          ],
          "name": "stdout"
        }
      ]
    },
    {
      "cell_type": "markdown",
      "metadata": {
        "id": "Qf6WCPjt85I1",
        "colab_type": "text"
      },
      "source": [
        "# Evaluating Words in a Topic : Cosine scores."
      ]
    },
    {
      "cell_type": "code",
      "metadata": {
        "id": "ml6hY3is86p0",
        "colab_type": "code",
        "colab": {}
      },
      "source": [
        "Dup_All_Docs=All_Docs[0]+All_Docs[1]\n",
        "df=[]"
      ],
      "execution_count": 0,
      "outputs": []
    },
    {
      "cell_type": "code",
      "metadata": {
        "id": "1aAKyW1w89RK",
        "colab_type": "code",
        "colab": {}
      },
      "source": [
        "for j in All_Docs:\n",
        "  for i in j:\n",
        "    df.append(i)\n"
      ],
      "execution_count": 0,
      "outputs": []
    },
    {
      "cell_type": "code",
      "metadata": {
        "id": "9CeggqEz9LPe",
        "colab_type": "code",
        "outputId": "b6db2d98-4792-432d-cff8-63b65855d0ef",
        "colab": {
          "base_uri": "https://localhost:8080/",
          "height": 34
        }
      },
      "source": [
        "len(All_Docs[0])"
      ],
      "execution_count": 55,
      "outputs": [
        {
          "output_type": "execute_result",
          "data": {
            "text/plain": [
              "14"
            ]
          },
          "metadata": {
            "tags": []
          },
          "execution_count": 55
        }
      ]
    },
    {
      "cell_type": "code",
      "metadata": {
        "id": "E60cQXDyxqVp",
        "colab_type": "code",
        "colab": {}
      },
      "source": [
        "from sklearn.feature_extraction.text import CountVectorizer\n",
        "vectoriser = CountVectorizer().fit(Dup_All_Docs)\n",
        "X = vectoriser.transform(Dup_All_Docs)\n",
        "df_vec=pd.DataFrame(X.A, columns=sorted(vectoriser.vocabulary_.keys(), key=lambda k: vectoriser.vocabulary_[k]))"
      ],
      "execution_count": 0,
      "outputs": []
    },
    {
      "cell_type": "code",
      "metadata": {
        "id": "cudihFWZ98yN",
        "colab_type": "code",
        "colab": {}
      },
      "source": [
        "df_page=pd.DataFrame(data=Dup_All_Docs)\n",
        "#df_page.head()"
      ],
      "execution_count": 0,
      "outputs": []
    },
    {
      "cell_type": "code",
      "metadata": {
        "id": "uR64ay5l-ZZX",
        "colab_type": "code",
        "colab": {
          "base_uri": "https://localhost:8080/",
          "height": 34
        },
        "outputId": "a5b0889b-41de-41f0-df52-e580107b3962"
      },
      "source": [
        "type(df),len(df)"
      ],
      "execution_count": 63,
      "outputs": [
        {
          "output_type": "execute_result",
          "data": {
            "text/plain": [
              "(list, 26)"
            ]
          },
          "metadata": {
            "tags": []
          },
          "execution_count": 63
        }
      ]
    },
    {
      "cell_type": "code",
      "metadata": {
        "id": "mia8W3xnqPY9",
        "colab_type": "code",
        "colab": {}
      },
      "source": [
        "word_data=[]\n",
        "\n",
        "for i in df:\n",
        "    token=tokenizer.tokenize(i)\n",
        "    token=[i for i in token if(not(str(i).isdigit() or not(str(i).isalpha())) and len(str(i)) > 2 )]\n",
        "    token=[i.lower() for i in token if( i not in en_stop)]\n",
        "    word_data.append(token)"
      ],
      "execution_count": 0,
      "outputs": []
    },
    {
      "cell_type": "code",
      "metadata": {
        "id": "trA3OsSh0p5-",
        "colab_type": "code",
        "colab": {}
      },
      "source": [
        "model1 = gensim.models.Word2Vec(word_data, min_count = 1,size = 100, window = 5) "
      ],
      "execution_count": 0,
      "outputs": []
    },
    {
      "cell_type": "code",
      "metadata": {
        "id": "fiWYfpUxqjrR",
        "colab_type": "code",
        "colab": {
          "base_uri": "https://localhost:8080/",
          "height": 359
        },
        "outputId": "e762dd51-06ad-4b5f-c348-e3e59ae3e2eb"
      },
      "source": [
        "topic_df_T"
      ],
      "execution_count": 77,
      "outputs": [
        {
          "output_type": "execute_result",
          "data": {
            "text/html": [
              "<div>\n",
              "<style scoped>\n",
              "    .dataframe tbody tr th:only-of-type {\n",
              "        vertical-align: middle;\n",
              "    }\n",
              "\n",
              "    .dataframe tbody tr th {\n",
              "        vertical-align: top;\n",
              "    }\n",
              "\n",
              "    .dataframe thead th {\n",
              "        text-align: right;\n",
              "    }\n",
              "</style>\n",
              "<table border=\"1\" class=\"dataframe\">\n",
              "  <thead>\n",
              "    <tr style=\"text-align: right;\">\n",
              "      <th></th>\n",
              "      <th>Topic-1</th>\n",
              "      <th>Topic-2</th>\n",
              "      <th>Topic-3</th>\n",
              "      <th>Topic-4</th>\n",
              "      <th>Topic-5</th>\n",
              "      <th>Topic-6</th>\n",
              "      <th>Topic-7</th>\n",
              "      <th>Topic-8</th>\n",
              "      <th>Topic-9</th>\n",
              "    </tr>\n",
              "  </thead>\n",
              "  <tbody>\n",
              "    <tr>\n",
              "      <th>0</th>\n",
              "      <td>economic</td>\n",
              "      <td>year</td>\n",
              "      <td>inflation</td>\n",
              "      <td>prices</td>\n",
              "      <td>growth</td>\n",
              "      <td>per</td>\n",
              "      <td>cent</td>\n",
              "      <td>policy</td>\n",
              "      <td>inflation</td>\n",
              "    </tr>\n",
              "    <tr>\n",
              "      <th>1</th>\n",
              "      <td>inflation</td>\n",
              "      <td>effects</td>\n",
              "      <td>headline</td>\n",
              "      <td>the</td>\n",
              "      <td>the</td>\n",
              "      <td>risks</td>\n",
              "      <td>prices</td>\n",
              "      <td>rate</td>\n",
              "      <td>reserve</td>\n",
              "    </tr>\n",
              "    <tr>\n",
              "      <th>2</th>\n",
              "      <td>economy</td>\n",
              "      <td>impact</td>\n",
              "      <td>february</td>\n",
              "      <td>oil</td>\n",
              "      <td>bank</td>\n",
              "      <td>cent</td>\n",
              "      <td>activity</td>\n",
              "      <td>also</td>\n",
              "      <td>outlook</td>\n",
              "    </tr>\n",
              "    <tr>\n",
              "      <th>3</th>\n",
              "      <td>committee</td>\n",
              "      <td>second</td>\n",
              "      <td>rising</td>\n",
              "      <td>inflation</td>\n",
              "      <td>february</td>\n",
              "      <td>fuel</td>\n",
              "      <td>high</td>\n",
              "      <td>march</td>\n",
              "      <td>expected</td>\n",
              "    </tr>\n",
              "    <tr>\n",
              "      <th>4</th>\n",
              "      <td>hra</td>\n",
              "      <td>survey</td>\n",
              "      <td>may</td>\n",
              "      <td>february</td>\n",
              "      <td>impact</td>\n",
              "      <td>monetary</td>\n",
              "      <td>basis</td>\n",
              "      <td>the</td>\n",
              "      <td>per</td>\n",
              "    </tr>\n",
              "    <tr>\n",
              "      <th>5</th>\n",
              "      <td>bank</td>\n",
              "      <td>last</td>\n",
              "      <td>several</td>\n",
              "      <td>production</td>\n",
              "      <td>food</td>\n",
              "      <td>january</td>\n",
              "      <td>account</td>\n",
              "      <td>recent</td>\n",
              "      <td>output</td>\n",
              "    </tr>\n",
              "    <tr>\n",
              "      <th>6</th>\n",
              "      <td>outlook</td>\n",
              "      <td>global</td>\n",
              "      <td>trade</td>\n",
              "      <td>well</td>\n",
              "      <td>financial</td>\n",
              "      <td>around</td>\n",
              "      <td>resolution</td>\n",
              "      <td>april</td>\n",
              "      <td>cpi</td>\n",
              "    </tr>\n",
              "    <tr>\n",
              "      <th>7</th>\n",
              "      <td>indian</td>\n",
              "      <td>likely</td>\n",
              "      <td>rates</td>\n",
              "      <td>months</td>\n",
              "      <td>various</td>\n",
              "      <td>exports</td>\n",
              "      <td>year</td>\n",
              "      <td>market</td>\n",
              "      <td>month</td>\n",
              "    </tr>\n",
              "    <tr>\n",
              "      <th>8</th>\n",
              "      <td>global</td>\n",
              "      <td>centre</td>\n",
              "      <td>food</td>\n",
              "      <td>estimates</td>\n",
              "      <td>remained</td>\n",
              "      <td>however</td>\n",
              "      <td>consumption</td>\n",
              "      <td>sector</td>\n",
              "      <td>mpc</td>\n",
              "    </tr>\n",
              "    <tr>\n",
              "      <th>9</th>\n",
              "      <td>vote</td>\n",
              "      <td>domestic</td>\n",
              "      <td>ahead</td>\n",
              "      <td>per</td>\n",
              "      <td>average</td>\n",
              "      <td>investment</td>\n",
              "      <td>february</td>\n",
              "      <td>central</td>\n",
              "      <td>services</td>\n",
              "    </tr>\n",
              "  </tbody>\n",
              "</table>\n",
              "</div>"
            ],
            "text/plain": [
              "     Topic-1   Topic-2    Topic-3  ...      Topic-7  Topic-8    Topic-9\n",
              "0   economic      year  inflation  ...         cent   policy  inflation\n",
              "1  inflation   effects   headline  ...       prices     rate    reserve\n",
              "2    economy    impact   february  ...     activity     also    outlook\n",
              "3  committee    second     rising  ...         high    march   expected\n",
              "4        hra    survey        may  ...        basis      the        per\n",
              "5       bank      last    several  ...      account   recent     output\n",
              "6    outlook    global      trade  ...   resolution    april        cpi\n",
              "7     indian    likely      rates  ...         year   market      month\n",
              "8     global    centre       food  ...  consumption   sector        mpc\n",
              "9       vote  domestic      ahead  ...     february  central   services\n",
              "\n",
              "[10 rows x 9 columns]"
            ]
          },
          "metadata": {
            "tags": []
          },
          "execution_count": 77
        }
      ]
    },
    {
      "cell_type": "code",
      "metadata": {
        "id": "EzCMGzFJVuuX",
        "colab_type": "code",
        "colab": {}
      },
      "source": [
        "#ds2"
      ],
      "execution_count": 0,
      "outputs": []
    },
    {
      "cell_type": "markdown",
      "metadata": {
        "id": "TcNmFxNPRN4H",
        "colab_type": "text"
      },
      "source": [
        "Cosine Similarity Score"
      ]
    },
    {
      "cell_type": "code",
      "metadata": {
        "id": "GfFIkqthshtv",
        "colab_type": "code",
        "colab": {}
      },
      "source": [
        "# List of topic wise words\n",
        "ds=[]\n",
        "for i in range(len(col)):\n",
        "  ds.append(list(topic_df_T[col[i]]))\n",
        "\n",
        "ds# ds[i] is i-th list of Topic-i\n",
        "\n",
        "simscore_topic=[]#initiating mtx for sim scores/cosine scores\n",
        "\n",
        "\n",
        "for p in range(len(ds)):\n",
        "  k=len(ds[p])\n",
        "  o=0\n",
        "\n",
        "  sim=[]\n",
        "  simt=[]\n",
        "  \n",
        "  for i in range(k):\n",
        "    simt=[]\n",
        "    for j in range(k)  :\n",
        "      o=model1.similarity(ds[p][i],ds[p][j])\n",
        "      simt.append(o)\n",
        "\n",
        "    sim.append(simt)\n",
        "\n",
        "  simscore_topic.append(sim)\n",
        "# 3-D list, simscore_topic[i] is similarity scores for topic-i\n",
        "# simscore_topic[i][j] is list of similarity score of j-th word in i-th Topic with other words\n",
        "\n",
        "\n",
        "\n",
        "\n",
        "for j in range(len(ds)):\n",
        "  for i in range(k-1):\n",
        "    print(ds[j][i])\n",
        "    print(simscore_topic[j][i])\n",
        "    #print(model1.similarity(topic1[i],topic1[i+1]))\n",
        "   "
      ],
      "execution_count": 0,
      "outputs": []
    },
    {
      "cell_type": "code",
      "metadata": {
        "id": "IvpCixtzivKZ",
        "colab_type": "code",
        "colab": {
          "base_uri": "https://localhost:8080/",
          "height": 1000
        },
        "outputId": "c00308e7-b545-4969-d3fe-3ed73041ce26"
      },
      "source": [
        "gbl = globals()\n",
        "\n",
        "\n",
        "#df_topic_name = ['SymbolA','SymbolB', 'SymbolC' .... 'SymbolN']\n",
        "\n",
        "for i in range(len(col)):   \n",
        "\n",
        "   gbl[str('df')+col[i]] = pd.DataFrame(simscore_topic[i],index=ds[i],columns=ds[i])\n",
        "   print(\"Similarity Scores matrix for Topic-{}\".format(i+1))\n",
        "   print(gbl[str('df')+col[i]])\n",
        "   print(\"\\n\\n\")"
      ],
      "execution_count": 146,
      "outputs": [
        {
          "output_type": "stream",
          "text": [
            "Similarity Scores matrix for Topic-1\n",
            "           economic  inflation   economy  ...    indian    global      vote\n",
            "economic   1.000000   0.596814  0.475185  ...  0.339595  0.484141  0.197012\n",
            "inflation  0.596814   1.000000  0.590754  ...  0.559473  0.692162  0.314516\n",
            "economy    0.475185   0.590754  1.000000  ...  0.399332  0.468677  0.321382\n",
            "committee  0.447275   0.551851  0.386181  ...  0.242994  0.499354  0.229896\n",
            "hra        0.350965   0.537150  0.427196  ...  0.212327  0.489798  0.208487\n",
            "bank       0.493649   0.744196  0.532851  ...  0.507422  0.585065  0.312950\n",
            "outlook    0.469598   0.578973  0.491763  ...  0.433137  0.435138  0.306757\n",
            "indian     0.339595   0.559473  0.399332  ...  1.000000  0.493038  0.284840\n",
            "global     0.484141   0.692162  0.468677  ...  0.493038  1.000000  0.306258\n",
            "vote       0.197012   0.314516  0.321382  ...  0.284840  0.306258  1.000000\n",
            "\n",
            "[10 rows x 10 columns]\n",
            "\n",
            "\n",
            "\n",
            "Similarity Scores matrix for Topic-2\n",
            "              year   effects    impact  ...    likely    centre  domestic\n",
            "year      1.000000  0.587074  0.468030  ...  0.566157  0.384773  0.632604\n",
            "effects   0.587074  1.000000  0.578803  ...  0.520795  0.312190  0.515159\n",
            "impact    0.468030  0.578803  1.000000  ...  0.543995  0.327079  0.572739\n",
            "second    0.534690  0.570017  0.524526  ...  0.552010  0.368588  0.581590\n",
            "survey    0.376115  0.418731  0.347299  ...  0.433096  0.393163  0.421479\n",
            "last      0.490597  0.365611  0.467220  ...  0.378849  0.294264  0.547316\n",
            "global    0.549013  0.532090  0.506350  ...  0.525055  0.377466  0.591134\n",
            "likely    0.566157  0.520795  0.543995  ...  1.000000  0.362697  0.620700\n",
            "centre    0.384773  0.312190  0.327079  ...  0.362697  1.000000  0.252172\n",
            "domestic  0.632604  0.515159  0.572739  ...  0.620700  0.252172  1.000000\n",
            "\n",
            "[10 rows x 10 columns]\n",
            "\n",
            "\n",
            "\n",
            "Similarity Scores matrix for Topic-3\n",
            "           inflation  headline  february  ...     rates      food     ahead\n",
            "inflation   1.000000  0.571983  0.668686  ...  0.625984  0.640778  0.388561\n",
            "headline    0.571983  1.000000  0.479941  ...  0.460585  0.458240  0.317823\n",
            "february    0.668686  0.479941  1.000000  ...  0.484041  0.543258  0.458629\n",
            "rising      0.631409  0.413656  0.521884  ...  0.451165  0.520485  0.461164\n",
            "may         0.626743  0.436162  0.502250  ...  0.449084  0.578897  0.274878\n",
            "several     0.541828  0.272495  0.356522  ...  0.427616  0.435898  0.181338\n",
            "trade       0.481725  0.378924  0.488043  ...  0.586527  0.534908  0.341902\n",
            "rates       0.625984  0.460585  0.484041  ...  1.000000  0.540876  0.275994\n",
            "food        0.640778  0.458240  0.543258  ...  0.540876  1.000000  0.310804\n",
            "ahead       0.388561  0.317823  0.458629  ...  0.275994  0.310804  1.000000\n",
            "\n",
            "[10 rows x 10 columns]\n",
            "\n",
            "\n",
            "\n",
            "Similarity Scores matrix for Topic-4\n",
            "              prices       the       oil  ...    months  estimates       per\n",
            "prices      1.000000  0.677497  0.504707  ...  0.593659   0.304433  0.703538\n",
            "the         0.677497  1.000000  0.581904  ...  0.525131   0.266316  0.645747\n",
            "oil         0.504707  0.581904  1.000000  ...  0.456100   0.392758  0.484638\n",
            "inflation   0.706238  0.719904  0.486026  ...  0.576749   0.344262  0.703007\n",
            "february    0.612253  0.560689  0.449892  ...  0.521787   0.391282  0.638799\n",
            "production  0.492792  0.481011  0.409358  ...  0.464597   0.364537  0.493849\n",
            "well        0.365949  0.500837  0.363534  ...  0.362786   0.097818  0.385864\n",
            "months      0.593659  0.525131  0.456100  ...  1.000000   0.203323  0.557743\n",
            "estimates   0.304433  0.266316  0.392758  ...  0.203323   1.000000  0.390874\n",
            "per         0.703538  0.645747  0.484638  ...  0.557743   0.390874  1.000000\n",
            "\n",
            "[10 rows x 10 columns]\n",
            "\n",
            "\n",
            "\n",
            "Similarity Scores matrix for Topic-5\n",
            "             growth       the      bank  ...   various  remained   average\n",
            "growth     1.000000  0.621450  0.617201  ...  0.293107  0.303032  0.218127\n",
            "the        0.621450  1.000000  0.671706  ...  0.469774  0.309758  0.237035\n",
            "bank       0.617201  0.671706  1.000000  ...  0.378789  0.403206  0.210101\n",
            "february   0.605083  0.560689  0.625230  ...  0.313499  0.155831  0.125294\n",
            "impact     0.438620  0.601314  0.627764  ...  0.294153  0.284171  0.348458\n",
            "food       0.635804  0.645880  0.618889  ...  0.386994  0.279495  0.252863\n",
            "financial  0.344565  0.571404  0.344982  ...  0.310507  0.253169  0.157281\n",
            "various    0.293107  0.469774  0.378789  ...  1.000000  0.230864  0.081912\n",
            "remained   0.303032  0.309758  0.403206  ...  0.230864  1.000000  0.177402\n",
            "average    0.218127  0.237035  0.210101  ...  0.081912  0.177402  1.000000\n",
            "\n",
            "[10 rows x 10 columns]\n",
            "\n",
            "\n",
            "\n",
            "Similarity Scores matrix for Topic-6\n",
            "                 per     risks      cent  ...   exports   however  investment\n",
            "per         1.000000  0.594667  0.622076  ...  0.477244  0.542369    0.622383\n",
            "risks       0.594667  1.000000  0.499025  ...  0.476778  0.429322    0.569540\n",
            "cent        0.622076  0.499025  1.000000  ...  0.455830  0.420197    0.504142\n",
            "fuel        0.532620  0.479151  0.471370  ...  0.417208  0.530661    0.486553\n",
            "monetary    0.592756  0.440404  0.430951  ...  0.353881  0.410826    0.455994\n",
            "january     0.607000  0.530553  0.529401  ...  0.428382  0.464420    0.438229\n",
            "around      0.518354  0.488017  0.383439  ...  0.445101  0.480806    0.449086\n",
            "exports     0.477244  0.476778  0.455830  ...  1.000000  0.443389    0.487931\n",
            "however     0.542369  0.429322  0.420197  ...  0.443389  1.000000    0.511627\n",
            "investment  0.622383  0.569540  0.504142  ...  0.487931  0.511627    1.000000\n",
            "\n",
            "[10 rows x 10 columns]\n",
            "\n",
            "\n",
            "\n",
            "Similarity Scores matrix for Topic-7\n",
            "                 cent    prices  activity  ...      year  consumption  february\n",
            "cent         1.000000  0.597219  0.533419  ...  0.566079     0.313262  0.552665\n",
            "prices       0.597219  1.000000  0.637872  ...  0.668020     0.369518  0.612253\n",
            "activity     0.533419  0.637872  1.000000  ...  0.509741     0.385813  0.529812\n",
            "high         0.528310  0.520984  0.523732  ...  0.583517     0.299638  0.585746\n",
            "basis        0.420786  0.543549  0.479783  ...  0.468121     0.383204  0.589352\n",
            "account      0.294986  0.375210  0.392912  ...  0.377357     0.378711  0.433320\n",
            "resolution   0.363375  0.518797  0.412206  ...  0.290402     0.378789  0.451041\n",
            "year         0.566079  0.668020  0.509741  ...  1.000000     0.347254  0.541686\n",
            "consumption  0.313262  0.369518  0.385813  ...  0.347254     1.000000  0.379795\n",
            "february     0.552665  0.612253  0.529812  ...  0.541686     0.379795  1.000000\n",
            "\n",
            "[10 rows x 10 columns]\n",
            "\n",
            "\n",
            "\n",
            "Similarity Scores matrix for Topic-8\n",
            "           policy      rate      also  ...    market    sector   central\n",
            "policy   1.000000  0.705228  0.612147  ...  0.481878  0.491887  0.313132\n",
            "rate     0.705228  1.000000  0.594344  ...  0.420396  0.455352  0.242323\n",
            "also     0.612147  0.594344  1.000000  ...  0.393818  0.529119  0.292248\n",
            "march    0.617132  0.607715  0.652194  ...  0.330228  0.449596  0.309722\n",
            "the      0.611896  0.585312  0.663292  ...  0.302446  0.603566  0.249504\n",
            "recent   0.411329  0.316892  0.499518  ...  0.405670  0.386589  0.253000\n",
            "april    0.347122  0.361269  0.345563  ...  0.317864  0.250503  0.303308\n",
            "market   0.481878  0.420396  0.393818  ...  1.000000  0.261517  0.236029\n",
            "sector   0.491887  0.455352  0.529119  ...  0.261517  1.000000  0.151876\n",
            "central  0.313132  0.242323  0.292248  ...  0.236029  0.151876  1.000000\n",
            "\n",
            "[10 rows x 10 columns]\n",
            "\n",
            "\n",
            "\n",
            "Similarity Scores matrix for Topic-9\n",
            "           inflation   reserve   outlook  ...     month       mpc  services\n",
            "inflation   1.000000  0.588730  0.578973  ...  0.604368  0.616628  0.602163\n",
            "reserve     0.588730  1.000000  0.511482  ...  0.342256  0.425401  0.544368\n",
            "outlook     0.578973  0.511482  1.000000  ...  0.496281  0.487452  0.530263\n",
            "expected    0.578703  0.562926  0.440897  ...  0.424027  0.521846  0.356454\n",
            "per         0.703007  0.615594  0.595545  ...  0.508182  0.549091  0.575316\n",
            "output      0.540670  0.442806  0.531220  ...  0.478142  0.362352  0.417638\n",
            "cpi         0.333338  0.153312  0.347878  ...  0.353328  0.234078  0.294542\n",
            "month       0.604368  0.342256  0.496281  ...  1.000000  0.487558  0.438792\n",
            "mpc         0.616628  0.425401  0.487452  ...  0.487558  1.000000  0.517831\n",
            "services    0.602163  0.544368  0.530263  ...  0.438792  0.517831  1.000000\n",
            "\n",
            "[10 rows x 10 columns]\n",
            "\n",
            "\n",
            "\n"
          ],
          "name": "stdout"
        }
      ]
    },
    {
      "cell_type": "code",
      "metadata": {
        "id": "gDKj_j13jWyJ",
        "colab_type": "code",
        "colab": {
          "base_uri": "https://localhost:8080/",
          "height": 180
        },
        "outputId": "8c92b29c-795f-44c4-f51e-d305b07f133d"
      },
      "source": [
        "#Topic1_df=pd.DataFrame(simscore_topic[0],index=ds[0],columns=ds[0])\n",
        "gbl[dfTopic-1]"
      ],
      "execution_count": 139,
      "outputs": [
        {
          "output_type": "error",
          "ename": "NameError",
          "evalue": "ignored",
          "traceback": [
            "\u001b[0;31m---------------------------------------------------------------------------\u001b[0m",
            "\u001b[0;31mNameError\u001b[0m                                 Traceback (most recent call last)",
            "\u001b[0;32m<ipython-input-139-f80062448f89>\u001b[0m in \u001b[0;36m<module>\u001b[0;34m()\u001b[0m\n\u001b[1;32m      1\u001b[0m \u001b[0;31m#Topic1_df=pd.DataFrame(simscore_topic[0],index=ds[0],columns=ds[0])\u001b[0m\u001b[0;34m\u001b[0m\u001b[0;34m\u001b[0m\u001b[0;34m\u001b[0m\u001b[0m\n\u001b[0;32m----> 2\u001b[0;31m \u001b[0mgbl\u001b[0m\u001b[0;34m[\u001b[0m\u001b[0mdfTopic\u001b[0m\u001b[0;34m-\u001b[0m\u001b[0;36m1\u001b[0m\u001b[0;34m]\u001b[0m\u001b[0;34m\u001b[0m\u001b[0;34m\u001b[0m\u001b[0m\n\u001b[0m",
            "\u001b[0;31mNameError\u001b[0m: name 'dfTopic' is not defined"
          ]
        }
      ]
    }
  ]
}