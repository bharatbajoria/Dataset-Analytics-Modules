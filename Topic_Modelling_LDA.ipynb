{
  "nbformat": 4,
  "nbformat_minor": 0,
  "metadata": {
    "colab": {
      "name": "Topic Modelling - LDA.ipynb",
      "provenance": [],
      "collapsed_sections": [],
      "toc_visible": true,
      "authorship_tag": "ABX9TyNquGr9/A7gqk35HH/zCJLY",
      "include_colab_link": true
    },
    "kernelspec": {
      "name": "python3",
      "display_name": "Python 3"
    }
  },
  "cells": [
    {
      "cell_type": "markdown",
      "metadata": {
        "id": "view-in-github",
        "colab_type": "text"
      },
      "source": [
        "<a href=\"https://colab.research.google.com/github/bharatbajoria/Summer-Internship/blob/master/Topic_Modelling_LDA.ipynb\" target=\"_parent\"><img src=\"https://colab.research.google.com/assets/colab-badge.svg\" alt=\"Open In Colab\"/></a>"
      ]
    },
    {
      "cell_type": "markdown",
      "metadata": {
        "id": "pDnh2YCh6hqd",
        "colab_type": "text"
      },
      "source": [
        "## PDF Reading"
      ]
    },
    {
      "cell_type": "code",
      "metadata": {
        "id": "wghEQ7A26vnU",
        "colab_type": "code",
        "outputId": "140d3042-b8f9-45b9-dd02-c4ba94b9b312",
        "colab": {
          "base_uri": "https://localhost:8080/",
          "height": 207
        }
      },
      "source": [
        "pip install pyPDF2"
      ],
      "execution_count": 1,
      "outputs": [
        {
          "output_type": "stream",
          "text": [
            "Collecting pyPDF2\n",
            "\u001b[?25l  Downloading https://files.pythonhosted.org/packages/b4/01/68fcc0d43daf4c6bdbc6b33cc3f77bda531c86b174cac56ef0ffdb96faab/PyPDF2-1.26.0.tar.gz (77kB)\n",
            "\r\u001b[K     |████▎                           | 10kB 19.8MB/s eta 0:00:01\r\u001b[K     |████████▌                       | 20kB 1.7MB/s eta 0:00:01\r\u001b[K     |████████████▊                   | 30kB 2.2MB/s eta 0:00:01\r\u001b[K     |█████████████████               | 40kB 1.7MB/s eta 0:00:01\r\u001b[K     |█████████████████████▏          | 51kB 1.9MB/s eta 0:00:01\r\u001b[K     |█████████████████████████▍      | 61kB 2.2MB/s eta 0:00:01\r\u001b[K     |█████████████████████████████▋  | 71kB 2.5MB/s eta 0:00:01\r\u001b[K     |████████████████████████████████| 81kB 2.3MB/s \n",
            "\u001b[?25hBuilding wheels for collected packages: pyPDF2\n",
            "  Building wheel for pyPDF2 (setup.py) ... \u001b[?25l\u001b[?25hdone\n",
            "  Created wheel for pyPDF2: filename=PyPDF2-1.26.0-cp36-none-any.whl size=61086 sha256=4978e490487aef58f374dd849bd5749708e309fbf6fca874db249590b8b2a895\n",
            "  Stored in directory: /root/.cache/pip/wheels/53/84/19/35bc977c8bf5f0c23a8a011aa958acd4da4bbd7a229315c1b7\n",
            "Successfully built pyPDF2\n",
            "Installing collected packages: pyPDF2\n",
            "Successfully installed pyPDF2-1.26.0\n"
          ],
          "name": "stdout"
        }
      ]
    },
    {
      "cell_type": "code",
      "metadata": {
        "id": "JCCjhlye691F",
        "colab_type": "code",
        "colab": {}
      },
      "source": [
        "import PyPDF2"
      ],
      "execution_count": 0,
      "outputs": []
    },
    {
      "cell_type": "code",
      "metadata": {
        "id": "0T3rV4tE6_7g",
        "colab_type": "code",
        "colab": {}
      },
      "source": [
        "#Taking file input\n",
        "#number of files\n",
        "nf=2\n",
        "\n",
        "file= open('Apr-18.PDF','rb')\n",
        "file1= open('Apr-17.PDF','rb')\n",
        "  "
      ],
      "execution_count": 0,
      "outputs": []
    },
    {
      "cell_type": "code",
      "metadata": {
        "id": "4IBG24-_ETeX",
        "colab_type": "code",
        "colab": {}
      },
      "source": [
        "#A list of files\n",
        "file_list=[file,file1]"
      ],
      "execution_count": 0,
      "outputs": []
    },
    {
      "cell_type": "code",
      "metadata": {
        "id": "hAOpKwg9Bbej",
        "colab_type": "code",
        "colab": {}
      },
      "source": [
        "# Reading number of pages\n",
        "pages=[]\n",
        "\n",
        "for i in range(nf):\n",
        "  pdfReader = PyPDF2.PdfFileReader(file_list[i])\n",
        "  n1=pdfReader.numPages\n",
        "  pages.append(n1)"
      ],
      "execution_count": 0,
      "outputs": []
    },
    {
      "cell_type": "code",
      "metadata": {
        "id": "13_u607DEFrA",
        "colab_type": "code",
        "colab": {}
      },
      "source": [
        "# A list containing all files, All_Docs[i] is i-th file \n",
        "# All_Docs[i][j] is j-th page of i-th file\n",
        "All_Docs=[] "
      ],
      "execution_count": 0,
      "outputs": []
    },
    {
      "cell_type": "code",
      "metadata": {
        "id": "C8KxYqUEByoC",
        "colab_type": "code",
        "colab": {}
      },
      "source": [
        "\n",
        "for j in range(nf):\n",
        "  pdfReader = PyPDF2.PdfFileReader(file_list[j])\n",
        "  file_text=[] #takes string of page text\n",
        "  for i in range(pages[j]):\n",
        "    pageObj = pdfReader.getPage(i)\n",
        "    a=pageObj.extractText()\n",
        "    file_text.append(a)\n",
        "  \n",
        "  All_Docs.append(file_text)"
      ],
      "execution_count": 0,
      "outputs": []
    },
    {
      "cell_type": "code",
      "metadata": {
        "id": "2pyakOURCtMg",
        "colab_type": "code",
        "outputId": "953102b8-c7eb-4ceb-ab04-05950cdd3f97",
        "colab": {
          "base_uri": "https://localhost:8080/",
          "height": 34
        }
      },
      "source": [
        "type(All_Docs[0][1]),type(All_Docs[0])"
      ],
      "execution_count": 8,
      "outputs": [
        {
          "output_type": "execute_result",
          "data": {
            "text/plain": [
              "(str, list)"
            ]
          },
          "metadata": {
            "tags": []
          },
          "execution_count": 8
        }
      ]
    },
    {
      "cell_type": "markdown",
      "metadata": {
        "id": "wOYeMBRtPUxA",
        "colab_type": "text"
      },
      "source": [
        "# Finding Optimal number of Clusters"
      ]
    },
    {
      "cell_type": "code",
      "metadata": {
        "id": "Ssl1uTyWPZZI",
        "colab_type": "code",
        "colab": {}
      },
      "source": [
        "Dup_All_Docs=All_Docs[:]"
      ],
      "execution_count": 0,
      "outputs": []
    },
    {
      "cell_type": "code",
      "metadata": {
        "id": "pbNNl31_Phbg",
        "colab_type": "code",
        "outputId": "e976af9b-9e08-4f92-a293-7becf0a99b77",
        "colab": {
          "base_uri": "https://localhost:8080/",
          "height": 34
        }
      },
      "source": [
        "type(Dup_All_Docs[0][0])"
      ],
      "execution_count": 10,
      "outputs": [
        {
          "output_type": "execute_result",
          "data": {
            "text/plain": [
              "str"
            ]
          },
          "metadata": {
            "tags": []
          },
          "execution_count": 10
        }
      ]
    },
    {
      "cell_type": "code",
      "metadata": {
        "id": "VWgumpDZPnOr",
        "colab_type": "code",
        "colab": {}
      },
      "source": [
        "import nltk\n",
        "from sklearn.cluster import KMeans\n",
        "from sklearn.feature_extraction.text import TfidfVectorizer\n",
        "from sklearn.metrics import silhouette_score\n",
        "\n",
        "import pandas as pd\n",
        "from nltk.tokenize import RegexpTokenizer\n",
        "#from stop_words import get_stop_words\n",
        "from nltk.stem.porter import PorterStemmer\n",
        "from gensim import corpora, models\n",
        "from nltk.corpus import stopwords\n",
        "import gensim\n",
        "\n",
        "from sklearn.cluster import KMeans\n",
        "from sklearn import metrics\n",
        "from scipy.spatial.distance import cdist\n",
        "import numpy as np"
      ],
      "execution_count": 0,
      "outputs": []
    },
    {
      "cell_type": "code",
      "metadata": {
        "id": "NjiL4AWGJY2j",
        "colab_type": "code",
        "outputId": "fa127f9d-b745-4fc8-ba29-6f25f44a12f8",
        "colab": {
          "base_uri": "https://localhost:8080/",
          "height": 68
        }
      },
      "source": [
        "nltk.download('stopwords')"
      ],
      "execution_count": 12,
      "outputs": [
        {
          "output_type": "stream",
          "text": [
            "[nltk_data] Downloading package stopwords to /root/nltk_data...\n",
            "[nltk_data]   Unzipping corpora/stopwords.zip.\n"
          ],
          "name": "stdout"
        },
        {
          "output_type": "execute_result",
          "data": {
            "text/plain": [
              "True"
            ]
          },
          "metadata": {
            "tags": []
          },
          "execution_count": 12
        }
      ]
    },
    {
      "cell_type": "code",
      "metadata": {
        "id": "2qSoEriVP0uH",
        "colab_type": "code",
        "colab": {}
      },
      "source": [
        "tokenizer = RegexpTokenizer(r'\\w+')\n",
        "en_stop = set(stopwords.words('english'))\n",
        "en_stop.add('the')#The is not in stopwords"
      ],
      "execution_count": 0,
      "outputs": []
    },
    {
      "cell_type": "code",
      "metadata": {
        "id": "VAJkRulAP9Kd",
        "colab_type": "code",
        "colab": {}
      },
      "source": [
        "tokens=[]\n",
        "\n",
        "\n",
        "for j in All_Docs:\n",
        "  x=[]\n",
        "  for i in j:\n",
        "    token=tokenizer.tokenize(i)\n",
        "    token=[i for i in token if(not(str(i).isdigit() or not(str(i).isalpha())) and len(str(i)) > 2 )]\n",
        "    token=[i.lower() for i in token if( i not in en_stop)]\n",
        "    x.extend(token)\n",
        "  \n",
        "  tokens.extend(x)"
      ],
      "execution_count": 0,
      "outputs": []
    },
    {
      "cell_type": "code",
      "metadata": {
        "id": "NQUgWxG3UPf_",
        "colab_type": "code",
        "outputId": "b4442c43-5918-4f63-c1e2-97488b92126a",
        "colab": {
          "base_uri": "https://localhost:8080/",
          "height": 204
        }
      },
      "source": [
        "len(tokens),tokens[:10]"
      ],
      "execution_count": 15,
      "outputs": [
        {
          "output_type": "execute_result",
          "data": {
            "text/plain": [
              "(7941,\n",
              " ['press',\n",
              "  'release',\n",
              "  'department',\n",
              "  'communication',\n",
              "  'central',\n",
              "  'office',\n",
              "  'marg',\n",
              "  'mumbai',\n",
              "  'phone',\n",
              "  'fax'])"
            ]
          },
          "metadata": {
            "tags": []
          },
          "execution_count": 15
        }
      ]
    },
    {
      "cell_type": "code",
      "metadata": {
        "id": "Tk5Z16QtWZPC",
        "colab_type": "code",
        "colab": {}
      },
      "source": [
        "#df9['Cleaned_PaperText'] = pd.Series(tokens)\n",
        "        \n",
        "vectorizer = TfidfVectorizer()\n",
        "\n",
        "Y = vectorizer.fit_transform(tokens)"
      ],
      "execution_count": 0,
      "outputs": []
    },
    {
      "cell_type": "code",
      "metadata": {
        "id": "lpkZXOmBXF82",
        "colab_type": "code",
        "colab": {}
      },
      "source": [
        "#Not Working\n",
        "\n",
        "distortions = []\n",
        "K = range(1,10)\n",
        "for k in K:\n",
        "    kmeanModel = KMeans(n_clusters=k).fit(Y)\n",
        "    kmeanModel.fit(Y)\n",
        "   # distortions.append(sum(np.min(cdist(Y, kmeanModel.cluster_centers_, 'euclidean'), axis=1)) / X.shape[0])"
      ],
      "execution_count": 0,
      "outputs": []
    },
    {
      "cell_type": "code",
      "metadata": {
        "id": "HYFF1Ml11rb6",
        "colab_type": "code",
        "outputId": "693b3e8d-6525-4fa8-a9d8-b9ac0653b4c0",
        "colab": {
          "base_uri": "https://localhost:8080/",
          "height": 170
        }
      },
      "source": [
        "#2nd Method using Silhouette Score\n",
        "\n",
        "n=0\n",
        "ss=0\n",
        "for n_cluster in range(2, 11):\n",
        "    kmeans = KMeans(n_clusters=n_cluster).fit(Y)\n",
        "    label = kmeans.labels_\n",
        "    sil_coeff = silhouette_score(Y, label, metric='euclidean')  \n",
        "    print(\"For n_clusters={}, The Silhouette Coefficient is {}\".format(n_cluster, sil_coeff))\n",
        "    if sil_coeff>ss:\n",
        "      ss=sil_coeff\n",
        "      n=n_cluster"
      ],
      "execution_count": 18,
      "outputs": [
        {
          "output_type": "stream",
          "text": [
            "For n_clusters=2, The Silhouette Coefficient is 0.026380620853574482\n",
            "For n_clusters=3, The Silhouette Coefficient is 0.02990136605736556\n",
            "For n_clusters=4, The Silhouette Coefficient is 0.0411350767494214\n",
            "For n_clusters=5, The Silhouette Coefficient is 0.047114255231201496\n",
            "For n_clusters=6, The Silhouette Coefficient is 0.04238571092146352\n",
            "For n_clusters=7, The Silhouette Coefficient is 0.05791155192542937\n",
            "For n_clusters=8, The Silhouette Coefficient is 0.05146533073404873\n",
            "For n_clusters=9, The Silhouette Coefficient is 0.055566246562805136\n",
            "For n_clusters=10, The Silhouette Coefficient is 0.06408540690743667\n"
          ],
          "name": "stdout"
        }
      ]
    },
    {
      "cell_type": "code",
      "metadata": {
        "id": "0b_JW_Ac1sT9",
        "colab_type": "code",
        "outputId": "2bcebe0c-4692-43c4-b4fe-afd462c232f9",
        "colab": {
          "base_uri": "https://localhost:8080/",
          "height": 34
        }
      },
      "source": [
        "print(\"Optimal numbers of clusters are : {}\".format(n))"
      ],
      "execution_count": 19,
      "outputs": [
        {
          "output_type": "stream",
          "text": [
            "Optimal numbers of clusters are : 10\n"
          ],
          "name": "stdout"
        }
      ]
    },
    {
      "cell_type": "markdown",
      "metadata": {
        "id": "rMz_Ewj2Ge1P",
        "colab_type": "text"
      },
      "source": [
        "# LDA"
      ]
    },
    {
      "cell_type": "code",
      "metadata": {
        "id": "sPa3yKp5GgiO",
        "colab_type": "code",
        "colab": {}
      },
      "source": [
        "\n",
        "import nltk\n",
        "from gensim.utils import simple_preprocess\n",
        "from gensim.parsing.preprocessing import STOPWORDS\n",
        "from nltk.stem import WordNetLemmatizer\n",
        "from gensim.corpora import Dictionary\n",
        "from gensim.models import TfidfModel,LdaModel, LsiModel, HdpModel\n",
        "from gensim.models.wrappers import LdaMallet\n",
        "import matplotlib.pyplot as plt\n"
      ],
      "execution_count": 0,
      "outputs": []
    },
    {
      "cell_type": "code",
      "metadata": {
        "id": "7qPpPPipGuZq",
        "colab_type": "code",
        "outputId": "9d2b98a3-a648-4a3c-8f66-8d2a42ddf3fa",
        "colab": {
          "base_uri": "https://localhost:8080/",
          "height": 68
        }
      },
      "source": [
        "nltk.download('wordnet')\n"
      ],
      "execution_count": 21,
      "outputs": [
        {
          "output_type": "stream",
          "text": [
            "[nltk_data] Downloading package wordnet to /root/nltk_data...\n",
            "[nltk_data]   Unzipping corpora/wordnet.zip.\n"
          ],
          "name": "stdout"
        },
        {
          "output_type": "execute_result",
          "data": {
            "text/plain": [
              "True"
            ]
          },
          "metadata": {
            "tags": []
          },
          "execution_count": 21
        }
      ]
    },
    {
      "cell_type": "code",
      "metadata": {
        "id": "gjfEIOkQGM5n",
        "colab_type": "code",
        "colab": {}
      },
      "source": [
        "\n",
        "dictionary=Dictionary([[i] for i in tokens])"
      ],
      "execution_count": 0,
      "outputs": []
    },
    {
      "cell_type": "code",
      "metadata": {
        "id": "ZPWPK9OTGfkc",
        "colab_type": "code",
        "outputId": "3c088f1b-97b0-4743-b542-3d797d1868c9",
        "colab": {
          "base_uri": "https://localhost:8080/",
          "height": 34
        }
      },
      "source": [
        "print(dictionary)"
      ],
      "execution_count": 23,
      "outputs": [
        {
          "output_type": "stream",
          "text": [
            "Dictionary(2065 unique tokens: ['press', 'release', 'department', 'communication', 'central']...)\n"
          ],
          "name": "stdout"
        }
      ]
    },
    {
      "cell_type": "code",
      "metadata": {
        "id": "-Y7pRecKIYD8",
        "colab_type": "code",
        "outputId": "11594e98-4c6e-4943-9625-3a469f4d242e",
        "colab": {
          "base_uri": "https://localhost:8080/",
          "height": 34
        }
      },
      "source": [
        "X=[dictionary.doc2bow([sents]) for sents in tokens]#getting bag of words.\n",
        "tfidf=TfidfModel(X)\n",
        "\n",
        "print(type(tfidf))\n",
        "X=tfidf[X]\n"
      ],
      "execution_count": 24,
      "outputs": [
        {
          "output_type": "stream",
          "text": [
            "<class 'gensim.models.tfidfmodel.TfidfModel'>\n"
          ],
          "name": "stdout"
        }
      ]
    },
    {
      "cell_type": "code",
      "metadata": {
        "id": "GIvl1ys8KN1c",
        "colab_type": "code",
        "colab": {}
      },
      "source": [
        "from gensim.models import LdaMulticore,CoherenceModel\n",
        "\n",
        "lda=LdaMulticore(X,num_topics=n,id2word=dictionary,workers=8)\n",
        "lda1=LdaModel(X,num_topics=n,id2word=dictionary,update_every=5)\n",
        "\n",
        "#lda.print_topics()"
      ],
      "execution_count": 0,
      "outputs": []
    },
    {
      "cell_type": "code",
      "metadata": {
        "id": "7TxsZ7hLLpIo",
        "colab_type": "code",
        "outputId": "67ce584f-2509-484c-bbef-f4527de71eed",
        "colab": {
          "base_uri": "https://localhost:8080/",
          "height": 377
        }
      },
      "source": [
        "\n",
        "ldatopics = [[(word,prob) for word, prob in topic] for topicid, topic in lda.show_topics(formatted=False)]\n",
        "lda.show_topics(formatted=True)"
      ],
      "execution_count": 26,
      "outputs": [
        {
          "output_type": "execute_result",
          "data": {
            "text/plain": [
              "[(0,\n",
              "  '0.037*\"bank\" + 0.019*\"growth\" + 0.019*\"trade\" + 0.018*\"may\" + 0.015*\"impact\" + 0.013*\"the\" + 0.013*\"this\" + 0.013*\"current\" + 0.012*\"oil\" + 0.011*\"april\"'),\n",
              " (1,\n",
              "  '0.049*\"february\" + 0.038*\"policy\" + 0.029*\"effects\" + 0.023*\"mpc\" + 0.014*\"second\" + 0.011*\"per\" + 0.011*\"expected\" + 0.011*\"first\" + 0.010*\"months\" + 0.010*\"three\"'),\n",
              " (2,\n",
              "  '0.060*\"cent\" + 0.021*\"growth\" + 0.020*\"headline\" + 0.019*\"also\" + 0.013*\"repo\" + 0.012*\"monetary\" + 0.012*\"policy\" + 0.010*\"fuel\" + 0.010*\"implementation\" + 0.008*\"adopted\"'),\n",
              " (3,\n",
              "  '0.029*\"per\" + 0.027*\"meeting\" + 0.024*\"global\" + 0.012*\"cpi\" + 0.011*\"domestic\" + 0.011*\"goods\" + 0.010*\"fuel\" + 0.010*\"could\" + 0.010*\"level\" + 0.007*\"outlook\"'),\n",
              " (4,\n",
              "  '0.031*\"march\" + 0.028*\"year\" + 0.027*\"inflation\" + 0.025*\"likely\" + 0.015*\"price\" + 0.014*\"sector\" + 0.013*\"industrial\" + 0.013*\"prices\" + 0.012*\"cent\" + 0.012*\"january\"'),\n",
              " (5,\n",
              "  '0.019*\"also\" + 0.016*\"impact\" + 0.014*\"economy\" + 0.014*\"since\" + 0.013*\"year\" + 0.013*\"cpi\" + 0.013*\"points\" + 0.013*\"risks\" + 0.012*\"excluding\" + 0.012*\"increase\"'),\n",
              " (6,\n",
              "  '0.043*\"food\" + 0.021*\"rate\" + 0.016*\"expected\" + 0.014*\"prices\" + 0.013*\"investment\" + 0.012*\"due\" + 0.012*\"months\" + 0.012*\"volatility\" + 0.007*\"trajectory\" + 0.007*\"economies\"'),\n",
              " (7,\n",
              "  '0.094*\"inflation\" + 0.036*\"per\" + 0.020*\"growth\" + 0.014*\"rising\" + 0.012*\"output\" + 0.010*\"estimates\" + 0.009*\"capital\" + 0.009*\"market\" + 0.009*\"reserve\" + 0.007*\"policy\"'),\n",
              " (8,\n",
              "  '0.058*\"inflation\" + 0.015*\"economic\" + 0.013*\"fiscal\" + 0.013*\"indian\" + 0.012*\"monetary\" + 0.012*\"outlook\" + 0.011*\"several\" + 0.010*\"basis\" + 0.010*\"index\" + 0.009*\"reserve\"'),\n",
              " (9,\n",
              "  '0.074*\"the\" + 0.042*\"prices\" + 0.023*\"activity\" + 0.017*\"growth\" + 0.016*\"statement\" + 0.015*\"high\" + 0.012*\"investment\" + 0.012*\"demand\" + 0.012*\"target\" + 0.011*\"production\"')]"
            ]
          },
          "metadata": {
            "tags": []
          },
          "execution_count": 26
        }
      ]
    },
    {
      "cell_type": "markdown",
      "metadata": {
        "id": "_OQtFDZjxXf8",
        "colab_type": "text"
      },
      "source": [
        "# LSI HDP"
      ]
    },
    {
      "cell_type": "code",
      "metadata": {
        "id": "TpUOU91vw6Eh",
        "colab_type": "code",
        "colab": {}
      },
      "source": [
        "lsi=  LsiModel(corpus=X, num_topics=n, id2word=dictionary,)\n",
        "hdp=  HdpModel(corpus=X, id2word=dictionary)"
      ],
      "execution_count": 0,
      "outputs": []
    },
    {
      "cell_type": "code",
      "metadata": {
        "id": "-lek99StzCOU",
        "colab_type": "code",
        "outputId": "6079e85e-b94c-4e1f-dbae-9ceb406667f7",
        "colab": {
          "base_uri": "https://localhost:8080/",
          "height": 207
        }
      },
      "source": [
        "lsi_words=[topic for topicid, topic in  lsi.show_topics() ]\n",
        "lsi_words"
      ],
      "execution_count": 28,
      "outputs": [
        {
          "output_type": "execute_result",
          "data": {
            "text/plain": [
              "['1.000*\"inflation\" + 0.000*\"ahead\" + 0.000*\"india\" + 0.000*\"basis\" + -0.000*\"banks\" + -0.000*\"billion\" + 0.000*\"state\" + 0.000*\"capital\" + 0.000*\"even\" + -0.000*\"data\"',\n",
              " '-1.000*\"the\" + -0.002*\"monsoon\" + 0.001*\"higher\" + 0.001*\"since\" + -0.001*\"remained\" + -0.001*\"continued\" + 0.001*\"gap\" + -0.001*\"decline\" + -0.001*\"rates\" + 0.001*\"pulses\"',\n",
              " '-1.000*\"per\" + 0.002*\"account\" + -0.001*\"three\" + 0.001*\"last\" + 0.001*\"medium\" + -0.001*\"expectations\" + -0.001*\"well\" + -0.001*\"current\" + -0.001*\"conditions\" + 0.001*\"vegetable\"',\n",
              " '1.000*\"cent\" + 0.002*\"moderated\" + -0.002*\"gap\" + 0.002*\"would\" + -0.002*\"well\" + 0.002*\"management\" + 0.002*\"uncertainty\" + 0.002*\"exports\" + -0.002*\"goods\" + -0.001*\"released\"',\n",
              " '1.000*\"growth\" + 0.002*\"based\" + 0.002*\"section\" + -0.002*\"however\" + 0.002*\"prices\" + 0.002*\"basis\" + 0.002*\"account\" + -0.002*\"term\" + -0.002*\"first\" + 0.001*\"resolution\"',\n",
              " '1.000*\"prices\" + 0.003*\"half\" + -0.002*\"basis\" + -0.002*\"factors\" + 0.002*\"repo\" + 0.002*\"consumer\" + 0.002*\"current\" + -0.002*\"continued\" + -0.002*\"growth\" + 0.002*\"medium\"',\n",
              " '-1.000*\"february\" + 0.006*\"policy\" + -0.004*\"term\" + -0.004*\"index\" + 0.003*\"crude\" + 0.003*\"resolution\" + -0.003*\"increase\" + -0.003*\"this\" + 0.003*\"goods\" + -0.003*\"three\"',\n",
              " '1.000*\"policy\" + 0.006*\"february\" + -0.005*\"state\" + 0.005*\"last\" + -0.004*\"one\" + 0.004*\"points\" + -0.004*\"consumer\" + -0.003*\"gdp\" + 0.003*\"pulses\" + 0.003*\"exports\"',\n",
              " '0.999*\"food\" + -0.012*\"year\" + 0.007*\"basis\" + -0.007*\"pressures\" + -0.007*\"consumer\" + -0.006*\"round\" + 0.006*\"government\" + 0.006*\"trajectory\" + -0.006*\"demonetisation\" + -0.006*\"pmi\"',\n",
              " '-0.999*\"year\" + -0.012*\"food\" + 0.008*\"capital\" + 0.007*\"there\" + 0.007*\"last\" + 0.007*\"survey\" + -0.006*\"one\" + -0.006*\"half\" + -0.006*\"central\" + -0.006*\"recovery\"']"
            ]
          },
          "metadata": {
            "tags": []
          },
          "execution_count": 28
        }
      ]
    },
    {
      "cell_type": "code",
      "metadata": {
        "id": "FD73TPrd0LCb",
        "colab_type": "code",
        "outputId": "5c3e2b95-4780-4b65-ee15-4ccf70be1333",
        "colab": {
          "base_uri": "https://localhost:8080/",
          "height": 207
        }
      },
      "source": [
        "hdp_words=[topic for topicid, topic in  lsi.show_topics() ]\n",
        "hdp_words"
      ],
      "execution_count": 29,
      "outputs": [
        {
          "output_type": "execute_result",
          "data": {
            "text/plain": [
              "['1.000*\"inflation\" + 0.000*\"ahead\" + 0.000*\"india\" + 0.000*\"basis\" + -0.000*\"banks\" + -0.000*\"billion\" + 0.000*\"state\" + 0.000*\"capital\" + 0.000*\"even\" + -0.000*\"data\"',\n",
              " '-1.000*\"the\" + -0.002*\"monsoon\" + 0.001*\"higher\" + 0.001*\"since\" + -0.001*\"remained\" + -0.001*\"continued\" + 0.001*\"gap\" + -0.001*\"decline\" + -0.001*\"rates\" + 0.001*\"pulses\"',\n",
              " '-1.000*\"per\" + 0.002*\"account\" + -0.001*\"three\" + 0.001*\"last\" + 0.001*\"medium\" + -0.001*\"expectations\" + -0.001*\"well\" + -0.001*\"current\" + -0.001*\"conditions\" + 0.001*\"vegetable\"',\n",
              " '1.000*\"cent\" + 0.002*\"moderated\" + -0.002*\"gap\" + 0.002*\"would\" + -0.002*\"well\" + 0.002*\"management\" + 0.002*\"uncertainty\" + 0.002*\"exports\" + -0.002*\"goods\" + -0.001*\"released\"',\n",
              " '1.000*\"growth\" + 0.002*\"based\" + 0.002*\"section\" + -0.002*\"however\" + 0.002*\"prices\" + 0.002*\"basis\" + 0.002*\"account\" + -0.002*\"term\" + -0.002*\"first\" + 0.001*\"resolution\"',\n",
              " '1.000*\"prices\" + 0.003*\"half\" + -0.002*\"basis\" + -0.002*\"factors\" + 0.002*\"repo\" + 0.002*\"consumer\" + 0.002*\"current\" + -0.002*\"continued\" + -0.002*\"growth\" + 0.002*\"medium\"',\n",
              " '-1.000*\"february\" + 0.006*\"policy\" + -0.004*\"term\" + -0.004*\"index\" + 0.003*\"crude\" + 0.003*\"resolution\" + -0.003*\"increase\" + -0.003*\"this\" + 0.003*\"goods\" + -0.003*\"three\"',\n",
              " '1.000*\"policy\" + 0.006*\"february\" + -0.005*\"state\" + 0.005*\"last\" + -0.004*\"one\" + 0.004*\"points\" + -0.004*\"consumer\" + -0.003*\"gdp\" + 0.003*\"pulses\" + 0.003*\"exports\"',\n",
              " '0.999*\"food\" + -0.012*\"year\" + 0.007*\"basis\" + -0.007*\"pressures\" + -0.007*\"consumer\" + -0.006*\"round\" + 0.006*\"government\" + 0.006*\"trajectory\" + -0.006*\"demonetisation\" + -0.006*\"pmi\"',\n",
              " '-0.999*\"year\" + -0.012*\"food\" + 0.008*\"capital\" + 0.007*\"there\" + 0.007*\"last\" + 0.007*\"survey\" + -0.006*\"one\" + -0.006*\"half\" + -0.006*\"central\" + -0.006*\"recovery\"']"
            ]
          },
          "metadata": {
            "tags": []
          },
          "execution_count": 29
        }
      ]
    },
    {
      "cell_type": "code",
      "metadata": {
        "id": "cc2w7Qhl-8VN",
        "colab_type": "code",
        "colab": {}
      },
      "source": [
        "\n",
        "ldatopics_word = [[word for word, prob in topic] for topicid, topic in lda.show_topics(formatted=False)]\n",
        "\n",
        "\n",
        "col=[]\n",
        "a='Topic-'\n",
        "c=''\n",
        "for i in range(n):\n",
        "  c+=a+str(i+1)\n",
        "  col.append(c)\n",
        "  c=''\n",
        "\n",
        "len(col),len(ldatopics_word)\n",
        "\n",
        "#topic_df=pd.DataFrame(data=ldatopics_word,columns=col)\n",
        "topic_df=pd.DataFrame(data=ldatopics_word,index=col)"
      ],
      "execution_count": 0,
      "outputs": []
    },
    {
      "cell_type": "code",
      "metadata": {
        "id": "35my6PbBrFJ9",
        "colab_type": "code",
        "colab": {}
      },
      "source": [
        "topic_df_T=topic_df.T"
      ],
      "execution_count": 0,
      "outputs": []
    },
    {
      "cell_type": "markdown",
      "metadata": {
        "id": "_wOIWvEdmAV3",
        "colab_type": "text"
      },
      "source": [
        "**Adding New File**"
      ]
    },
    {
      "cell_type": "code",
      "metadata": {
        "id": "Cjw-FqLTeQJ_",
        "colab_type": "code",
        "colab": {}
      },
      "source": [
        "\n",
        "new_file=open('Apr-20.PDF','rb')\n",
        "pdfReader = PyPDF2.PdfFileReader(new_file)\n",
        "n1=pdfReader.numPages\n",
        "\n",
        "new_file_pg=[]\n",
        "for i in range(n1):\n",
        "    pageObj = pdfReader.getPage(i)\n",
        "    a=pageObj.extractText()\n",
        "    new_file_pg.append(a)\n",
        "\n",
        "#new_file_pg[:3]"
      ],
      "execution_count": 0,
      "outputs": []
    },
    {
      "cell_type": "code",
      "metadata": {
        "id": "u4piBgjnlO0S",
        "colab_type": "code",
        "colab": {}
      },
      "source": [
        "new_token=[]\n",
        "x=[]\n",
        "for i in new_file_pg:\n",
        "    token=tokenizer.tokenize(i)\n",
        "    token=[i for i in token if(not(str(i).isdigit() or not(str(i).isalpha())) and len(str(i)) > 2 )]\n",
        "    token=[i.lower() for i in token if( i not in en_stop)]\n",
        "    x.extend(token)\n",
        "  \n",
        "    new_token.extend(x)\n",
        "\n",
        "\n",
        "Z=[dictionary.doc2bow([sents]) for sents in new_token]"
      ],
      "execution_count": 0,
      "outputs": []
    },
    {
      "cell_type": "code",
      "metadata": {
        "id": "BsMfk8whmLzl",
        "colab_type": "code",
        "colab": {}
      },
      "source": [
        "newlda=lda1[Z]\n"
      ],
      "execution_count": 0,
      "outputs": []
    },
    {
      "cell_type": "code",
      "metadata": {
        "id": "xpy3KcCitkQi",
        "colab_type": "code",
        "outputId": "1d0dc756-35df-492c-b6b3-3f0a2a487716",
        "colab": {
          "base_uri": "https://localhost:8080/",
          "height": 34
        }
      },
      "source": [
        "len(Z)"
      ],
      "execution_count": 35,
      "outputs": [
        {
          "output_type": "execute_result",
          "data": {
            "text/plain": [
              "32176"
            ]
          },
          "metadata": {
            "tags": []
          },
          "execution_count": 35
        }
      ]
    },
    {
      "cell_type": "code",
      "metadata": {
        "id": "ydLa9BErqYl-",
        "colab_type": "code",
        "colab": {}
      },
      "source": [
        "new_topic=[]\n",
        "for topic in newlda:\n",
        "  #new_topic.append(prob)\n",
        "  new_topic.append(topic)"
      ],
      "execution_count": 0,
      "outputs": []
    },
    {
      "cell_type": "code",
      "metadata": {
        "id": "Q8c-8HHwrhK0",
        "colab_type": "code",
        "outputId": "51020fbe-48b7-4f1a-faee-a04c95771d6e",
        "colab": {
          "base_uri": "https://localhost:8080/",
          "height": 34
        }
      },
      "source": [
        "len(new_topic),type(new_topic[0])#,new_topic[:2]"
      ],
      "execution_count": 37,
      "outputs": [
        {
          "output_type": "execute_result",
          "data": {
            "text/plain": [
              "(32176, list)"
            ]
          },
          "metadata": {
            "tags": []
          },
          "execution_count": 37
        }
      ]
    },
    {
      "cell_type": "code",
      "metadata": {
        "id": "_xNuOkmLmT9r",
        "colab_type": "code",
        "outputId": "6242e7d4-cdec-4162-af16-91812dd6d147",
        "colab": {
          "base_uri": "https://localhost:8080/",
          "height": 34
        }
      },
      "source": [
        "lda1.get_document_topics(Z,per_word_topics=True)"
      ],
      "execution_count": 38,
      "outputs": [
        {
          "output_type": "execute_result",
          "data": {
            "text/plain": [
              "<gensim.interfaces.TransformedCorpus at 0x7fdab1163d30>"
            ]
          },
          "metadata": {
            "tags": []
          },
          "execution_count": 38
        }
      ]
    },
    {
      "cell_type": "markdown",
      "metadata": {
        "id": "1mYZ4hnJtDUm",
        "colab_type": "text"
      },
      "source": [
        "# Evaluating Model: Topic Wise\n"
      ]
    },
    {
      "cell_type": "code",
      "metadata": {
        "id": "h4-cAoWxRgkE",
        "colab_type": "code",
        "colab": {}
      },
      "source": [
        "tk=[[i] for i in tokens]\n",
        "ldatopics = [[word for word, prob in topic] for topicid, topic in lda.show_topics(formatted=False)]\n",
        "lda_coherence = CoherenceModel(topics=ldatopics, texts=tk, dictionary=dictionary, window_size=10).get_coherence()\n",
        "#lda_coherence"
      ],
      "execution_count": 0,
      "outputs": []
    },
    {
      "cell_type": "code",
      "metadata": {
        "id": "p7oeEntDwtTP",
        "colab_type": "code",
        "colab": {}
      },
      "source": [
        "\n",
        "tk=[[i] for i in tokens]\n",
        "lsitopics = [[word for word, prob in topic] for topicid, topic in lsi.show_topics(formatted=False)]\n",
        "hdptopics = [[word for word, prob in topic] for topicid, topic in hdp.show_topics(formatted=False)]\n",
        "\n",
        "for i in range(n):\n",
        "  lda=LdaMulticore(X,num_topics=n,id2word=dictionary,workers=8)\n",
        "  ldatopics = [[word for word, prob in topic] for topicid, topic in lda.show_topics(formatted=False)]\n",
        "  lda_coherence = CoherenceModel(topics=ldatopics, texts=tk, dictionary=dictionary, window_size=10).get_coherence()\n",
        "  #coherence_score.append(lda_coherence)\n",
        "\n"
      ],
      "execution_count": 0,
      "outputs": []
    },
    {
      "cell_type": "markdown",
      "metadata": {
        "id": "T76g6TUJ7lHZ",
        "colab_type": "text"
      },
      "source": [
        "Coherence Score"
      ]
    },
    {
      "cell_type": "code",
      "metadata": {
        "id": "m9d9onMR6Q7L",
        "colab_type": "code",
        "outputId": "160f6490-f826-45c2-f8a4-84ab328a571c",
        "colab": {
          "base_uri": "https://localhost:8080/",
          "height": 34
        }
      },
      "source": [
        "coherence_score=[]\n",
        "\n",
        "lda_coherence = CoherenceModel(topics=ldatopics, texts=tk, dictionary=dictionary, window_size=10).get_coherence()\n",
        "lsi_coherence = CoherenceModel(topics=lsitopics[:10], texts=tk, dictionary=dictionary, window_size=10).get_coherence()\n",
        "hdp_coherence = CoherenceModel(topics=hdptopics[:10], texts=tk, dictionary=dictionary, window_size=10).get_coherence()\n",
        "\n",
        "\n",
        "coherence_score.append(lda_coherence)\n",
        "coherence_score.append(lsi_coherence)\n",
        "coherence_score.append(hdp_coherence)\n",
        "\n",
        "coherence_score"
      ],
      "execution_count": 41,
      "outputs": [
        {
          "output_type": "execute_result",
          "data": {
            "text/plain": [
              "[0.7157394118032777, 0.7085739094883746, 0.8209106075152416]"
            ]
          },
          "metadata": {
            "tags": []
          },
          "execution_count": 41
        }
      ]
    },
    {
      "cell_type": "code",
      "metadata": {
        "id": "ybWA1tkm8OAB",
        "colab_type": "code",
        "outputId": "d200634d-238e-4660-924f-b0289caba900",
        "colab": {
          "base_uri": "https://localhost:8080/",
          "height": 279
        }
      },
      "source": [
        "def evaluate_bar_graph(coherences, indices):\n",
        "    assert len(coherences) == len(indices)\n",
        "    n = len(coherences)\n",
        "    x = np.arange(n)\n",
        "    plt.bar(x, coherences, width=0.2, tick_label=indices, align='center')\n",
        "    plt.xlabel('Models')\n",
        "    plt.ylabel('Coherence Value')\n",
        "\n",
        "\n",
        "\n",
        "evaluate_bar_graph([lsi_coherence, hdp_coherence, lda_coherence],\n",
        "                   ['LSI', 'HDP', 'LDA'])\n",
        "best_score=max(coherence_score)\n",
        "i=coherence_score.index(best_score)"
      ],
      "execution_count": 42,
      "outputs": [
        {
          "output_type": "display_data",
          "data": {
            "image/png": "[encoded data removed]",
            "text/plain": [
              "<Figure size 432x288 with 1 Axes>"
            ]
          },
          "metadata": {
            "tags": [],
            "needs_background": "light"
          }
        }
      ]
    },
    {
      "cell_type": "markdown",
      "metadata": {
        "id": "21WUsI5yqn9d",
        "colab_type": "text"
      },
      "source": [
        "Data Frames for different Models"
      ]
    },
    {
      "cell_type": "code",
      "metadata": {
        "id": "LU1sOBljqcAA",
        "colab_type": "code",
        "colab": {}
      },
      "source": [
        "#LDA Data Frame\n",
        "ldatopics = [[word for word, prob in topic] for topicid, topic in lda.show_topics(formatted=False)]\n",
        "col_lda=[]\n",
        "a='Topic'\n",
        "for i in range(len(ldatopics)):\n",
        "  col_lda.append(a+str(i+1))\n",
        "\n",
        "topic_df_lda=pd.DataFrame(data=ldatopics,index=col_lda)\n",
        "topic_df_T_lda=topic_df_lda.T\n",
        "\n",
        "#LSI Data Frame\n",
        "lsitopics = [[word for word, prob in topic] for topicid, topic in lsi.show_topics(formatted=False)]\n",
        "col_lsi=[]\n",
        "a='Topic'\n",
        "for i in range(len(lsitopics)):\n",
        "  col_lsi.append(a+str(i+1))\n",
        "  \n",
        "topic_df_lsi=pd.DataFrame(data=lsitopics,index=col_lsi)\n",
        "topic_df_T_lsi=topic_df_lsi.T\n",
        "\n",
        "#HDP Data Frame\n",
        "hdptopics = [[word for word, prob in topic] for topicid, topic in hdp.show_topics(formatted=False)]\n",
        "col_hdp=[]\n",
        "a='Topic'\n",
        "for i in range(len(hdptopics)):\n",
        "  col_hdp.append(a+str(i+1))\n",
        "topic_df_hdp=pd.DataFrame(data=hdptopics,index=col_hdp)\n",
        "topic_df_T_hdp=topic_df_hdp.T\n"
      ],
      "execution_count": 0,
      "outputs": []
    },
    {
      "cell_type": "code",
      "metadata": {
        "id": "MiQJwgbj_oJv",
        "colab_type": "code",
        "outputId": "85440f90-4984-41b9-912d-66df30365218",
        "colab": {
          "base_uri": "https://localhost:8080/",
          "height": 204
        }
      },
      "source": [
        "topic_df_T_lda.head()"
      ],
      "execution_count": 57,
      "outputs": [
        {
          "output_type": "execute_result",
          "data": {
            "text/html": [
              "<div>\n",
              "<style scoped>\n",
              "    .dataframe tbody tr th:only-of-type {\n",
              "        vertical-align: middle;\n",
              "    }\n",
              "\n",
              "    .dataframe tbody tr th {\n",
              "        vertical-align: top;\n",
              "    }\n",
              "\n",
              "    .dataframe thead th {\n",
              "        text-align: right;\n",
              "    }\n",
              "</style>\n",
              "<table border=\"1\" class=\"dataframe\">\n",
              "  <thead>\n",
              "    <tr style=\"text-align: right;\">\n",
              "      <th></th>\n",
              "      <th>Topic1</th>\n",
              "      <th>Topic2</th>\n",
              "      <th>Topic3</th>\n",
              "      <th>Topic4</th>\n",
              "      <th>Topic5</th>\n",
              "      <th>Topic6</th>\n",
              "      <th>Topic7</th>\n",
              "      <th>Topic8</th>\n",
              "      <th>Topic9</th>\n",
              "      <th>Topic10</th>\n",
              "    </tr>\n",
              "  </thead>\n",
              "  <tbody>\n",
              "    <tr>\n",
              "      <th>0</th>\n",
              "      <td>february</td>\n",
              "      <td>meeting</td>\n",
              "      <td>year</td>\n",
              "      <td>inflation</td>\n",
              "      <td>year</td>\n",
              "      <td>the</td>\n",
              "      <td>growth</td>\n",
              "      <td>inflation</td>\n",
              "      <td>cent</td>\n",
              "      <td>impact</td>\n",
              "    </tr>\n",
              "    <tr>\n",
              "      <th>1</th>\n",
              "      <td>bank</td>\n",
              "      <td>monetary</td>\n",
              "      <td>also</td>\n",
              "      <td>prices</td>\n",
              "      <td>several</td>\n",
              "      <td>domestic</td>\n",
              "      <td>per</td>\n",
              "      <td>rate</td>\n",
              "      <td>march</td>\n",
              "      <td>due</td>\n",
              "    </tr>\n",
              "    <tr>\n",
              "      <th>2</th>\n",
              "      <td>january</td>\n",
              "      <td>policy</td>\n",
              "      <td>headline</td>\n",
              "      <td>policy</td>\n",
              "      <td>excluding</td>\n",
              "      <td>february</td>\n",
              "      <td>cpi</td>\n",
              "      <td>reserve</td>\n",
              "      <td>investment</td>\n",
              "      <td>prices</td>\n",
              "    </tr>\n",
              "    <tr>\n",
              "      <th>3</th>\n",
              "      <td>production</td>\n",
              "      <td>output</td>\n",
              "      <td>inflation</td>\n",
              "      <td>second</td>\n",
              "      <td>around</td>\n",
              "      <td>policy</td>\n",
              "      <td>inflation</td>\n",
              "      <td>risks</td>\n",
              "      <td>food</td>\n",
              "      <td>global</td>\n",
              "    </tr>\n",
              "    <tr>\n",
              "      <th>4</th>\n",
              "      <td>growth</td>\n",
              "      <td>month</td>\n",
              "      <td>well</td>\n",
              "      <td>activity</td>\n",
              "      <td>output</td>\n",
              "      <td>section</td>\n",
              "      <td>cent</td>\n",
              "      <td>target</td>\n",
              "      <td>trade</td>\n",
              "      <td>level</td>\n",
              "    </tr>\n",
              "  </tbody>\n",
              "</table>\n",
              "</div>"
            ],
            "text/plain": [
              "       Topic1    Topic2     Topic3  ...     Topic8      Topic9 Topic10\n",
              "0    february   meeting       year  ...  inflation        cent  impact\n",
              "1        bank  monetary       also  ...       rate       march     due\n",
              "2     january    policy   headline  ...    reserve  investment  prices\n",
              "3  production    output  inflation  ...      risks        food  global\n",
              "4      growth     month       well  ...     target       trade   level\n",
              "\n",
              "[5 rows x 10 columns]"
            ]
          },
          "metadata": {
            "tags": []
          },
          "execution_count": 57
        }
      ]
    },
    {
      "cell_type": "code",
      "metadata": {
        "id": "D4lA4Hifq-JM",
        "colab_type": "code",
        "colab": {
          "base_uri": "https://localhost:8080/",
          "height": 204
        },
        "outputId": "7e8a507e-fe59-4fe4-d7ce-7124f357c017"
      },
      "source": [
        "topic_df_T_lsi.head()"
      ],
      "execution_count": 58,
      "outputs": [
        {
          "output_type": "execute_result",
          "data": {
            "text/html": [
              "<div>\n",
              "<style scoped>\n",
              "    .dataframe tbody tr th:only-of-type {\n",
              "        vertical-align: middle;\n",
              "    }\n",
              "\n",
              "    .dataframe tbody tr th {\n",
              "        vertical-align: top;\n",
              "    }\n",
              "\n",
              "    .dataframe thead th {\n",
              "        text-align: right;\n",
              "    }\n",
              "</style>\n",
              "<table border=\"1\" class=\"dataframe\">\n",
              "  <thead>\n",
              "    <tr style=\"text-align: right;\">\n",
              "      <th></th>\n",
              "      <th>Topic1</th>\n",
              "      <th>Topic2</th>\n",
              "      <th>Topic3</th>\n",
              "      <th>Topic4</th>\n",
              "      <th>Topic5</th>\n",
              "      <th>Topic6</th>\n",
              "      <th>Topic7</th>\n",
              "      <th>Topic8</th>\n",
              "      <th>Topic9</th>\n",
              "      <th>Topic10</th>\n",
              "    </tr>\n",
              "  </thead>\n",
              "  <tbody>\n",
              "    <tr>\n",
              "      <th>0</th>\n",
              "      <td>inflation</td>\n",
              "      <td>the</td>\n",
              "      <td>per</td>\n",
              "      <td>cent</td>\n",
              "      <td>growth</td>\n",
              "      <td>prices</td>\n",
              "      <td>february</td>\n",
              "      <td>policy</td>\n",
              "      <td>food</td>\n",
              "      <td>year</td>\n",
              "    </tr>\n",
              "    <tr>\n",
              "      <th>1</th>\n",
              "      <td>ahead</td>\n",
              "      <td>monsoon</td>\n",
              "      <td>account</td>\n",
              "      <td>moderated</td>\n",
              "      <td>based</td>\n",
              "      <td>half</td>\n",
              "      <td>policy</td>\n",
              "      <td>february</td>\n",
              "      <td>year</td>\n",
              "      <td>food</td>\n",
              "    </tr>\n",
              "    <tr>\n",
              "      <th>2</th>\n",
              "      <td>india</td>\n",
              "      <td>higher</td>\n",
              "      <td>three</td>\n",
              "      <td>gap</td>\n",
              "      <td>section</td>\n",
              "      <td>basis</td>\n",
              "      <td>term</td>\n",
              "      <td>state</td>\n",
              "      <td>basis</td>\n",
              "      <td>capital</td>\n",
              "    </tr>\n",
              "    <tr>\n",
              "      <th>3</th>\n",
              "      <td>basis</td>\n",
              "      <td>since</td>\n",
              "      <td>last</td>\n",
              "      <td>would</td>\n",
              "      <td>however</td>\n",
              "      <td>factors</td>\n",
              "      <td>index</td>\n",
              "      <td>last</td>\n",
              "      <td>pressures</td>\n",
              "      <td>there</td>\n",
              "    </tr>\n",
              "    <tr>\n",
              "      <th>4</th>\n",
              "      <td>banks</td>\n",
              "      <td>remained</td>\n",
              "      <td>medium</td>\n",
              "      <td>well</td>\n",
              "      <td>prices</td>\n",
              "      <td>repo</td>\n",
              "      <td>crude</td>\n",
              "      <td>one</td>\n",
              "      <td>consumer</td>\n",
              "      <td>last</td>\n",
              "    </tr>\n",
              "  </tbody>\n",
              "</table>\n",
              "</div>"
            ],
            "text/plain": [
              "      Topic1    Topic2   Topic3  ...    Topic8     Topic9  Topic10\n",
              "0  inflation       the      per  ...    policy       food     year\n",
              "1      ahead   monsoon  account  ...  february       year     food\n",
              "2      india    higher    three  ...     state      basis  capital\n",
              "3      basis     since     last  ...      last  pressures    there\n",
              "4      banks  remained   medium  ...       one   consumer     last\n",
              "\n",
              "[5 rows x 10 columns]"
            ]
          },
          "metadata": {
            "tags": []
          },
          "execution_count": 58
        }
      ]
    },
    {
      "cell_type": "code",
      "metadata": {
        "id": "wIubZmTmrBpK",
        "colab_type": "code",
        "colab": {
          "base_uri": "https://localhost:8080/",
          "height": 224
        },
        "outputId": "b630a59a-e6e2-4a45-ca6f-ed76fa33a724"
      },
      "source": [
        "topic_df_T_hdp.head()"
      ],
      "execution_count": 59,
      "outputs": [
        {
          "output_type": "execute_result",
          "data": {
            "text/html": [
              "<div>\n",
              "<style scoped>\n",
              "    .dataframe tbody tr th:only-of-type {\n",
              "        vertical-align: middle;\n",
              "    }\n",
              "\n",
              "    .dataframe tbody tr th {\n",
              "        vertical-align: top;\n",
              "    }\n",
              "\n",
              "    .dataframe thead th {\n",
              "        text-align: right;\n",
              "    }\n",
              "</style>\n",
              "<table border=\"1\" class=\"dataframe\">\n",
              "  <thead>\n",
              "    <tr style=\"text-align: right;\">\n",
              "      <th></th>\n",
              "      <th>Topic1</th>\n",
              "      <th>Topic2</th>\n",
              "      <th>Topic3</th>\n",
              "      <th>Topic4</th>\n",
              "      <th>Topic5</th>\n",
              "      <th>Topic6</th>\n",
              "      <th>Topic7</th>\n",
              "      <th>Topic8</th>\n",
              "      <th>Topic9</th>\n",
              "      <th>Topic10</th>\n",
              "      <th>Topic11</th>\n",
              "      <th>Topic12</th>\n",
              "      <th>Topic13</th>\n",
              "      <th>Topic14</th>\n",
              "      <th>Topic15</th>\n",
              "      <th>Topic16</th>\n",
              "      <th>Topic17</th>\n",
              "      <th>Topic18</th>\n",
              "      <th>Topic19</th>\n",
              "      <th>Topic20</th>\n",
              "    </tr>\n",
              "  </thead>\n",
              "  <tbody>\n",
              "    <tr>\n",
              "      <th>0</th>\n",
              "      <td>multilateral</td>\n",
              "      <td>iima</td>\n",
              "      <td>fell</td>\n",
              "      <td>upward</td>\n",
              "      <td>order</td>\n",
              "      <td>action</td>\n",
              "      <td>listed</td>\n",
              "      <td>balance</td>\n",
              "      <td>realisation</td>\n",
              "      <td>accele</td>\n",
              "      <td>weaker</td>\n",
              "      <td>compared</td>\n",
              "      <td>tourist</td>\n",
              "      <td>footing</td>\n",
              "      <td>upwards</td>\n",
              "      <td>publish</td>\n",
              "      <td>impede</td>\n",
              "      <td>procurement</td>\n",
              "      <td>uffer</td>\n",
              "      <td>currency</td>\n",
              "    </tr>\n",
              "    <tr>\n",
              "      <th>1</th>\n",
              "      <td>steadily</td>\n",
              "      <td>commitment</td>\n",
              "      <td>commencing</td>\n",
              "      <td>prefer</td>\n",
              "      <td>unsurprising</td>\n",
              "      <td>voting</td>\n",
              "      <td>authorities</td>\n",
              "      <td>hra</td>\n",
              "      <td>efficiency</td>\n",
              "      <td>course</td>\n",
              "      <td>olakia</td>\n",
              "      <td>turbulence</td>\n",
              "      <td>announcements</td>\n",
              "      <td>stronger</td>\n",
              "      <td>assets</td>\n",
              "      <td>achievement</td>\n",
              "      <td>omestic</td>\n",
              "      <td>widely</td>\n",
              "      <td>mixed</td>\n",
              "      <td>distinctly</td>\n",
              "    </tr>\n",
              "    <tr>\n",
              "      <th>2</th>\n",
              "      <td>components</td>\n",
              "      <td>entrenched</td>\n",
              "      <td>indicators</td>\n",
              "      <td>ool</td>\n",
              "      <td>micro</td>\n",
              "      <td>managing</td>\n",
              "      <td>lakh</td>\n",
              "      <td>therwise</td>\n",
              "      <td>raw</td>\n",
              "      <td>light</td>\n",
              "      <td>transmission</td>\n",
              "      <td>may</td>\n",
              "      <td>adjusted</td>\n",
              "      <td>awaited</td>\n",
              "      <td>penetrate</td>\n",
              "      <td>futur</td>\n",
              "      <td>announcements</td>\n",
              "      <td>overnments</td>\n",
              "      <td>container</td>\n",
              "      <td>persistent</td>\n",
              "    </tr>\n",
              "    <tr>\n",
              "      <th>3</th>\n",
              "      <td>intra</td>\n",
              "      <td>ture</td>\n",
              "      <td>easing</td>\n",
              "      <td>centre</td>\n",
              "      <td>assets</td>\n",
              "      <td>zable</td>\n",
              "      <td>tide</td>\n",
              "      <td>turn</td>\n",
              "      <td>significantly</td>\n",
              "      <td>intended</td>\n",
              "      <td>distended</td>\n",
              "      <td>ago</td>\n",
              "      <td>dholakia</td>\n",
              "      <td>readings</td>\n",
              "      <td>ordingly</td>\n",
              "      <td>picking</td>\n",
              "      <td>cso</td>\n",
              "      <td>ral</td>\n",
              "      <td>penetrate</td>\n",
              "      <td>estimates</td>\n",
              "    </tr>\n",
              "    <tr>\n",
              "      <th>4</th>\n",
              "      <td>calculations</td>\n",
              "      <td>reviewed</td>\n",
              "      <td>downside</td>\n",
              "      <td>vegetable</td>\n",
              "      <td>slower</td>\n",
              "      <td>specific</td>\n",
              "      <td>formula</td>\n",
              "      <td>pointing</td>\n",
              "      <td>today</td>\n",
              "      <td>new</td>\n",
              "      <td>while</td>\n",
              "      <td>utilisation</td>\n",
              "      <td>staggered</td>\n",
              "      <td>corridor</td>\n",
              "      <td>inched</td>\n",
              "      <td>minutes</td>\n",
              "      <td>vehicles</td>\n",
              "      <td>previous</td>\n",
              "      <td>timing</td>\n",
              "      <td>housing</td>\n",
              "    </tr>\n",
              "  </tbody>\n",
              "</table>\n",
              "</div>"
            ],
            "text/plain": [
              "         Topic1      Topic2      Topic3  ...      Topic18    Topic19     Topic20\n",
              "0  multilateral        iima        fell  ...  procurement      uffer    currency\n",
              "1      steadily  commitment  commencing  ...       widely      mixed  distinctly\n",
              "2    components  entrenched  indicators  ...   overnments  container  persistent\n",
              "3         intra        ture      easing  ...          ral  penetrate   estimates\n",
              "4  calculations    reviewed    downside  ...     previous     timing     housing\n",
              "\n",
              "[5 rows x 20 columns]"
            ]
          },
          "metadata": {
            "tags": []
          },
          "execution_count": 59
        }
      ]
    },
    {
      "cell_type": "markdown",
      "metadata": {
        "id": "Qf6WCPjt85I1",
        "colab_type": "text"
      },
      "source": [
        "# Evaluating Words in a Topic : Cosine scores."
      ]
    },
    {
      "cell_type": "code",
      "metadata": {
        "id": "ml6hY3is86p0",
        "colab_type": "code",
        "colab": {}
      },
      "source": [
        "#Dup_All_Docs=All_Docs[0]+All_Docs[1]\n",
        "Dup_All_Docs=[]\n",
        "for i in All_Docs:\n",
        "  Dup_All_Docs+=i\n",
        "\n",
        "df=[]"
      ],
      "execution_count": 0,
      "outputs": []
    },
    {
      "cell_type": "code",
      "metadata": {
        "id": "1aAKyW1w89RK",
        "colab_type": "code",
        "colab": {}
      },
      "source": [
        "for j in All_Docs:\n",
        "  for i in j:\n",
        "    df.append(i)\n"
      ],
      "execution_count": 0,
      "outputs": []
    },
    {
      "cell_type": "code",
      "metadata": {
        "id": "E60cQXDyxqVp",
        "colab_type": "code",
        "colab": {}
      },
      "source": [
        "from sklearn.feature_extraction.text import CountVectorizer\n",
        "vectoriser = CountVectorizer().fit(Dup_All_Docs)\n",
        "X = vectoriser.transform(Dup_All_Docs)\n",
        "df_vec=pd.DataFrame(X.A, columns=sorted(vectoriser.vocabulary_.keys(), key=lambda k: vectoriser.vocabulary_[k]))"
      ],
      "execution_count": 0,
      "outputs": []
    },
    {
      "cell_type": "code",
      "metadata": {
        "id": "cudihFWZ98yN",
        "colab_type": "code",
        "colab": {}
      },
      "source": [
        "df_page=pd.DataFrame(data=Dup_All_Docs)\n",
        "#df_page.head()"
      ],
      "execution_count": 0,
      "outputs": []
    },
    {
      "cell_type": "code",
      "metadata": {
        "id": "uR64ay5l-ZZX",
        "colab_type": "code",
        "outputId": "c19c5b87-9283-4660-9c8c-e9dc17e8ab1b",
        "colab": {
          "base_uri": "https://localhost:8080/",
          "height": 34
        }
      },
      "source": [
        "type(df),len(df)"
      ],
      "execution_count": 49,
      "outputs": [
        {
          "output_type": "execute_result",
          "data": {
            "text/plain": [
              "(list, 26)"
            ]
          },
          "metadata": {
            "tags": []
          },
          "execution_count": 49
        }
      ]
    },
    {
      "cell_type": "code",
      "metadata": {
        "id": "mia8W3xnqPY9",
        "colab_type": "code",
        "colab": {}
      },
      "source": [
        "word_data=[]\n",
        "\n",
        "for i in df:\n",
        "    token=tokenizer.tokenize(i)\n",
        "    token=[i for i in token if(not(str(i).isdigit() or not(str(i).isalpha())) and len(str(i)) > 2 )]\n",
        "    token=[i.lower() for i in token if( i not in en_stop)]\n",
        "    word_data.append(token)"
      ],
      "execution_count": 0,
      "outputs": []
    },
    {
      "cell_type": "code",
      "metadata": {
        "id": "trA3OsSh0p5-",
        "colab_type": "code",
        "colab": {}
      },
      "source": [
        "model1 = gensim.models.Word2Vec(word_data, min_count = 1,size = 100, window = 5) "
      ],
      "execution_count": 0,
      "outputs": []
    },
    {
      "cell_type": "code",
      "metadata": {
        "id": "fiWYfpUxqjrR",
        "colab_type": "code",
        "outputId": "2c862a7f-1a7d-4385-916b-3c4b1bc32600",
        "colab": {
          "base_uri": "https://localhost:8080/",
          "height": 359
        }
      },
      "source": [
        "topic_df_T"
      ],
      "execution_count": 52,
      "outputs": [
        {
          "output_type": "execute_result",
          "data": {
            "text/html": [
              "<div>\n",
              "<style scoped>\n",
              "    .dataframe tbody tr th:only-of-type {\n",
              "        vertical-align: middle;\n",
              "    }\n",
              "\n",
              "    .dataframe tbody tr th {\n",
              "        vertical-align: top;\n",
              "    }\n",
              "\n",
              "    .dataframe thead th {\n",
              "        text-align: right;\n",
              "    }\n",
              "</style>\n",
              "<table border=\"1\" class=\"dataframe\">\n",
              "  <thead>\n",
              "    <tr style=\"text-align: right;\">\n",
              "      <th></th>\n",
              "      <th>Topic1</th>\n",
              "      <th>Topic2</th>\n",
              "      <th>Topic3</th>\n",
              "      <th>Topic4</th>\n",
              "      <th>Topic5</th>\n",
              "      <th>Topic6</th>\n",
              "      <th>Topic7</th>\n",
              "      <th>Topic8</th>\n",
              "      <th>Topic9</th>\n",
              "      <th>Topic10</th>\n",
              "    </tr>\n",
              "  </thead>\n",
              "  <tbody>\n",
              "    <tr>\n",
              "      <th>0</th>\n",
              "      <td>inflation</td>\n",
              "      <td>the</td>\n",
              "      <td>per</td>\n",
              "      <td>cent</td>\n",
              "      <td>growth</td>\n",
              "      <td>prices</td>\n",
              "      <td>february</td>\n",
              "      <td>policy</td>\n",
              "      <td>food</td>\n",
              "      <td>year</td>\n",
              "    </tr>\n",
              "    <tr>\n",
              "      <th>1</th>\n",
              "      <td>ahead</td>\n",
              "      <td>monsoon</td>\n",
              "      <td>account</td>\n",
              "      <td>moderated</td>\n",
              "      <td>based</td>\n",
              "      <td>half</td>\n",
              "      <td>policy</td>\n",
              "      <td>february</td>\n",
              "      <td>year</td>\n",
              "      <td>food</td>\n",
              "    </tr>\n",
              "    <tr>\n",
              "      <th>2</th>\n",
              "      <td>india</td>\n",
              "      <td>higher</td>\n",
              "      <td>three</td>\n",
              "      <td>gap</td>\n",
              "      <td>section</td>\n",
              "      <td>basis</td>\n",
              "      <td>term</td>\n",
              "      <td>state</td>\n",
              "      <td>basis</td>\n",
              "      <td>capital</td>\n",
              "    </tr>\n",
              "    <tr>\n",
              "      <th>3</th>\n",
              "      <td>basis</td>\n",
              "      <td>since</td>\n",
              "      <td>last</td>\n",
              "      <td>would</td>\n",
              "      <td>however</td>\n",
              "      <td>factors</td>\n",
              "      <td>index</td>\n",
              "      <td>last</td>\n",
              "      <td>pressures</td>\n",
              "      <td>there</td>\n",
              "    </tr>\n",
              "    <tr>\n",
              "      <th>4</th>\n",
              "      <td>banks</td>\n",
              "      <td>remained</td>\n",
              "      <td>medium</td>\n",
              "      <td>well</td>\n",
              "      <td>prices</td>\n",
              "      <td>repo</td>\n",
              "      <td>crude</td>\n",
              "      <td>one</td>\n",
              "      <td>consumer</td>\n",
              "      <td>last</td>\n",
              "    </tr>\n",
              "    <tr>\n",
              "      <th>5</th>\n",
              "      <td>billion</td>\n",
              "      <td>continued</td>\n",
              "      <td>expectations</td>\n",
              "      <td>management</td>\n",
              "      <td>basis</td>\n",
              "      <td>consumer</td>\n",
              "      <td>resolution</td>\n",
              "      <td>points</td>\n",
              "      <td>round</td>\n",
              "      <td>survey</td>\n",
              "    </tr>\n",
              "    <tr>\n",
              "      <th>6</th>\n",
              "      <td>state</td>\n",
              "      <td>gap</td>\n",
              "      <td>well</td>\n",
              "      <td>uncertainty</td>\n",
              "      <td>account</td>\n",
              "      <td>current</td>\n",
              "      <td>increase</td>\n",
              "      <td>consumer</td>\n",
              "      <td>government</td>\n",
              "      <td>one</td>\n",
              "    </tr>\n",
              "    <tr>\n",
              "      <th>7</th>\n",
              "      <td>capital</td>\n",
              "      <td>decline</td>\n",
              "      <td>current</td>\n",
              "      <td>exports</td>\n",
              "      <td>term</td>\n",
              "      <td>continued</td>\n",
              "      <td>this</td>\n",
              "      <td>gdp</td>\n",
              "      <td>trajectory</td>\n",
              "      <td>half</td>\n",
              "    </tr>\n",
              "    <tr>\n",
              "      <th>8</th>\n",
              "      <td>even</td>\n",
              "      <td>rates</td>\n",
              "      <td>conditions</td>\n",
              "      <td>goods</td>\n",
              "      <td>first</td>\n",
              "      <td>growth</td>\n",
              "      <td>goods</td>\n",
              "      <td>pulses</td>\n",
              "      <td>demonetisation</td>\n",
              "      <td>central</td>\n",
              "    </tr>\n",
              "    <tr>\n",
              "      <th>9</th>\n",
              "      <td>data</td>\n",
              "      <td>pulses</td>\n",
              "      <td>vegetable</td>\n",
              "      <td>released</td>\n",
              "      <td>resolution</td>\n",
              "      <td>medium</td>\n",
              "      <td>three</td>\n",
              "      <td>exports</td>\n",
              "      <td>pmi</td>\n",
              "      <td>recovery</td>\n",
              "    </tr>\n",
              "  </tbody>\n",
              "</table>\n",
              "</div>"
            ],
            "text/plain": [
              "      Topic1     Topic2        Topic3  ...    Topic8          Topic9   Topic10\n",
              "0  inflation        the           per  ...    policy            food      year\n",
              "1      ahead    monsoon       account  ...  february            year      food\n",
              "2      india     higher         three  ...     state           basis   capital\n",
              "3      basis      since          last  ...      last       pressures     there\n",
              "4      banks   remained        medium  ...       one        consumer      last\n",
              "5    billion  continued  expectations  ...    points           round    survey\n",
              "6      state        gap          well  ...  consumer      government       one\n",
              "7    capital    decline       current  ...       gdp      trajectory      half\n",
              "8       even      rates    conditions  ...    pulses  demonetisation   central\n",
              "9       data     pulses     vegetable  ...   exports             pmi  recovery\n",
              "\n",
              "[10 rows x 10 columns]"
            ]
          },
          "metadata": {
            "tags": []
          },
          "execution_count": 52
        }
      ]
    },
    {
      "cell_type": "markdown",
      "metadata": {
        "id": "8jYMSc5eXlMd",
        "colab_type": "text"
      },
      "source": [
        "Calculating statistical significance through Cosine Similarity Score"
      ]
    },
    {
      "cell_type": "code",
      "metadata": {
        "id": "GfFIkqthshtv",
        "colab_type": "code",
        "colab": {}
      },
      "source": [
        "# List of topic wise words\n",
        "import statistics \n",
        "from scipy import stats\n",
        "from statistics import stdev\n",
        "\n",
        "ds=[]\n",
        "def statistical_signficance(topic_df_T,col,alpha,null_hyp):\n",
        "  #topics_df_T: Dataframe of words for any model\n",
        "  #col: Mtx with Topic Header, col[i]= Topic-i\n",
        "  #alpha: Critical p-Value for rejecting null hypothesis\n",
        "  #null_hyp: Value of mean for Null Hypothesis\n",
        "  Average_comparison=null_hyp\n",
        "  ds=[]\n",
        "  for i in range((len(col))) :\n",
        "    ds.append(list(topic_df_T[col[i]]))\n",
        "\n",
        "  ds# ds[i] is i-th list of Topic-i\n",
        "\n",
        "  simscore_topic=[]#initiating mtx for sim scores/cosine scores\n",
        "\n",
        "\n",
        "  for p in range(len(ds)):\n",
        "    k=len(ds[p])\n",
        "    o=0\n",
        "\n",
        "    sim=[]\n",
        "    simt=[]\n",
        "  \n",
        "    for i in range(k):\n",
        "      simt=[]\n",
        "      for j in range(k)  :\n",
        "        o=model1.similarity(ds[p][i],ds[p][j])\n",
        "        simt.append(o)\n",
        "\n",
        "      sim.append(simt)\n",
        "\n",
        "    simscore_topic.append(sim)\n",
        "# 3-D list, simscore_topic[i] is similarity scores for topic-i\n",
        "# simscore_topic[i][j] is list of similarity score of j-th word in i-th Topic with other words\n",
        "\n",
        "\n",
        "  \n",
        "  t_score_all=[]\n",
        "  p_value_all=[]\n",
        "  mean=0\n",
        "  sd=0\n",
        "\n",
        "  t_value=0\n",
        "  dup_score=[]\n",
        "  p=0\n",
        "  p_value=[]\n",
        "  t2=0\n",
        "  for i in range(len(ds)):\n",
        "    print(\"Topic-{}\".format(i))\n",
        "    t=[]\n",
        "    p_value_topic=[]\n",
        "    for j in range(len(ds[i])):         \n",
        "      dup_score=simscore_topic[i][j][:]    \n",
        "      dup_score.pop(j)# removing score of i-th element with itself which is=1\n",
        "      t2,p=stats.ttest_1samp(np.array(dup_score),popmean=Average_comparison)    \n",
        "      t.append(t2)\n",
        "      p_value_topic.append(p)\n",
        "      pass\n",
        "\n",
        "    t_score_all.append(t)\n",
        "    p_value_all.append(p_value_topic)\n",
        "  \n",
        "  word_to_remove=[] #initializing tuple to save topicid and word outside cluster\n",
        "  for i in range(len(p_value_all)):\n",
        "    word=[]\n",
        "    for j in range(len(p_value_all)):\n",
        "      if p_value_all[i][j]>= alpha:\n",
        "        word.append(ds[i][j])\n",
        "    \n",
        "    word_to_remove.append(word)\n",
        "\n",
        "\n",
        "\n",
        "\n",
        "  \n",
        "  return word_to_remove,ds   "
      ],
      "execution_count": 0,
      "outputs": []
    },
    {
      "cell_type": "code",
      "metadata": {
        "id": "6lBdY6cR0I4Y",
        "colab_type": "code",
        "colab": {}
      },
      "source": [
        ""
      ],
      "execution_count": 0,
      "outputs": []
    },
    {
      "cell_type": "code",
      "metadata": {
        "id": "IvpCixtzivKZ",
        "colab_type": "code",
        "colab": {}
      },
      "source": [
        "gbl = globals()\n",
        "\n",
        "\n",
        "#df_topic_name = ['SymbolA','SymbolB', 'SymbolC' .... 'SymbolN']\n",
        "\n",
        "for i in range(len(col)):   \n",
        "\n",
        "   gbl[str('df')+col[i]] = pd.DataFrame(simscore_topic[i],index=ds[i],columns=ds[i])\n",
        "   print(\"Similarity Scores matrix for Topic-{}\".format(i+1))\n",
        "   print(gbl[str('df')+col[i]])\n",
        "   print(\"\\n\\n\")"
      ],
      "execution_count": 0,
      "outputs": []
    },
    {
      "cell_type": "code",
      "metadata": {
        "id": "gDKj_j13jWyJ",
        "colab_type": "code",
        "colab": {}
      },
      "source": [
        "#Topic1_df=pd.DataFrame(simscore_topic[0],index=ds[0],columns=ds[0])\n",
        "gbl.items()"
      ],
      "execution_count": 0,
      "outputs": []
    },
    {
      "cell_type": "code",
      "metadata": {
        "id": "aJSHFanQtb7z",
        "colab_type": "code",
        "colab": {}
      },
      "source": [
        "gbl[Topic-1]"
      ],
      "execution_count": 0,
      "outputs": []
    }
  ]
}