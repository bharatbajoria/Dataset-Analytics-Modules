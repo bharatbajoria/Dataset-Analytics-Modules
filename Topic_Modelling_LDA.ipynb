{
  "nbformat": 4,
  "nbformat_minor": 0,
  "metadata": {
    "colab": {
      "name": "Topic Modelling - LDA.ipynb",
      "provenance": [],
      "collapsed_sections": [],
      "toc_visible": true,
      "authorship_tag": "ABX9TyNTu6+UdLrf+OMXExAxhBlY",
      "include_colab_link": true
    },
    "kernelspec": {
      "name": "python3",
      "display_name": "Python 3"
    }
  },
  "cells": [
    {
      "cell_type": "markdown",
      "metadata": {
        "id": "view-in-github",
        "colab_type": "text"
      },
      "source": [
        "<a href=\"https://colab.research.google.com/github/bharatbajoria/Summer-Internship/blob/master/Topic_Modelling_LDA.ipynb\" target=\"_parent\"><img src=\"https://colab.research.google.com/assets/colab-badge.svg\" alt=\"Open In Colab\"/></a>"
      ]
    },
    {
      "cell_type": "markdown",
      "metadata": {
        "id": "pDnh2YCh6hqd",
        "colab_type": "text"
      },
      "source": [
        "## PDF Reading"
      ]
    },
    {
      "cell_type": "code",
      "metadata": {
        "id": "wghEQ7A26vnU",
        "colab_type": "code",
        "outputId": "d614c6ea-3d50-4a52-cbfb-5f324503861e",
        "colab": {
          "base_uri": "https://localhost:8080/",
          "height": 207
        }
      },
      "source": [
        "pip install pyPDF2"
      ],
      "execution_count": 0,
      "outputs": [
        {
          "output_type": "stream",
          "text": [
            "Collecting pyPDF2\n",
            "\u001b[?25l  Downloading https://files.pythonhosted.org/packages/b4/01/68fcc0d43daf4c6bdbc6b33cc3f77bda531c86b174cac56ef0ffdb96faab/PyPDF2-1.26.0.tar.gz (77kB)\n",
            "\u001b[K     |████████████████████████████████| 81kB 2.2MB/s \n",
            "\u001b[?25hBuilding wheels for collected packages: pyPDF2\n",
            "  Building wheel for pyPDF2 (setup.py) ... \u001b[?25l\u001b[?25hdone\n",
            "  Created wheel for pyPDF2: filename=PyPDF2-1.26.0-cp36-none-any.whl size=61086 sha256=8a1a8208b60b6065aaeaaa88f1476d7591ec93359892150786287c53b0858397\n",
            "  Stored in directory: /root/.cache/pip/wheels/53/84/19/35bc977c8bf5f0c23a8a011aa958acd4da4bbd7a229315c1b7\n",
            "Successfully built pyPDF2\n",
            "Installing collected packages: pyPDF2\n",
            "Successfully installed pyPDF2-1.26.0\n"
          ],
          "name": "stdout"
        }
      ]
    },
    {
      "cell_type": "code",
      "metadata": {
        "id": "JCCjhlye691F",
        "colab_type": "code",
        "colab": {}
      },
      "source": [
        "import PyPDF2"
      ],
      "execution_count": 0,
      "outputs": []
    },
    {
      "cell_type": "markdown",
      "metadata": {
        "id": "k2kntpHSCqzA",
        "colab_type": "text"
      },
      "source": [
        "Taking inputs for training files"
      ]
    },
    {
      "cell_type": "code",
      "metadata": {
        "id": "0T3rV4tE6_7g",
        "colab_type": "code",
        "outputId": "7f968cbc-fbb0-4ace-c3fe-e7eced9b039c",
        "colab": {
          "base_uri": "https://localhost:8080/",
          "height": 119
        }
      },
      "source": [
        "#Taking file input for Training Model\n",
        "#number of files\n",
        "Number_Train_files=2\n",
        "\n",
        "file= open('Apr-18.PDF','rb')\n",
        "file1= open('Apr-17.PDF','rb')\n",
        "file_list=[]\n",
        "x=''\n",
        "\n",
        "for i in range(Number_Train_files):\n",
        "  print(\"\\nEnter File name\")\n",
        "  x=input()\n",
        "  file_list.append(x)"
      ],
      "execution_count": 0,
      "outputs": [
        {
          "output_type": "stream",
          "text": [
            "\n",
            "Enter File name\n",
            "Apr-17.PDF\n",
            "\n",
            "Enter File name\n",
            "Apr-18.PDF\n"
          ],
          "name": "stdout"
        }
      ]
    },
    {
      "cell_type": "markdown",
      "metadata": {
        "id": "eydWBK8RA8iW",
        "colab_type": "text"
      },
      "source": [
        "Taking inputs for Prediction: File Name"
      ]
    },
    {
      "cell_type": "code",
      "metadata": {
        "id": "MVAj_tBfA68B",
        "colab_type": "code",
        "outputId": "c36504cc-e993-43f3-8a7e-67fe47325c7e",
        "colab": {
          "base_uri": "https://localhost:8080/",
          "height": 85
        }
      },
      "source": [
        "Number_Prediction_files=1\n",
        "Prediction_files=[]\n",
        "\n",
        "x=''\n",
        "for i in range(Number_Prediction_files):\n",
        "  print(\"\\nEnter File name\")\n",
        "  x=input()\n",
        "  Prediction_files.append(x)\n",
        "\n",
        "Prediction_files\n"
      ],
      "execution_count": 0,
      "outputs": [
        {
          "output_type": "stream",
          "text": [
            "\n",
            "Enter File name\n",
            "Apr-20.PDF\n"
          ],
          "name": "stdout"
        },
        {
          "output_type": "execute_result",
          "data": {
            "text/plain": [
              "['Apr-20.PDF']"
            ]
          },
          "metadata": {
            "tags": []
          },
          "execution_count": 2
        }
      ]
    },
    {
      "cell_type": "code",
      "metadata": {
        "id": "auv9YvMuOJtC",
        "colab_type": "code",
        "outputId": "3f4a45e1-2796-41f0-bae7-1f195f0ac36e",
        "colab": {
          "base_uri": "https://localhost:8080/",
          "height": 85
        }
      },
      "source": [
        "print(\"\\nEnter Value of alpha\")\n",
        "#alpha1=input()# Statistical significance\n",
        "\n",
        "print(\"\\nEnter Null Hypothesis for Cosine Score, (should be +ve and between 0-1)\")\n",
        "#null_hyp1=input()# Ho: Average Score<=null_hyp"
      ],
      "execution_count": 0,
      "outputs": [
        {
          "output_type": "stream",
          "text": [
            "\n",
            "Enter Value of alpha\n",
            "\n",
            "Enter Null Hypothesis for Cosine Score, (should be +ve and between 0-1)\n"
          ],
          "name": "stdout"
        }
      ]
    },
    {
      "cell_type": "code",
      "metadata": {
        "id": "hAOpKwg9Bbej",
        "colab_type": "code",
        "colab": {}
      },
      "source": [
        "# Reading number of pages\n",
        "pages=[]\n",
        "\n",
        "for i in range(Number_Train_files):\n",
        "  pdfReader = PyPDF2.PdfFileReader(open(file_list[i],'rb'))\n",
        "  n1=pdfReader.numPages\n",
        "  pages.append(n1)"
      ],
      "execution_count": 0,
      "outputs": []
    },
    {
      "cell_type": "code",
      "metadata": {
        "id": "C8KxYqUEByoC",
        "colab_type": "code",
        "colab": {}
      },
      "source": [
        "# A list containing all files, All_Docs[i] is i-th file \n",
        "# All_Docs[i][j] is j-th page of i-th file\n",
        "All_Docs=[] \n",
        "\n",
        "for j in range(len(file_list)):\n",
        "  pdfReader = PyPDF2.PdfFileReader(open(file_list[j],'rb'))\n",
        "  file_text=[] #takes string of page text\n",
        "  for i in range(pages[j]):\n",
        "    pageObj = pdfReader.getPage(i)\n",
        "    a=pageObj.extractText()\n",
        "    file_text.append(a)\n",
        "  \n",
        "  All_Docs.append(file_text)"
      ],
      "execution_count": 0,
      "outputs": []
    },
    {
      "cell_type": "markdown",
      "metadata": {
        "id": "wOYeMBRtPUxA",
        "colab_type": "text"
      },
      "source": [
        "# Finding Optimal number of Clusters"
      ]
    },
    {
      "cell_type": "code",
      "metadata": {
        "id": "Ssl1uTyWPZZI",
        "colab_type": "code",
        "colab": {}
      },
      "source": [
        "Dup_All_Docs=All_Docs[:]"
      ],
      "execution_count": 0,
      "outputs": []
    },
    {
      "cell_type": "code",
      "metadata": {
        "id": "VWgumpDZPnOr",
        "colab_type": "code",
        "colab": {}
      },
      "source": [
        "import nltk\n",
        "from sklearn.cluster import KMeans\n",
        "from sklearn.feature_extraction.text import TfidfVectorizer\n",
        "from sklearn.metrics import silhouette_score\n",
        "\n",
        "import pandas as pd\n",
        "from nltk.tokenize import RegexpTokenizer\n",
        "#from stop_words import get_stop_words\n",
        "from nltk.stem.porter import PorterStemmer\n",
        "from gensim import corpora, models\n",
        "from nltk.corpus import stopwords\n",
        "import gensim\n",
        "\n",
        "from sklearn.cluster import KMeans\n",
        "from sklearn import metrics\n",
        "from scipy.spatial.distance import cdist\n",
        "import numpy as np\n"
      ],
      "execution_count": 0,
      "outputs": []
    },
    {
      "cell_type": "code",
      "metadata": {
        "id": "NjiL4AWGJY2j",
        "colab_type": "code",
        "outputId": "0ec8b296-feb4-4ad5-8363-b69e9f538665",
        "colab": {
          "base_uri": "https://localhost:8080/",
          "height": 68
        }
      },
      "source": [
        "nltk.download('stopwords')"
      ],
      "execution_count": 0,
      "outputs": [
        {
          "output_type": "stream",
          "text": [
            "[nltk_data] Downloading package stopwords to /root/nltk_data...\n",
            "[nltk_data]   Unzipping corpora/stopwords.zip.\n"
          ],
          "name": "stdout"
        },
        {
          "output_type": "execute_result",
          "data": {
            "text/plain": [
              "True"
            ]
          },
          "metadata": {
            "tags": []
          },
          "execution_count": 12
        }
      ]
    },
    {
      "cell_type": "code",
      "metadata": {
        "id": "2qSoEriVP0uH",
        "colab_type": "code",
        "colab": {}
      },
      "source": [
        "tokenizer = RegexpTokenizer(r'\\w+')\n",
        "en_stop = set(stopwords.words('english'))\n",
        "en_stop.add('the')#The is not in stopwords"
      ],
      "execution_count": 0,
      "outputs": []
    },
    {
      "cell_type": "code",
      "metadata": {
        "id": "VAJkRulAP9Kd",
        "colab_type": "code",
        "colab": {}
      },
      "source": [
        "tokens=[]#a list of tokens for input files\n",
        "\n",
        "for j in All_Docs:\n",
        "  x=[]\n",
        "  for i in j:\n",
        "    token=tokenizer.tokenize(i)\n",
        "    token=[i for i in token if(not(str(i).isdigit() or not(str(i).isalpha())) and len(str(i)) > 2 )]\n",
        "    token=[i.lower() for i in token if( i not in en_stop)]\n",
        "    x.extend(token)\n",
        "  \n",
        "  tokens.extend(x)"
      ],
      "execution_count": 0,
      "outputs": []
    },
    {
      "cell_type": "code",
      "metadata": {
        "id": "NQUgWxG3UPf_",
        "colab_type": "code",
        "outputId": "e137e335-6ffc-490a-ede6-067eade55142",
        "colab": {
          "base_uri": "https://localhost:8080/",
          "height": 204
        }
      },
      "source": [
        "len(tokens),tokens[:10]"
      ],
      "execution_count": 0,
      "outputs": [
        {
          "output_type": "execute_result",
          "data": {
            "text/plain": [
              "(7941,\n",
              " ['press',\n",
              "  'release',\n",
              "  'department',\n",
              "  'communication',\n",
              "  'central',\n",
              "  'office',\n",
              "  'marg',\n",
              "  'mumbai',\n",
              "  'phone',\n",
              "  'fax'])"
            ]
          },
          "metadata": {
            "tags": []
          },
          "execution_count": 76
        }
      ]
    },
    {
      "cell_type": "code",
      "metadata": {
        "id": "HYFF1Ml11rb6",
        "colab_type": "code",
        "colab": {}
      },
      "source": [
        "#2nd Method using Silhouette Score\n",
        "n=0\n",
        "ss=0\n",
        "vectorizer = TfidfVectorizer()\n",
        "Y = vectorizer.fit_transform(tokens)\n",
        "\n",
        "for n_cluster in range(2, 11):\n",
        "    kmeans = KMeans(n_clusters=n_cluster).fit(Y)\n",
        "    label = kmeans.labels_\n",
        "    sil_coeff = silhouette_score(Y, label, metric='euclidean')  \n",
        "    \n",
        "    if sil_coeff>ss:\n",
        "      ss=sil_coeff\n",
        "      n=n_cluster"
      ],
      "execution_count": 0,
      "outputs": []
    },
    {
      "cell_type": "code",
      "metadata": {
        "id": "0b_JW_Ac1sT9",
        "colab_type": "code",
        "outputId": "46ef6438-090d-4bd2-ff81-e853646e9000",
        "colab": {
          "base_uri": "https://localhost:8080/",
          "height": 34
        }
      },
      "source": [
        "print(\"Optimal numbers of clusters are : {}\".format(n))"
      ],
      "execution_count": 0,
      "outputs": [
        {
          "output_type": "stream",
          "text": [
            "Optimal numbers of clusters are : 10\n"
          ],
          "name": "stdout"
        }
      ]
    },
    {
      "cell_type": "markdown",
      "metadata": {
        "id": "rMz_Ewj2Ge1P",
        "colab_type": "text"
      },
      "source": [
        "# LDA"
      ]
    },
    {
      "cell_type": "code",
      "metadata": {
        "id": "sPa3yKp5GgiO",
        "colab_type": "code",
        "colab": {}
      },
      "source": [
        "\n",
        "import nltk\n",
        "from gensim.utils import simple_preprocess\n",
        "from gensim.parsing.preprocessing import STOPWORDS\n",
        "from nltk.stem import WordNetLemmatizer\n",
        "from gensim.corpora import Dictionary\n",
        "from gensim.models import TfidfModel,LdaModel, LsiModel, HdpModel,LdaMulticore,CoherenceModel\n",
        "from gensim.models.wrappers import LdaMallet\n",
        "import matplotlib.pyplot as plt"
      ],
      "execution_count": 0,
      "outputs": []
    },
    {
      "cell_type": "code",
      "metadata": {
        "id": "7qPpPPipGuZq",
        "colab_type": "code",
        "outputId": "76f2177a-10d2-475f-91a3-8aec53e289d8",
        "colab": {
          "base_uri": "https://localhost:8080/",
          "height": 68
        }
      },
      "source": [
        "nltk.download('wordnet')\n"
      ],
      "execution_count": 0,
      "outputs": [
        {
          "output_type": "stream",
          "text": [
            "[nltk_data] Downloading package wordnet to /root/nltk_data...\n",
            "[nltk_data]   Unzipping corpora/wordnet.zip.\n"
          ],
          "name": "stdout"
        },
        {
          "output_type": "execute_result",
          "data": {
            "text/plain": [
              "True"
            ]
          },
          "metadata": {
            "tags": []
          },
          "execution_count": 19
        }
      ]
    },
    {
      "cell_type": "code",
      "metadata": {
        "id": "gjfEIOkQGM5n",
        "colab_type": "code",
        "colab": {}
      },
      "source": [
        "\n",
        "dictionary=Dictionary([[i] for i in tokens])"
      ],
      "execution_count": 0,
      "outputs": []
    },
    {
      "cell_type": "code",
      "metadata": {
        "id": "ZPWPK9OTGfkc",
        "colab_type": "code",
        "outputId": "c52476fe-4cc7-426c-f916-325f6fd3b45e",
        "colab": {
          "base_uri": "https://localhost:8080/",
          "height": 34
        }
      },
      "source": [
        "print(dictionary)"
      ],
      "execution_count": 0,
      "outputs": [
        {
          "output_type": "stream",
          "text": [
            "Dictionary(2065 unique tokens: ['press', 'release', 'department', 'communication', 'central']...)\n"
          ],
          "name": "stdout"
        }
      ]
    },
    {
      "cell_type": "code",
      "metadata": {
        "id": "-Y7pRecKIYD8",
        "colab_type": "code",
        "colab": {}
      },
      "source": [
        "X=[dictionary.doc2bow([sents]) for sents in tokens]#getting bag of words.\n",
        "tfidf=TfidfModel(X)\n",
        "X=tfidf[X]"
      ],
      "execution_count": 0,
      "outputs": []
    },
    {
      "cell_type": "code",
      "metadata": {
        "id": "GIvl1ys8KN1c",
        "colab_type": "code",
        "colab": {}
      },
      "source": [
        "\n",
        "\n",
        "lda=LdaMulticore(X,num_topics=n,id2word=dictionary,workers=8)\n",
        "lda1=LdaModel(X,num_topics=n,id2word=dictionary,update_every=5)\n",
        "\n",
        "#lda.print_topics()"
      ],
      "execution_count": 0,
      "outputs": []
    },
    {
      "cell_type": "code",
      "metadata": {
        "id": "7TxsZ7hLLpIo",
        "colab_type": "code",
        "colab": {}
      },
      "source": [
        "\n",
        "ldatopics = [[(word,prob) for word, prob in topic] for topicid, topic in lda.show_topics(formatted=False)]\n",
        "#lda.show_topics(formatted=True)"
      ],
      "execution_count": 0,
      "outputs": []
    },
    {
      "cell_type": "markdown",
      "metadata": {
        "id": "_OQtFDZjxXf8",
        "colab_type": "text"
      },
      "source": [
        "# LSI HDP"
      ]
    },
    {
      "cell_type": "code",
      "metadata": {
        "id": "TpUOU91vw6Eh",
        "colab_type": "code",
        "colab": {}
      },
      "source": [
        "lsi=  LsiModel(corpus=X, num_topics=n, id2word=dictionary,)\n",
        "hdp=  HdpModel(corpus=X, id2word=dictionary)"
      ],
      "execution_count": 0,
      "outputs": []
    },
    {
      "cell_type": "code",
      "metadata": {
        "id": "-lek99StzCOU",
        "colab_type": "code",
        "colab": {}
      },
      "source": [
        "lsi_words=[topic for topicid, topic in  lsi.show_topics() ]\n",
        "#lsi_words"
      ],
      "execution_count": 0,
      "outputs": []
    },
    {
      "cell_type": "code",
      "metadata": {
        "id": "FD73TPrd0LCb",
        "colab_type": "code",
        "colab": {}
      },
      "source": [
        "hdp_words=[topic for topicid, topic in  lsi.show_topics() ]\n",
        "#hdp_words"
      ],
      "execution_count": 0,
      "outputs": []
    },
    {
      "cell_type": "markdown",
      "metadata": {
        "id": "1mYZ4hnJtDUm",
        "colab_type": "text"
      },
      "source": [
        "# Evaluating Model: Topic Wise\n"
      ]
    },
    {
      "cell_type": "markdown",
      "metadata": {
        "id": "21WUsI5yqn9d",
        "colab_type": "text"
      },
      "source": [
        "Data Frames for different Models"
      ]
    },
    {
      "cell_type": "code",
      "metadata": {
        "id": "LU1sOBljqcAA",
        "colab_type": "code",
        "colab": {}
      },
      "source": [
        "#LDA Data Frame\n",
        "\n",
        "num_words_model=50\n",
        "ldatopics = [[word for word, prob in topic] for topicid, topic in lda.show_topics(num_words=num_words_model,formatted=False)]\n",
        "col_lda=[]\n",
        "a='Topic'\n",
        "for i in range(len(ldatopics)):\n",
        "  col_lda.append(a+str(i+1))\n",
        "\n",
        "topic_df_lda=pd.DataFrame(data=ldatopics,index=col_lda)\n",
        "topic_df_T_lda=topic_df_lda.T\n",
        "\n",
        "#LSI Data Frame\n",
        "lsitopics = [[word for word, prob in topic] for topicid, topic in lsi.show_topics(num_words=num_words_model,formatted=False)]\n",
        "col_lsi=[]\n",
        "a='Topic'\n",
        "for i in range(len(lsitopics)):\n",
        "  col_lsi.append(a+str(i+1))\n",
        "  \n",
        "topic_df_lsi=pd.DataFrame(data=lsitopics,index=col_lsi)\n",
        "topic_df_T_lsi=topic_df_lsi.T\n",
        "\n",
        "#HDP Data Frame\n",
        "hdptopics = [[word for word, prob in topic] for topicid, topic in hdp.show_topics(num_words=num_words_model,formatted=False)]\n",
        "col_hdp=[]\n",
        "a='Topic'\n",
        "for i in range(len(hdptopics)):\n",
        "  col_hdp.append(a+str(i+1))\n",
        "topic_df_hdp=pd.DataFrame(data=hdptopics,index=col_hdp)\n",
        "topic_df_T_hdp=topic_df_hdp.T\n"
      ],
      "execution_count": 0,
      "outputs": []
    },
    {
      "cell_type": "code",
      "metadata": {
        "id": "MiQJwgbj_oJv",
        "colab_type": "code",
        "outputId": "17501953-f3e8-4d4d-89d5-77660cf386a7",
        "colab": {
          "base_uri": "https://localhost:8080/",
          "height": 204
        }
      },
      "source": [
        "topic_df_T_lda.head()"
      ],
      "execution_count": 0,
      "outputs": [
        {
          "output_type": "execute_result",
          "data": {
            "text/html": [
              "<div>\n",
              "<style scoped>\n",
              "    .dataframe tbody tr th:only-of-type {\n",
              "        vertical-align: middle;\n",
              "    }\n",
              "\n",
              "    .dataframe tbody tr th {\n",
              "        vertical-align: top;\n",
              "    }\n",
              "\n",
              "    .dataframe thead th {\n",
              "        text-align: right;\n",
              "    }\n",
              "</style>\n",
              "<table border=\"1\" class=\"dataframe\">\n",
              "  <thead>\n",
              "    <tr style=\"text-align: right;\">\n",
              "      <th></th>\n",
              "      <th>Topic1</th>\n",
              "      <th>Topic2</th>\n",
              "      <th>Topic3</th>\n",
              "      <th>Topic4</th>\n",
              "      <th>Topic5</th>\n",
              "      <th>Topic6</th>\n",
              "      <th>Topic7</th>\n",
              "      <th>Topic8</th>\n",
              "      <th>Topic9</th>\n",
              "      <th>Topic10</th>\n",
              "    </tr>\n",
              "  </thead>\n",
              "  <tbody>\n",
              "    <tr>\n",
              "      <th>0</th>\n",
              "      <td>likely</td>\n",
              "      <td>impact</td>\n",
              "      <td>per</td>\n",
              "      <td>the</td>\n",
              "      <td>policy</td>\n",
              "      <td>inflation</td>\n",
              "      <td>prices</td>\n",
              "      <td>march</td>\n",
              "      <td>per</td>\n",
              "      <td>inflation</td>\n",
              "    </tr>\n",
              "    <tr>\n",
              "      <th>1</th>\n",
              "      <td>high</td>\n",
              "      <td>also</td>\n",
              "      <td>february</td>\n",
              "      <td>rising</td>\n",
              "      <td>the</td>\n",
              "      <td>growth</td>\n",
              "      <td>food</td>\n",
              "      <td>reserve</td>\n",
              "      <td>year</td>\n",
              "      <td>due</td>\n",
              "    </tr>\n",
              "    <tr>\n",
              "      <th>2</th>\n",
              "      <td>cpi</td>\n",
              "      <td>several</td>\n",
              "      <td>risks</td>\n",
              "      <td>index</td>\n",
              "      <td>january</td>\n",
              "      <td>cent</td>\n",
              "      <td>global</td>\n",
              "      <td>growth</td>\n",
              "      <td>headline</td>\n",
              "      <td>may</td>\n",
              "    </tr>\n",
              "    <tr>\n",
              "      <th>3</th>\n",
              "      <td>cent</td>\n",
              "      <td>risks</td>\n",
              "      <td>expected</td>\n",
              "      <td>price</td>\n",
              "      <td>monetary</td>\n",
              "      <td>prices</td>\n",
              "      <td>february</td>\n",
              "      <td>cent</td>\n",
              "      <td>trade</td>\n",
              "      <td>market</td>\n",
              "    </tr>\n",
              "    <tr>\n",
              "      <th>4</th>\n",
              "      <td>months</td>\n",
              "      <td>expectations</td>\n",
              "      <td>indian</td>\n",
              "      <td>capital</td>\n",
              "      <td>statement</td>\n",
              "      <td>also</td>\n",
              "      <td>outlook</td>\n",
              "      <td>manufacturing</td>\n",
              "      <td>domestic</td>\n",
              "      <td>hra</td>\n",
              "    </tr>\n",
              "  </tbody>\n",
              "</table>\n",
              "</div>"
            ],
            "text/plain": [
              "   Topic1        Topic2    Topic3  ...         Topic8    Topic9    Topic10\n",
              "0  likely        impact       per  ...          march       per  inflation\n",
              "1    high          also  february  ...        reserve      year        due\n",
              "2     cpi       several     risks  ...         growth  headline        may\n",
              "3    cent         risks  expected  ...           cent     trade     market\n",
              "4  months  expectations    indian  ...  manufacturing  domestic        hra\n",
              "\n",
              "[5 rows x 10 columns]"
            ]
          },
          "metadata": {
            "tags": []
          },
          "execution_count": 29
        }
      ]
    },
    {
      "cell_type": "code",
      "metadata": {
        "id": "D4lA4Hifq-JM",
        "colab_type": "code",
        "outputId": "631ae709-5871-40bb-97c0-0156d98860c3",
        "colab": {
          "base_uri": "https://localhost:8080/",
          "height": 204
        }
      },
      "source": [
        "topic_df_T_lsi.head()"
      ],
      "execution_count": 0,
      "outputs": [
        {
          "output_type": "execute_result",
          "data": {
            "text/html": [
              "<div>\n",
              "<style scoped>\n",
              "    .dataframe tbody tr th:only-of-type {\n",
              "        vertical-align: middle;\n",
              "    }\n",
              "\n",
              "    .dataframe tbody tr th {\n",
              "        vertical-align: top;\n",
              "    }\n",
              "\n",
              "    .dataframe thead th {\n",
              "        text-align: right;\n",
              "    }\n",
              "</style>\n",
              "<table border=\"1\" class=\"dataframe\">\n",
              "  <thead>\n",
              "    <tr style=\"text-align: right;\">\n",
              "      <th></th>\n",
              "      <th>Topic1</th>\n",
              "      <th>Topic2</th>\n",
              "      <th>Topic3</th>\n",
              "      <th>Topic4</th>\n",
              "      <th>Topic5</th>\n",
              "      <th>Topic6</th>\n",
              "      <th>Topic7</th>\n",
              "      <th>Topic8</th>\n",
              "      <th>Topic9</th>\n",
              "      <th>Topic10</th>\n",
              "    </tr>\n",
              "  </thead>\n",
              "  <tbody>\n",
              "    <tr>\n",
              "      <th>0</th>\n",
              "      <td>inflation</td>\n",
              "      <td>the</td>\n",
              "      <td>per</td>\n",
              "      <td>cent</td>\n",
              "      <td>growth</td>\n",
              "      <td>prices</td>\n",
              "      <td>february</td>\n",
              "      <td>policy</td>\n",
              "      <td>food</td>\n",
              "      <td>year</td>\n",
              "    </tr>\n",
              "    <tr>\n",
              "      <th>1</th>\n",
              "      <td>medium</td>\n",
              "      <td>remained</td>\n",
              "      <td>excluding</td>\n",
              "      <td>medium</td>\n",
              "      <td>medium</td>\n",
              "      <td>macroeconomic</td>\n",
              "      <td>indian</td>\n",
              "      <td>repo</td>\n",
              "      <td>markets</td>\n",
              "      <td>exports</td>\n",
              "    </tr>\n",
              "    <tr>\n",
              "      <th>2</th>\n",
              "      <td>upside</td>\n",
              "      <td>lower</td>\n",
              "      <td>time</td>\n",
              "      <td>term</td>\n",
              "      <td>would</td>\n",
              "      <td>implementation</td>\n",
              "      <td>risk</td>\n",
              "      <td>would</td>\n",
              "      <td>year</td>\n",
              "      <td>well</td>\n",
              "    </tr>\n",
              "    <tr>\n",
              "      <th>3</th>\n",
              "      <td>deficit</td>\n",
              "      <td>round</td>\n",
              "      <td>pace</td>\n",
              "      <td>index</td>\n",
              "      <td>repo</td>\n",
              "      <td>indian</td>\n",
              "      <td>gap</td>\n",
              "      <td>upside</td>\n",
              "      <td>remain</td>\n",
              "      <td>driven</td>\n",
              "    </tr>\n",
              "    <tr>\n",
              "      <th>4</th>\n",
              "      <td>basis</td>\n",
              "      <td>current</td>\n",
              "      <td>three</td>\n",
              "      <td>repo</td>\n",
              "      <td>three</td>\n",
              "      <td>driven</td>\n",
              "      <td>stance</td>\n",
              "      <td>factors</td>\n",
              "      <td>march</td>\n",
              "      <td>however</td>\n",
              "    </tr>\n",
              "  </tbody>\n",
              "</table>\n",
              "</div>"
            ],
            "text/plain": [
              "      Topic1    Topic2     Topic3  Topic4  ...    Topic7   Topic8   Topic9  Topic10\n",
              "0  inflation       the        per    cent  ...  february   policy     food     year\n",
              "1     medium  remained  excluding  medium  ...    indian     repo  markets  exports\n",
              "2     upside     lower       time    term  ...      risk    would     year     well\n",
              "3    deficit     round       pace   index  ...       gap   upside   remain   driven\n",
              "4      basis   current      three    repo  ...    stance  factors    march  however\n",
              "\n",
              "[5 rows x 10 columns]"
            ]
          },
          "metadata": {
            "tags": []
          },
          "execution_count": 30
        }
      ]
    },
    {
      "cell_type": "code",
      "metadata": {
        "id": "wIubZmTmrBpK",
        "colab_type": "code",
        "outputId": "f527d30d-a933-4ea2-89c0-3bb8c360c298",
        "colab": {
          "base_uri": "https://localhost:8080/",
          "height": 224
        }
      },
      "source": [
        "topic_df_T_hdp.head()"
      ],
      "execution_count": 0,
      "outputs": [
        {
          "output_type": "execute_result",
          "data": {
            "text/html": [
              "<div>\n",
              "<style scoped>\n",
              "    .dataframe tbody tr th:only-of-type {\n",
              "        vertical-align: middle;\n",
              "    }\n",
              "\n",
              "    .dataframe tbody tr th {\n",
              "        vertical-align: top;\n",
              "    }\n",
              "\n",
              "    .dataframe thead th {\n",
              "        text-align: right;\n",
              "    }\n",
              "</style>\n",
              "<table border=\"1\" class=\"dataframe\">\n",
              "  <thead>\n",
              "    <tr style=\"text-align: right;\">\n",
              "      <th></th>\n",
              "      <th>Topic1</th>\n",
              "      <th>Topic2</th>\n",
              "      <th>Topic3</th>\n",
              "      <th>Topic4</th>\n",
              "      <th>Topic5</th>\n",
              "      <th>Topic6</th>\n",
              "      <th>Topic7</th>\n",
              "      <th>Topic8</th>\n",
              "      <th>Topic9</th>\n",
              "      <th>Topic10</th>\n",
              "      <th>Topic11</th>\n",
              "      <th>Topic12</th>\n",
              "      <th>Topic13</th>\n",
              "      <th>Topic14</th>\n",
              "      <th>Topic15</th>\n",
              "      <th>Topic16</th>\n",
              "      <th>Topic17</th>\n",
              "      <th>Topic18</th>\n",
              "      <th>Topic19</th>\n",
              "      <th>Topic20</th>\n",
              "    </tr>\n",
              "  </thead>\n",
              "  <tbody>\n",
              "    <tr>\n",
              "      <th>0</th>\n",
              "      <td>number</td>\n",
              "      <td>reserves</td>\n",
              "      <td>narrowed</td>\n",
              "      <td>jan</td>\n",
              "      <td>transport</td>\n",
              "      <td>dragged</td>\n",
              "      <td>evolving</td>\n",
              "      <td>jose</td>\n",
              "      <td>alongside</td>\n",
              "      <td>revisions</td>\n",
              "      <td>changed</td>\n",
              "      <td>settle</td>\n",
              "      <td>effects</td>\n",
              "      <td>elevated</td>\n",
              "      <td>code</td>\n",
              "      <td>formation</td>\n",
              "      <td>stems</td>\n",
              "      <td>declining</td>\n",
              "      <td>unacceptably</td>\n",
              "      <td>rises</td>\n",
              "    </tr>\n",
              "    <tr>\n",
              "      <th>1</th>\n",
              "      <td>driver</td>\n",
              "      <td>gets</td>\n",
              "      <td>mumbai</td>\n",
              "      <td>sentiments</td>\n",
              "      <td>bottomed</td>\n",
              "      <td>unsurprising</td>\n",
              "      <td>spread</td>\n",
              "      <td>able</td>\n",
              "      <td>inflation</td>\n",
              "      <td>persist</td>\n",
              "      <td>persist</td>\n",
              "      <td>issues</td>\n",
              "      <td>maintain</td>\n",
              "      <td>bankruptcy</td>\n",
              "      <td>formation</td>\n",
              "      <td>due</td>\n",
              "      <td>covering</td>\n",
              "      <td>outliers</td>\n",
              "      <td>dull</td>\n",
              "      <td>helping</td>\n",
              "    </tr>\n",
              "    <tr>\n",
              "      <th>2</th>\n",
              "      <td>shocks</td>\n",
              "      <td>today</td>\n",
              "      <td>stayed</td>\n",
              "      <td>testing</td>\n",
              "      <td>continuing</td>\n",
              "      <td>its</td>\n",
              "      <td>assumption</td>\n",
              "      <td>possibility</td>\n",
              "      <td>phone</td>\n",
              "      <td>noteworthy</td>\n",
              "      <td>consistently</td>\n",
              "      <td>ive</td>\n",
              "      <td>frequ</td>\n",
              "      <td>get</td>\n",
              "      <td>rbi</td>\n",
              "      <td>steam</td>\n",
              "      <td>begin</td>\n",
              "      <td>recovering</td>\n",
              "      <td>soil</td>\n",
              "      <td>ort</td>\n",
              "    </tr>\n",
              "    <tr>\n",
              "      <th>3</th>\n",
              "      <td>festering</td>\n",
              "      <td>ingredients</td>\n",
              "      <td>employment</td>\n",
              "      <td>price</td>\n",
              "      <td>still</td>\n",
              "      <td>revenues</td>\n",
              "      <td>overhang</td>\n",
              "      <td>suggest</td>\n",
              "      <td>year</td>\n",
              "      <td>lending</td>\n",
              "      <td>five</td>\n",
              "      <td>subscribers</td>\n",
              "      <td>worries</td>\n",
              "      <td>owance</td>\n",
              "      <td>compromising</td>\n",
              "      <td>yield</td>\n",
              "      <td>brazil</td>\n",
              "      <td>deal</td>\n",
              "      <td>typically</td>\n",
              "      <td>led</td>\n",
              "    </tr>\n",
              "    <tr>\n",
              "      <th>4</th>\n",
              "      <td>universities</td>\n",
              "      <td>begin</td>\n",
              "      <td>call</td>\n",
              "      <td>international</td>\n",
              "      <td>volatile</td>\n",
              "      <td>contribute</td>\n",
              "      <td>ort</td>\n",
              "      <td>loans</td>\n",
              "      <td>impact</td>\n",
              "      <td>round</td>\n",
              "      <td>relative</td>\n",
              "      <td>upward</td>\n",
              "      <td>sales</td>\n",
              "      <td>accommodationﬂ</td>\n",
              "      <td>revising</td>\n",
              "      <td>welled</td>\n",
              "      <td>deusenberry</td>\n",
              "      <td>after</td>\n",
              "      <td>cpc</td>\n",
              "      <td>recreation</td>\n",
              "    </tr>\n",
              "  </tbody>\n",
              "</table>\n",
              "</div>"
            ],
            "text/plain": [
              "         Topic1       Topic2      Topic3  ...     Topic18       Topic19     Topic20\n",
              "0        number     reserves    narrowed  ...   declining  unacceptably       rises\n",
              "1        driver         gets      mumbai  ...    outliers          dull     helping\n",
              "2        shocks        today      stayed  ...  recovering          soil         ort\n",
              "3     festering  ingredients  employment  ...        deal     typically         led\n",
              "4  universities        begin        call  ...       after           cpc  recreation\n",
              "\n",
              "[5 rows x 20 columns]"
            ]
          },
          "metadata": {
            "tags": []
          },
          "execution_count": 31
        }
      ]
    },
    {
      "cell_type": "markdown",
      "metadata": {
        "id": "Qf6WCPjt85I1",
        "colab_type": "text"
      },
      "source": [
        "# Evaluating Words in a Topic : Cosine scores."
      ]
    },
    {
      "cell_type": "code",
      "metadata": {
        "id": "ml6hY3is86p0",
        "colab_type": "code",
        "colab": {}
      },
      "source": [
        "#Dup_All_Docs=All_Docs[0]+All_Docs[1]\n",
        "Dup_All_Docs=[]\n",
        "for i in All_Docs:\n",
        "  Dup_All_Docs+=i\n",
        "\n",
        "df=[]\n",
        "\n",
        "for j in All_Docs:\n",
        "  for i in j:\n",
        "    df.append(i)\n",
        "\n",
        "from sklearn.feature_extraction.text import CountVectorizer\n",
        "vectoriser = CountVectorizer().fit(Dup_All_Docs)\n",
        "X = vectoriser.transform(Dup_All_Docs)\n",
        "df_vec=pd.DataFrame(X.A, columns=sorted(vectoriser.vocabulary_.keys(), key=lambda k: vectoriser.vocabulary_[k]))"
      ],
      "execution_count": 0,
      "outputs": []
    },
    {
      "cell_type": "code",
      "metadata": {
        "id": "uR64ay5l-ZZX",
        "colab_type": "code",
        "outputId": "a18a8832-7c89-40b0-f420-681214eb863b",
        "colab": {
          "base_uri": "https://localhost:8080/",
          "height": 34
        }
      },
      "source": [
        "type(df),len(df)# df is a list of strings of all pages in the input files\n",
        "#created for word tokens"
      ],
      "execution_count": 0,
      "outputs": [
        {
          "output_type": "execute_result",
          "data": {
            "text/plain": [
              "(list, 26)"
            ]
          },
          "metadata": {
            "tags": []
          },
          "execution_count": 33
        }
      ]
    },
    {
      "cell_type": "code",
      "metadata": {
        "id": "mia8W3xnqPY9",
        "colab_type": "code",
        "colab": {}
      },
      "source": [
        "word_data=[]\n",
        "\n",
        "for i in df:\n",
        "    token=tokenizer.tokenize(i)\n",
        "    token=[i for i in token if(not(str(i).isdigit() or not(str(i).isalpha())) and len(str(i)) > 2 )]\n",
        "    token=[i.lower() for i in token if( i not in en_stop)]\n",
        "    word_data.append(token)"
      ],
      "execution_count": 0,
      "outputs": []
    },
    {
      "cell_type": "code",
      "metadata": {
        "id": "trA3OsSh0p5-",
        "colab_type": "code",
        "colab": {}
      },
      "source": [
        "model1 = gensim.models.Word2Vec(word_data, min_count = 1,size = 100, window = 5) "
      ],
      "execution_count": 0,
      "outputs": []
    },
    {
      "cell_type": "markdown",
      "metadata": {
        "id": "8jYMSc5eXlMd",
        "colab_type": "text"
      },
      "source": [
        "Calculating statistical significance through Cosine Similarity Score"
      ]
    },
    {
      "cell_type": "code",
      "metadata": {
        "id": "GfFIkqthshtv",
        "colab_type": "code",
        "colab": {}
      },
      "source": [
        "\n",
        "import statistics \n",
        "from scipy import stats\n",
        "from statistics import stdev\n",
        "\n",
        "\n",
        "def statistical_signficance(topic_df_T,col,alpha,null_hyp):\n",
        "  #topics_df_T: Dataframe of words for any model\n",
        "  #col: Mtx with Topic Header, col[i]= Topic-i\n",
        "  #alpha: Critical p-Value for rejecting null hypothesis\n",
        "  #null_hyp: Value of mean for Null Hypothesis\n",
        "  Average_comparison=null_hyp\n",
        "  ds=[]\n",
        "  for i in range((len(col))) :\n",
        "    ds.append(list(topic_df_T[col[i]]))\n",
        "\n",
        "  ds# ds[i] is i-th list of Topic-i\n",
        "\n",
        "  simscore_topic=[]#initiating mtx for sim scores/cosine scores\n",
        "\n",
        "\n",
        "  for p in range(len(ds)):\n",
        "    k=len(ds[p])\n",
        "    o=0\n",
        "\n",
        "    sim=[]\n",
        "    simt=[]\n",
        "  \n",
        "    for i in range(k):\n",
        "      simt=[]\n",
        "      for j in range(k)  :\n",
        "        o=model1.similarity(ds[p][i],ds[p][j])\n",
        "        simt.append(o)\n",
        "\n",
        "      sim.append(simt)\n",
        "\n",
        "    simscore_topic.append(sim)\n",
        "# 3-D list, simscore_topic[i] is similarity scores for topic-i\n",
        "# simscore_topic[i][j] is list of similarity score of j-th word in i-th Topic with other words\n",
        "\n",
        "\n",
        "  \n",
        "  t_score_all=[]\n",
        "  p_value_all=[]\n",
        "  mean=0\n",
        "  sd=0\n",
        "\n",
        "  t_value=0\n",
        "  dup_score=[]\n",
        "  p=0\n",
        "  p_value=[]\n",
        "  t2=0\n",
        "  for i in range(len(ds)):\n",
        "    \n",
        "    t=[]\n",
        "    p_value_topic=[]\n",
        "    for j in range(len(ds[i])):         \n",
        "      dup_score=simscore_topic[i][j][:]    \n",
        "      dup_score.pop(j)# removing score of i-th element with itself which is=1\n",
        "      t2,p=stats.ttest_1samp(np.array(dup_score),popmean=np.array(Average_comparison))\n",
        "      \n",
        "      t.append(t2)\n",
        "      p_value_topic.append(p)\n",
        "      pass\n",
        "\n",
        "    t_score_all.append(t)\n",
        "    p_value_all.append(p_value_topic)\n",
        "  \n",
        "  t=0\n",
        "  word_to_remove=[] #initializing tuple to save topicid and word outside cluster\n",
        "  for i in range(len(p_value_all)):\n",
        "    word=[]\n",
        "    for j in range(len(p_value_all)):\n",
        "      if (p_value_all[i][j]>= alpha) or(t_score_all[i][j]<0):\n",
        "        word.append(ds[i][j])\n",
        "    \n",
        "    if len(word)>0:\n",
        "      t+=len(word)#counting number of words to be removed\n",
        "    \n",
        "    word_to_remove.append(word)\n",
        "\n",
        "\n",
        "# word_to_remove[i] list of words to remove from topic-i\n",
        "#ds[i] list of words in topic-i\n",
        "#t number of words to be removed in a algorithm\n",
        "# simscore_topic[i][j] is list of similarity score of j-th word in i-th Topic with other words\n",
        "\n",
        "  \n",
        "  return word_to_remove,ds,t"
      ],
      "execution_count": 0,
      "outputs": []
    },
    {
      "cell_type": "markdown",
      "metadata": {
        "id": "odei5l8BHCec",
        "colab_type": "text"
      },
      "source": [
        "Getting Lists of Words removed from each topic"
      ]
    },
    {
      "cell_type": "code",
      "metadata": {
        "id": "6lBdY6cR0I4Y",
        "colab_type": "code",
        "outputId": "826e12c5-196f-4e8d-b75f-31673a266083",
        "colab": {
          "base_uri": "https://localhost:8080/",
          "height": 71
        }
      },
      "source": [
        "alpha=0.05 # Statistical significance\n",
        "null_hyp=0.5 # Ho: Average Score<=null_hyp\n",
        "\n",
        "\n",
        "#LDA\n",
        "topic_df_T_lda\n",
        "col_lda\n",
        "lda_words_to_remove,lda_words,number_words_removed_lda=statistical_signficance(topic_df_T_lda,col_lda,alpha,null_hyp)\n",
        "#lda_words_to_remove[i] is list of words to remove from topic-i\n",
        "#lda_words[i] is list of all words in topic-i\n",
        "#number_words_removed_lda is no. of words removed from all topics of LDA\n",
        "\n",
        "\n",
        "#LSI\n",
        "topic_df_T_lsi\n",
        "col_lsi\n",
        "lsi_words_to_remove,lsi_words,number_words_removed_lsi=statistical_signficance(topic_df_T_lsi,col_lsi,alpha,null_hyp)\n",
        "\n",
        "\n",
        "#HDP\n",
        "topic_df_T_hdp\n",
        "col_hdp\n",
        "hdp_words_to_remove,hdp_words,number_words_removed_hdp=statistical_signficance(topic_df_T_hdp,col_hdp,alpha,null_hyp)\n",
        "\n",
        "words_removed=[number_words_removed_lsi, number_words_removed_hdp, number_words_removed_lda]"
      ],
      "execution_count": 0,
      "outputs": [
        {
          "output_type": "stream",
          "text": [
            "DeprecationWarning: Call to deprecated `similarity` (Method will be removed in 4.0.0, use self.wv.similarity() instead). [ipykernel_launcher.py:32]\n",
            "FutureWarning: Conversion of the second argument of issubdtype from `int` to `np.signedinteger` is deprecated. In future, it will be treated as `np.int64 == np.dtype(int).type`. [matutils.py:737]\n"
          ],
          "name": "stderr"
        }
      ]
    },
    {
      "cell_type": "code",
      "metadata": {
        "id": "QIHEOGwPV6B-",
        "colab_type": "code",
        "outputId": "65a78dcb-7b61-4fbf-b458-6408ac15b5bb",
        "colab": {
          "base_uri": "https://localhost:8080/",
          "height": 168
        }
      },
      "source": [
        "def evaluate_bar_graph(coherences, indices):\n",
        "    plt.subplot(2,1,1)\n",
        "    assert len(coherences) == len(indices)\n",
        "    n = len(coherences)\n",
        "    x = np.arange(n)\n",
        "    plt.bar(x, coherences, width=0.2, tick_label=indices, align='center')\n",
        "    plt.xlabel('Models')\n",
        "    plt.ylabel('No. of Words Removed')\n",
        "\n",
        "    \n",
        "\n",
        "\n",
        "evaluate_bar_graph([number_words_removed_lsi, number_words_removed_hdp, number_words_removed_lda],\n",
        "                   ['LSI', 'HDP', 'LDA'])\n"
      ],
      "execution_count": 0,
      "outputs": [
        {
          "output_type": "display_data",
          "data": {
            "image/png": "[encoded data removed]",
            "text/plain": [
              "<Figure size 432x288 with 1 Axes>"
            ]
          },
          "metadata": {
            "tags": [],
            "needs_background": "light"
          }
        }
      ]
    },
    {
      "cell_type": "markdown",
      "metadata": {
        "id": "_wOIWvEdmAV3",
        "colab_type": "text"
      },
      "source": [
        "#**Adding New File**"
      ]
    },
    {
      "cell_type": "code",
      "metadata": {
        "id": "Cjw-FqLTeQJ_",
        "colab_type": "code",
        "colab": {}
      },
      "source": [
        "#new_doc_distribution = np.array([tup[1] for tup in lda.get_document_topics(bow=new_bow)])\n",
        "#https://www.kaggle.com/ktattan/lda-and-document-similarity\n",
        "\n",
        "def new_file_prediction(Prediction_file_name,dictionary,lda1):\n",
        "  #Prediction_file_name: Name of file for pulling out data, should be PDF only\n",
        "  #dictionary: Dictionary on which model has been trained\n",
        "  #lda1: Best Prediction Model\n",
        "\n",
        "  Prediction_file_name=Prediction_file_name\n",
        "  new_file=open(Prediction_file_name,'rb')\n",
        "  pdfReader = PyPDF2.PdfFileReader(new_file)\n",
        "  n1=pdfReader.numPages\n",
        "\n",
        "  new_file_pg=[]\n",
        "  for i in range(n1):\n",
        "    pageObj = pdfReader.getPage(i)\n",
        "    a=pageObj.extractText()\n",
        "    new_file_pg.append(a)\n",
        "\n",
        "#Creating tokens of new file\n",
        "  new_token=[]\n",
        "  x=[]\n",
        "  for i in new_file_pg:\n",
        "\n",
        "    token=tokenizer.tokenize(i)\n",
        "    token=[i for i in token if(not(str(i).isdigit() or not(str(i).isalpha())) and len(str(i)) > 2 )]\n",
        "    token=[i.lower() for i in token if( i not in en_stop)]\n",
        "    x.extend(token)\n",
        "  \n",
        "    new_token.extend(x)\n",
        "\n",
        "\n",
        "  Z=[dictionary.doc2bow([sents]) for sents in new_token]#Obtaining bag of words of new file\n",
        "\n",
        "  newlda=lda1[Z]\n",
        "  #newlda_topics=[[(word,prob) for word, prob in topic] for topicid, topic in newlda.show_topics(formatted=False)]\n",
        "  newlda\n",
        "  #dictionary_LDA\n",
        "\n",
        "  new_topic=lda1[dictionary.doc2bow(new_token)]\n",
        "  New_Topic_id,New_Topic_Prob= [],[]\n",
        "  a='Topic '\n",
        "  for i in new_topic:\n",
        "    a=str(i[0]+1)\n",
        "    New_Topic_id.append(a)\n",
        "    New_Topic_Prob.append((i[1]*100))\n",
        "\n",
        "  return New_Topic_id,New_Topic_Prob"
      ],
      "execution_count": 0,
      "outputs": []
    },
    {
      "cell_type": "code",
      "metadata": {
        "id": "MffrF1qiE7E-",
        "colab_type": "code",
        "outputId": "f4799d39-c23a-4971-b9b3-a5c489a41b01",
        "colab": {
          "base_uri": "https://localhost:8080/",
          "height": 363
        }
      },
      "source": [
        "#Number_Prediction_files=1\n",
        "#Prediction_files=\n",
        "\n",
        "Best_model=[number_words_removed_lsi, number_words_removed_hdp, number_words_removed_lda]\n",
        "model=[lsi_words, hdp_words, lda_words]\n",
        "\n",
        "k=2\n",
        "ideal_model=lsi\n",
        "\n",
        "if min(Best_model)==number_words_removed_lda:\n",
        "  k=0\n",
        "  ideal_model=lda1\n",
        "if min(Best_model)==number_words_removed_hdp:\n",
        "  k=1\n",
        "  ideal_model=hdp\n",
        "\n",
        "New_Topic_id_alldocs,New_Topic_Prob_alldocs=[],[]\n",
        "\n",
        "\n",
        "for i in range(Number_Prediction_files):\n",
        "  New_Topic_id,New_Topic_Prob=new_file_prediction(Prediction_files[0],dictionary,ideal_model)\n",
        "  New_Topic_Prob_alldocs.append(New_Topic_Prob)\n",
        "\n",
        "print(\"Ideal Model is :\",ideal_model)\n",
        "print(\"\\n\\n\")\n",
        "plt.xlabel(\"Topic-ID\")\n",
        "plt.ylabel(\"Percentage Contribution\")\n",
        "plt.title(\"%Contribution of Topics in Document\")\n",
        "for i in range(Number_Prediction_files):\n",
        "  plt.plot(New_Topic_id,New_Topic_Prob,label=Prediction_files[i])\n",
        "\n",
        "plt.legend(loc='best',shadow=True)\n",
        "plt.grid()\n"
      ],
      "execution_count": 0,
      "outputs": [
        {
          "output_type": "stream",
          "text": [
            "Ideal Model is : LdaModel(num_terms=2065, num_topics=10, decay=0.5, chunksize=2000)\n",
            "\n",
            "\n",
            "\n"
          ],
          "name": "stdout"
        },
        {
          "output_type": "display_data",
          "data": {
            "image/png": "[encoded data removed]",
            "text/plain": [
              "<Figure size 432x288 with 1 Axes>"
            ]
          },
          "metadata": {
            "tags": [],
            "needs_background": "light"
          }
        }
      ]
    },
    {
      "cell_type": "code",
      "metadata": {
        "id": "b0Z_8x8SJEtw",
        "colab_type": "code",
        "colab": {}
      },
      "source": [
        ""
      ],
      "execution_count": 0,
      "outputs": []
    },
    {
      "cell_type": "markdown",
      "metadata": {
        "id": "XIpHiWkhwoGS",
        "colab_type": "text"
      },
      "source": [
        "# Word cloud-for Best Model"
      ]
    },
    {
      "cell_type": "code",
      "metadata": {
        "id": "SY1h5pO8wyc7",
        "colab_type": "code",
        "colab": {}
      },
      "source": [
        "from wordcloud import WordCloud,STOPWORDS\n",
        "import os\n",
        "from PIL import Image"
      ],
      "execution_count": 0,
      "outputs": []
    },
    {
      "cell_type": "code",
      "metadata": {
        "id": "FqvsYKXvxmNb",
        "colab_type": "code",
        "colab": {}
      },
      "source": [
        "\n",
        "Best_model=[number_words_removed_lsi, number_words_removed_hdp, number_words_removed_lda]\n",
        "model=[lsi_words, hdp_words, lda_words]\n",
        "\n",
        "k=2\n",
        "\n",
        "if min(Best_model)==number_words_removed_lsi:\n",
        "  k=0\n",
        "if min(Best_model)==number_words_removed_hdp:\n",
        "  k=1\n",
        "\n",
        "#Best Model selected through least number of words removed\n",
        "\n",
        "\n",
        "words_joined=[]# lda_words_joined[i] string of Topic-i words\n",
        "j=''\n",
        "for i in model[k]:\n",
        "  j=''\n",
        "  j=\" \".join(i)+\" \"\n",
        "  words_joined.append(j)"
      ],
      "execution_count": 0,
      "outputs": []
    },
    {
      "cell_type": "code",
      "metadata": {
        "id": "RGUVW6YLcxhi",
        "colab_type": "code",
        "colab": {}
      },
      "source": [
        "for i in range(len(words_joined)):\n",
        "  print(\"\\n\\nTopic :\",i+1)\n",
        "  wordcloud = WordCloud(width = 400, height = 400, \n",
        "                background_color ='white', \n",
        "                stopwords = STOPWORDS,\n",
        "                min_font_size = 10,\n",
        "                max_words=30                \n",
        "                ).generate(words_joined[i]) \n",
        "  \n",
        "# plot the WordCloud image                        \n",
        "  #plt.subplot(i+4,i+4,)\n",
        "  plt.figure(figsize = (4, 4), facecolor = None,edgecolor='black') \n",
        "  plt.imshow(wordcloud) \n",
        "  plt.axis(\"off\") \n",
        "  plt.tight_layout(pad = 0) \n",
        "  plt.show() "
      ],
      "execution_count": 0,
      "outputs": []
    },
    {
      "cell_type": "markdown",
      "metadata": {
        "id": "Bie2X5wKZg3z",
        "colab_type": "text"
      },
      "source": [
        "# Automatic topic labelling"
      ]
    },
    {
      "cell_type": "code",
      "metadata": {
        "id": "SH4cvf9DZRm6",
        "colab_type": "code",
        "colab": {}
      },
      "source": [
        "dup_model=model1"
      ],
      "execution_count": 0,
      "outputs": []
    },
    {
      "cell_type": "code",
      "metadata": {
        "id": "JuqDTnjjZWft",
        "colab_type": "code",
        "colab": {}
      },
      "source": [
        "pip install wordcloud wikipedia"
      ],
      "execution_count": 0,
      "outputs": []
    },
    {
      "cell_type": "code",
      "metadata": {
        "id": "eh1lXCGvZony",
        "colab_type": "code",
        "colab": {}
      },
      "source": [
        "import wikipedia"
      ],
      "execution_count": 0,
      "outputs": []
    },
    {
      "cell_type": "code",
      "metadata": {
        "id": "Y8JuAgZZZqBJ",
        "colab_type": "code",
        "outputId": "93655eb2-cca8-4c0d-b460-0420357a28e9",
        "colab": {
          "base_uri": "https://localhost:8080/",
          "height": 207
        }
      },
      "source": [
        "words_joined# list of string of words, words_joined[0] is a string of words from topic-1"
      ],
      "execution_count": 0,
      "outputs": [
        {
          "output_type": "execute_result",
          "data": {
            "text/plain": [
              "['inflation medium upside deficit basis current term banks including government repo state adopted one sub rates low although driven continued period pmi various data two support demonetisation market excluding april higher foreign group cpc decline this exports rising increase balance base leading round pulses neutral yes gdp implementation time services ',\n",
              " 'the remained lower round current released however financial factors this state pulses pace continued capital repo manufacturing gdp excluding pmi rates sectors industrial trajectory well uncertainty increase conditions unchanged half among month medium sector momentum statement group consumption markets average base india various rent ahead credit signs macroeconomic estimates although ',\n",
              " 'per excluding time pace three non remained low monsoon decline emes surplus implementation demonetisation demand view driven pressures hardening base two markets rise medium exports estimated estimates input government indicators half well liquidity may cent term would pulses stance central capital account cpc external improvement given sales points consumer net ',\n",
              " 'cent medium term index repo there indicators implementation decline consumer survey upside remains non two half central stance management hra pressures well gap round india reflected monsoon yes business per consumption remained fuel could trajectory since sector capacity member international gdp rates small vote crude improving growth turning uncertainty view ',\n",
              " 'growth medium would repo three half pmi markets target lower basis uncertainty ahead decline volatility gdp deficit exports prices foreign front group centre account well goods liquidity economy path confidence period industrial banks resolution months states capital last implementation monsoon vegetable investment although state minutes sub estimates risk cent remain ',\n",
              " 'prices macroeconomic implementation indian driven unchanged government growth indicators risk this rates liquidity there target since goods international average given group vote capacity oil points however emes non central excluding major back could account sector lower although projected conditions factors modest gap level confidence data ravindra sharp estimates deficit management ',\n",
              " 'february indian risk gap stance implementation india central index rates driven adopted pulses volatility markets price consumption since non several sectors account round view high statement estimated crude rbi surplus while higher credit would resolution pressures management deficit pace released factors capital signs section lower group decline rising one strengthening ',\n",
              " 'policy repo would upside factors current deficit however remained production billion period well although stance index pmi last time markets monsoon rates around april this one banks overall base rbi macroeconomic consumption volatility remain lower several higher crude financial signs international conditions india capacity excluding survey pick term investment remains ',\n",
              " 'food markets year remain march banks indian goods one decline this path expectations projected price pmi time even implementation effects conditions based performance non released management largely pace pricing group external target liquidity improving gdp including strong industrial imports reserve while net rbi uncertainty adopted although billion impact monsoon improvement ',\n",
              " 'year exports well driven however food repo march index liquidity government remains would could based may pace economic basis demand bank there capital rate higher last high january half risks continued months conditions management first round estimates april indicators trade state since upside fiscal lower increase cpc crude committee yes ']"
            ]
          },
          "metadata": {
            "tags": []
          },
          "execution_count": 48
        }
      ]
    },
    {
      "cell_type": "code",
      "metadata": {
        "id": "PO0WCrHaZ8jB",
        "colab_type": "code",
        "outputId": "bf98c29c-f122-4312-dbe2-431c15de100f",
        "colab": {
          "base_uri": "https://localhost:8080/",
          "height": 700
        }
      },
      "source": [
        "# taking top-10 words from a topic to get wikipedia articles\n",
        "import random\n",
        "\n",
        "x= words_joined[0]\n",
        "x=x.split(\" \")\n",
        "x=x[:10]\n",
        "\n",
        "content=[]\n",
        "title_vector=[]\n",
        "\n",
        "for j in x:\n",
        "  content=[]\n",
        "  file_title=wikipedia.search(j,results=10,suggestion= True)\n",
        "  print(\"\\n\\nTitle for word :\", j)\n",
        "  print(file_title[0])\n",
        "  for l in range(len(file_title[0])):\n",
        "    #print(\"\\n Inside loop\",file_title[0][l])\n",
        "\n",
        "    \n",
        "    try:\n",
        "      y = wikipedia.search(file_title[0][l])[0]\n",
        "      y = wikipedia.page(y)\n",
        "    except wikipedia.DisambiguationError as e:\n",
        "      try:\n",
        "        s = random.choice(e.options[0])\n",
        "        y = wikipedia.page(s)\n",
        "      except wikipedia.PageError :\n",
        "        y = wikipedia.page(file_title[0][2])#second try\n",
        "      \n",
        "    \n",
        "    token=tokenizer.tokenize(y.content)\n",
        "    token=[i for i in token if(not(str(i).isdigit() or not(str(i).isalpha())) and len(str(i)) > 2 )]\n",
        "    token=[i.lower() for i in token if( i not in en_stop)]\n",
        "    content.append(token)\n",
        "\n",
        "  index=[]\n",
        "  #print(\"\\n content\",len(content))  \n",
        "  dup_model.build_vocab(content,update= True)\n",
        "  dup_model.train(content, total_examples=len(content),epochs=2)\n",
        "  for i in range(len(file_title[0])):\n",
        "    \n",
        "    #y=y.replace(file_title[0][i],\"\")\n",
        "    y= file_title[0][i].lower()\n",
        "    z=y.split()\n",
        "    for m in range(len(z)):\n",
        "      index=[]\n",
        "      p=list(z[m])\n",
        "      for k in range(len(p)):\n",
        "        if (p[k]==\"-\" or p[k]==\",\"):\n",
        "          p[k]=\" \"\n",
        "\n",
        "        if not(p[k].isalpha()):\n",
        "          index.append(k)\n",
        "      for k in range(len(index)):\n",
        "        p.pop(index[len(index)-k-1])\n",
        "      \n",
        "      k=''\n",
        "      for j in p:\n",
        "        k+=j\n",
        "      z[m]=k\n",
        "\n",
        "    z=[k for k in z if not(k in en_stop )]\n",
        "    \n",
        "    print(z)\n",
        "\n",
        "  \n",
        "\n",
        "    #y=z.replace(file_title[0][i],\"\")\n",
        "    #vector = dup_model.wv[y]\n",
        "    #title_vector.append(vector)\n",
        "\n",
        "\n"
      ],
      "execution_count": 127,
      "outputs": [
        {
          "output_type": "stream",
          "text": [
            "\n",
            "\n",
            "Title for word : inflation\n",
            "['Inflation', 'Inflation (cosmology)', 'Inflation in India', 'Scrotal inflation', 'Eternal inflation', 'Inflation targeting', 'Inflation (disambiguation)', 'Headline inflation', 'Grade inflation', 'Inflation derivative']\n"
          ],
          "name": "stdout"
        },
        {
          "output_type": "stream",
          "text": [
            "UserWarning: No parser was explicitly specified, so I'm using the best available HTML parser for this system (\"lxml\"). This usually isn't a problem, but if you run this code on another system, or in a different virtual environment, it may use a different parser and behave differently.\n",
            "\n",
            "The code that caused this warning is on line 389 of the file /usr/local/lib/python3.6/dist-packages/wikipedia/wikipedia.py. To get rid of this warning, pass the additional argument 'features=\"lxml\"' to the BeautifulSoup constructor.\n",
            " [wikipedia.py:389]\n"
          ],
          "name": "stderr"
        },
        {
          "output_type": "error",
          "ename": "DisambiguationError",
          "evalue": "ignored",
          "traceback": [
            "\u001b[0;31m---------------------------------------------------------------------------\u001b[0m",
            "\u001b[0;31mDisambiguationError\u001b[0m                       Traceback (most recent call last)",
            "\u001b[0;32m<ipython-input-127-4a979ffb23da>\u001b[0m in \u001b[0;36m<module>\u001b[0;34m()\u001b[0m\n\u001b[1;32m     20\u001b[0m     \u001b[0;31m#try:\u001b[0m\u001b[0;34m\u001b[0m\u001b[0;34m\u001b[0m\u001b[0;34m\u001b[0m\u001b[0m\n\u001b[1;32m     21\u001b[0m     \u001b[0my\u001b[0m \u001b[0;34m=\u001b[0m \u001b[0mwikipedia\u001b[0m\u001b[0;34m.\u001b[0m\u001b[0msearch\u001b[0m\u001b[0;34m(\u001b[0m\u001b[0mfile_title\u001b[0m\u001b[0;34m[\u001b[0m\u001b[0;36m0\u001b[0m\u001b[0;34m]\u001b[0m\u001b[0;34m[\u001b[0m\u001b[0ml\u001b[0m\u001b[0;34m]\u001b[0m\u001b[0;34m)\u001b[0m\u001b[0;34m[\u001b[0m\u001b[0;36m0\u001b[0m\u001b[0;34m]\u001b[0m\u001b[0;34m\u001b[0m\u001b[0;34m\u001b[0m\u001b[0m\n\u001b[0;32m---> 22\u001b[0;31m     \u001b[0my\u001b[0m \u001b[0;34m=\u001b[0m \u001b[0mwikipedia\u001b[0m\u001b[0;34m.\u001b[0m\u001b[0mpage\u001b[0m\u001b[0;34m(\u001b[0m\u001b[0my\u001b[0m\u001b[0;34m)\u001b[0m\u001b[0;34m\u001b[0m\u001b[0;34m\u001b[0m\u001b[0m\n\u001b[0m\u001b[1;32m     23\u001b[0m     \u001b[0;31m#except wikipedia.DisambiguationError as e:\u001b[0m\u001b[0;34m\u001b[0m\u001b[0;34m\u001b[0m\u001b[0;34m\u001b[0m\u001b[0m\n\u001b[1;32m     24\u001b[0m      \u001b[0;31m# try:\u001b[0m\u001b[0;34m\u001b[0m\u001b[0;34m\u001b[0m\u001b[0;34m\u001b[0m\u001b[0m\n",
            "\u001b[0;32m/usr/local/lib/python3.6/dist-packages/wikipedia/wikipedia.py\u001b[0m in \u001b[0;36mpage\u001b[0;34m(title, pageid, auto_suggest, redirect, preload)\u001b[0m\n\u001b[1;32m    274\u001b[0m         \u001b[0;31m# if there is no suggestion or search results, the page doesn't exist\u001b[0m\u001b[0;34m\u001b[0m\u001b[0;34m\u001b[0m\u001b[0;34m\u001b[0m\u001b[0m\n\u001b[1;32m    275\u001b[0m         \u001b[0;32mraise\u001b[0m \u001b[0mPageError\u001b[0m\u001b[0;34m(\u001b[0m\u001b[0mtitle\u001b[0m\u001b[0;34m)\u001b[0m\u001b[0;34m\u001b[0m\u001b[0;34m\u001b[0m\u001b[0m\n\u001b[0;32m--> 276\u001b[0;31m     \u001b[0;32mreturn\u001b[0m \u001b[0mWikipediaPage\u001b[0m\u001b[0;34m(\u001b[0m\u001b[0mtitle\u001b[0m\u001b[0;34m,\u001b[0m \u001b[0mredirect\u001b[0m\u001b[0;34m=\u001b[0m\u001b[0mredirect\u001b[0m\u001b[0;34m,\u001b[0m \u001b[0mpreload\u001b[0m\u001b[0;34m=\u001b[0m\u001b[0mpreload\u001b[0m\u001b[0;34m)\u001b[0m\u001b[0;34m\u001b[0m\u001b[0;34m\u001b[0m\u001b[0m\n\u001b[0m\u001b[1;32m    277\u001b[0m   \u001b[0;32melif\u001b[0m \u001b[0mpageid\u001b[0m \u001b[0;32mis\u001b[0m \u001b[0;32mnot\u001b[0m \u001b[0;32mNone\u001b[0m\u001b[0;34m:\u001b[0m\u001b[0;34m\u001b[0m\u001b[0;34m\u001b[0m\u001b[0m\n\u001b[1;32m    278\u001b[0m     \u001b[0;32mreturn\u001b[0m \u001b[0mWikipediaPage\u001b[0m\u001b[0;34m(\u001b[0m\u001b[0mpageid\u001b[0m\u001b[0;34m=\u001b[0m\u001b[0mpageid\u001b[0m\u001b[0;34m,\u001b[0m \u001b[0mpreload\u001b[0m\u001b[0;34m=\u001b[0m\u001b[0mpreload\u001b[0m\u001b[0;34m)\u001b[0m\u001b[0;34m\u001b[0m\u001b[0;34m\u001b[0m\u001b[0m\n",
            "\u001b[0;32m/usr/local/lib/python3.6/dist-packages/wikipedia/wikipedia.py\u001b[0m in \u001b[0;36m__init__\u001b[0;34m(self, title, pageid, redirect, preload, original_title)\u001b[0m\n\u001b[1;32m    297\u001b[0m       \u001b[0;32mraise\u001b[0m \u001b[0mValueError\u001b[0m\u001b[0;34m(\u001b[0m\u001b[0;34m\"Either a title or a pageid must be specified\"\u001b[0m\u001b[0;34m)\u001b[0m\u001b[0;34m\u001b[0m\u001b[0;34m\u001b[0m\u001b[0m\n\u001b[1;32m    298\u001b[0m \u001b[0;34m\u001b[0m\u001b[0m\n\u001b[0;32m--> 299\u001b[0;31m     \u001b[0mself\u001b[0m\u001b[0;34m.\u001b[0m\u001b[0m__load\u001b[0m\u001b[0;34m(\u001b[0m\u001b[0mredirect\u001b[0m\u001b[0;34m=\u001b[0m\u001b[0mredirect\u001b[0m\u001b[0;34m,\u001b[0m \u001b[0mpreload\u001b[0m\u001b[0;34m=\u001b[0m\u001b[0mpreload\u001b[0m\u001b[0;34m)\u001b[0m\u001b[0;34m\u001b[0m\u001b[0;34m\u001b[0m\u001b[0m\n\u001b[0m\u001b[1;32m    300\u001b[0m \u001b[0;34m\u001b[0m\u001b[0m\n\u001b[1;32m    301\u001b[0m     \u001b[0;32mif\u001b[0m \u001b[0mpreload\u001b[0m\u001b[0;34m:\u001b[0m\u001b[0;34m\u001b[0m\u001b[0;34m\u001b[0m\u001b[0m\n",
            "\u001b[0;32m/usr/local/lib/python3.6/dist-packages/wikipedia/wikipedia.py\u001b[0m in \u001b[0;36m__load\u001b[0;34m(self, redirect, preload)\u001b[0m\n\u001b[1;32m    391\u001b[0m       \u001b[0mmay_refer_to\u001b[0m \u001b[0;34m=\u001b[0m \u001b[0;34m[\u001b[0m\u001b[0mli\u001b[0m\u001b[0;34m.\u001b[0m\u001b[0ma\u001b[0m\u001b[0;34m.\u001b[0m\u001b[0mget_text\u001b[0m\u001b[0;34m(\u001b[0m\u001b[0;34m)\u001b[0m \u001b[0;32mfor\u001b[0m \u001b[0mli\u001b[0m \u001b[0;32min\u001b[0m \u001b[0mfiltered_lis\u001b[0m \u001b[0;32mif\u001b[0m \u001b[0mli\u001b[0m\u001b[0;34m.\u001b[0m\u001b[0ma\u001b[0m\u001b[0;34m]\u001b[0m\u001b[0;34m\u001b[0m\u001b[0;34m\u001b[0m\u001b[0m\n\u001b[1;32m    392\u001b[0m \u001b[0;34m\u001b[0m\u001b[0m\n\u001b[0;32m--> 393\u001b[0;31m       \u001b[0;32mraise\u001b[0m \u001b[0mDisambiguationError\u001b[0m\u001b[0;34m(\u001b[0m\u001b[0mgetattr\u001b[0m\u001b[0;34m(\u001b[0m\u001b[0mself\u001b[0m\u001b[0;34m,\u001b[0m \u001b[0;34m'title'\u001b[0m\u001b[0;34m,\u001b[0m \u001b[0mpage\u001b[0m\u001b[0;34m[\u001b[0m\u001b[0;34m'title'\u001b[0m\u001b[0;34m]\u001b[0m\u001b[0;34m)\u001b[0m\u001b[0;34m,\u001b[0m \u001b[0mmay_refer_to\u001b[0m\u001b[0;34m)\u001b[0m\u001b[0;34m\u001b[0m\u001b[0;34m\u001b[0m\u001b[0m\n\u001b[0m\u001b[1;32m    394\u001b[0m \u001b[0;34m\u001b[0m\u001b[0m\n\u001b[1;32m    395\u001b[0m     \u001b[0;32melse\u001b[0m\u001b[0;34m:\u001b[0m\u001b[0;34m\u001b[0m\u001b[0;34m\u001b[0m\u001b[0m\n",
            "\u001b[0;31mDisambiguationError\u001b[0m: \"Inflation (disambiguation)\" may refer to: \nMonetary inflation\nCredential inflation\nGrade inflation\nInflation (cosmology)\nWarm inflation\ninflatable\nDEFLATE\ngroup cohomology\nDeflation (disambiguation)\nAll pages with titles containing Inflation"
          ]
        }
      ]
    },
    {
      "cell_type": "code",
      "metadata": {
        "id": "31eHPtdwavu2",
        "colab_type": "code",
        "colab": {
          "base_uri": "https://localhost:8080/",
          "height": 71
        },
        "outputId": "7aa5a457-3640-4eab-cfd4-4b79cb685787"
      },
      "source": [
        "test= wikipedia.search(\"sara banks\")\n",
        "print(test)\n",
        "test= wikipedia.page(test)\n",
        "test.content"
      ],
      "execution_count": 120,
      "outputs": [
        {
          "output_type": "stream",
          "text": [
            "['Sara Davies', 'Sasha Banks', 'Sara Duterte', 'Sara Foster', 'Victoria Banks', 'Community (season 5)', 'Saint Sarah', 'Sara Sampaio', 'Sara Crowe', 'Sara Horowitz']\n"
          ],
          "name": "stdout"
        },
        {
          "output_type": "execute_result",
          "data": {
            "text/plain": [
              "\"Sara Horowitz (born January 13, 1963) is an American lawyer and non-profit executive. She is the founder and former executive director of Freelancers Union. She is a member of the Federal Reserve Bank of New York Board of Directors.\\n\\n\\n== Early life and education ==\\nHorowitz is Jewish and grew up in Brooklyn Heights in Brooklyn, New York. Her grandfather was vice-president of the International Ladies Garment Workers Union in New York and her father was a union lawyer.Horowitz graduated from Cornell University's School of Industrial and Labor Relations with a B.A. degree in 1984 and was awarded its labor prize. She graduated cum laude from the University at Buffalo Law School.\\n\\n\\n== Career ==\\nAfter graduation, she worked as a public defender, a private practice labor attorney, and an organizer with SEIU 1199, the national health and human service employees union. She later attended the John F. Kennedy School of Government at Harvard University and received her MPA in 1995. She was admitted to practice law in Massachusetts.Horowitz was an Echoing Green Fellow in 1995, and was named a MacArthur Fellow in 1999.In 2003, she used her experience as a union organizer to found the nonprofit Freelancers Union, which promotes the independent workforce through advocacy and education while serving the needs of freelancers. The Freelancers Union currently cites 350,000 members, nationwide.\\nShe is a chair of the New York Fed's Board of Directors for 2017 and has served as a Class C director since January, 2013, serving as a deputy chair since January, 2013.In 2008, Horowitz launched Freelancers Insurance Company, the first portable benefits model for freelancers and 919 workers, wholly owned by the Union, providing independent workers with high-quality, affordable and portable health insurance.Horowitz is recognized as one of the World Economic Forum's 100 Global Leaders for Tomorrow, a 2015 POLITICO 50 and on the board of Women's Housing and Economic Development Corporation. She is currently the Chair of the Board for the Federal Reserve Bank of New York.\\n\\n\\n== References ==\\n\\n\\n== External links ==\\nBiography on Freelancers Union website\""
            ]
          },
          "metadata": {
            "tags": []
          },
          "execution_count": 120
        }
      ]
    },
    {
      "cell_type": "code",
      "metadata": {
        "id": "ruPedj3LQfv2",
        "colab_type": "code",
        "colab": {
          "base_uri": "https://localhost:8080/",
          "height": 71
        },
        "outputId": "8e6d3b19-0274-4ada-e1f2-f2b6a3e9a2fe"
      },
      "source": [
        "test= wikipedia.search(\"banks\")\n",
        "print(test)\n",
        "test= wikipedia.page(test)\n",
        "test.content"
      ],
      "execution_count": 123,
      "outputs": [
        {
          "output_type": "stream",
          "text": [
            "['Banks', 'Bank', 'Sasha Banks', 'Outer Banks', 'Jonathan Banks', 'Tyra Banks', 'Elizabeth Banks', 'Brian Banks (American football)', 'List of largest banks', 'Azealia Banks']\n"
          ],
          "name": "stdout"
        },
        {
          "output_type": "execute_result",
          "data": {
            "text/plain": [
              "'Azealia Amanda Banks (; born May 31, 1991) is an American rapper, singer, songwriter,  record producer, and actress. Raised in the Harlem neighborhood of New York City, she began releasing music through Myspace in 2008 before being signed to XL Recordings at age 17. In 2011, her single \"212\" went viral and entered several international charts. Banks subsequently signed with Interscope and Polydor Records.\\nBanks has released two mixtapes (Fantasea in 2012 and Slay-Z in 2016), one studio album (Broke with Expensive Taste in 2014), and one extended play (1991 in 2012). Her long-delayed second studio album, Fantasea II: The Second Wave, awaits release; the lead single, \"Anna Wintour\", was released in April 2018. In December 2017, Banks had her feature-film debut in Love Beats Rhymes, receiving positive reviews for her performance as lead actress in a film also featuring Common, Jill Scott, and John David Washington.\\nThroughout her career, Banks\\'s social media presence and outspoken views, especially on U.S. politics and race, have attracted significant controversy, criticism, and media scrutiny. She has developed a reputation for  having disputes with public figures on Twitter.\\n\\n\\n== Life and career ==\\n\\n\\n=== Early life and career beginnings ===\\nAzealia Amanda Banks was born on May 31, 1991, in New York City\\'s Manhattan borough; she was the youngest of three girls. Her single mother raised her and two older sisters in Harlem, after their father died of pancreatic cancer when she was two years old. Following her father\\'s death, Banks says that her mother \"became really abusive—physically and verbally. Like she would hit me and my sisters with baseball bats, bang our heads up against walls, and she would always tell me I was ugly. I remember once she threw out all the food in the fridge, just so we wouldn\\'t have anything to eat.\" Due to escalating violence, Banks moved out of her mother\\'s home at age 14 to live with her older sister.At a young age Banks became interested in musical theater, dancing, acting and singing. At age 16, she starred in a production of the comedy-noir musical City of Angels, where she was found by an agent who sent her to auditions for TBS, Nickelodeon, and Law & Order, all without success. At this point Banks decided to end her pursuit of an acting career, citing the stiff competition and overall sense of unfulfillment. Because of this unfulfillment, she began writing rap and R&B songs as a creative outlet. She never finished high school, instead choosing to follow her dream of becoming a recording artist.  On April of 2009, Banks attempted to murder her sister with a box cutter. Under the moniker Miss Bank$, she released her debut recording, \"Gimme a Chance\", online on November 9, 2008. The recording was accompanied by the self-produced track \"Seventeen\", which sampled the Ladytron song of the same name. Banks sent both tracks to American DJ Diplo. Later that year, she signed a development deal with record label XL Recordings and began working with producer Richard Russell in London, leaving the label later that year due to conflicting ideas.\\n\\n\\n=== 2011–2012: 1991 and Fantasea ===\\n\\n After leaving XL Recordings, Banks dropped the \\'Miss Bank$\\' moniker and formally became Azealia Banks, which preceded a move to Montreal. Using YouTube as a portal, she uploaded several demo tracks, including \"L8R\" and a cover of \"Slow Hands\" by Interpol. After her Canadian visa expired, Banks returned to New York, where she sold keychains at a Manhattan jazz club and danced at a Queens strip club to make ends meet. \"That\\'s when I was really depressed\", Banks has said. \"I don\\'t have a manager, I don\\'t have a boyfriend, I don\\'t have any friends, I don\\'t have any money. Here I am working at the strip club, trying not to say the wrong thing and get into fights with these girls who don\\'t give a shit.\"In September 2011, Banks released her debut single, \"212\", as a free digital download from her website. It was released officially on December 6, 2011, as the lead single from her EP 1991. The track attained European moderate chart success, peaking at #14 in the Netherlands, #12 in the United Kingdom and #7 in Ireland.\\nThough unsigned at the time, Banks began working with British producer Paul Epworth on a debut studio album. It was announced in December 2011 that she would feature on \"Shady Love\", a track on American band Scissor Sisters\\' fourth studio album, Magic Hour, though the feature was uncredited. An accompanying music video was released in January 2012 following its radio premiere from Annie Mac (BBC Radio 1) on January 4, though the single\\'s release was canceled for unconfirmed reasons. Banks released the track \"NEEDSUMLUV (SXLND)\" on the Internet on January 16, 2012, coinciding with what would have been the 33rd birthday of the late singer Aaliyah, who is sampled on the track. A week later saw the emergence of a second track, \"Bambi\", produced by Paul Epworth and selected as the soundtrack for a Thierry Mugler fashion show in Paris.In May 2012, Banks announced plans to release a mixtape—originally titled Fantastic—titled Fantasea. Preceding its release the tracks \"Jumanji\", \"Aquababe\", and \"Nathan\" (featuring rapper Styles P) were made available online. Fantasea was released via Banks\\' Twitter account on July 11, and was succeeded by the unveiling of Banks\\' online radio project, Kunt.FM the following week.Banks\\'s first EP, 1991, was released in the UK on May 28 and in the US the next day. The 4-track EP, which includes 212, was not eligible for the UK Albums chart, but the title track charted at #79 on the UK Singles chart. It also reached #133 on the US 200, while reaching #17 on the US R&B/Hip-Hop chart, #12 on the US Rap chart, and headin\\' US Heat chart. In 2013, 1991 was certified gold by the Australian Recording Industry Association.Banks was scheduled to release her second single, \"Esta Noche\", from Fantasea, on September 25, 2012, but it was pulled the day of its release due to sampling disputes between Banks and its producer, Munchi. The next month, it was confirmed that Banks had worked with Lady Gaga on two tracks, \"Ratchet\" and \"Red Flame\", on Gaga\\'s third studio album, Artpop (2013), but they did not make the final album cut, and have since not been released. Banks also revealed that she collaborated with Kanye West on G.O.O.D. Music\\'s compilation album Cruel Summer but that her contributions did not make the final cut. On December 31, 2012, Banks released \"BBD\", which ultimately appeared on her debut album, Broke with Expensive Taste.\\n\\n\\n=== 2013–2017: Broke with Expensive Taste, Slay-Z, and Love Beats Rhymes ===\\n\\nEarly in 2012, Banks revealed that her debut album would be called Broke with Expensive Taste, and said the album would include contributions from musicians including Toko Yasuda, Theophilus London, Kevin Hussein, and Ariel Pink. She initially said the album\\'s lead single would be a track titled \"Miss Amor\" and that it would be accompanied by a B-side, \"Miss Camaraderie\", both produced by Lone, but these plans changed: in January 2013 she announced that the first official single from the album would be \"Yung Rapunxel\", which was released in March 2013 through SoundCloud.In May 2013, Banks announced that the second single from Broke with Expensive Taste would be \"ATM Jam\", featuring Pharrell. On June 29, she debuted the song at the 2013 Glastonbury Festival, with New York City radio station Hot 97 premiering a clean, shortened version of the studio recording three days later. On July 11, the full studio version of \"ATM Jam\" was released on BBC Radio 1, and it was released for digital download on August 30. Banks confirmed in November 2013 that \"ATM Jam\" would not appear on Broke with Expensive Taste due to poor sales.\\n\\nBanks announced in mid-July that after a long battle, she had parted ways with Universal Music Group. She reportedly has possession and the rights to the work she released with Interscope. On July 28, 2014, Banks released the official second single from Broke with Expensive Taste, titled \"Heavy Metal and Reflective\", on her own label, Azealia Banks Records. This was followed by \"Chasing Time\", the third single from the project, on September 22.Banks surprise-released Broke with Expensive Taste under Prospect Park on iTunes on November 7, 2014. The physical album was released on March 3, 2015. In 2015, Banks performed at the Coachella Valley Music and Arts Festival and posed nude for the April issue of Playboy, shot by Ellen von Unwerth. In May 2015, it was announced that Banks would make her acting debut as the main character in the RZA-directed musical drama film Coco (now known as Love Beats Rhymes). Months later, Banks revealed that she was unable to release new music until March 2016, but as of February 2016 she was officially cleared of her contract and able to release new music. In February 2016, Banks released a new single, \"The Big Big Beat\", with its official video uploaded to Vevo in April. Her mixtape Slay-Z was released March 24, 2016. In July 2017, Slay-Z was reissued to iTunes, Spotify, and other online music stores under her independent record label, Chaos & Glory Recordings.\\nIn late 2016, Banks opened an online store, CheapyXo. It sells skin-care products, clothing, and celebrity merchandise. After a yearlong hiatus from touring, Banks returned to New York City to embark on a North American tour with 20 dates across the U.S. and Canada. The tour began on October 4 in Chicago and concluded on October 31 in San Francisco. Banks also performed across Europe in a handful of shows during 2017.\\n\\n\\n=== 2018–present: Icy Colors Change, Yung Rapunxel II, Business & Pleasure, and Fantasea II: The Second Wave ===\\n\\nBanks announced that her next project will be Fantasea II: The Second Wave, a follow-up to Fantasea. On February 17, 2017, she released a Lunice collaboration, \"Crown\", to SoundCloud as a promotional single. On June 5, 2017, Banks released the song \"Chi Chi\". On June 26, 2017, Banks released another promotional single to SoundCloud, \"Escapades\".On January 31, 2018, Banks announced that she had signed a $1 million record deal with Entertainment One. On March 9, 2018, she released \"Movin\\' On Up\", which featured Newbody, to iTunes and other streaming platforms as the 4th promotional single from Fantasea II: The Second Wave. In March 2018, she announced that the first official single from her forthcoming album would be \"Anna Wintour\". It was released on April 6, 2018, and the official music video for the single was released on May 24, 2018. On July 6, a second single, \"Treasure Island\", was released.In November, Banks announced on her Instagram account that she would release the Christmas-themed EP Icy Colors Change on December 7. A demo of the title track was released in December 2017. The project was released on December 19 after several delays, with a promotional single, \"What Are You Doing New Year\\'s Eve?\", released on December 13.In January 2019, Banks took to her private Twitter account to discuss her upcoming studio albums. Feeling that Fantasea II was not complete to her liking, Banks announced that she would release her other studio album, Business & Pleasure ahead of Fantasea II: The Second Wave. Banks said that Fantasea II would be released in summer 2019.In May 2019, Banks announced she had been working on a project in Russia called Yung Rapunxel: Pt. II as a follow up mixtape to her debut single off Broke with Expensive Taste called \"Yung Rapunxel\". It was released through SoundCloud on September 11, 2019.On December 16, 2019, Banks released Count Contessa and Pyrex Princess on various streaming platforms. Pyrex Princess is a song from Business and Pleasure, previously released on August 22, 2018, before taken down. Count Contessa, a song for Fantasea II: The Second Wave was previously published on SoundCloud in 2013, with the music video, directed by Rony Alwin and shot in Bali, Indonesia, was released on December 8, 2015.Throughout the first quarter of 2020, Banks debuted her podcast Cheapy\\'s Two Cents and released multiple singles, including \"Slow Hands\", an Interpol cover previously uploaded in 2012, as well as \"Salchichón\", featuring ONYX, and \"-800-Nu-Checks\". Additionally, Banks released multiple tracks exclusively on her SoundCloud, such as \"Diamond Nova\", which previously stood as the B-Side to her 2013 single \"ATM Jam\", featuring and produced by Pharrell, as well as a Spanglish single, \"Nirvana\".\\n\\n\\n== Personal life ==\\nBanks identifies as bisexual. During the few instances where she has discussed her sexuality with the press, Banks has expressed dissatisfaction with society\\'s labeling of others based on sexual orientation. In an interview with The New York Times, Banks stated, \"I\\'m not trying to be, like, the bisexual, lesbian rapper. I don\\'t live on other people\\'s terms.\"Banks is known for publicly speaking out on African-American civil rights issues, with a commentator at Splice Today describing Banks as having \"that hot New York temper where she will pop off if you cross her the wrong way\". In December 2014 she called for over $100 trillion to be paid to African Americans as financial reparations for the enslavement of their ancestors, citing U.S. reparations to Native American communities and the German reparations to Jewish survivors of the Holocaust as a precedent. Using Twitter, she urged young African Americans to take an interest in such issues, adding that \"We are the children of the people who perished in the name of modern capitalism and we deserve a piece of that fucking pie.\" She added that reparations could be used to improve educational prospects for black Americans.In 2016, Banks took to Twitter to express her endorsement of Donald Trump\\'s 2016 presidential campaign, clarifying that \"I have no hope for America...I think Donald Trump is evil like America is evil and in order for America to keep up with itself it needs him...politicians are inherently evil, I trust the one who is most transparent.\" Banks retracted her endorsement of Trump in October 2016, posting on Facebook, \"I made a major mistake endorsing toupey-toupee. Women\\'s rights are important and we must protect them.\" After Trump won the presidency, Banks posted \"He is my fucking hero right now. I am elated.\"In July 2016, Banks admitted to lightening her skin due to skin blemishes from her birth control and defended the process of skin bleaching.In December 2016, Banks posted that she had a miscarriage and that she was \"pretty taken aback by it all.\" She went on to ask her fans for advice and support, posting, \"Has anyone else had this same experience who cares to share some words of wisdom or words of anything regarding this topic?\"In October 2019, Banks announced that during tours in the former Soviet Union, she will perform under the name Azilka (Russian: Азилька).\\n\\n\\n== Artistry ==\\nBanks has said she admires American recording artists Beyoncé, Britney Spears and Aaliyah stating the former \"[is] the queen of everything. She\\'s the most remarkable performer and musician. And this is just my humble opinion, but I just think she\\'s better than everyone else making music right now.\" Banks is inspired by, and has drawn directly upon, black gay culture, such as the film Paris is Burning, in her music.AllMusic characterizes Banks as \"a stylish vocalist who combines hardcore hip-hop, indie pop, and dance music.\" Meanwhile, The Guardian\\'s John Robinson considered Banks\\' style \"an appealing blend of Missy Elliott and dance-pop.\" In regards to her musical style, Banks has frequently been noted for the use of profanity in many of her songs, particularly her reclamation of the word \"cunt\", examples including her debut single \"212\", in which she uses the word more than ten times, or other songs such as \"Fierce\", in which she refers to herself as the \"cunt queen\". Banks attributes this to her upbringing in Harlem, saying, \"...I\\'m from Harlem. I went to art school; I grew up with the cunts. And that term doesn\\'t come from me! People think I invented it, but I didn\\'t. To be cunty is to be feminine and to be, like, aware of yourself. Nobody\\'s fucking with that inner strength and delicateness. The cunts, the gay men, adore that. My friends would say, \\'Oh you need to cunt it up! You\\'re being too banjee.\\' Banjee means unrefined and rough. You need your cunts: they fix your hair for you and do your makeup. They give you confidence and give you life.\" She is also known for her often fast-paced rapping, or \"flow\". In a review of Banks\\' debut EP 1991, Chris Dart of Exclaim! found Banks\\' rapping speed \"remarkable\", commenting that she \"manages a feat that takes most rappers the better part of a career to master: the perfect marriage of bangin\\', club-friendly beats and smart, crisply delivered lyrics\".Since writing \"212\", Banks has adopted an alter ego named \"Yung Rapunxel\". This alter ego was adapted from Banks referring to herself as Rapunzel, due to a long weave she wore while working at Starbucks as a teenager. Banks discussed this with Rolling Stone saying, \"Yung Rapunxel is that girl who pisses people off but doesn\\'t really mean to. She\\'s actually a sweetheart! But people are so taken aback that she\\'s so herself; she\\'s not even trying to be unique or different. She literally just lives in her head; she does what she wants to do. So, the lipstick is here for someone who is happy to be themself.\"\\n\\n\\n== Controversies ==\\nBanks has developed a reputation for disputes with public figures on social media, particularly Twitter, with Complex noting that \"she gets more attention for her public feuds than she does for her music\". Banks has had feuds with people including Pabllo Vittar, Grimes, Elon Musk, Remy Ma, Cardi B, Kim Kardashian, Kanye West, Lorde, Lana Del Rey, Charli XCX, Lady Gaga, T.I., Iggy Azalea, Action Bronson, Lil\\' Kim, Skai Jackson, Rita Ora, Kendrick Lamar, Pharrell Williams, Erykah Badu, Kreayshawn, Rihanna, ASAP Rocky, Baauer, Nicki Minaj, Sia, Dominique Young Unique, Jim Jones, Beyoncé, Angel Haze, Lily Allen, RZA, SZA, Rico Nasty, Lupe Fiasco, Eminem, RuPaul, Perez Hilton, Nick Cannon, Diplo, Shea Coulee, Funkmaster Flex, The Stone Roses, K. Michelle, Shystie, Amanda Brunker, Troy Carter, Cupcakke, Mariah Lynn, DC Young Fly, Disclosure, Lizzo, Kim Petras, Slayyyter, Adrian Grenier, Busta Rhymes, Dave Chappelle and Wendy Williams, among others.On September 22, 2015, Banks became involved in a confrontation with a fellow passenger and the flight crew while attempting to exit a Delta Air Lines flight that had just landed in Los Angeles. According to witnesses, Banks was attempting to squeeze past other passengers to disembark the plane more quickly, when a French man blocked her path. Banks reacted by spitting in the man\\'s face, punching him, and clawing at his shirt. Subsequently, a flight attendant stepped in and demanded that Banks calm down. This resulted in Banks forcefully arguing with the flight attendant, in which she at one point called the Delta employee a \"fucking faggot\". On November 10, 2015, it was reported Banks was under investigation by the Los Angeles Police Department following an altercation involving the rapper and a security guard at L.A. club Break Room 86. Later that year, Banks was arrested in New York after attacking a female security guard.In March 2016, Sarah Palin threatened a lawsuit against Banks in response to a series of tweets where she attacked the politician, calling for \"the biggest burliest blackest negroes\" to \"run a train on her\", and for someone to \"film it and put it on worldstar.\" Banks later apologized and said that her outburst was a result of her mistaking a fictional interview with Palin as a real event. In the satirical article, Palin is quoted as saying \"Negroes loved being slaves.\"In May 2016, Banks was dropped by her UK booking agency and removed from headlining the grime and hip-hop festival Born & Bred following racist and homophobic tweets to Zayn Malik. Her Twitter account was also blocked after a succession of tweets directed at Malik.In October 2016, Banks attended a party hosted by Russell Crowe as a guest of RZA. She filed a police report against Crowe, claiming that he choked her, spat on her, and called her a nigger. RZA later said that Banks instigated the incident, and denied hearing Crowe call her a nigger. A year after the incident, RZA said that Crowe did spit toward Banks.In December 2016, Banks posted a series of videos on Instagram detailing her cleanup of a closet in her apartment where she claims to have been practicing witchcraft. She admitted to practicing \"three years worth of brujeria”. The video appears to show dried blood, feathers, and the carrion of dead chickens. She was criticized on Twitter by the artist Sia, who stated that \"sacrificing animals for your gain is the wackest shit I\\'ve ever heard. Get ahead by being awesome, kind and working hard.\" Banks responded to Sia with a series of tweets stating \"your ugly pasty dry white lady winter skin face is the ugliest face I\\'ve ever seen, that must be why you hide it all the time. Have some fucking respect for my fucking traditional African religion, you pompous white bitch.\" The post was later deleted.In January 2019, Banks made a wordplay of the Irish airline Aer Lingus, calling it \"Air Cunnilingus\", and had to leave the plane due to an altercation with an air stewardess in January 2019, after calling her \"fucking ugly\" on Instagram. Banks also labelled Irish people \"inbred\" and referred to them as \"leprechauns,\" adding \"most of you can\\'t talk or write.\" She also mocked the Potato Famine on Instagram by asking a follower; \"don\\'t you have a famine to go die in?\" The following day, she said she would dedicate her Dublin show to \"beautiful Irish women.\"In August 2019, Banks commented on Instagram after performing in Sweden: \"I would really love to see someone bomb the shit out of this place, LMFAO. Give y\\'all white asses something to fucking cry about. Ugly blonde pigs you Swedes are.\" On the Scandinavian Airlines flight back to L.A. from Stockholm she accused the staff of racist assault. The airline denies this and claims that Banks was displaying erratic behavior and that they had contacted law enforcement at the destination to escort her off the plane.\\n\\n\\n== Discography ==\\n\\nStudio albumsBroke with Expensive Taste (2014)\\n\\n\\n== Filmography ==\\n\\n\\n== Tours ==\\nHeadlining\\n\\nMermaid Ball (2012–13)\\nBroke with Expensive Taste Tour (2014–15)\\nAzealia Banks: North American Tour 2017 (2017)Featured act\\n\\nShockWaves NME Awards Tour (2012)\\n\\n\\n== Awards and nominations ==\\n\\n\\n== References ==\\n\\n\\n== External links ==\\nOfficial website\\nAzealia Banks on IMDb'"
            ]
          },
          "metadata": {
            "tags": []
          },
          "execution_count": 123
        }
      ]
    }
  ]
}